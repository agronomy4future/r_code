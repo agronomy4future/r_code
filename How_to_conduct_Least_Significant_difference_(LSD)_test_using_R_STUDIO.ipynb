{
  "nbformat": 4,
  "nbformat_minor": 0,
  "metadata": {
    "colab": {
      "provenance": [],
      "authorship_tag": "ABX9TyOnyAKA65AA4EYpAJDfhWzX"
    },
    "kernelspec": {
      "name": "ir",
      "display_name": "R"
    },
    "language_info": {
      "name": "R"
    }
  },
  "cells": [
    {
      "cell_type": "code",
      "execution_count": 1,
      "metadata": {
        "colab": {
          "base_uri": "https://localhost:8080/",
          "height": 474
        },
        "id": "_c10dAfJRmTB",
        "outputId": "cc7f9015-467c-40a2-d6db-3880a881e87e"
      },
      "outputs": [
        {
          "output_type": "display_data",
          "data": {
            "text/html": [
              "<table class=\"dataframe\">\n",
              "<caption>A data.frame: 12 × 4</caption>\n",
              "<thead>\n",
              "\t<tr><th scope=col>Cultivar</th><th scope=col>Nitrogen</th><th scope=col>Block</th><th scope=col>Yield</th></tr>\n",
              "\t<tr><th scope=col>&lt;chr&gt;</th><th scope=col>&lt;chr&gt;</th><th scope=col>&lt;chr&gt;</th><th scope=col>&lt;dbl&gt;</th></tr>\n",
              "</thead>\n",
              "<tbody>\n",
              "\t<tr><td>CV1</td><td>N0</td><td>I  </td><td> 99</td></tr>\n",
              "\t<tr><td>CV1</td><td>N0</td><td>II </td><td>109</td></tr>\n",
              "\t<tr><td>CV1</td><td>N0</td><td>III</td><td> 89</td></tr>\n",
              "\t<tr><td>CV1</td><td>N1</td><td>I  </td><td>115</td></tr>\n",
              "\t<tr><td>CV1</td><td>N1</td><td>II </td><td>142</td></tr>\n",
              "\t<tr><td>CV1</td><td>N1</td><td>III</td><td>133</td></tr>\n",
              "\t<tr><td>CV1</td><td>N2</td><td>I  </td><td>121</td></tr>\n",
              "\t<tr><td>CV1</td><td>N2</td><td>II </td><td>157</td></tr>\n",
              "\t<tr><td>CV1</td><td>N2</td><td>III</td><td>142</td></tr>\n",
              "\t<tr><td>CV1</td><td>N3</td><td>I  </td><td>125</td></tr>\n",
              "\t<tr><td>CV1</td><td>N3</td><td>II </td><td>150</td></tr>\n",
              "\t<tr><td>CV1</td><td>N3</td><td>III</td><td>139</td></tr>\n",
              "</tbody>\n",
              "</table>\n"
            ],
            "text/markdown": "\nA data.frame: 12 × 4\n\n| Cultivar &lt;chr&gt; | Nitrogen &lt;chr&gt; | Block &lt;chr&gt; | Yield &lt;dbl&gt; |\n|---|---|---|---|\n| CV1 | N0 | I   |  99 |\n| CV1 | N0 | II  | 109 |\n| CV1 | N0 | III |  89 |\n| CV1 | N1 | I   | 115 |\n| CV1 | N1 | II  | 142 |\n| CV1 | N1 | III | 133 |\n| CV1 | N2 | I   | 121 |\n| CV1 | N2 | II  | 157 |\n| CV1 | N2 | III | 142 |\n| CV1 | N3 | I   | 125 |\n| CV1 | N3 | II  | 150 |\n| CV1 | N3 | III | 139 |\n\n",
            "text/latex": "A data.frame: 12 × 4\n\\begin{tabular}{llll}\n Cultivar & Nitrogen & Block & Yield\\\\\n <chr> & <chr> & <chr> & <dbl>\\\\\n\\hline\n\t CV1 & N0 & I   &  99\\\\\n\t CV1 & N0 & II  & 109\\\\\n\t CV1 & N0 & III &  89\\\\\n\t CV1 & N1 & I   & 115\\\\\n\t CV1 & N1 & II  & 142\\\\\n\t CV1 & N1 & III & 133\\\\\n\t CV1 & N2 & I   & 121\\\\\n\t CV1 & N2 & II  & 157\\\\\n\t CV1 & N2 & III & 142\\\\\n\t CV1 & N3 & I   & 125\\\\\n\t CV1 & N3 & II  & 150\\\\\n\t CV1 & N3 & III & 139\\\\\n\\end{tabular}\n",
            "text/plain": [
              "   Cultivar Nitrogen Block Yield\n",
              "1  CV1      N0       I      99  \n",
              "2  CV1      N0       II    109  \n",
              "3  CV1      N0       III    89  \n",
              "4  CV1      N1       I     115  \n",
              "5  CV1      N1       II    142  \n",
              "6  CV1      N1       III   133  \n",
              "7  CV1      N2       I     121  \n",
              "8  CV1      N2       II    157  \n",
              "9  CV1      N2       III   142  \n",
              "10 CV1      N3       I     125  \n",
              "11 CV1      N3       II    150  \n",
              "12 CV1      N3       III   139  "
            ]
          },
          "metadata": {}
        }
      ],
      "source": [
        "Cultivar=rep(c(\"CV1\"), each=12)\n",
        "Nitrogen=rep(rep(c(\"N0\",\"N1\",\"N2\",\"N3\"), each=3))\n",
        "Block=rep(c(\"I\",\"II\",\"III\"),4)\n",
        "Yield=c (99, 109, 89, 115, 142, 133, 121, 157, 142, 125, 150, 139)\n",
        "dataA=data.frame(Cultivar, Nitrogen, Block, Yield)\n",
        "dataA"
      ]
    },
    {
      "cell_type": "code",
      "source": [
        "mean(subset(dataA, Nitrogen==\"N0\")$ Yield) #99\n",
        "mean(subset(dataA, Nitrogen==\"N1\")$ Yield) #130\n",
        "mean(subset(dataA, Nitrogen==\"N2\")$ Yield) #140\n",
        "mean(subset(dataA, Nitrogen==\"N3\")$ Yield) #138"
      ],
      "metadata": {
        "colab": {
          "base_uri": "https://localhost:8080/",
          "height": 86
        },
        "id": "RzmNNTlBRsuF",
        "outputId": "196be180-6b37-442b-9ba8-cb0b7cb3b5ee"
      },
      "execution_count": 3,
      "outputs": [
        {
          "output_type": "display_data",
          "data": {
            "text/html": [
              "99"
            ],
            "text/markdown": "99",
            "text/latex": "99",
            "text/plain": [
              "[1] 99"
            ]
          },
          "metadata": {}
        },
        {
          "output_type": "display_data",
          "data": {
            "text/html": [
              "130"
            ],
            "text/markdown": "130",
            "text/latex": "130",
            "text/plain": [
              "[1] 130"
            ]
          },
          "metadata": {}
        },
        {
          "output_type": "display_data",
          "data": {
            "text/html": [
              "140"
            ],
            "text/markdown": "140",
            "text/latex": "140",
            "text/plain": [
              "[1] 140"
            ]
          },
          "metadata": {}
        },
        {
          "output_type": "display_data",
          "data": {
            "text/html": [
              "138"
            ],
            "text/markdown": "138",
            "text/latex": "138",
            "text/plain": [
              "[1] 138"
            ]
          },
          "metadata": {}
        }
      ]
    },
    {
      "cell_type": "code",
      "source": [
        "Fert_ANOVA= aov(Yield ~ Nitrogen + factor(Block), data=dataA)\n",
        "summary(Fert_ANOVA)"
      ],
      "metadata": {
        "colab": {
          "base_uri": "https://localhost:8080/",
          "height": 121
        },
        "id": "7K-gjgoLR4Rb",
        "outputId": "bca5f1ff-d5ec-4629-d4f1-adad15bed276"
      },
      "execution_count": 4,
      "outputs": [
        {
          "output_type": "display_data",
          "data": {
            "text/plain": [
              "              Df Sum Sq Mean Sq F value  Pr(>F)   \n",
              "Nitrogen       3   3248  1082.7   19.14 0.00179 **\n",
              "factor(Block)  2   1206   603.2   10.66 0.01059 * \n",
              "Residuals      6    340    56.6                   \n",
              "---\n",
              "Signif. codes:  0 ‘***’ 0.001 ‘**’ 0.01 ‘*’ 0.05 ‘.’ 0.1 ‘ ’ 1"
            ]
          },
          "metadata": {}
        }
      ]
    },
    {
      "cell_type": "code",
      "source": [
        "#install.packages(\"agricolae\")\n",
        "library(agricolae)\n",
        "LSD_Test= LSD.test(Fert_ANOVA,\"Nitrogen\")\n",
        "LSD_Test"
      ],
      "metadata": {
        "colab": {
          "base_uri": "https://localhost:8080/",
          "height": 590
        },
        "id": "piLHpiGKR7xZ",
        "outputId": "fc277ce4-59ec-4b66-d0e4-978b22c51eaa"
      },
      "execution_count": 6,
      "outputs": [
        {
          "output_type": "stream",
          "name": "stderr",
          "text": [
            "Installing package into ‘/usr/local/lib/R/site-library’\n",
            "(as ‘lib’ is unspecified)\n",
            "\n",
            "also installing the dependency ‘AlgDesign’\n",
            "\n",
            "\n"
          ]
        },
        {
          "output_type": "display_data",
          "data": {
            "text/plain": [
              "$statistics\n",
              "   MSerror Df   Mean       CV  t.value      LSD\n",
              "  56.58333  6 126.75 5.934666 2.446912 15.02855\n",
              "\n",
              "$parameters\n",
              "        test p.ajusted   name.t ntr alpha\n",
              "  Fisher-LSD      none Nitrogen   4  0.05\n",
              "\n",
              "$means\n",
              "   Yield      std r       se       LCL      UCL Min Max   Q25 Q50   Q75\n",
              "N0    99 10.00000 3 4.342938  88.37321 109.6268  89 109  94.0  99 104.0\n",
              "N1   130 13.74773 3 4.342938 119.37321 140.6268 115 142 124.0 133 137.5\n",
              "N2   140 18.08314 3 4.342938 129.37321 150.6268 121 157 131.5 142 149.5\n",
              "N3   138 12.52996 3 4.342938 127.37321 148.6268 125 150 132.0 139 144.5\n",
              "\n",
              "$comparison\n",
              "NULL\n",
              "\n",
              "$groups\n",
              "   Yield groups\n",
              "N2   140      a\n",
              "N3   138      a\n",
              "N1   130      a\n",
              "N0    99      b\n",
              "\n",
              "attr(,\"class\")\n",
              "[1] \"group\""
            ]
          },
          "metadata": {}
        }
      ]
    },
    {
      "cell_type": "markdown",
      "source": [
        "# Two-Way ANOVA"
      ],
      "metadata": {
        "id": "PZb8xaAjSHdA"
      }
    },
    {
      "cell_type": "code",
      "source": [
        "Cultivar=rep(c(\"CV1\",\"CV2\"),each=12)\n",
        "Nitrogen=rep(rep(c(\"N0\",\"N1\",\"N2\",\"N3\"), each=3),2)\n",
        "Block=rep(c(\"I\",\"II\",\"III\"),8)\n",
        "Yield=c (99, 109, 89, 115, 142, 133, 121, 157, 142, 125, 150, 139, 82, 104, 99, 117, 125, 127, 145, 154, 154, 151, 166, 175)\n",
        "dataA=data.frame(Cultivar,Nitrogen,Block,Yield)\n",
        "dataA"
      ],
      "metadata": {
        "colab": {
          "base_uri": "https://localhost:8080/",
          "height": 850
        },
        "id": "7otOePrPSHNQ",
        "outputId": "a97bfd9e-efd7-4a96-b1e1-3251be0ff045"
      },
      "execution_count": 7,
      "outputs": [
        {
          "output_type": "display_data",
          "data": {
            "text/html": [
              "<table class=\"dataframe\">\n",
              "<caption>A data.frame: 24 × 4</caption>\n",
              "<thead>\n",
              "\t<tr><th scope=col>Cultivar</th><th scope=col>Nitrogen</th><th scope=col>Block</th><th scope=col>Yield</th></tr>\n",
              "\t<tr><th scope=col>&lt;chr&gt;</th><th scope=col>&lt;chr&gt;</th><th scope=col>&lt;chr&gt;</th><th scope=col>&lt;dbl&gt;</th></tr>\n",
              "</thead>\n",
              "<tbody>\n",
              "\t<tr><td>CV1</td><td>N0</td><td>I  </td><td> 99</td></tr>\n",
              "\t<tr><td>CV1</td><td>N0</td><td>II </td><td>109</td></tr>\n",
              "\t<tr><td>CV1</td><td>N0</td><td>III</td><td> 89</td></tr>\n",
              "\t<tr><td>CV1</td><td>N1</td><td>I  </td><td>115</td></tr>\n",
              "\t<tr><td>CV1</td><td>N1</td><td>II </td><td>142</td></tr>\n",
              "\t<tr><td>CV1</td><td>N1</td><td>III</td><td>133</td></tr>\n",
              "\t<tr><td>CV1</td><td>N2</td><td>I  </td><td>121</td></tr>\n",
              "\t<tr><td>CV1</td><td>N2</td><td>II </td><td>157</td></tr>\n",
              "\t<tr><td>CV1</td><td>N2</td><td>III</td><td>142</td></tr>\n",
              "\t<tr><td>CV1</td><td>N3</td><td>I  </td><td>125</td></tr>\n",
              "\t<tr><td>CV1</td><td>N3</td><td>II </td><td>150</td></tr>\n",
              "\t<tr><td>CV1</td><td>N3</td><td>III</td><td>139</td></tr>\n",
              "\t<tr><td>CV2</td><td>N0</td><td>I  </td><td> 82</td></tr>\n",
              "\t<tr><td>CV2</td><td>N0</td><td>II </td><td>104</td></tr>\n",
              "\t<tr><td>CV2</td><td>N0</td><td>III</td><td> 99</td></tr>\n",
              "\t<tr><td>CV2</td><td>N1</td><td>I  </td><td>117</td></tr>\n",
              "\t<tr><td>CV2</td><td>N1</td><td>II </td><td>125</td></tr>\n",
              "\t<tr><td>CV2</td><td>N1</td><td>III</td><td>127</td></tr>\n",
              "\t<tr><td>CV2</td><td>N2</td><td>I  </td><td>145</td></tr>\n",
              "\t<tr><td>CV2</td><td>N2</td><td>II </td><td>154</td></tr>\n",
              "\t<tr><td>CV2</td><td>N2</td><td>III</td><td>154</td></tr>\n",
              "\t<tr><td>CV2</td><td>N3</td><td>I  </td><td>151</td></tr>\n",
              "\t<tr><td>CV2</td><td>N3</td><td>II </td><td>166</td></tr>\n",
              "\t<tr><td>CV2</td><td>N3</td><td>III</td><td>175</td></tr>\n",
              "</tbody>\n",
              "</table>\n"
            ],
            "text/markdown": "\nA data.frame: 24 × 4\n\n| Cultivar &lt;chr&gt; | Nitrogen &lt;chr&gt; | Block &lt;chr&gt; | Yield &lt;dbl&gt; |\n|---|---|---|---|\n| CV1 | N0 | I   |  99 |\n| CV1 | N0 | II  | 109 |\n| CV1 | N0 | III |  89 |\n| CV1 | N1 | I   | 115 |\n| CV1 | N1 | II  | 142 |\n| CV1 | N1 | III | 133 |\n| CV1 | N2 | I   | 121 |\n| CV1 | N2 | II  | 157 |\n| CV1 | N2 | III | 142 |\n| CV1 | N3 | I   | 125 |\n| CV1 | N3 | II  | 150 |\n| CV1 | N3 | III | 139 |\n| CV2 | N0 | I   |  82 |\n| CV2 | N0 | II  | 104 |\n| CV2 | N0 | III |  99 |\n| CV2 | N1 | I   | 117 |\n| CV2 | N1 | II  | 125 |\n| CV2 | N1 | III | 127 |\n| CV2 | N2 | I   | 145 |\n| CV2 | N2 | II  | 154 |\n| CV2 | N2 | III | 154 |\n| CV2 | N3 | I   | 151 |\n| CV2 | N3 | II  | 166 |\n| CV2 | N3 | III | 175 |\n\n",
            "text/latex": "A data.frame: 24 × 4\n\\begin{tabular}{llll}\n Cultivar & Nitrogen & Block & Yield\\\\\n <chr> & <chr> & <chr> & <dbl>\\\\\n\\hline\n\t CV1 & N0 & I   &  99\\\\\n\t CV1 & N0 & II  & 109\\\\\n\t CV1 & N0 & III &  89\\\\\n\t CV1 & N1 & I   & 115\\\\\n\t CV1 & N1 & II  & 142\\\\\n\t CV1 & N1 & III & 133\\\\\n\t CV1 & N2 & I   & 121\\\\\n\t CV1 & N2 & II  & 157\\\\\n\t CV1 & N2 & III & 142\\\\\n\t CV1 & N3 & I   & 125\\\\\n\t CV1 & N3 & II  & 150\\\\\n\t CV1 & N3 & III & 139\\\\\n\t CV2 & N0 & I   &  82\\\\\n\t CV2 & N0 & II  & 104\\\\\n\t CV2 & N0 & III &  99\\\\\n\t CV2 & N1 & I   & 117\\\\\n\t CV2 & N1 & II  & 125\\\\\n\t CV2 & N1 & III & 127\\\\\n\t CV2 & N2 & I   & 145\\\\\n\t CV2 & N2 & II  & 154\\\\\n\t CV2 & N2 & III & 154\\\\\n\t CV2 & N3 & I   & 151\\\\\n\t CV2 & N3 & II  & 166\\\\\n\t CV2 & N3 & III & 175\\\\\n\\end{tabular}\n",
            "text/plain": [
              "   Cultivar Nitrogen Block Yield\n",
              "1  CV1      N0       I      99  \n",
              "2  CV1      N0       II    109  \n",
              "3  CV1      N0       III    89  \n",
              "4  CV1      N1       I     115  \n",
              "5  CV1      N1       II    142  \n",
              "6  CV1      N1       III   133  \n",
              "7  CV1      N2       I     121  \n",
              "8  CV1      N2       II    157  \n",
              "9  CV1      N2       III   142  \n",
              "10 CV1      N3       I     125  \n",
              "11 CV1      N3       II    150  \n",
              "12 CV1      N3       III   139  \n",
              "13 CV2      N0       I      82  \n",
              "14 CV2      N0       II    104  \n",
              "15 CV2      N0       III    99  \n",
              "16 CV2      N1       I     117  \n",
              "17 CV2      N1       II    125  \n",
              "18 CV2      N1       III   127  \n",
              "19 CV2      N2       I     145  \n",
              "20 CV2      N2       II    154  \n",
              "21 CV2      N2       III   154  \n",
              "22 CV2      N3       I     151  \n",
              "23 CV2      N3       II    166  \n",
              "24 CV2      N3       III   175  "
            ]
          },
          "metadata": {}
        }
      ]
    },
    {
      "cell_type": "code",
      "source": [
        "Fert_ANOVA= aov(Yield~Cultivar+Nitrogen+Cultivar:Nitrogen+factor(Block), data=dataA)\n",
        "summary(Fert_ANOVA)"
      ],
      "metadata": {
        "colab": {
          "base_uri": "https://localhost:8080/",
          "height": 156
        },
        "id": "mDpnnQclSNdj",
        "outputId": "b78c1ce0-27aa-48b4-c139-44a686aadfc6"
      },
      "execution_count": 8,
      "outputs": [
        {
          "output_type": "display_data",
          "data": {
            "text/plain": [
              "                  Df Sum Sq Mean Sq F value   Pr(>F)    \n",
              "Cultivar           1    253     253    4.99 0.042327 *  \n",
              "Nitrogen           3  10695    3565   70.17 1.12e-08 ***\n",
              "factor(Block)      2   1505     752   14.81 0.000351 ***\n",
              "Cultivar:Nitrogen  3   1040     347    6.82 0.004604 ** \n",
              "Residuals         14    711      51                     \n",
              "---\n",
              "Signif. codes:  0 ‘***’ 0.001 ‘**’ 0.01 ‘*’ 0.05 ‘.’ 0.1 ‘ ’ 1"
            ]
          },
          "metadata": {}
        }
      ]
    },
    {
      "cell_type": "code",
      "source": [
        "LSD_Test= LSD.test(Fert_ANOVA, c(\"Cultivar\", \"Nitrogen\"))\n",
        "LSD_Test"
      ],
      "metadata": {
        "colab": {
          "base_uri": "https://localhost:8080/",
          "height": 624
        },
        "id": "6pmCjg34SQ-B",
        "outputId": "6f189eab-6539-4699-b8ae-e515b826d5c2"
      },
      "execution_count": 9,
      "outputs": [
        {
          "output_type": "display_data",
          "data": {
            "text/plain": [
              "$statistics\n",
              "   MSerror Df Mean       CV  t.value      LSD\n",
              "  50.80357 14  130 5.482817 2.144787 12.48204\n",
              "\n",
              "$parameters\n",
              "        test p.ajusted            name.t ntr alpha\n",
              "  Fisher-LSD      none Cultivar:Nitrogen   8  0.05\n",
              "\n",
              "$means\n",
              "       Yield       std r       se       LCL      UCL Min Max   Q25 Q50   Q75\n",
              "CV1:N0    99 10.000000 3 4.115158  90.17386 107.8261  89 109  94.0  99 104.0\n",
              "CV1:N1   130 13.747727 3 4.115158 121.17386 138.8261 115 142 124.0 133 137.5\n",
              "CV1:N2   140 18.083141 3 4.115158 131.17386 148.8261 121 157 131.5 142 149.5\n",
              "CV1:N3   138 12.529964 3 4.115158 129.17386 146.8261 125 150 132.0 139 144.5\n",
              "CV2:N0    95 11.532563 3 4.115158  86.17386 103.8261  82 104  90.5  99 101.5\n",
              "CV2:N1   123  5.291503 3 4.115158 114.17386 131.8261 117 127 121.0 125 126.0\n",
              "CV2:N2   151  5.196152 3 4.115158 142.17386 159.8261 145 154 149.5 154 154.0\n",
              "CV2:N3   164 12.124356 3 4.115158 155.17386 172.8261 151 175 158.5 166 170.5\n",
              "\n",
              "$comparison\n",
              "NULL\n",
              "\n",
              "$groups\n",
              "       Yield groups\n",
              "CV2:N3   164      a\n",
              "CV2:N2   151      b\n",
              "CV1:N2   140     bc\n",
              "CV1:N3   138      c\n",
              "CV1:N1   130     cd\n",
              "CV2:N1   123      d\n",
              "CV1:N0    99      e\n",
              "CV2:N0    95      e\n",
              "\n",
              "attr(,\"class\")\n",
              "[1] \"group\""
            ]
          },
          "metadata": {}
        }
      ]
    }
  ]
}
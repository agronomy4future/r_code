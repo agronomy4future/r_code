{
  "nbformat": 4,
  "nbformat_minor": 0,
  "metadata": {
    "colab": {
      "provenance": [],
      "authorship_tag": "ABX9TyOh80WfjCb1xSFlUEwlGyct"
    },
    "kernelspec": {
      "name": "ir",
      "display_name": "R"
    },
    "language_info": {
      "name": "R"
    }
  },
  "cells": [
    {
      "cell_type": "markdown",
      "source": [
        "# required package"
      ],
      "metadata": {
        "id": "LP3t4bvuDexM"
      }
    },
    {
      "cell_type": "code",
      "source": [
        "library(dplyr)\n",
        "library (ggplot2)"
      ],
      "metadata": {
        "id": "d_TIwqUp-ouc"
      },
      "execution_count": 25,
      "outputs": []
    },
    {
      "cell_type": "markdown",
      "source": [
        "# to create data"
      ],
      "metadata": {
        "id": "JzfA0XprDOAu"
      }
    },
    {
      "cell_type": "code",
      "execution_count": 32,
      "metadata": {
        "colab": {
          "base_uri": "https://localhost:8080/",
          "height": 568
        },
        "id": "SsVTA6H31Vi6",
        "outputId": "21f73a00-8f7a-4d77-a56f-47a4a7f6397b"
      },
      "outputs": [
        {
          "output_type": "display_data",
          "data": {
            "text/html": [
              "<table class=\"dataframe\">\n",
              "<caption>A data.frame: 15 × 3</caption>\n",
              "<thead>\n",
              "\t<tr><th scope=col>treatment</th><th scope=col>rep</th><th scope=col>yield</th></tr>\n",
              "\t<tr><th scope=col>&lt;chr&gt;</th><th scope=col>&lt;chr&gt;</th><th scope=col>&lt;dbl&gt;</th></tr>\n",
              "</thead>\n",
              "<tbody>\n",
              "\t<tr><td>Cultivar A</td><td>I  </td><td>10</td></tr>\n",
              "\t<tr><td>Cultivar A</td><td>II </td><td>11</td></tr>\n",
              "\t<tr><td>Cultivar A</td><td>III</td><td>21</td></tr>\n",
              "\t<tr><td>Cultivar B</td><td>I  </td><td>13</td></tr>\n",
              "\t<tr><td>Cultivar B</td><td>II </td><td>23</td></tr>\n",
              "\t<tr><td>Cultivar B</td><td>III</td><td>23</td></tr>\n",
              "\t<tr><td>Cultivar C</td><td>I  </td><td>13</td></tr>\n",
              "\t<tr><td>Cultivar C</td><td>II </td><td>13</td></tr>\n",
              "\t<tr><td>Cultivar C</td><td>III</td><td> 5</td></tr>\n",
              "\t<tr><td>Cultivar D</td><td>I  </td><td>33</td></tr>\n",
              "\t<tr><td>Cultivar D</td><td>II </td><td>21</td></tr>\n",
              "\t<tr><td>Cultivar D</td><td>III</td><td>13</td></tr>\n",
              "\t<tr><td>Cultivar E</td><td>I  </td><td>42</td></tr>\n",
              "\t<tr><td>Cultivar E</td><td>II </td><td>12</td></tr>\n",
              "\t<tr><td>Cultivar E</td><td>III</td><td>13</td></tr>\n",
              "</tbody>\n",
              "</table>\n"
            ],
            "text/markdown": "\nA data.frame: 15 × 3\n\n| treatment &lt;chr&gt; | rep &lt;chr&gt; | yield &lt;dbl&gt; |\n|---|---|---|\n| Cultivar A | I   | 10 |\n| Cultivar A | II  | 11 |\n| Cultivar A | III | 21 |\n| Cultivar B | I   | 13 |\n| Cultivar B | II  | 23 |\n| Cultivar B | III | 23 |\n| Cultivar C | I   | 13 |\n| Cultivar C | II  | 13 |\n| Cultivar C | III |  5 |\n| Cultivar D | I   | 33 |\n| Cultivar D | II  | 21 |\n| Cultivar D | III | 13 |\n| Cultivar E | I   | 42 |\n| Cultivar E | II  | 12 |\n| Cultivar E | III | 13 |\n\n",
            "text/latex": "A data.frame: 15 × 3\n\\begin{tabular}{lll}\n treatment & rep & yield\\\\\n <chr> & <chr> & <dbl>\\\\\n\\hline\n\t Cultivar A & I   & 10\\\\\n\t Cultivar A & II  & 11\\\\\n\t Cultivar A & III & 21\\\\\n\t Cultivar B & I   & 13\\\\\n\t Cultivar B & II  & 23\\\\\n\t Cultivar B & III & 23\\\\\n\t Cultivar C & I   & 13\\\\\n\t Cultivar C & II  & 13\\\\\n\t Cultivar C & III &  5\\\\\n\t Cultivar D & I   & 33\\\\\n\t Cultivar D & II  & 21\\\\\n\t Cultivar D & III & 13\\\\\n\t Cultivar E & I   & 42\\\\\n\t Cultivar E & II  & 12\\\\\n\t Cultivar E & III & 13\\\\\n\\end{tabular}\n",
            "text/plain": [
              "   treatment  rep yield\n",
              "1  Cultivar A I   10   \n",
              "2  Cultivar A II  11   \n",
              "3  Cultivar A III 21   \n",
              "4  Cultivar B I   13   \n",
              "5  Cultivar B II  23   \n",
              "6  Cultivar B III 23   \n",
              "7  Cultivar C I   13   \n",
              "8  Cultivar C II  13   \n",
              "9  Cultivar C III  5   \n",
              "10 Cultivar D I   33   \n",
              "11 Cultivar D II  21   \n",
              "12 Cultivar D III 13   \n",
              "13 Cultivar E I   42   \n",
              "14 Cultivar E II  12   \n",
              "15 Cultivar E III 13   "
            ]
          },
          "metadata": {}
        }
      ],
      "source": [
        "treatment=rep(c(\"Cultivar A\",\"Cultivar B\",\"Cultivar C\",\"Cultivar D\",\"Cultivar E\"), each=3)\n",
        "rep=rep(c(\"I\",\"II\",\"III\"), time=5)\n",
        "yield=c(10,11,21,13,23,23,13,13,5,33,21,13,42,12,13)\n",
        "dataA=data.frame(treatment,rep, yield)\n",
        "dataA"
      ]
    },
    {
      "cell_type": "markdown",
      "source": [
        "#to summarize data"
      ],
      "metadata": {
        "id": "j16S86GZDTHc"
      }
    },
    {
      "cell_type": "code",
      "source": [
        "summary=data.frame(dataA %>%\n",
        "                   group_by(treatment) %>%\n",
        "                   dplyr::summarize(across(c(yield),\n",
        "                         .fns= list(Mean=~mean(., na.rm= TRUE),\n",
        "                           SD= ~sd(., na.rm= TRUE),\n",
        "                            n=~length(.),\n",
        "                           se=~sd(.,na.rm= TRUE) / sqrt(length(.))))))%>%\n",
        "ungroup()\n",
        "summary"
      ],
      "metadata": {
        "colab": {
          "base_uri": "https://localhost:8080/",
          "height": 255
        },
        "id": "xThZ5uJQ-dgX",
        "outputId": "f9f5784f-82e9-48ed-8a7b-73e7440f1cc0"
      },
      "execution_count": 33,
      "outputs": [
        {
          "output_type": "display_data",
          "data": {
            "text/html": [
              "<table class=\"dataframe\">\n",
              "<caption>A data.frame: 5 × 5</caption>\n",
              "<thead>\n",
              "\t<tr><th scope=col>treatment</th><th scope=col>yield_Mean</th><th scope=col>yield_SD</th><th scope=col>yield_n</th><th scope=col>yield_se</th></tr>\n",
              "\t<tr><th scope=col>&lt;chr&gt;</th><th scope=col>&lt;dbl&gt;</th><th scope=col>&lt;dbl&gt;</th><th scope=col>&lt;int&gt;</th><th scope=col>&lt;dbl&gt;</th></tr>\n",
              "</thead>\n",
              "<tbody>\n",
              "\t<tr><td>Cultivar A</td><td>14.00000</td><td> 6.082763</td><td>3</td><td>3.511885</td></tr>\n",
              "\t<tr><td>Cultivar B</td><td>19.66667</td><td> 5.773503</td><td>3</td><td>3.333333</td></tr>\n",
              "\t<tr><td>Cultivar C</td><td>10.33333</td><td> 4.618802</td><td>3</td><td>2.666667</td></tr>\n",
              "\t<tr><td>Cultivar D</td><td>22.33333</td><td>10.066446</td><td>3</td><td>5.811865</td></tr>\n",
              "\t<tr><td>Cultivar E</td><td>22.33333</td><td>17.039171</td><td>3</td><td>9.837570</td></tr>\n",
              "</tbody>\n",
              "</table>\n"
            ],
            "text/markdown": "\nA data.frame: 5 × 5\n\n| treatment &lt;chr&gt; | yield_Mean &lt;dbl&gt; | yield_SD &lt;dbl&gt; | yield_n &lt;int&gt; | yield_se &lt;dbl&gt; |\n|---|---|---|---|---|\n| Cultivar A | 14.00000 |  6.082763 | 3 | 3.511885 |\n| Cultivar B | 19.66667 |  5.773503 | 3 | 3.333333 |\n| Cultivar C | 10.33333 |  4.618802 | 3 | 2.666667 |\n| Cultivar D | 22.33333 | 10.066446 | 3 | 5.811865 |\n| Cultivar E | 22.33333 | 17.039171 | 3 | 9.837570 |\n\n",
            "text/latex": "A data.frame: 5 × 5\n\\begin{tabular}{lllll}\n treatment & yield\\_Mean & yield\\_SD & yield\\_n & yield\\_se\\\\\n <chr> & <dbl> & <dbl> & <int> & <dbl>\\\\\n\\hline\n\t Cultivar A & 14.00000 &  6.082763 & 3 & 3.511885\\\\\n\t Cultivar B & 19.66667 &  5.773503 & 3 & 3.333333\\\\\n\t Cultivar C & 10.33333 &  4.618802 & 3 & 2.666667\\\\\n\t Cultivar D & 22.33333 & 10.066446 & 3 & 5.811865\\\\\n\t Cultivar E & 22.33333 & 17.039171 & 3 & 9.837570\\\\\n\\end{tabular}\n",
            "text/plain": [
              "  treatment  yield_Mean yield_SD  yield_n yield_se\n",
              "1 Cultivar A 14.00000    6.082763 3       3.511885\n",
              "2 Cultivar B 19.66667    5.773503 3       3.333333\n",
              "3 Cultivar C 10.33333    4.618802 3       2.666667\n",
              "4 Cultivar D 22.33333   10.066446 3       5.811865\n",
              "5 Cultivar E 22.33333   17.039171 3       9.837570"
            ]
          },
          "metadata": {}
        }
      ]
    },
    {
      "cell_type": "markdown",
      "source": [
        "# to create a graph"
      ],
      "metadata": {
        "id": "nFVmBJ3tDk0P"
      }
    },
    {
      "cell_type": "code",
      "source": [
        "ggplot(data=summary, aes(x=treatment, y=yield_Mean)) +\n",
        "  geom_bar(stat=\"identity\",position=\"dodge\", width=0.7, size=1, fill=\"grey50\", color=\"grey15\") +\n",
        "  geom_errorbar(aes(ymin=yield_Mean-yield_se, ymax=yield_Mean+yield_se),\n",
        "                position=position_dodge(0.9), width=0.5) +\n",
        "  scale_y_continuous(breaks=seq(0,50,10), limits=c(0,50)) +\n",
        "  labs(x=\"Cultivar\", y=\"Yield\") +\n",
        "  theme_classic(base_size=18, base_family=\"serif\") +\n",
        "  theme(axis.line=element_line(linewidth=0.5, colour=\"black\"))"
      ],
      "metadata": {
        "colab": {
          "base_uri": "https://localhost:8080/",
          "height": 437
        },
        "id": "VSBWsVyb-vt4",
        "outputId": "0fd78aa8-8353-41a3-9c73-01e1f0b252d1"
      },
      "execution_count": 29,
      "outputs": [
        {
          "output_type": "display_data",
          "data": {
            "text/plain": [
              "plot without title"
            ],
            "image/png": "[encoded data removed]"
          },
          "metadata": {
            "image/png": {
              "width": 420,
              "height": 420
            }
          }
        }
      ]
    },
    {
      "cell_type": "markdown",
      "source": [
        "# to split text into two rows"
      ],
      "metadata": {
        "id": "6pmwC94oDnj9"
      }
    },
    {
      "cell_type": "code",
      "source": [
        "summary$treatment= as.factor(summary$treatment)\n",
        "levels(summary$treatment)= gsub(\" \", \"\\n\", levels(summary$treatment))"
      ],
      "metadata": {
        "id": "lJsKspxnCk5x"
      },
      "execution_count": 30,
      "outputs": []
    },
    {
      "cell_type": "markdown",
      "source": [
        "# to create a graph again"
      ],
      "metadata": {
        "id": "yNBeiEOPDtwk"
      }
    },
    {
      "cell_type": "code",
      "source": [
        "ggplot(data=summary, aes(x=treatment, y=yield_Mean)) +\n",
        "  geom_bar(stat=\"identity\",position=\"dodge\", width=0.7, size=1, fill=\"grey50\", color=\"grey15\") +\n",
        "  geom_errorbar(aes(ymin=yield_Mean-yield_se, ymax=yield_Mean+yield_se),\n",
        "                position=position_dodge(0.9), width=0.5) +\n",
        "  scale_y_continuous(breaks=seq(0,50,10), limits=c(0,50)) +\n",
        "  labs(x=\"Cultivar\", y=\"Yield\") +\n",
        "  theme_classic(base_size=18, base_family=\"serif\") +\n",
        "  theme(axis.line=element_line(linewidth=0.5, colour=\"black\"))"
      ],
      "metadata": {
        "colab": {
          "base_uri": "https://localhost:8080/",
          "height": 437
        },
        "id": "MnAAofdQCKWz",
        "outputId": "055c7ab4-5dc6-40eb-8c51-ecb5a7e062db"
      },
      "execution_count": 31,
      "outputs": [
        {
          "output_type": "display_data",
          "data": {
            "text/plain": [
              "plot without title"
            ],
            "image/png": "[encoded data removed]"
          },
          "metadata": {
            "image/png": {
              "width": 420,
              "height": 420
            }
          }
        }
      ]
    }
  ]
}
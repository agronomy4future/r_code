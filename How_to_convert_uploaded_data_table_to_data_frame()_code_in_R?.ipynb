{
  "nbformat": 4,
  "nbformat_minor": 0,
  "metadata": {
    "colab": {
      "provenance": [],
      "authorship_tag": "ABX9TyNVk+BVCKYkd3DBdYbLEdAZ"
    },
    "kernelspec": {
      "name": "ir",
      "display_name": "R"
    },
    "language_info": {
      "name": "R"
    }
  },
  "cells": [
    {
      "cell_type": "markdown",
      "source": [
        "# required pacakges"
      ],
      "metadata": {
        "id": "V_ONGNv4GC9c"
      }
    },
    {
      "cell_type": "code",
      "source": [
        "#install.packages(\"readr\")\n",
        "#install.packages(\"datapasta\")\n",
        "#install.packages(\"constructive\")\n",
        "#remotes::install_github(\"cynkra/constructive\")\n",
        "library(readr)\n",
        "library(datapasta)"
      ],
      "metadata": {
        "id": "d2xocuJbGSgn"
      },
      "execution_count": 13,
      "outputs": []
    },
    {
      "cell_type": "markdown",
      "source": [
        "# to upload data from github"
      ],
      "metadata": {
        "id": "pCHhRaFhGql1"
      }
    },
    {
      "cell_type": "code",
      "source": [
        "github=\"https://raw.githubusercontent.com/agronomy4future/raw_data_practice/main/soybean_yield.csv\"\n",
        "dataA=data.frame(read_csv(url(github), show_col_types=FALSE))\n",
        "dataA"
      ],
      "metadata": {
        "colab": {
          "base_uri": "https://localhost:8080/",
          "height": 850
        },
        "id": "6B7K2YZ8FzCZ",
        "outputId": "684a3ab3-5c09-442f-ebcd-519f24de187a"
      },
      "execution_count": 14,
      "outputs": [
        {
          "output_type": "display_data",
          "data": {
            "text/html": [
              "<table class=\"dataframe\">\n",
              "<caption>A data.frame: 24 × 5</caption>\n",
              "<thead>\n",
              "\t<tr><th scope=col>season</th><th scope=col>crop</th><th scope=col>plot</th><th scope=col>treatment</th><th scope=col>grain_yield</th></tr>\n",
              "\t<tr><th scope=col>&lt;dbl&gt;</th><th scope=col>&lt;chr&gt;</th><th scope=col>&lt;dbl&gt;</th><th scope=col>&lt;chr&gt;</th><th scope=col>&lt;dbl&gt;</th></tr>\n",
              "</thead>\n",
              "<tbody>\n",
              "\t<tr><td>2023</td><td>Soybean</td><td>1</td><td>tr1    </td><td> 32.2</td></tr>\n",
              "\t<tr><td>2023</td><td>Soybean</td><td>1</td><td>tr2    </td><td>  5.0</td></tr>\n",
              "\t<tr><td>2023</td><td>Soybean</td><td>1</td><td>tr3    </td><td>  4.3</td></tr>\n",
              "\t<tr><td>2023</td><td>Soybean</td><td>1</td><td>tr3    </td><td>  1.0</td></tr>\n",
              "\t<tr><td>2023</td><td>Soybean</td><td>1</td><td>tr5    </td><td>  8.7</td></tr>\n",
              "\t<tr><td>2023</td><td>Soybean</td><td>2</td><td>tr1    </td><td> 25.6</td></tr>\n",
              "\t<tr><td>2023</td><td>Soybean</td><td>2</td><td>tr2    </td><td> 35.7</td></tr>\n",
              "\t<tr><td>2023</td><td>Soybean</td><td>2</td><td>tr3    </td><td> 29.2</td></tr>\n",
              "\t<tr><td>2023</td><td>Soybean</td><td>2</td><td>tr3    </td><td> 39.9</td></tr>\n",
              "\t<tr><td>2023</td><td>Soybean</td><td>2</td><td>tr5    </td><td> 20.7</td></tr>\n",
              "\t<tr><td>2023</td><td>Soybean</td><td>3</td><td>tr1    </td><td> 15.5</td></tr>\n",
              "\t<tr><td>2023</td><td>Soybean</td><td>3</td><td>tr2    </td><td> 23.2</td></tr>\n",
              "\t<tr><td>2023</td><td>Soybean</td><td>3</td><td>tr3    </td><td> 44.6</td></tr>\n",
              "\t<tr><td>2023</td><td>Soybean</td><td>3</td><td>tr3    </td><td> 45.0</td></tr>\n",
              "\t<tr><td>2023</td><td>Soybean</td><td>3</td><td>tr5    </td><td> 32.4</td></tr>\n",
              "\t<tr><td>2023</td><td>Soybean</td><td>4</td><td>tr1    </td><td> 20.5</td></tr>\n",
              "\t<tr><td>2023</td><td>Soybean</td><td>4</td><td>tr2    </td><td> 35.2</td></tr>\n",
              "\t<tr><td>2023</td><td>Soybean</td><td>4</td><td>tr3    </td><td> 37.3</td></tr>\n",
              "\t<tr><td>2023</td><td>Soybean</td><td>4</td><td>tr3    </td><td>  9.6</td></tr>\n",
              "\t<tr><td>2023</td><td>Soybean</td><td>4</td><td>tr5    </td><td> 16.8</td></tr>\n",
              "\t<tr><td>2023</td><td>Soybean</td><td>5</td><td>control</td><td>103.2</td></tr>\n",
              "\t<tr><td>2023</td><td>Soybean</td><td>6</td><td>control</td><td> 60.8</td></tr>\n",
              "\t<tr><td>2023</td><td>Soybean</td><td>7</td><td>control</td><td> 33.0</td></tr>\n",
              "\t<tr><td>2023</td><td>Soybean</td><td>8</td><td>control</td><td> 66.2</td></tr>\n",
              "</tbody>\n",
              "</table>\n"
            ],
            "text/markdown": "\nA data.frame: 24 × 5\n\n| season &lt;dbl&gt; | crop &lt;chr&gt; | plot &lt;dbl&gt; | treatment &lt;chr&gt; | grain_yield &lt;dbl&gt; |\n|---|---|---|---|---|\n| 2023 | Soybean | 1 | tr1     |  32.2 |\n| 2023 | Soybean | 1 | tr2     |   5.0 |\n| 2023 | Soybean | 1 | tr3     |   4.3 |\n| 2023 | Soybean | 1 | tr3     |   1.0 |\n| 2023 | Soybean | 1 | tr5     |   8.7 |\n| 2023 | Soybean | 2 | tr1     |  25.6 |\n| 2023 | Soybean | 2 | tr2     |  35.7 |\n| 2023 | Soybean | 2 | tr3     |  29.2 |\n| 2023 | Soybean | 2 | tr3     |  39.9 |\n| 2023 | Soybean | 2 | tr5     |  20.7 |\n| 2023 | Soybean | 3 | tr1     |  15.5 |\n| 2023 | Soybean | 3 | tr2     |  23.2 |\n| 2023 | Soybean | 3 | tr3     |  44.6 |\n| 2023 | Soybean | 3 | tr3     |  45.0 |\n| 2023 | Soybean | 3 | tr5     |  32.4 |\n| 2023 | Soybean | 4 | tr1     |  20.5 |\n| 2023 | Soybean | 4 | tr2     |  35.2 |\n| 2023 | Soybean | 4 | tr3     |  37.3 |\n| 2023 | Soybean | 4 | tr3     |   9.6 |\n| 2023 | Soybean | 4 | tr5     |  16.8 |\n| 2023 | Soybean | 5 | control | 103.2 |\n| 2023 | Soybean | 6 | control |  60.8 |\n| 2023 | Soybean | 7 | control |  33.0 |\n| 2023 | Soybean | 8 | control |  66.2 |\n\n",
            "text/latex": "A data.frame: 24 × 5\n\\begin{tabular}{lllll}\n season & crop & plot & treatment & grain\\_yield\\\\\n <dbl> & <chr> & <dbl> & <chr> & <dbl>\\\\\n\\hline\n\t 2023 & Soybean & 1 & tr1     &  32.2\\\\\n\t 2023 & Soybean & 1 & tr2     &   5.0\\\\\n\t 2023 & Soybean & 1 & tr3     &   4.3\\\\\n\t 2023 & Soybean & 1 & tr3     &   1.0\\\\\n\t 2023 & Soybean & 1 & tr5     &   8.7\\\\\n\t 2023 & Soybean & 2 & tr1     &  25.6\\\\\n\t 2023 & Soybean & 2 & tr2     &  35.7\\\\\n\t 2023 & Soybean & 2 & tr3     &  29.2\\\\\n\t 2023 & Soybean & 2 & tr3     &  39.9\\\\\n\t 2023 & Soybean & 2 & tr5     &  20.7\\\\\n\t 2023 & Soybean & 3 & tr1     &  15.5\\\\\n\t 2023 & Soybean & 3 & tr2     &  23.2\\\\\n\t 2023 & Soybean & 3 & tr3     &  44.6\\\\\n\t 2023 & Soybean & 3 & tr3     &  45.0\\\\\n\t 2023 & Soybean & 3 & tr5     &  32.4\\\\\n\t 2023 & Soybean & 4 & tr1     &  20.5\\\\\n\t 2023 & Soybean & 4 & tr2     &  35.2\\\\\n\t 2023 & Soybean & 4 & tr3     &  37.3\\\\\n\t 2023 & Soybean & 4 & tr3     &   9.6\\\\\n\t 2023 & Soybean & 4 & tr5     &  16.8\\\\\n\t 2023 & Soybean & 5 & control & 103.2\\\\\n\t 2023 & Soybean & 6 & control &  60.8\\\\\n\t 2023 & Soybean & 7 & control &  33.0\\\\\n\t 2023 & Soybean & 8 & control &  66.2\\\\\n\\end{tabular}\n",
            "text/plain": [
              "   season crop    plot treatment grain_yield\n",
              "1  2023   Soybean 1    tr1        32.2      \n",
              "2  2023   Soybean 1    tr2         5.0      \n",
              "3  2023   Soybean 1    tr3         4.3      \n",
              "4  2023   Soybean 1    tr3         1.0      \n",
              "5  2023   Soybean 1    tr5         8.7      \n",
              "6  2023   Soybean 2    tr1        25.6      \n",
              "7  2023   Soybean 2    tr2        35.7      \n",
              "8  2023   Soybean 2    tr3        29.2      \n",
              "9  2023   Soybean 2    tr3        39.9      \n",
              "10 2023   Soybean 2    tr5        20.7      \n",
              "11 2023   Soybean 3    tr1        15.5      \n",
              "12 2023   Soybean 3    tr2        23.2      \n",
              "13 2023   Soybean 3    tr3        44.6      \n",
              "14 2023   Soybean 3    tr3        45.0      \n",
              "15 2023   Soybean 3    tr5        32.4      \n",
              "16 2023   Soybean 4    tr1        20.5      \n",
              "17 2023   Soybean 4    tr2        35.2      \n",
              "18 2023   Soybean 4    tr3        37.3      \n",
              "19 2023   Soybean 4    tr3         9.6      \n",
              "20 2023   Soybean 4    tr5        16.8      \n",
              "21 2023   Soybean 5    control   103.2      \n",
              "22 2023   Soybean 6    control    60.8      \n",
              "23 2023   Soybean 7    control    33.0      \n",
              "24 2023   Soybean 8    control    66.2      "
            ]
          },
          "metadata": {}
        }
      ]
    },
    {
      "cell_type": "markdown",
      "source": [
        "# to convert data table to code"
      ],
      "metadata": {
        "id": "nydFYOb7G3wq"
      }
    },
    {
      "cell_type": "code",
      "source": [
        "# using dput()\n",
        "dput(dataA)"
      ],
      "metadata": {
        "colab": {
          "base_uri": "https://localhost:8080/"
        },
        "id": "8kckFIUHGxIE",
        "outputId": "07a7dcb8-d1a5-4480-e47d-5fd1c851f014"
      },
      "execution_count": 15,
      "outputs": [
        {
          "output_type": "stream",
          "name": "stdout",
          "text": [
            "structure(list(season = c(2023, 2023, 2023, 2023, 2023, 2023, \n",
            "2023, 2023, 2023, 2023, 2023, 2023, 2023, 2023, 2023, 2023, 2023, \n",
            "2023, 2023, 2023, 2023, 2023, 2023, 2023), crop = c(\"Soybean\", \n",
            "\"Soybean\", \"Soybean\", \"Soybean\", \"Soybean\", \"Soybean\", \"Soybean\", \n",
            "\"Soybean\", \"Soybean\", \"Soybean\", \"Soybean\", \"Soybean\", \"Soybean\", \n",
            "\"Soybean\", \"Soybean\", \"Soybean\", \"Soybean\", \"Soybean\", \"Soybean\", \n",
            "\"Soybean\", \"Soybean\", \"Soybean\", \"Soybean\", \"Soybean\"), plot = c(1, \n",
            "1, 1, 1, 1, 2, 2, 2, 2, 2, 3, 3, 3, 3, 3, 4, 4, 4, 4, 4, 5, 6, \n",
            "7, 8), treatment = c(\"tr1\", \"tr2\", \"tr3\", \"tr3\", \"tr5\", \"tr1\", \n",
            "\"tr2\", \"tr3\", \"tr3\", \"tr5\", \"tr1\", \"tr2\", \"tr3\", \"tr3\", \"tr5\", \n",
            "\"tr1\", \"tr2\", \"tr3\", \"tr3\", \"tr5\", \"control\", \"control\", \"control\", \n",
            "\"control\"), grain_yield = c(32.2, 5, 4.3, 1, 8.7, 25.6, 35.7, \n",
            "29.2, 39.9, 20.7, 15.5, 23.2, 44.6, 45, 32.4, 20.5, 35.2, 37.3, \n",
            "9.6, 16.8, 103.2, 60.8, 33, 66.2)), class = \"data.frame\", row.names = c(NA, \n",
            "-24L))\n"
          ]
        }
      ]
    },
    {
      "cell_type": "code",
      "source": [
        "# using datapasta()\n",
        "datapasta::df_paste(dataA)"
      ],
      "metadata": {
        "colab": {
          "base_uri": "https://localhost:8080/"
        },
        "id": "DNRiffiAG-g_",
        "outputId": "3cbbc6f8-2a8e-4ac6-8c6b-f6c4d2ad3a75"
      },
      "execution_count": 16,
      "outputs": [
        {
          "output_type": "stream",
          "name": "stdout",
          "text": [
            "data.frame(\n",
            "  stringsAsFactors = FALSE,\n",
            "            season = c(2023,2023,2023,2023,2023,\n",
            "                       2023,2023,2023,2023,2023,2023,2023,2023,2023,2023,\n",
            "                       2023,2023,2023,2023,2023,2023,2023,2023,2023),\n",
            "              crop = c(\"Soybean\",\"Soybean\",\"Soybean\",\n",
            "                       \"Soybean\",\"Soybean\",\"Soybean\",\"Soybean\",\"Soybean\",\n",
            "                       \"Soybean\",\"Soybean\",\"Soybean\",\"Soybean\",\"Soybean\",\n",
            "                       \"Soybean\",\"Soybean\",\"Soybean\",\"Soybean\",\"Soybean\",\n",
            "                       \"Soybean\",\"Soybean\",\"Soybean\",\"Soybean\",\"Soybean\",\n",
            "                       \"Soybean\"),\n",
            "              plot = c(1,1,1,1,1,2,2,2,2,2,3,\n",
            "                       3,3,3,3,4,4,4,4,4,5,6,7,8),\n",
            "         treatment = c(\"tr1\",\"tr2\",\"tr3\",\"tr3\",\n",
            "                       \"tr5\",\"tr1\",\"tr2\",\"tr3\",\"tr3\",\"tr5\",\"tr1\",\"tr2\",\n",
            "                       \"tr3\",\"tr3\",\"tr5\",\"tr1\",\"tr2\",\"tr3\",\"tr3\",\"tr5\",\n",
            "                       \"control\",\"control\",\"control\",\"control\"),\n",
            "       grain_yield = c(32.2,5,4.3,1,8.7,25.6,\n",
            "                       35.7,29.2,39.9,20.7,15.5,23.2,44.6,45,32.4,20.5,\n",
            "                       35.2,37.3,9.6,16.8,103.2,60.8,33,66.2)\n",
            ")"
          ]
        }
      ]
    },
    {
      "cell_type": "code",
      "source": [
        "# using constructive()\n",
        "constructive::construct(dataA)"
      ],
      "metadata": {
        "colab": {
          "base_uri": "https://localhost:8080/",
          "height": 260
        },
        "id": "bVhxBYULHeuM",
        "outputId": "eda8a5a2-5e97-4afd-fe7e-983730248552"
      },
      "execution_count": 17,
      "outputs": [
        {
          "output_type": "display_data",
          "data": {
            "text/plain": [
              "data.frame(\n",
              "  season = rep(2023, 24L),\n",
              "  crop = rep(\"Soybean\", 24L),\n",
              "  plot = rep(seq(1, 8, by = 1), rep(c(5L, 1L), each = 4L)),\n",
              "  treatment = c(\n",
              "    \"tr1\", \"tr2\", \"tr3\", \"tr3\", \"tr5\", \"tr1\", \"tr2\", \"tr3\", \"tr3\", \"tr5\", \"tr1\",\n",
              "    \"tr2\", \"tr3\", \"tr3\", \"tr5\", \"tr1\", \"tr2\", \"tr3\", \"tr3\", \"tr5\", \"control\",\n",
              "    \"control\", \"control\", \"control\"\n",
              "  ),\n",
              "  grain_yield = c(\n",
              "    32.2, 5, 4.3, 1, 8.7, 25.6, 35.7, 29.2, 39.9, 20.7, 15.5, 23.2, 44.6, 45,\n",
              "    32.4, 20.5, 35.2, 37.3, 9.6, 16.8, 103.2, 60.8, 33, 66.2\n",
              "  )\n",
              ")"
            ]
          },
          "metadata": {}
        }
      ]
    }
  ]
}
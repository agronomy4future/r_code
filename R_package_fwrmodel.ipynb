{
  "nbformat": 4,
  "nbformat_minor": 0,
  "metadata": {
    "colab": {
      "provenance": [],
      "authorship_tag": "ABX9TyNiC4mFCgJIMsGstvmtzF/h"
    },
    "kernelspec": {
      "name": "ir",
      "display_name": "R"
    },
    "language_info": {
      "name": "R"
    }
  },
  "cells": [
    {
      "cell_type": "markdown",
      "source": [
        "# □ Installation"
      ],
      "metadata": {
        "id": "ohPj7XbeHL-0"
      }
    },
    {
      "cell_type": "markdown",
      "source": [
        "###Before installing, please download Rtools (https://cran.r-project.org/bin/windows/Rtools)"
      ],
      "metadata": {
        "id": "rbqFvn-VHHOI"
      }
    },
    {
      "cell_type": "code",
      "source": [
        "if(!require(remotes)) install.packages(\"remotes\")\n",
        "remotes::install_github(\"agronomy4future/fwrmodel\")\n",
        "\n",
        "library(remotes)\n",
        "library(fwrmodel)\n"
      ],
      "metadata": {
        "id": "jOkj6iFfG_KS"
      },
      "execution_count": null,
      "outputs": []
    },
    {
      "cell_type": "markdown",
      "source": [
        "# □ Code practice"
      ],
      "metadata": {
        "id": "vcNs3lmEIzig"
      }
    },
    {
      "cell_type": "markdown",
      "source": [
        "## ■ data upload"
      ],
      "metadata": {
        "id": "VV307F4vHvBa"
      }
    },
    {
      "cell_type": "code",
      "execution_count": null,
      "metadata": {
        "id": "Lqa9KSw8G8hf"
      },
      "outputs": [],
      "source": [
        "if(!require(readr)) install.packages(\"readr\")\n",
        "library(readr)\n",
        "github=\"https://raw.githubusercontent.com/agronomy4future/raw_data_practice/main/fwrm_package_data_practice.csv\"\n",
        "df= data.frame(read_csv(url(github), show_col_types=FALSE))"
      ]
    },
    {
      "cell_type": "code",
      "source": [
        "set.seed(100)\n",
        "df[sample(nrow(df),5),]"
      ],
      "metadata": {
        "colab": {
          "base_uri": "https://localhost:8080/",
          "height": 255
        },
        "id": "tJ7H4wK3H5yU",
        "outputId": "b06f4c6d-f61f-4abb-b9c6-7ee3d9451606"
      },
      "execution_count": null,
      "outputs": [
        {
          "output_type": "display_data",
          "data": {
            "text/html": [
              "<table class=\"dataframe\">\n",
              "<caption>A data.frame: 5 × 7</caption>\n",
              "<thead>\n",
              "\t<tr><th></th><th scope=col>year</th><th scope=col>variety</th><th scope=col>nitrogen</th><th scope=col>location</th><th scope=col>AGW</th><th scope=col>KN</th><th scope=col>GY</th></tr>\n",
              "\t<tr><th></th><th scope=col>&lt;dbl&gt;</th><th scope=col>&lt;chr&gt;</th><th scope=col>&lt;chr&gt;</th><th scope=col>&lt;chr&gt;</th><th scope=col>&lt;dbl&gt;</th><th scope=col>&lt;dbl&gt;</th><th scope=col>&lt;dbl&gt;</th></tr>\n",
              "</thead>\n",
              "<tbody>\n",
              "\t<tr><th scope=row>202</th><td>2023</td><td>cv2</td><td>N0</td><td>Nebraska</td><td>318.6</td><td>3764</td><td>11864.8</td></tr>\n",
              "\t<tr><th scope=row>112</th><td>2024</td><td>cv2</td><td>N1</td><td>Iowa    </td><td>313.6</td><td>4570</td><td>14177.8</td></tr>\n",
              "\t<tr><th scope=row>206</th><td>2023</td><td>cv2</td><td>N0</td><td>Nebraska</td><td>338.9</td><td>3764</td><td>12619.8</td></tr>\n",
              "\t<tr><th scope=row>4</th><td>2023</td><td>cv1</td><td>N1</td><td>Iowa    </td><td>311.7</td><td>3476</td><td>10721.4</td></tr>\n",
              "\t<tr><th scope=row>98</th><td>2024</td><td>cv1</td><td>N1</td><td>Iowa    </td><td>263.9</td><td>5618</td><td>14669.2</td></tr>\n",
              "</tbody>\n",
              "</table>\n"
            ],
            "text/markdown": "\nA data.frame: 5 × 7\n\n| <!--/--> | year &lt;dbl&gt; | variety &lt;chr&gt; | nitrogen &lt;chr&gt; | location &lt;chr&gt; | AGW &lt;dbl&gt; | KN &lt;dbl&gt; | GY &lt;dbl&gt; |\n|---|---|---|---|---|---|---|---|\n| 202 | 2023 | cv2 | N0 | Nebraska | 318.6 | 3764 | 11864.8 |\n| 112 | 2024 | cv2 | N1 | Iowa     | 313.6 | 4570 | 14177.8 |\n| 206 | 2023 | cv2 | N0 | Nebraska | 338.9 | 3764 | 12619.8 |\n| 4 | 2023 | cv1 | N1 | Iowa     | 311.7 | 3476 | 10721.4 |\n| 98 | 2024 | cv1 | N1 | Iowa     | 263.9 | 5618 | 14669.2 |\n\n",
            "text/latex": "A data.frame: 5 × 7\n\\begin{tabular}{r|lllllll}\n  & year & variety & nitrogen & location & AGW & KN & GY\\\\\n  & <dbl> & <chr> & <chr> & <chr> & <dbl> & <dbl> & <dbl>\\\\\n\\hline\n\t202 & 2023 & cv2 & N0 & Nebraska & 318.6 & 3764 & 11864.8\\\\\n\t112 & 2024 & cv2 & N1 & Iowa     & 313.6 & 4570 & 14177.8\\\\\n\t206 & 2023 & cv2 & N0 & Nebraska & 338.9 & 3764 & 12619.8\\\\\n\t4 & 2023 & cv1 & N1 & Iowa     & 311.7 & 3476 & 10721.4\\\\\n\t98 & 2024 & cv1 & N1 & Iowa     & 263.9 & 5618 & 14669.2\\\\\n\\end{tabular}\n",
            "text/plain": [
              "    year variety nitrogen location AGW   KN   GY     \n",
              "202 2023 cv2     N0       Nebraska 318.6 3764 11864.8\n",
              "112 2024 cv2     N1       Iowa     313.6 4570 14177.8\n",
              "206 2023 cv2     N0       Nebraska 338.9 3764 12619.8\n",
              "4   2023 cv1     N1       Iowa     311.7 3476 10721.4\n",
              "98  2024 cv1     N1       Iowa     263.9 5618 14669.2"
            ]
          },
          "metadata": {}
        }
      ]
    },
    {
      "cell_type": "markdown",
      "source": [
        "## ■ to calculate environmental index"
      ],
      "metadata": {
        "id": "hkYMCYQtI_2K"
      }
    },
    {
      "cell_type": "code",
      "source": [
        "if(!require(dplyr)) install.packages(\"dplyr\")\n",
        "library(dplyr)\n",
        "\n",
        "stability= fwrmodel(df, env_cols = c(\"year\", \"nitrogen\", \"location\"),\n",
        "                    genotype_col= \"variety\", yield_cols= c(\"AGW\",\"GY\",\"KN\"))"
      ],
      "metadata": {
        "id": "CWL9v6XyIHdp"
      },
      "execution_count": null,
      "outputs": []
    },
    {
      "cell_type": "code",
      "source": [
        "env_index_cal= data.frame(stability$env_index)"
      ],
      "metadata": {
        "id": "JP4suOeNISOF"
      },
      "execution_count": null,
      "outputs": []
    },
    {
      "cell_type": "code",
      "source": [
        "set.seed(100)\n",
        "env_index_cal[sample(nrow(env_index_cal),5),]"
      ],
      "metadata": {
        "colab": {
          "base_uri": "https://localhost:8080/",
          "height": 255
        },
        "id": "aaKB7qUKIVCA",
        "outputId": "7a19ed0e-60fa-4977-f4f9-a5de75d09d8a"
      },
      "execution_count": null,
      "outputs": [
        {
          "output_type": "display_data",
          "data": {
            "text/html": [
              "<table class=\"dataframe\">\n",
              "<caption>A data.frame: 5 × 11</caption>\n",
              "<thead>\n",
              "\t<tr><th></th><th scope=col>variety</th><th scope=col>year</th><th scope=col>nitrogen</th><th scope=col>location</th><th scope=col>Environments</th><th scope=col>Env_index_AGW</th><th scope=col>AGW</th><th scope=col>Env_index_GY</th><th scope=col>GY</th><th scope=col>Env_index_KN</th><th scope=col>KN</th></tr>\n",
              "\t<tr><th></th><th scope=col>&lt;fct&gt;</th><th scope=col>&lt;dbl&gt;</th><th scope=col>&lt;chr&gt;</th><th scope=col>&lt;chr&gt;</th><th scope=col>&lt;chr&gt;</th><th scope=col>&lt;dbl&gt;</th><th scope=col>&lt;dbl&gt;</th><th scope=col>&lt;dbl&gt;</th><th scope=col>&lt;dbl&gt;</th><th scope=col>&lt;dbl&gt;</th><th scope=col>&lt;dbl&gt;</th></tr>\n",
              "</thead>\n",
              "<tbody>\n",
              "\t<tr><th scope=row>20170</th><td>cv2</td><td>2023</td><td>N0</td><td>Nebraska</td><td>2023_N0_Nebraska</td><td>  3.443333</td><td>318.6</td><td> -435.7763</td><td>11810.8</td><td>-214.5600</td><td>3488</td></tr>\n",
              "\t<tr><th scope=row>16887</th><td>cv1</td><td>2023</td><td>N0</td><td>Illinois</td><td>2023_N0_Illinois</td><td> -1.523333</td><td>307.0</td><td>-2300.4197</td><td> 8130.4</td><td>-786.9267</td><td>2742</td></tr>\n",
              "\t<tr><th scope=row>3430</th><td>cv2</td><td>2023</td><td>N1</td><td>Iowa    </td><td>2023_N1_Iowa    </td><td>-22.023333</td><td>337.4</td><td> -202.7063</td><td>11931.9</td><td> 195.4400</td><td>3721</td></tr>\n",
              "\t<tr><th scope=row>3696</th><td>cv2</td><td>2023</td><td>N1</td><td>Iowa    </td><td>2023_N1_Iowa    </td><td>-22.023333</td><td>289.0</td><td> -202.7063</td><td>10474.6</td><td> 195.4400</td><td>3411</td></tr>\n",
              "\t<tr><th scope=row>20474</th><td>cv2</td><td>2023</td><td>N0</td><td>Nebraska</td><td>2023_N0_Nebraska</td><td>  3.443333</td><td>348.8</td><td> -435.7763</td><td>10947.9</td><td>-214.5600</td><td>3672</td></tr>\n",
              "</tbody>\n",
              "</table>\n"
            ],
            "text/markdown": "\nA data.frame: 5 × 11\n\n| <!--/--> | variety &lt;fct&gt; | year &lt;dbl&gt; | nitrogen &lt;chr&gt; | location &lt;chr&gt; | Environments &lt;chr&gt; | Env_index_AGW &lt;dbl&gt; | AGW &lt;dbl&gt; | Env_index_GY &lt;dbl&gt; | GY &lt;dbl&gt; | Env_index_KN &lt;dbl&gt; | KN &lt;dbl&gt; |\n|---|---|---|---|---|---|---|---|---|---|---|---|\n| 20170 | cv2 | 2023 | N0 | Nebraska | 2023_N0_Nebraska |   3.443333 | 318.6 |  -435.7763 | 11810.8 | -214.5600 | 3488 |\n| 16887 | cv1 | 2023 | N0 | Illinois | 2023_N0_Illinois |  -1.523333 | 307.0 | -2300.4197 |  8130.4 | -786.9267 | 2742 |\n| 3430 | cv2 | 2023 | N1 | Iowa     | 2023_N1_Iowa     | -22.023333 | 337.4 |  -202.7063 | 11931.9 |  195.4400 | 3721 |\n| 3696 | cv2 | 2023 | N1 | Iowa     | 2023_N1_Iowa     | -22.023333 | 289.0 |  -202.7063 | 10474.6 |  195.4400 | 3411 |\n| 20474 | cv2 | 2023 | N0 | Nebraska | 2023_N0_Nebraska |   3.443333 | 348.8 |  -435.7763 | 10947.9 | -214.5600 | 3672 |\n\n",
            "text/latex": "A data.frame: 5 × 11\n\\begin{tabular}{r|lllllllllll}\n  & variety & year & nitrogen & location & Environments & Env\\_index\\_AGW & AGW & Env\\_index\\_GY & GY & Env\\_index\\_KN & KN\\\\\n  & <fct> & <dbl> & <chr> & <chr> & <chr> & <dbl> & <dbl> & <dbl> & <dbl> & <dbl> & <dbl>\\\\\n\\hline\n\t20170 & cv2 & 2023 & N0 & Nebraska & 2023\\_N0\\_Nebraska &   3.443333 & 318.6 &  -435.7763 & 11810.8 & -214.5600 & 3488\\\\\n\t16887 & cv1 & 2023 & N0 & Illinois & 2023\\_N0\\_Illinois &  -1.523333 & 307.0 & -2300.4197 &  8130.4 & -786.9267 & 2742\\\\\n\t3430 & cv2 & 2023 & N1 & Iowa     & 2023\\_N1\\_Iowa     & -22.023333 & 337.4 &  -202.7063 & 11931.9 &  195.4400 & 3721\\\\\n\t3696 & cv2 & 2023 & N1 & Iowa     & 2023\\_N1\\_Iowa     & -22.023333 & 289.0 &  -202.7063 & 10474.6 &  195.4400 & 3411\\\\\n\t20474 & cv2 & 2023 & N0 & Nebraska & 2023\\_N0\\_Nebraska &   3.443333 & 348.8 &  -435.7763 & 10947.9 & -214.5600 & 3672\\\\\n\\end{tabular}\n",
            "text/plain": [
              "      variety year nitrogen location Environments     Env_index_AGW AGW  \n",
              "20170 cv2     2023 N0       Nebraska 2023_N0_Nebraska   3.443333    318.6\n",
              "16887 cv1     2023 N0       Illinois 2023_N0_Illinois  -1.523333    307.0\n",
              "3430  cv2     2023 N1       Iowa     2023_N1_Iowa     -22.023333    337.4\n",
              "3696  cv2     2023 N1       Iowa     2023_N1_Iowa     -22.023333    289.0\n",
              "20474 cv2     2023 N0       Nebraska 2023_N0_Nebraska   3.443333    348.8\n",
              "      Env_index_GY GY      Env_index_KN KN  \n",
              "20170  -435.7763   11810.8 -214.5600    3488\n",
              "16887 -2300.4197    8130.4 -786.9267    2742\n",
              "3430   -202.7063   11931.9  195.4400    3721\n",
              "3696   -202.7063   10474.6  195.4400    3411\n",
              "20474  -435.7763   10947.9 -214.5600    3672"
            ]
          },
          "metadata": {}
        }
      ]
    },
    {
      "cell_type": "markdown",
      "source": [
        "## ■ to obtain stability (slope)"
      ],
      "metadata": {
        "id": "B9mUq7W2JPYt"
      }
    },
    {
      "cell_type": "code",
      "source": [
        "coefficient_AGW= as.data.frame(stability$regression$AGW)\n",
        "coefficient_KN= as.data.frame(stability$regression$KN)\n",
        "coefficient_GY= as.data.frame(stability$regression$GY)"
      ],
      "metadata": {
        "id": "WPz65l57IYt0"
      },
      "execution_count": null,
      "outputs": []
    },
    {
      "cell_type": "code",
      "source": [
        "print(coefficient_AGW)"
      ],
      "metadata": {
        "colab": {
          "base_uri": "https://localhost:8080/"
        },
        "id": "MHxiN13nIaLG",
        "outputId": "4f8d6bc8-0919-4592-f1f3-3015dcd2031e"
      },
      "execution_count": null,
      "outputs": [
        {
          "output_type": "stream",
          "name": "stdout",
          "text": [
            "  variety          term    estimate  std.error  statistic       p.value\n",
            "1     cv1   (Intercept) 297.9520000 3.95194803  75.393704  1.368777e-88\n",
            "2     cv1 Env_index_AGW   0.7523172 0.14292608   5.263681  8.336224e-07\n",
            "3     cv2   (Intercept) 318.8220000 2.58702388 123.238909 2.795793e-109\n",
            "4     cv2 Env_index_AGW   0.8862399 0.09356226   9.472194  1.693111e-15\n",
            "5     cv3   (Intercept) 312.6860000 2.64794053 118.086489 1.787034e-107\n",
            "6     cv3 Env_index_AGW   1.3614429 0.09576537  14.216443  1.487695e-25\n"
          ]
        }
      ]
    },
    {
      "cell_type": "code",
      "source": [
        "print(coefficient_KN)"
      ],
      "metadata": {
        "colab": {
          "base_uri": "https://localhost:8080/"
        },
        "id": "5vsbpRYRInKk",
        "outputId": "56805d28-fa5c-4850-cd00-c7027d0592ce"
      },
      "execution_count": null,
      "outputs": [
        {
          "output_type": "stream",
          "name": "stdout",
          "text": [
            "  variety         term    estimate   std.error statistic       p.value\n",
            "1     cv1  (Intercept) 3886.440000 54.15190342  71.76922  1.571373e-86\n",
            "2     cv1 Env_index_KN    1.252482  0.09129200  13.71952  1.532468e-24\n",
            "3     cv2  (Intercept) 3847.780000 38.71344953  99.39130 3.366570e-100\n",
            "4     cv2 Env_index_KN    0.670105  0.06526508  10.26744  3.182503e-17\n",
            "5     cv3  (Intercept) 3949.160000 47.92702650  82.39944  2.587083e-92\n",
            "6     cv3 Env_index_KN    1.077413  0.08079779  13.33468  9.507932e-24\n"
          ]
        }
      ]
    },
    {
      "cell_type": "code",
      "source": [
        "print(coefficient_GY)"
      ],
      "metadata": {
        "colab": {
          "base_uri": "https://localhost:8080/"
        },
        "id": "FSK2iRfnIuEG",
        "outputId": "4a01f609-cf50-4166-afd8-99b1195e713d"
      },
      "execution_count": null,
      "outputs": [
        {
          "output_type": "stream",
          "name": "stdout",
          "text": [
            "  variety         term     estimate    std.error statistic      p.value\n",
            "1     cv1  (Intercept) 1.127686e+04 199.43229504 56.544789 1.272863e-76\n",
            "2     cv1 Env_index_GY 1.180212e+00   0.14100362  8.370084 4.091457e-13\n",
            "3     cv2  (Intercept) 1.206273e+04 132.41036300 91.101072 1.565612e-96\n",
            "4     cv2 Env_index_GY 8.079266e-01   0.09361744  8.630086 1.127478e-13\n",
            "5     cv3  (Intercept) 1.199685e+04 133.07776819 90.149137 4.330441e-96\n",
            "6     cv3 Env_index_GY 1.011861e+00   0.09408931 10.754264 2.812580e-18\n"
          ]
        }
      ]
    },
    {
      "cell_type": "markdown",
      "source": [
        "# □ to visualize data (grain weight)"
      ],
      "metadata": {
        "id": "9bYhWoUwJrzT"
      }
    },
    {
      "cell_type": "code",
      "source": [
        "if(!require(ggplot2)) install.packages(\"ggplot2\")\n",
        "library(ggplot2)\n",
        "\n",
        "data_summary = data.frame(env_index_cal %>%\n",
        "                           group_by(Environments, variety) %>%\n",
        "                           dplyr::summarize(across(c(AGW, Env_index_AGW),\n",
        "                                                   .fns = list(Mean = mean,\n",
        "                                                               n = length)),\n",
        "                           .groups = \"drop\"))\n",
        "\n",
        "ggplot(data=data_summary, aes(x=Env_index_AGW_Mean, y=AGW_Mean))+\n",
        "  geom_smooth(aes(group=variety, color=variety), method='lm', linetype=1, se=FALSE,\n",
        "              formula=y~x, linewidth=0.5)+\n",
        "  geom_point(aes(fill=variety, shape=variety), color=\"black\", size=4)+\n",
        "  scale_color_manual(values=c(\"grey15\",\"grey35\",\"grey75\"))+\n",
        "  scale_fill_manual(values=c(\"grey15\",\"grey35\",\"grey75\"))+\n",
        "  scale_shape_manual(values=c(21,22,23))+\n",
        "  scale_x_continuous(breaks=seq(-50,50,25), limits=c(-50,50))+\n",
        "  scale_y_continuous(breaks=seq(200,400,50), limits=c(200,400))+\n",
        "  labs(x=\"Environmental_Index\", y=\"Average grain weight (mg)\") +\n",
        "  theme_classic(base_size=20, base_family=\"serif\")+\n",
        "  theme(legend.position=c(0.89,0.13),\n",
        "        legend.title=element_blank(),\n",
        "        legend.key=element_rect(color=alpha(\"white\",.001),\n",
        "                                fill=alpha(\"white\",.001)),\n",
        "        legend.background=element_rect(fill=alpha(\"white\",.001)),\n",
        "        panel.grid.major= element_line(color=\"grey90\", linetype=\"dashed\"),\n",
        "        axis.line=element_line(linewidth=0.5, colour=\"black\"))"
      ],
      "metadata": {
        "colab": {
          "base_uri": "https://localhost:8080/",
          "height": 437
        },
        "id": "lxstySfqJfJ5",
        "outputId": "33b17cb5-522a-4804-f6eb-66ca35a775af"
      },
      "execution_count": null,
      "outputs": [
        {
          "output_type": "display_data",
          "data": {
            "text/plain": [
              "plot without title"
            ],
            "image/png": "[encoded data removed]"
          },
          "metadata": {
            "image/png": {
              "width": 420,
              "height": 420
            }
          }
        }
      ]
    }
  ]
}
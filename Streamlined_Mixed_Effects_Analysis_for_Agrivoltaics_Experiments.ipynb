{
  "nbformat": 4,
  "nbformat_minor": 0,
  "metadata": {
    "colab": {
      "provenance": [],
      "authorship_tag": "ABX9TyM5XO3GBjTT0v4WdAYr00gX"
    },
    "kernelspec": {
      "name": "ir",
      "display_name": "R"
    },
    "language_info": {
      "name": "R"
    }
  },
  "cells": [
    {
      "cell_type": "code",
      "source": [
        "if(!require(lme4)) install.packages(\"lme4\")\n",
        "if(!require(lmerTest)) install.packages(\"lmerTest\")\n",
        "if(!require(emmeans)) install.packages(\"emmeans\")\n",
        "if(!require(pbkrtest)) install.packages(\"pbkrtest\")\n",
        "if(!require(multcompView)) install.packages(\"multcompView\")\n",
        "if(!require(multcomp)) install.packages(\"multcomp\")\n",
        "library(lme4)\n",
        "library(lmerTest)\n",
        "library(emmeans)\n",
        "library(pbkrtest)\n",
        "library(multcompView)\n",
        "library(multcomp)"
      ],
      "metadata": {
        "id": "HRwI98UyJROT"
      },
      "execution_count": null,
      "outputs": []
    },
    {
      "cell_type": "code",
      "source": [
        "if(!require(remotes)) install.packages(\"remotes\")\n",
        "library(remotes)\n",
        "if (!requireNamespace(\"agrivoltaics\", quietly = TRUE)) {\n",
        "  remotes::install_github(\"agronomy4future/agrivoltaics\", force= TRUE)\n",
        "}\n",
        "library(agrivoltaics)"
      ],
      "metadata": {
        "id": "AroPEuDcD3zr"
      },
      "execution_count": 22,
      "outputs": []
    },
    {
      "cell_type": "code",
      "execution_count": 23,
      "metadata": {
        "colab": {
          "base_uri": "https://localhost:8080/"
        },
        "id": "44m3fel1DNpr",
        "outputId": "e4ddb9c9-5d84-45fc-c8b8-e7aaa6990570"
      },
      "outputs": [
        {
          "output_type": "stream",
          "name": "stderr",
          "text": [
            "Warning message:\n",
            "“NAs introduced by coercion”\n"
          ]
        },
        {
          "output_type": "stream",
          "name": "stdout",
          "text": [
            "         Season Location AV_Site Genotype Plot Block  Row  Yield\n",
            "202 2015 season     East      AV      cv1  101     I East 195.38\n",
            "112 2016 season  MidWest Control      cv1  115    IV East 625.07\n",
            "206 2015 season     East      AV      cv2  102    II East 135.86\n",
            "4   2015 season  MidWest Control      cv1  109     I West 384.36\n",
            "311 2016 season     East      AV      cv1  107   III East 125.11\n"
          ]
        }
      ],
      "source": [
        "if(!require(readr)) install.packages(\"readr\")\n",
        "library(readr)\n",
        "github=\"https://raw.githubusercontent.com/agronomy4future/raw_data_practice/refs/heads/main/agrivoltaics.csv\"\n",
        "df= data.frame(read_csv(url(github), show_col_types=FALSE))\n",
        "df$Plot= as.factor(df$Plot)\n",
        "df$Yield= as.numeric (df$Yield)\n",
        "set.seed(100)\n",
        "print(df[sample(nrow(df),5),])"
      ]
    },
    {
      "cell_type": "markdown",
      "source": [
        "# 1) Single crop (only 1 cultivar) with a single row"
      ],
      "metadata": {
        "id": "G-uT8JA9VPB3"
      }
    },
    {
      "cell_type": "code",
      "source": [
        "model= agrivoltaics(\n",
        "  output= Yield,\n",
        "  treatment= AV_Site,\n",
        "  genotype= NULL,\n",
        "  plot= NULL,\n",
        "  block= Block,\n",
        "  row= NULL,\n",
        "  season= NULL,\n",
        "  location= NULL,\n",
        "  data= df\n",
        ")"
      ],
      "metadata": {
        "colab": {
          "base_uri": "https://localhost:8080/"
        },
        "id": "73ew5wslLNJL",
        "outputId": "e916d545-ad73-4139-a19c-a0762adb5fd7"
      },
      "execution_count": 24,
      "outputs": [
        {
          "output_type": "stream",
          "name": "stdout",
          "text": [
            "\n",
            " MODEL FORMULA USED:\n",
            "Yield ~ AV_Site + (1 | AV_Site:Block) \n",
            "\n",
            "\n",
            " VARIANCE COMPONENTS:\n",
            " Groups        Name        Variance\n",
            " AV_Site:Block (Intercept)  113.57 \n",
            " Residual                  8086.79 \n",
            "\n",
            " VARIANCE COMPONENT BREAKDOWN (%):\n",
            "Random [AV_Site:Block]: 1.38%\n",
            "Residual: 98.62%\n",
            "\n",
            " TYPE III ANOVA:\n",
            "Type III Analysis of Variance Table with Satterthwaite's method\n",
            "         Sum Sq Mean Sq NumDF DenDF F value    Pr(>F)    \n",
            "AV_Site 5311986 5311986     1 5.972  656.87 2.455e-07 ***\n",
            "---\n",
            "Signif. codes:  0 ‘***’ 0.001 ‘**’ 0.01 ‘*’ 0.05 ‘.’ 0.1 ‘ ’ 1\n"
          ]
        }
      ]
    },
    {
      "cell_type": "code",
      "source": [
        "post_hoc= cld (emmeans(model, ~ AV_Site), adjust= \"sidak\", Letters=letters, reverse= TRUE)\n",
        "print(post_hoc)"
      ],
      "metadata": {
        "colab": {
          "base_uri": "https://localhost:8080/"
        },
        "id": "91V5gK_8Lfw1",
        "outputId": "82899a1a-b74e-4c4d-81c7-ff9597779ac6"
      },
      "execution_count": 25,
      "outputs": [
        {
          "output_type": "stream",
          "name": "stdout",
          "text": [
            " AV_Site emmean   SE   df lower.CL upper.CL .group\n",
            " Control    475 8.90 6.02      448      501  a    \n",
            " AV         152 8.88 5.98      126      179   b   \n",
            "\n",
            "Degrees-of-freedom method: kenward-roger \n",
            "Confidence level used: 0.95 \n",
            "Conf-level adjustment: sidak method for 2 estimates \n",
            "significance level used: alpha = 0.05 \n",
            "NOTE: If two or more means share the same grouping symbol,\n",
            "      then we cannot show them to be different.\n",
            "      But we also did not show them to be the same. \n"
          ]
        }
      ]
    },
    {
      "cell_type": "code",
      "source": [
        "pairwise= contrast(emmeans(model, ~ AV_Site), method= \"pairwise\", adjust= \"sidak\")\n",
        "print(summary(pairwise))"
      ],
      "metadata": {
        "colab": {
          "base_uri": "https://localhost:8080/"
        },
        "id": "VfiXtrmbLS1z",
        "outputId": "01a3c418-b0e1-43b8-bec3-fd2f52f58166"
      },
      "execution_count": 26,
      "outputs": [
        {
          "output_type": "stream",
          "name": "stdout",
          "text": [
            " contrast     estimate   SE df t.ratio p.value\n",
            " AV - Control     -322 12.6  6 -25.629  <.0001\n",
            "\n",
            "Degrees-of-freedom method: kenward-roger \n"
          ]
        }
      ]
    },
    {
      "cell_type": "markdown",
      "source": [
        "# 2) Single crop (only 1 cultivar) with multiple rows"
      ],
      "metadata": {
        "id": "SxAetlC2XDxB"
      }
    },
    {
      "cell_type": "code",
      "source": [
        "model= agrivoltaics(\n",
        "  output= Yield,\n",
        "  treatment= AV_Site,\n",
        "  genotype= NULL,\n",
        "  plot= NULL,\n",
        "  block= Block,\n",
        "  row= Row,\n",
        "  season= NULL,\n",
        "  location= NULL,\n",
        "  data= df\n",
        ")"
      ],
      "metadata": {
        "colab": {
          "base_uri": "https://localhost:8080/"
        },
        "id": "vicVEs7AXKUw",
        "outputId": "84f9217c-175d-4bc8-a4d4-ed970fbae1cf"
      },
      "execution_count": 27,
      "outputs": [
        {
          "output_type": "stream",
          "name": "stdout",
          "text": [
            "\n",
            " MODEL FORMULA USED:\n",
            "Yield ~ AV_Site + Row + AV_Site:Row + (1 | AV_Site:Block) + (1 |      Block:Row) \n",
            "\n",
            "\n",
            " VARIANCE COMPONENTS:\n",
            " Groups        Name        Variance\n",
            " Block:Row     (Intercept)  228.72 \n",
            " AV_Site:Block (Intercept)  103.48 \n",
            " Residual                  6525.07 \n",
            "\n",
            " VARIANCE COMPONENT BREAKDOWN (%):\n",
            "Random [Block:Row]: 3.34%\n",
            "Random [AV_Site:Block]: 1.51%\n",
            "Residual: 95.16%\n",
            "\n",
            " TYPE III ANOVA:\n",
            "Type III Analysis of Variance Table with Satterthwaite's method\n",
            "             Sum Sq Mean Sq NumDF   DenDF  F value    Pr(>F)    \n",
            "AV_Site     4187365 4187365     1   4.851 641.7345 2.422e-06 ***\n",
            "Row           87937   43969     2   7.812   6.7384   0.01992 *  \n",
            "AV_Site:Row  304664  152332     2 300.813  23.3456 3.758e-10 ***\n",
            "---\n",
            "Signif. codes:  0 ‘***’ 0.001 ‘**’ 0.01 ‘*’ 0.05 ‘.’ 0.1 ‘ ’ 1\n"
          ]
        }
      ]
    },
    {
      "cell_type": "code",
      "source": [
        "post_hoc= cld (emmeans(model, ~ AV_Site:Row), adjust= \"sidak\", Letters=letters, reverse= TRUE)\n",
        "print(post_hoc)"
      ],
      "metadata": {
        "colab": {
          "base_uri": "https://localhost:8080/"
        },
        "id": "wG_15yied2mW",
        "outputId": "3d612cde-ccf1-4c73-f3e4-9ac4d88ba786"
      },
      "execution_count": 28,
      "outputs": [
        {
          "output_type": "stream",
          "name": "stdout",
          "text": [
            " AV_Site Row    emmean   SE   df lower.CL upper.CL .group\n",
            " Control East      524 13.7 14.7      483      566  a    \n",
            " Control West      471 13.6 14.4      429      512  a    \n",
            " Control Middle    385 16.9 34.0      338      433   b   \n",
            " AV      Middle    184 16.9 34.0      136      231    c  \n",
            " AV      East      157 13.6 14.4      116      199    c  \n",
            " AV      West      131 13.6 14.4       90      173    c  \n",
            "\n",
            "Degrees-of-freedom method: kenward-roger \n",
            "Confidence level used: 0.95 \n",
            "Conf-level adjustment: sidak method for 6 estimates \n",
            "P value adjustment: sidak method for 15 tests \n",
            "significance level used: alpha = 0.05 \n",
            "NOTE: If two or more means share the same grouping symbol,\n",
            "      then we cannot show them to be different.\n",
            "      But we also did not show them to be the same. \n"
          ]
        }
      ]
    },
    {
      "cell_type": "code",
      "source": [
        "pairwise= contrast(emmeans(model, ~ AV_Site:Row), method= \"pairwise\", adjust= \"sidak\")\n",
        "print(summary(pairwise))"
      ],
      "metadata": {
        "colab": {
          "base_uri": "https://localhost:8080/"
        },
        "id": "m-eXamajd8jq",
        "outputId": "1a2cea5c-d977-4a21-ad87-c331df578dbc"
      },
      "execution_count": 29,
      "outputs": [
        {
          "output_type": "stream",
          "name": "stdout",
          "text": [
            " contrast                      estimate   SE   df t.ratio p.value\n",
            " AV East - Control East          -366.6 16.0 14.3 -22.851  <.0001\n",
            " AV East - AV Middle              -26.2 20.5 21.7  -1.280  0.9731\n",
            " AV East - Control Middle        -227.8 21.7 23.3 -10.485  <.0001\n",
            " AV East - AV West                 26.0 17.8 12.6   1.459  0.9376\n",
            " AV East - Control West          -313.2 19.2 14.4 -16.283  <.0001\n",
            " Control East - AV Middle         340.3 21.8 23.5  15.638  <.0001\n",
            " Control East - Control Middle    138.8 20.5 21.9   6.756  <.0001\n",
            " Control East - AV West           392.6 19.3 14.6  20.364  <.0001\n",
            " Control East - Control West       53.3 17.9 12.7   2.983  0.1502\n",
            " AV Middle - Control Middle      -201.6 21.4 42.5  -9.402  <.0001\n",
            " AV Middle - AV West               52.3 20.5 21.7   2.550  0.2428\n",
            " AV Middle - Control West        -287.0 21.7 23.3 -13.210  <.0001\n",
            " Control Middle - AV West         253.8 21.7 23.3  11.684  <.0001\n",
            " Control Middle - Control West    -85.4 20.5 21.7  -4.167  0.0061\n",
            " AV West - Control West          -339.3 16.0 14.1 -21.218  <.0001\n",
            "\n",
            "Degrees-of-freedom method: kenward-roger \n",
            "P value adjustment: sidak method for 15 tests \n"
          ]
        }
      ]
    },
    {
      "cell_type": "markdown",
      "source": [
        "# 3) Single crop (only 1 cultivar) with a single row in different seasons"
      ],
      "metadata": {
        "id": "5RY5KDM2f0N-"
      }
    },
    {
      "cell_type": "code",
      "source": [
        "model= agrivoltaics(\n",
        "  output= Yield,\n",
        "  treatment= AV_Site,\n",
        "  genotype= NULL,\n",
        "  plot= NULL,\n",
        "  block= Block,\n",
        "  row= NULL,\n",
        "  season= Season,\n",
        "  location= NULL,\n",
        "  data= df\n",
        ")"
      ],
      "metadata": {
        "colab": {
          "base_uri": "https://localhost:8080/"
        },
        "id": "4j9fYGi9f4rC",
        "outputId": "fd349d52-fd0c-4b84-e679-965579a19637"
      },
      "execution_count": 30,
      "outputs": [
        {
          "output_type": "stream",
          "name": "stdout",
          "text": [
            "\n",
            " MODEL FORMULA USED:\n",
            "Yield ~ AV_Site + Season + AV_Site:Season + (1 | AV_Site:Block) +      (1 | Block:Season) \n",
            "\n",
            "\n",
            " VARIANCE COMPONENTS:\n",
            " Groups        Name        Variance\n",
            " AV_Site:Block (Intercept)   79.198\n",
            " Block:Season  (Intercept)  186.689\n",
            " Residual                  6384.063\n",
            "\n",
            " VARIANCE COMPONENT BREAKDOWN (%):\n",
            "Random [AV_Site:Block]: 1.19%\n",
            "Random [Block:Season]: 2.81%\n",
            "Residual: 96%\n",
            "\n",
            " TYPE III ANOVA:\n",
            "Type III Analysis of Variance Table with Satterthwaite's method\n",
            "                Sum Sq Mean Sq NumDF   DenDF F value    Pr(>F)    \n",
            "AV_Site        5531194 5531194     1   4.048 866.407 7.103e-06 ***\n",
            "Season          180918  180918     1   4.990  28.339  0.003149 ** \n",
            "AV_Site:Season  126660  126660     1 305.787  19.840 1.182e-05 ***\n",
            "---\n",
            "Signif. codes:  0 ‘***’ 0.001 ‘**’ 0.01 ‘*’ 0.05 ‘.’ 0.1 ‘ ’ 1\n"
          ]
        }
      ]
    },
    {
      "cell_type": "code",
      "source": [
        "post_hoc= cld (emmeans(model, ~ AV_Site:Season), adjust= \"sidak\", Letters=letters, reverse= TRUE)\n",
        "print(post_hoc)"
      ],
      "metadata": {
        "colab": {
          "base_uri": "https://localhost:8080/"
        },
        "id": "7oTnS1RigFSF",
        "outputId": "267cb7b6-0f6a-4a7a-a207-7c8080fe5d3e"
      },
      "execution_count": 31,
      "outputs": [
        {
          "output_type": "stream",
          "name": "stdout",
          "text": [
            " AV_Site Season      emmean   SE   df lower.CL upper.CL .group\n",
            " Control 2016 season    529 12.1 11.4      494      565  a    \n",
            " Control 2015 season    419 12.1 11.6      384      455   b   \n",
            " AV      2016 season    167 12.1 11.4      132      203    c  \n",
            " AV      2015 season    137 12.1 11.4      102      173    c  \n",
            "\n",
            "Degrees-of-freedom method: kenward-roger \n",
            "Confidence level used: 0.95 \n",
            "Conf-level adjustment: sidak method for 4 estimates \n",
            "P value adjustment: sidak method for 6 tests \n",
            "significance level used: alpha = 0.05 \n",
            "NOTE: If two or more means share the same grouping symbol,\n",
            "      then we cannot show them to be different.\n",
            "      But we also did not show them to be the same. \n"
          ]
        }
      ]
    },
    {
      "cell_type": "code",
      "source": [
        "pairwise= contrast(emmeans(model, ~ AV_Site:Season), method= \"pairwise\", adjust= \"sidak\")\n",
        "print(summary(pairwise))"
      ],
      "metadata": {
        "colab": {
          "base_uri": "https://localhost:8080/"
        },
        "id": "6o65-8v-gNRb",
        "outputId": "4690b2a5-3d10-4c89-cc6e-deb44e63df3d"
      },
      "execution_count": 32,
      "outputs": [
        {
          "output_type": "stream",
          "name": "stdout",
          "text": [
            " contrast                                  estimate   SE    df t.ratio p.value\n",
            " AV 2015 season - Control 2015 season        -282.1 14.2  9.92 -19.937  <.0001\n",
            " AV 2015 season - AV 2016 season              -30.2 15.9  9.55  -1.902  0.4237\n",
            " AV 2015 season - Control 2016 season        -392.1 17.1 11.44 -22.923  <.0001\n",
            " Control 2015 season - AV 2016 season         251.9 17.1 11.51  14.700  <.0001\n",
            " Control 2015 season - Control 2016 season   -110.0 15.9  9.62  -6.899  0.0003\n",
            " AV 2016 season - Control 2016 season        -361.8 14.1  9.82 -25.637  <.0001\n",
            "\n",
            "Degrees-of-freedom method: kenward-roger \n",
            "P value adjustment: sidak method for 6 tests \n"
          ]
        }
      ]
    },
    {
      "cell_type": "markdown",
      "source": [
        "# 4) Single crop (only 1 cultivar) with multiple rows in different seasons"
      ],
      "metadata": {
        "id": "WAgVA_2Qggn_"
      }
    },
    {
      "cell_type": "code",
      "source": [
        "model= agrivoltaics(\n",
        "  output= Yield,\n",
        "  treatment= AV_Site,\n",
        "  genotype= NULL,\n",
        "  plot= NULL,\n",
        "  block= Block,\n",
        "  row= Row,\n",
        "  season= Season,\n",
        "  location= NULL,\n",
        "  data= df\n",
        ")"
      ],
      "metadata": {
        "colab": {
          "base_uri": "https://localhost:8080/"
        },
        "id": "r1bZ_Uyugj8k",
        "outputId": "1358c2fb-b384-47ce-a62a-a6eb30c76cb5"
      },
      "execution_count": 13,
      "outputs": [
        {
          "output_type": "stream",
          "name": "stdout",
          "text": [
            "\n",
            " MODEL FORMULA USED:\n",
            "Yield ~ AV_Site + Season + Row + AV_Site:Row + AV_Site:Season +      AV_Site:Season:Row + (1 | AV_Site:Block) + (1 | Block:Season) +      (1 | Block:Row) \n",
            "\n",
            "\n",
            " VARIANCE COMPONENTS:\n",
            " Groups        Name        Variance\n",
            " Block:Row     (Intercept)  288.37 \n",
            " Block:Season  (Intercept)  201.88 \n",
            " AV_Site:Block (Intercept)  116.12 \n",
            " Residual                  4794.84 \n",
            "\n",
            " VARIANCE COMPONENT BREAKDOWN (%):\n",
            "Random [Block:Row]: 5.34%\n",
            "Random [Block:Season]: 3.74%\n",
            "Random [AV_Site:Block]: 2.15%\n",
            "Residual: 88.77%\n",
            "\n",
            " TYPE III ANOVA:\n",
            "Type III Analysis of Variance Table with Satterthwaite's method\n",
            "                    Sum Sq Mean Sq NumDF   DenDF  F value    Pr(>F)    \n",
            "AV_Site            2705378 2705378     1   7.986 564.2265 1.075e-08 ***\n",
            "Season              135148  135148     1   4.803  28.1862 0.0035706 ** \n",
            "Row                  64544   32272     2   7.385   6.7306 0.0216731 *  \n",
            "AV_Site:Row         117245   58623     2 290.935  12.2262 7.973e-06 ***\n",
            "AV_Site:Season       60494   60494     1 290.968  12.6164 0.0004459 ***\n",
            "AV_Site:Season:Row    6754    1688     4 290.911   0.3521 0.8424583    \n",
            "---\n",
            "Signif. codes:  0 ‘***’ 0.001 ‘**’ 0.01 ‘*’ 0.05 ‘.’ 0.1 ‘ ’ 1\n"
          ]
        }
      ]
    },
    {
      "cell_type": "code",
      "source": [
        "post_hoc= cld (emmeans(model, ~ AV_Site:Row), adjust= \"sidak\", Letters=letters, reverse= TRUE)\n",
        "print(post_hoc)"
      ],
      "metadata": {
        "colab": {
          "base_uri": "https://localhost:8080/"
        },
        "id": "if5YfTGHgrTf",
        "outputId": "53460f2f-75f2-4d5e-e97f-58f30ebd1919"
      },
      "execution_count": 14,
      "outputs": [
        {
          "output_type": "stream",
          "name": "stderr",
          "text": [
            "NOTE: Results may be misleading due to involvement in interactions\n",
            "\n"
          ]
        },
        {
          "output_type": "stream",
          "name": "stdout",
          "text": [
            " AV_Site Row    emmean   SE   df lower.CL upper.CL .group\n",
            " Control East      523 14.2 14.0    479.4      567  a    \n",
            " Control West      471 14.2 13.8    427.2      514  a    \n",
            " Control Middle    385 16.6 25.8    337.9      433   b   \n",
            " AV      Middle    184 16.6 25.8    136.4      231    c  \n",
            " AV      East      157 14.2 13.8    114.0      201    c  \n",
            " AV      West      131 14.2 13.8     87.9      175    c  \n",
            "\n",
            "Results are averaged over the levels of: Season \n",
            "Degrees-of-freedom method: kenward-roger \n",
            "Confidence level used: 0.95 \n",
            "Conf-level adjustment: sidak method for 6 estimates \n",
            "P value adjustment: sidak method for 15 tests \n",
            "significance level used: alpha = 0.05 \n",
            "NOTE: If two or more means share the same grouping symbol,\n",
            "      then we cannot show them to be different.\n",
            "      But we also did not show them to be the same. \n"
          ]
        }
      ]
    },
    {
      "cell_type": "markdown",
      "source": [
        "# 5) Multiple cultivars with a single row"
      ],
      "metadata": {
        "id": "g3MF1yq-hTa1"
      }
    },
    {
      "cell_type": "code",
      "source": [
        "model= agrivoltaics(\n",
        "  output= Yield,\n",
        "  treatment= AV_Site,\n",
        "  genotype= Genotype,\n",
        "  plot= NULL,\n",
        "  block= Block,\n",
        "  row= NULL,\n",
        "  season= NULL,\n",
        "  location= NULL,\n",
        "  data= df\n",
        ")"
      ],
      "metadata": {
        "colab": {
          "base_uri": "https://localhost:8080/"
        },
        "id": "aPb0lEVHhWRk",
        "outputId": "0cb96256-8945-44b4-9ece-769d287e7d00"
      },
      "execution_count": 15,
      "outputs": [
        {
          "output_type": "stream",
          "name": "stdout",
          "text": [
            "\n",
            " MODEL FORMULA USED:\n",
            "Yield ~ AV_Site + Genotype + AV_Site:Genotype + (1 | AV_Site:Block) \n",
            "\n",
            "\n",
            " VARIANCE COMPONENTS:\n",
            " Groups        Name        Variance\n",
            " AV_Site:Block (Intercept)  117.62 \n",
            " Residual                  7765.12 \n",
            "\n",
            " VARIANCE COMPONENT BREAKDOWN (%):\n",
            "Random [AV_Site:Block]: 1.49%\n",
            "Residual: 98.51%\n",
            "\n",
            " TYPE III ANOVA:\n",
            "Type III Analysis of Variance Table with Satterthwaite's method\n",
            "                  Sum Sq Mean Sq NumDF   DenDF  F value    Pr(>F)    \n",
            "AV_Site          5162055 5162055     1   5.974 664.7747 2.361e-07 ***\n",
            "Genotype          113976  113976     1 308.998  14.6779 0.0001545 ***\n",
            "AV_Site:Genotype    2295    2295     1 308.998   0.2955 0.5870798    \n",
            "---\n",
            "Signif. codes:  0 ‘***’ 0.001 ‘**’ 0.01 ‘*’ 0.05 ‘.’ 0.1 ‘ ’ 1\n"
          ]
        }
      ]
    },
    {
      "cell_type": "code",
      "source": [
        "post_hoc= cld (emmeans(model, ~ AV_Site), adjust= \"sidak\", Letters=letters, reverse= TRUE)\n",
        "print(post_hoc)"
      ],
      "metadata": {
        "colab": {
          "base_uri": "https://localhost:8080/"
        },
        "id": "_Q_Gh0ZmhmC7",
        "outputId": "06783adc-d437-4f74-fa0b-29ce7b06a325"
      },
      "execution_count": 16,
      "outputs": [
        {
          "output_type": "stream",
          "name": "stderr",
          "text": [
            "NOTE: Results may be misleading due to involvement in interactions\n",
            "\n"
          ]
        },
        {
          "output_type": "stream",
          "name": "stdout",
          "text": [
            " AV_Site emmean   SE   df lower.CL upper.CL .group\n",
            " Control    475 8.85 6.02      448      501  a    \n",
            " AV         152 8.83 5.98      126      178   b   \n",
            "\n",
            "Results are averaged over the levels of: Genotype \n",
            "Degrees-of-freedom method: kenward-roger \n",
            "Confidence level used: 0.95 \n",
            "Conf-level adjustment: sidak method for 2 estimates \n",
            "significance level used: alpha = 0.05 \n",
            "NOTE: If two or more means share the same grouping symbol,\n",
            "      then we cannot show them to be different.\n",
            "      But we also did not show them to be the same. \n"
          ]
        }
      ]
    },
    {
      "cell_type": "markdown",
      "source": [
        "# 6) Multiple cultivars with multiple rows"
      ],
      "metadata": {
        "id": "rYHHKMVeiDN9"
      }
    },
    {
      "cell_type": "code",
      "source": [
        "model= agrivoltaics(\n",
        "  output= Yield,\n",
        "  treatment= AV_Site,\n",
        "  genotype= Genotype,\n",
        "  plot= NULL,\n",
        "  block= Block,\n",
        "  row= Row,\n",
        "  season= NULL,\n",
        "  location= NULL,\n",
        "  data= df\n",
        ")"
      ],
      "metadata": {
        "colab": {
          "base_uri": "https://localhost:8080/"
        },
        "id": "38PDIhgCiGrN",
        "outputId": "70a2fcac-0102-4bbb-cc81-ac9ba2e3a623"
      },
      "execution_count": 17,
      "outputs": [
        {
          "output_type": "stream",
          "name": "stdout",
          "text": [
            "\n",
            " MODEL FORMULA USED:\n",
            "Yield ~ AV_Site + Genotype + Row + AV_Site:Row + AV_Site:Genotype +      AV_Site:Genotype:Row + (1 | AV_Site:Block) + (1 | Block:Row) \n",
            "\n",
            "\n",
            " VARIANCE COMPONENTS:\n",
            " Groups        Name        Variance\n",
            " Block:Row     (Intercept)  244.45 \n",
            " AV_Site:Block (Intercept)  111.65 \n",
            " Residual                  6097.75 \n",
            "\n",
            " VARIANCE COMPONENT BREAKDOWN (%):\n",
            "Random [Block:Row]: 3.79%\n",
            "Random [AV_Site:Block]: 1.73%\n",
            "Residual: 94.48%\n",
            "\n",
            " TYPE III ANOVA:\n",
            "Type III Analysis of Variance Table with Satterthwaite's method\n",
            "                      Sum Sq Mean Sq NumDF   DenDF  F value    Pr(>F)    \n",
            "AV_Site              2851397 2851397     1   9.128 467.6150 3.742e-09 ***\n",
            "Genotype              132953  132953     1 294.729  21.8036 4.594e-06 ***\n",
            "Row                    82284   41142     2   7.756   6.7470   0.02007 *  \n",
            "AV_Site:Row           236106  118053     2 294.756  19.3601 1.260e-08 ***\n",
            "AV_Site:Genotype        2197    2197     1 294.788   0.3603   0.54882    \n",
            "AV_Site:Genotype:Row   50912   12728     4 294.732   2.0873   0.08247 .  \n",
            "---\n",
            "Signif. codes:  0 ‘***’ 0.001 ‘**’ 0.01 ‘*’ 0.05 ‘.’ 0.1 ‘ ’ 1\n"
          ]
        }
      ]
    },
    {
      "cell_type": "code",
      "source": [
        "post_hoc= cld (emmeans(model, ~ AV_Site:Row), adjust= \"sidak\", Letters=letters, reverse= TRUE)\n",
        "print(post_hoc)"
      ],
      "metadata": {
        "colab": {
          "base_uri": "https://localhost:8080/"
        },
        "id": "ZN4XdgwXiO-d",
        "outputId": "4a1283c6-8673-482c-8f16-7ee0bbe48fde"
      },
      "execution_count": 18,
      "outputs": [
        {
          "output_type": "stream",
          "name": "stderr",
          "text": [
            "NOTE: Results may be misleading due to involvement in interactions\n",
            "\n"
          ]
        },
        {
          "output_type": "stream",
          "name": "stdout",
          "text": [
            " AV_Site Row    emmean   SE   df lower.CL upper.CL .group\n",
            " Control East      524 13.6 14.4      482      565  a    \n",
            " Control West      471 13.6 14.2      429      512  a    \n",
            " Control Middle    385 16.7 32.0      338      432   b   \n",
            " AV      Middle    184 16.7 32.0      137      231    c  \n",
            " AV      East      157 13.6 14.2      116      199    c  \n",
            " AV      West      131 13.6 14.2       90      173    c  \n",
            "\n",
            "Results are averaged over the levels of: Genotype \n",
            "Degrees-of-freedom method: kenward-roger \n",
            "Confidence level used: 0.95 \n",
            "Conf-level adjustment: sidak method for 6 estimates \n",
            "P value adjustment: sidak method for 15 tests \n",
            "significance level used: alpha = 0.05 \n",
            "NOTE: If two or more means share the same grouping symbol,\n",
            "      then we cannot show them to be different.\n",
            "      But we also did not show them to be the same. \n"
          ]
        }
      ]
    },
    {
      "cell_type": "markdown",
      "source": [
        "# 7) Multiple cultivars with a single row in different seasons"
      ],
      "metadata": {
        "id": "-nD0lXaziZ_q"
      }
    },
    {
      "cell_type": "code",
      "source": [
        "model= agrivoltaics(\n",
        "  output= Yield,\n",
        "  treatment= AV_Site,\n",
        "  genotype= Genotype,\n",
        "  plot= Plot,\n",
        "  block= Block,\n",
        "  row= NULL,\n",
        "  season= Season,\n",
        "  location= NULL,\n",
        "  data= df\n",
        ")"
      ],
      "metadata": {
        "colab": {
          "base_uri": "https://localhost:8080/"
        },
        "id": "DTSY6m8UicbF",
        "outputId": "52ec7dc3-015c-4c9e-94bf-8426b5011881"
      },
      "execution_count": 19,
      "outputs": [
        {
          "output_type": "stream",
          "name": "stdout",
          "text": [
            "\n",
            " MODEL FORMULA USED:\n",
            "Yield ~ AV_Site + Genotype + Season + AV_Site:Genotype + AV_Site:Season +      Genotype:Season + (1 | AV_Site:Block) + (1 | Block:Season) +      (1 | Block:Plot) \n",
            "\n"
          ]
        },
        {
          "output_type": "stream",
          "name": "stderr",
          "text": [
            "boundary (singular) fit: see help('isSingular')\n",
            "\n",
            "Warning message in agrivoltaics(output = Yield, treatment = AV_Site, genotype = Genotype, :\n",
            "“️ Model fit is singular. Some variance components may be near zero or redundant.”\n"
          ]
        },
        {
          "output_type": "stream",
          "name": "stdout",
          "text": [
            "\n",
            " VARIANCE COMPONENTS:\n",
            " Groups        Name        Variance\n",
            " Block:Plot    (Intercept)  532.74 \n",
            " Block:Season  (Intercept)  183.48 \n",
            " AV_Site:Block (Intercept)    0.00 \n",
            " Residual                  5720.90 \n",
            "\n",
            " VARIANCE COMPONENT BREAKDOWN (%):\n",
            "Random [Block:Plot]: 8.28%\n",
            "Random [Block:Season]: 2.85%\n",
            "Random [AV_Site:Block]: 0%\n",
            "Residual: 88.87%\n",
            "\n",
            " TYPE III ANOVA:\n",
            "Type III Analysis of Variance Table with Satterthwaite's method\n",
            "                  Sum Sq Mean Sq NumDF   DenDF  F value    Pr(>F)    \n",
            "AV_Site          2892167 2892167     1  10.980 505.5441 1.563e-10 ***\n",
            "Genotype           40636   40636     1  10.980   7.1030  0.022015 *  \n",
            "Season            172480  172480     1   4.538  30.1492  0.003684 ** \n",
            "AV_Site:Genotype     911     911     1  10.980   0.1592  0.697538    \n",
            "AV_Site:Season    127330  127330     1 296.488  22.2569 3.679e-06 ***\n",
            "Genotype:Season     5898    5898     1 296.488   1.0309  0.310773    \n",
            "---\n",
            "Signif. codes:  0 ‘***’ 0.001 ‘**’ 0.01 ‘*’ 0.05 ‘.’ 0.1 ‘ ’ 1\n"
          ]
        }
      ]
    },
    {
      "cell_type": "code",
      "source": [
        "post_hoc= cld (emmeans(model, ~ AV_Site:Genotype:Season), adjust= \"sidak\", Letters=letters, reverse= TRUE)\n",
        "print(post_hoc)"
      ],
      "metadata": {
        "colab": {
          "base_uri": "https://localhost:8080/"
        },
        "id": "b3RAaqcQiiys",
        "outputId": "3af09498-d7be-424b-80ef-e18a0d7aa157"
      },
      "execution_count": 20,
      "outputs": [
        {
          "output_type": "stream",
          "name": "stdout",
          "text": [
            " AV_Site Genotype Season      emmean   SE   df lower.CL upper.CL .group\n",
            " Control cv2      2016 season    555 17.4 18.6    501.9      609  a    \n",
            " Control cv1      2016 season    503 17.4 18.6    449.5      557  ab   \n",
            " Control cv2      2015 season    437 17.4 18.6    383.2      490   bc  \n",
            " Control cv1      2015 season    401 17.5 19.0    347.8      455    c  \n",
            " AV      cv2      2016 season    188 17.4 18.6    134.4      242     d \n",
            " AV      cv2      2015 season    149 17.4 18.6     95.5      203     d \n",
            " AV      cv1      2016 season    147 17.4 18.6     93.3      200     d \n",
            " AV      cv1      2015 season    125 17.4 18.6     71.7      179     d \n",
            "\n",
            "Degrees-of-freedom method: kenward-roger \n",
            "Confidence level used: 0.95 \n",
            "Conf-level adjustment: sidak method for 8 estimates \n",
            "P value adjustment: sidak method for 28 tests \n",
            "significance level used: alpha = 0.05 \n",
            "NOTE: If two or more means share the same grouping symbol,\n",
            "      then we cannot show them to be different.\n",
            "      But we also did not show them to be the same. \n"
          ]
        }
      ]
    },
    {
      "cell_type": "markdown",
      "source": [
        "# 8) Multiple cultivars with multiple rows in different seasons"
      ],
      "metadata": {
        "id": "GHfqzO22jBNi"
      }
    },
    {
      "cell_type": "code",
      "source": [
        "model= agrivoltaics(\n",
        "  output= Yield,\n",
        "  treatment= AV_Site,\n",
        "  genotype= Genotype,\n",
        "  plot= Plot,\n",
        "  block= Block,\n",
        "  row= Row,\n",
        "  season= Season,\n",
        "  location= NULL,\n",
        "  data= df\n",
        ")"
      ],
      "metadata": {
        "colab": {
          "base_uri": "https://localhost:8080/"
        },
        "id": "23JC4SUejDmh",
        "outputId": "ac30902b-4b3e-46b1-c58e-9f13a690e63b"
      },
      "execution_count": 38,
      "outputs": [
        {
          "output_type": "stream",
          "name": "stdout",
          "text": [
            "\n",
            " MODEL FORMULA USED:\n",
            "Yield ~ AV_Site + Genotype + Season + Row + AV_Site:Row + AV_Site:Genotype +      AV_Site:Season + Genotype:Season + AV_Site:Genotype:Row +      AV_Site:Season:Row + Genotype:Season:Row + (1 | AV_Site:Block) +      (1 | Block:Season) + (1 | Block:Plot) + (1 | Plot:Row) \n",
            "\n"
          ]
        },
        {
          "output_type": "stream",
          "name": "stderr",
          "text": [
            "boundary (singular) fit: see help('isSingular')\n",
            "\n",
            "Warning message in agrivoltaics(output = Yield, treatment = AV_Site, genotype = Genotype, :\n",
            "“️ Model fit is singular. Some variance components may be near zero or redundant.”\n"
          ]
        },
        {
          "output_type": "stream",
          "name": "stdout",
          "text": [
            "\n",
            " VARIANCE COMPONENTS:\n",
            " Groups        Name        Variance\n",
            " Plot:Row      (Intercept) 2206.547\n",
            " Block:Plot    (Intercept)   20.564\n",
            " Block:Season  (Intercept)  249.014\n",
            " AV_Site:Block (Intercept)    0.000\n",
            " Residual                  3065.545\n",
            "\n",
            " VARIANCE COMPONENT BREAKDOWN (%):\n",
            "Random [Plot:Row]: 39.82%\n",
            "Random [Block:Plot]: 0.37%\n",
            "Random [Block:Season]: 4.49%\n",
            "Random [AV_Site:Block]: 0%\n",
            "Residual: 55.32%\n",
            "\n",
            " TYPE III ANOVA:\n",
            "Type III Analysis of Variance Table with Satterthwaite's method\n",
            "                     Sum Sq Mean Sq NumDF   DenDF  F value    Pr(>F)    \n",
            "AV_Site              683286  683286     1  25.264 222.8922 4.832e-14 ***\n",
            "Genotype              25054   25054     1  11.011   8.1728  0.015536 *  \n",
            "Season                87093   87093     1   4.589  28.4104  0.004019 ** \n",
            "Row                   29239   14620     2  22.991   4.7690  0.018513 *  \n",
            "AV_Site:Row           37444   18722     2  27.491   6.1072  0.006389 ** \n",
            "AV_Site:Genotype        218     218     1  30.072   0.0712  0.791421    \n",
            "AV_Site:Season        61875   61875     1 256.530  20.1841 1.065e-05 ***\n",
            "Genotype:Season        5217    5217     1 256.460   1.7017  0.193237    \n",
            "AV_Site:Genotype:Row   9980    2495     4  22.991   0.8139  0.529306    \n",
            "AV_Site:Season:Row     7109    1777     4 256.465   0.5798  0.677550    \n",
            "Genotype:Season:Row     109      55     2 256.465   0.0178  0.982343    \n",
            "---\n",
            "Signif. codes:  0 ‘***’ 0.001 ‘**’ 0.01 ‘*’ 0.05 ‘.’ 0.1 ‘ ’ 1\n"
          ]
        }
      ]
    },
    {
      "cell_type": "code",
      "source": [
        "post_hoc= cld (emmeans(model, ~ AV_Site:Row), adjust= \"sidak\", Letters=letters, reverse= TRUE)\n",
        "print(post_hoc)"
      ],
      "metadata": {
        "id": "UgZDvROVIbJJ",
        "outputId": "0011eba9-c89b-4c96-b57e-694b32d6d122",
        "colab": {
          "base_uri": "https://localhost:8080/"
        }
      },
      "execution_count": 41,
      "outputs": [
        {
          "output_type": "stream",
          "name": "stderr",
          "text": [
            "NOTE: Results may be misleading due to involvement in interactions\n",
            "\n"
          ]
        },
        {
          "output_type": "stream",
          "name": "stdout",
          "text": [
            " AV_Site Row    emmean   SE   df lower.CL upper.CL .group\n",
            " Control East      522 18.9 24.2    468.3      577  a    \n",
            " Control West      471 18.9 24.1    416.5      525  a    \n",
            " Control Middle    385 20.1 30.9    328.7      442   b   \n",
            " AV      Middle    184 20.1 30.9    127.1      240    c  \n",
            " AV      East      157 18.9 24.1    103.3      212    c  \n",
            " AV      West      131 18.9 24.1     77.3      186    c  \n",
            "\n",
            "Results are averaged over the levels of: Genotype, Season \n",
            "Degrees-of-freedom method: kenward-roger \n",
            "Confidence level used: 0.95 \n",
            "Conf-level adjustment: sidak method for 6 estimates \n",
            "P value adjustment: sidak method for 15 tests \n",
            "significance level used: alpha = 0.05 \n",
            "NOTE: If two or more means share the same grouping symbol,\n",
            "      then we cannot show them to be different.\n",
            "      But we also did not show them to be the same. \n"
          ]
        }
      ]
    }
  ]
}
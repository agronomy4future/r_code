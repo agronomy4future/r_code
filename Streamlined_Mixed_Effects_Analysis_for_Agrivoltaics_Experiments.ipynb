{
  "nbformat": 4,
  "nbformat_minor": 0,
  "metadata": {
    "colab": {
      "provenance": [],
      "authorship_tag": "ABX9TyO/KMILAmwQdgaAjM7vHLda"
    },
    "kernelspec": {
      "name": "ir",
      "display_name": "R"
    },
    "language_info": {
      "name": "R"
    }
  },
  "cells": [
    {
      "cell_type": "markdown",
      "source": [
        "# Required packages"
      ],
      "metadata": {
        "id": "6kAydxswN9wg"
      }
    },
    {
      "cell_type": "code",
      "source": [
        "if(!require(lme4)) install.packages(\"lme4\")\n",
        "if(!require(lmerTest)) install.packages(\"lmerTest\")\n",
        "if(!require(emmeans)) install.packages(\"emmeans\")\n",
        "if(!require(pbkrtest)) install.packages(\"pbkrtest\")\n",
        "if(!require(multcompView)) install.packages(\"multcompView\")\n",
        "if(!require(multcomp)) install.packages(\"multcomp\")\n",
        "library(lme4)\n",
        "library(lmerTest)\n",
        "library(emmeans)\n",
        "library(pbkrtest)\n",
        "library(multcompView)\n",
        "library(multcomp)"
      ],
      "metadata": {
        "id": "HRwI98UyJROT"
      },
      "execution_count": null,
      "outputs": []
    },
    {
      "cell_type": "markdown",
      "source": [
        "# Intall agrivoltaics()"
      ],
      "metadata": {
        "id": "O5PZrIwkOHT7"
      }
    },
    {
      "cell_type": "markdown",
      "source": [
        "### Before installing, please download Rtools (https://cran.r-project.org/bin/windows/Rtools)"
      ],
      "metadata": {
        "id": "rKCKk6lLOSZz"
      }
    },
    {
      "cell_type": "code",
      "source": [
        "if(!require(remotes)) install.packages(\"remotes\")\n",
        "library(remotes)\n",
        "if (!requireNamespace(\"agrivoltaics\", quietly = TRUE)) {\n",
        "  remotes::install_github(\"agronomy4future/agrivoltaics\", force= TRUE)\n",
        "}\n",
        "library(agrivoltaics)"
      ],
      "metadata": {
        "id": "AroPEuDcD3zr"
      },
      "execution_count": 46,
      "outputs": []
    },
    {
      "cell_type": "markdown",
      "source": [
        "# Data upload"
      ],
      "metadata": {
        "id": "KGpv2TvPOJCq"
      }
    },
    {
      "cell_type": "code",
      "execution_count": 55,
      "metadata": {
        "colab": {
          "base_uri": "https://localhost:8080/"
        },
        "id": "44m3fel1DNpr",
        "outputId": "4e1afe1b-eebd-4c93-fc7e-e13c564e53f7"
      },
      "outputs": [
        {
          "output_type": "stream",
          "name": "stdout",
          "text": [
            "         Season Location AV_Site Genotype Plot Block  Row Yield\n",
            "202 2015 season     East      AV      cv1  101     I East 195.4\n",
            "112 2016 season  MidWest Control      cv1  115    IV East 625.1\n",
            "206 2015 season     East      AV      cv2  102    II East 135.9\n",
            "4   2015 season  MidWest Control      cv1  109     I West 384.4\n",
            "311 2016 season     East      AV      cv1  107   III East 125.1\n"
          ]
        }
      ],
      "source": [
        "if(!require(readr)) install.packages(\"readr\")\n",
        "library(readr)\n",
        "github=\"https://raw.githubusercontent.com/agronomy4future/raw_data_practice/refs/heads/main/agrivoltaics.csv\"\n",
        "df= data.frame(read_csv(url(github), show_col_types=FALSE))\n",
        "df$Plot= as.factor(df$Plot)\n",
        "df$Yield= as.numeric(df$Yield)\n",
        "set.seed(100)\n",
        "print(df[sample(nrow(df),5),])"
      ]
    },
    {
      "cell_type": "markdown",
      "source": [
        "# Field layout"
      ],
      "metadata": {
        "id": "t1vRGUpcOYTD"
      }
    },
    {
      "cell_type": "markdown",
      "source": [
        "# 1) Single crop (only 1 cultivar) with a single row"
      ],
      "metadata": {
        "id": "G-uT8JA9VPB3"
      }
    },
    {
      "cell_type": "code",
      "source": [
        "model= agrivoltaics(\n",
        "  output= Yield,\n",
        "  treatment= AV_Site,\n",
        "  genotype= NULL,\n",
        "  plot= NULL,\n",
        "  block= Block,\n",
        "  row= NULL,\n",
        "  season= NULL,\n",
        "  location= NULL,\n",
        "  data= df\n",
        ")"
      ],
      "metadata": {
        "colab": {
          "base_uri": "https://localhost:8080/"
        },
        "id": "73ew5wslLNJL",
        "outputId": "60c80eaa-3142-49d6-a723-9e8fa04b0361"
      },
      "execution_count": 56,
      "outputs": [
        {
          "output_type": "stream",
          "name": "stdout",
          "text": [
            "\n",
            " MODEL FORMULA USED:\n",
            "Yield ~ AV_Site + (1 | AV_Site:Block) \n",
            "\n",
            "\n",
            " VARIANCE COMPONENTS:\n",
            " Groups        Name        Variance\n",
            " AV_Site:Block (Intercept)  104.22 \n",
            " Residual                  8072.88 \n",
            "\n",
            " VARIANCE COMPONENT BREAKDOWN (%):\n",
            "Random [AV_Site:Block]: 1.27%\n",
            "Residual: 98.73%\n",
            "\n",
            " TYPE III ANOVA:\n",
            "Type III Analysis of Variance Table with Satterthwaite's method\n",
            "         Sum Sq Mean Sq NumDF DenDF F value    Pr(>F)    \n",
            "AV_Site 5471323 5471323     1     6  677.74 2.119e-07 ***\n",
            "---\n",
            "Signif. codes:  0 ‘***’ 0.001 ‘**’ 0.01 ‘*’ 0.05 ‘.’ 0.1 ‘ ’ 1\n"
          ]
        }
      ]
    },
    {
      "cell_type": "markdown",
      "source": [
        "## Tukey post-hoc analyses (LSD: adjust= \"none\"  /   Tukey: adjust= \"sidak\")"
      ],
      "metadata": {
        "id": "9ZBWUHS_MuYk"
      }
    },
    {
      "cell_type": "code",
      "source": [
        "post_hoc= cld (emmeans(model, ~ AV_Site), adjust= \"sidak\", Letters=letters, reverse= TRUE)\n",
        "print(post_hoc)"
      ],
      "metadata": {
        "colab": {
          "base_uri": "https://localhost:8080/"
        },
        "id": "6zFFbPlVMxfU",
        "outputId": "f7cacbe4-e59c-4091-ca47-2af8f0239160"
      },
      "execution_count": 59,
      "outputs": [
        {
          "output_type": "stream",
          "name": "stdout",
          "text": [
            " AV_Site emmean   SE df lower.CL upper.CL .group\n",
            " Control    474 8.75  6      448      500  a    \n",
            " AV         152 8.75  6      126      178   b   \n",
            "\n",
            "Degrees-of-freedom method: kenward-roger \n",
            "Confidence level used: 0.95 \n",
            "Conf-level adjustment: sidak method for 2 estimates \n",
            "significance level used: alpha = 0.05 \n",
            "NOTE: If two or more means share the same grouping symbol,\n",
            "      then we cannot show them to be different.\n",
            "      But we also did not show them to be the same. \n"
          ]
        }
      ]
    },
    {
      "cell_type": "markdown",
      "source": [
        "## Pairwise mean comparison"
      ],
      "metadata": {
        "id": "mv1nHscYNAtr"
      }
    },
    {
      "cell_type": "code",
      "source": [
        "pairwise= contrast(emmeans(model, ~ AV_Site), method= \"pairwise\", adjust= \"sidak\")\n",
        "print(summary(pairwise))"
      ],
      "metadata": {
        "colab": {
          "base_uri": "https://localhost:8080/"
        },
        "id": "R2NmPHpmM-Oi",
        "outputId": "e451e2b1-5c83-4af8-c45a-f7db12f6dbc5"
      },
      "execution_count": 60,
      "outputs": [
        {
          "output_type": "stream",
          "name": "stdout",
          "text": [
            " contrast     estimate   SE df t.ratio p.value\n",
            " AV - Control     -322 12.4  6 -26.033  <.0001\n",
            "\n",
            "Degrees-of-freedom method: kenward-roger \n"
          ]
        }
      ]
    },
    {
      "cell_type": "markdown",
      "source": [
        "# 2) Single crop (only 1 cultivar) with multiple rows"
      ],
      "metadata": {
        "id": "SxAetlC2XDxB"
      }
    },
    {
      "cell_type": "code",
      "source": [
        "model= agrivoltaics(\n",
        "  output= Yield,\n",
        "  treatment= AV_Site,\n",
        "  genotype= NULL,\n",
        "  plot= NULL,\n",
        "  block= Block,\n",
        "  row= Row,\n",
        "  season= NULL,\n",
        "  location= NULL,\n",
        "  data= df\n",
        ")"
      ],
      "metadata": {
        "colab": {
          "base_uri": "https://localhost:8080/"
        },
        "id": "vicVEs7AXKUw",
        "outputId": "65649402-3875-4b4e-f83f-5ea213103bff"
      },
      "execution_count": 61,
      "outputs": [
        {
          "output_type": "stream",
          "name": "stdout",
          "text": [
            "\n",
            " MODEL FORMULA USED:\n",
            "Yield ~ AV_Site + Row + AV_Site:Row + (1 | AV_Site:Block) + (1 |      Block:Row) \n",
            "\n",
            "\n",
            " VARIANCE COMPONENTS:\n",
            " Groups        Name        Variance\n",
            " Block:Row     (Intercept)  241.608\n",
            " AV_Site:Block (Intercept)   81.111\n",
            " Residual                  6535.598\n",
            "\n",
            " VARIANCE COMPONENT BREAKDOWN (%):\n",
            "Random [Block:Row]: 3.52%\n",
            "Random [AV_Site:Block]: 1.18%\n",
            "Residual: 95.29%\n",
            "\n",
            " TYPE III ANOVA:\n",
            "Type III Analysis of Variance Table with Satterthwaite's method\n",
            "             Sum Sq Mean Sq NumDF   DenDF  F value    Pr(>F)    \n",
            "AV_Site     4537454 4537454     1   4.794 694.2676 2.258e-06 ***\n",
            "Row           83404   41702     2   8.012   6.3807     0.022 *  \n",
            "AV_Site:Row  301034  150517     2 301.813  23.0303 4.915e-10 ***\n",
            "---\n",
            "Signif. codes:  0 ‘***’ 0.001 ‘**’ 0.01 ‘*’ 0.05 ‘.’ 0.1 ‘ ’ 1\n"
          ]
        }
      ]
    },
    {
      "cell_type": "code",
      "source": [
        "post_hoc= cld (emmeans(model, ~ AV_Site:Row), adjust= \"sidak\", Letters=letters, reverse= TRUE)\n",
        "print(post_hoc)"
      ],
      "metadata": {
        "colab": {
          "base_uri": "https://localhost:8080/"
        },
        "id": "wG_15yied2mW",
        "outputId": "6f8da0c3-726d-41fd-aa01-f7018d9af7e1"
      },
      "execution_count": 62,
      "outputs": [
        {
          "output_type": "stream",
          "name": "stdout",
          "text": [
            " AV_Site Row    emmean   SE   df lower.CL upper.CL .group\n",
            " Control East      523 13.5 14.5    481.4      564  a    \n",
            " Control West      471 13.5 14.5    429.6      512  a    \n",
            " Control Middle    385 16.9 34.4    338.2      432   b   \n",
            " AV      Middle    184 16.9 34.4    136.6      231    c  \n",
            " AV      East      157 13.5 14.5    116.3      199    c  \n",
            " AV      West      131 13.5 14.5     90.3      173    c  \n",
            "\n",
            "Degrees-of-freedom method: kenward-roger \n",
            "Confidence level used: 0.95 \n",
            "Conf-level adjustment: sidak method for 6 estimates \n",
            "P value adjustment: sidak method for 15 tests \n",
            "significance level used: alpha = 0.05 \n",
            "NOTE: If two or more means share the same grouping symbol,\n",
            "      then we cannot show them to be different.\n",
            "      But we also did not show them to be the same. \n"
          ]
        }
      ]
    },
    {
      "cell_type": "code",
      "source": [
        "pairwise= contrast(emmeans(model, ~ AV_Site:Row), method= \"pairwise\", adjust= \"sidak\")\n",
        "print(summary(pairwise))"
      ],
      "metadata": {
        "colab": {
          "base_uri": "https://localhost:8080/"
        },
        "id": "m-eXamajd8jq",
        "outputId": "9c719937-599e-4fac-9b51-3b9f66adde65"
      },
      "execution_count": 63,
      "outputs": [
        {
          "output_type": "stream",
          "name": "stdout",
          "text": [
            " contrast                      estimate   SE   df t.ratio p.value\n",
            " AV East - Control East          -365.1 15.6 14.9 -23.334  <.0001\n",
            " AV East - AV Middle              -26.2 20.7 21.9  -1.269  0.9748\n",
            " AV East - Control Middle        -227.8 21.6 23.5 -10.532  <.0001\n",
            " AV East - AV West                 26.0 18.0 12.8   1.444  0.9419\n",
            " AV East - Control West          -313.2 19.1 14.5 -16.381  <.0001\n",
            " Control East - AV Middle         338.8 21.6 23.5  15.668  <.0001\n",
            " Control East - Control Middle    137.3 20.7 21.9   6.643  <.0001\n",
            " Control East - AV West           391.1 19.1 14.5  20.455  <.0001\n",
            " Control East - Control West       51.9 18.0 12.8   2.877  0.1796\n",
            " AV Middle - Control Middle      -201.5 21.2 46.5  -9.511  <.0001\n",
            " AV Middle - AV West               52.3 20.7 21.9   2.529  0.2520\n",
            " AV Middle - Control West        -287.0 21.6 23.5 -13.270  <.0001\n",
            " Control Middle - AV West         253.8 21.6 23.5  11.736  <.0001\n",
            " Control Middle - Control West    -85.4 20.7 21.9  -4.133  0.0066\n",
            " AV West - Control West          -339.2 15.6 14.9 -21.682  <.0001\n",
            "\n",
            "Degrees-of-freedom method: kenward-roger \n",
            "P value adjustment: sidak method for 15 tests \n"
          ]
        }
      ]
    },
    {
      "cell_type": "markdown",
      "source": [
        "# 3) Single crop (only 1 cultivar) with a single row in different seasons"
      ],
      "metadata": {
        "id": "5RY5KDM2f0N-"
      }
    },
    {
      "cell_type": "code",
      "source": [
        "model= agrivoltaics(\n",
        "  output= Yield,\n",
        "  treatment= AV_Site,\n",
        "  genotype= NULL,\n",
        "  plot= NULL,\n",
        "  block= Block,\n",
        "  row= NULL,\n",
        "  season= Season,\n",
        "  location= NULL,\n",
        "  data= df\n",
        ")"
      ],
      "metadata": {
        "colab": {
          "base_uri": "https://localhost:8080/"
        },
        "id": "4j9fYGi9f4rC",
        "outputId": "c8e8e9a8-521d-4275-a7b6-dc1f66025de9"
      },
      "execution_count": 64,
      "outputs": [
        {
          "output_type": "stream",
          "name": "stdout",
          "text": [
            "\n",
            " MODEL FORMULA USED:\n",
            "Yield ~ AV_Site + Season + AV_Site:Season + (1 | AV_Site:Block) +      (1 | Block:Season) \n",
            "\n",
            "\n",
            " VARIANCE COMPONENTS:\n",
            " Groups        Name        Variance\n",
            " AV_Site:Block (Intercept)   81.706\n",
            " Block:Season  (Intercept)  185.394\n",
            " Residual                  6362.830\n",
            "\n",
            " VARIANCE COMPONENT BREAKDOWN (%):\n",
            "Random [AV_Site:Block]: 1.23%\n",
            "Random [Block:Season]: 2.8%\n",
            "Residual: 95.97%\n",
            "\n",
            " TYPE III ANOVA:\n",
            "Type III Analysis of Variance Table with Satterthwaite's method\n",
            "                Sum Sq Mean Sq NumDF   DenDF F value    Pr(>F)    \n",
            "AV_Site        5481197 5481197     1   4.095 861.440 6.453e-06 ***\n",
            "Season          181210  181210     1   4.964  28.479  0.003166 ** \n",
            "AV_Site:Season  126636  126636     1 306.753  19.902 1.145e-05 ***\n",
            "---\n",
            "Signif. codes:  0 ‘***’ 0.001 ‘**’ 0.01 ‘*’ 0.05 ‘.’ 0.1 ‘ ’ 1\n"
          ]
        }
      ]
    },
    {
      "cell_type": "code",
      "source": [
        "post_hoc= cld (emmeans(model, ~ AV_Site:Season), adjust= \"sidak\", Letters=letters, reverse= TRUE)\n",
        "print(post_hoc)"
      ],
      "metadata": {
        "colab": {
          "base_uri": "https://localhost:8080/"
        },
        "id": "7oTnS1RigFSF",
        "outputId": "ae1a5674-977c-4b27-db32-4ed9dfdc4766"
      },
      "execution_count": 65,
      "outputs": [
        {
          "output_type": "stream",
          "name": "stdout",
          "text": [
            " AV_Site Season      emmean   SE   df lower.CL upper.CL .group\n",
            " Control 2016 season    529 12.1 11.5      494      565  a    \n",
            " Control 2015 season    419 12.1 11.5      384      455   b   \n",
            " AV      2016 season    167 12.1 11.5      132      203    c  \n",
            " AV      2015 season    137 12.1 11.5      102      173    c  \n",
            "\n",
            "Degrees-of-freedom method: kenward-roger \n",
            "Confidence level used: 0.95 \n",
            "Conf-level adjustment: sidak method for 4 estimates \n",
            "P value adjustment: sidak method for 6 tests \n",
            "significance level used: alpha = 0.05 \n",
            "NOTE: If two or more means share the same grouping symbol,\n",
            "      then we cannot show them to be different.\n",
            "      But we also did not show them to be the same. \n"
          ]
        }
      ]
    },
    {
      "cell_type": "code",
      "source": [
        "pairwise= contrast(emmeans(model, ~ AV_Site:Season), method= \"pairwise\", adjust= \"sidak\")\n",
        "print(summary(pairwise))"
      ],
      "metadata": {
        "colab": {
          "base_uri": "https://localhost:8080/"
        },
        "id": "6o65-8v-gNRb",
        "outputId": "8609ea53-c0b4-4d05-b463-dee21c9181dd"
      },
      "execution_count": 66,
      "outputs": [
        {
          "output_type": "stream",
          "name": "stdout",
          "text": [
            " contrast                                  estimate   SE    df t.ratio p.value\n",
            " AV 2015 season - Control 2015 season        -282.2 14.1  9.80 -19.962  <.0001\n",
            " AV 2015 season - AV 2016 season              -30.2 15.9  9.53  -1.906  0.4214\n",
            " AV 2015 season - Control 2016 season        -392.1 17.1 11.47 -22.920  <.0001\n",
            " Control 2015 season - AV 2016 season         252.0 17.1 11.47  14.732  <.0001\n",
            " Control 2015 season - Control 2016 season   -109.8 15.9  9.53  -6.921  0.0003\n",
            " AV 2016 season - Control 2016 season        -361.8 14.1  9.80 -25.590  <.0001\n",
            "\n",
            "Degrees-of-freedom method: kenward-roger \n",
            "P value adjustment: sidak method for 6 tests \n"
          ]
        }
      ]
    },
    {
      "cell_type": "markdown",
      "source": [
        "# 4) Single crop (only 1 cultivar) with multiple rows in different seasons"
      ],
      "metadata": {
        "id": "WAgVA_2Qggn_"
      }
    },
    {
      "cell_type": "code",
      "source": [
        "model= agrivoltaics(\n",
        "  output= Yield,\n",
        "  treatment= AV_Site,\n",
        "  genotype= NULL,\n",
        "  plot= NULL,\n",
        "  block= Block,\n",
        "  row= Row,\n",
        "  season= Season,\n",
        "  location= NULL,\n",
        "  data= df\n",
        ")"
      ],
      "metadata": {
        "colab": {
          "base_uri": "https://localhost:8080/"
        },
        "id": "r1bZ_Uyugj8k",
        "outputId": "6e0a60e2-005d-4c5c-a8ea-4399f3fb2249"
      },
      "execution_count": 67,
      "outputs": [
        {
          "output_type": "stream",
          "name": "stdout",
          "text": [
            "\n",
            " MODEL FORMULA USED:\n",
            "Yield ~ AV_Site + Season + Row + AV_Site:Row + AV_Site:Season +      AV_Site:Season:Row + (1 | AV_Site:Block) + (1 | Block:Season) +      (1 | Block:Row) \n",
            "\n",
            "\n",
            " VARIANCE COMPONENTS:\n",
            " Groups        Name        Variance\n",
            " Block:Row     (Intercept)  291.59 \n",
            " Block:Season  (Intercept)  204.44 \n",
            " AV_Site:Block (Intercept)  110.20 \n",
            " Residual                  4781.10 \n",
            "\n",
            " VARIANCE COMPONENT BREAKDOWN (%):\n",
            "Random [Block:Row]: 5.41%\n",
            "Random [Block:Season]: 3.79%\n",
            "Random [AV_Site:Block]: 2.05%\n",
            "Residual: 88.75%\n",
            "\n",
            " TYPE III ANOVA:\n",
            "Type III Analysis of Variance Table with Satterthwaite's method\n",
            "                    Sum Sq Mean Sq NumDF   DenDF  F value    Pr(>F)    \n",
            "AV_Site            2750703 2750703     1   8.118 575.3283 7.951e-09 ***\n",
            "Season              134561  134561     1   4.814  28.1443  0.003559 ** \n",
            "Row                  63552   31776     2   7.407   6.6462  0.022236 *  \n",
            "AV_Site:Row         116562   58281     2 291.859  12.1898 8.233e-06 ***\n",
            "AV_Site:Season       62212   62212     1 291.859  13.0120  0.000364 ***\n",
            "AV_Site:Season:Row    7094    1774     4 291.859   0.3710  0.829272    \n",
            "---\n",
            "Signif. codes:  0 ‘***’ 0.001 ‘**’ 0.01 ‘*’ 0.05 ‘.’ 0.1 ‘ ’ 1\n"
          ]
        }
      ]
    },
    {
      "cell_type": "code",
      "source": [
        "post_hoc= cld (emmeans(model, ~ AV_Site:Row), adjust= \"sidak\", Letters=letters, reverse= TRUE)\n",
        "print(post_hoc)"
      ],
      "metadata": {
        "colab": {
          "base_uri": "https://localhost:8080/"
        },
        "id": "if5YfTGHgrTf",
        "outputId": "0463297e-470d-4146-e9f7-634bed1c1ffe"
      },
      "execution_count": 71,
      "outputs": [
        {
          "output_type": "stream",
          "name": "stderr",
          "text": [
            "NOTE: Results may be misleading due to involvement in interactions\n",
            "\n"
          ]
        },
        {
          "output_type": "stream",
          "name": "stdout",
          "text": [
            " AV_Site Row    emmean   SE   df lower.CL upper.CL .group\n",
            " Control East      523 14.2 13.8      479      566  a    \n",
            " Control West      471 14.2 13.8      427      514  a    \n",
            " Control Middle    385 16.6 25.8      338      433   b   \n",
            " AV      Middle    184 16.6 25.8      136      231    c  \n",
            " AV      East      157 14.2 13.8      114      201    c  \n",
            " AV      West      131 14.2 13.8       88      175    c  \n",
            "\n",
            "Results are averaged over the levels of: Season \n",
            "Degrees-of-freedom method: kenward-roger \n",
            "Confidence level used: 0.95 \n",
            "Conf-level adjustment: sidak method for 6 estimates \n",
            "P value adjustment: sidak method for 15 tests \n",
            "significance level used: alpha = 0.05 \n",
            "NOTE: If two or more means share the same grouping symbol,\n",
            "      then we cannot show them to be different.\n",
            "      But we also did not show them to be the same. \n"
          ]
        }
      ]
    },
    {
      "cell_type": "markdown",
      "source": [
        "# 5) Multiple cultivars with a single row"
      ],
      "metadata": {
        "id": "g3MF1yq-hTa1"
      }
    },
    {
      "cell_type": "code",
      "source": [
        "model= agrivoltaics(\n",
        "  output= Yield,\n",
        "  treatment= AV_Site,\n",
        "  genotype= Genotype,\n",
        "  plot= NULL,\n",
        "  block= Block,\n",
        "  row= NULL,\n",
        "  season= NULL,\n",
        "  location= NULL,\n",
        "  data= df\n",
        ")"
      ],
      "metadata": {
        "colab": {
          "base_uri": "https://localhost:8080/"
        },
        "id": "aPb0lEVHhWRk",
        "outputId": "5bbc5f30-0d04-44ef-96c4-2fa5ef9edf2f"
      },
      "execution_count": 72,
      "outputs": [
        {
          "output_type": "stream",
          "name": "stdout",
          "text": [
            "\n",
            " MODEL FORMULA USED:\n",
            "Yield ~ AV_Site + Genotype + AV_Site:Genotype + (1 | AV_Site:Block) \n",
            "\n",
            "\n",
            " VARIANCE COMPONENTS:\n",
            " Groups        Name        Variance\n",
            " AV_Site:Block (Intercept)  112.42 \n",
            " Residual                  7744.87 \n",
            "\n",
            " VARIANCE COMPONENT BREAKDOWN (%):\n",
            "Random [AV_Site:Block]: 1.43%\n",
            "Residual: 98.57%\n",
            "\n",
            " TYPE III ANOVA:\n",
            "Type III Analysis of Variance Table with Satterthwaite's method\n",
            "                  Sum Sq Mean Sq NumDF DenDF  F value    Pr(>F)    \n",
            "AV_Site          5249020 5249020     1     6 677.7416 2.119e-07 ***\n",
            "Genotype          115376  115376     1   310  14.8970 0.0001382 ***\n",
            "AV_Site:Genotype    2452    2452     1   310   0.3166 0.5740664    \n",
            "---\n",
            "Signif. codes:  0 ‘***’ 0.001 ‘**’ 0.01 ‘*’ 0.05 ‘.’ 0.1 ‘ ’ 1\n"
          ]
        }
      ]
    },
    {
      "cell_type": "code",
      "source": [
        "post_hoc= cld (emmeans(model, ~ AV_Site), adjust= \"sidak\", Letters=letters, reverse= TRUE)\n",
        "print(post_hoc)"
      ],
      "metadata": {
        "colab": {
          "base_uri": "https://localhost:8080/"
        },
        "id": "_Q_Gh0ZmhmC7",
        "outputId": "030223dc-0703-465f-f2f1-9adde162530b"
      },
      "execution_count": 73,
      "outputs": [
        {
          "output_type": "stream",
          "name": "stderr",
          "text": [
            "NOTE: Results may be misleading due to involvement in interactions\n",
            "\n"
          ]
        },
        {
          "output_type": "stream",
          "name": "stdout",
          "text": [
            " AV_Site emmean   SE df lower.CL upper.CL .group\n",
            " Control    474 8.75  6      448      500  a    \n",
            " AV         152 8.75  6      126      178   b   \n",
            "\n",
            "Results are averaged over the levels of: Genotype \n",
            "Degrees-of-freedom method: kenward-roger \n",
            "Confidence level used: 0.95 \n",
            "Conf-level adjustment: sidak method for 2 estimates \n",
            "significance level used: alpha = 0.05 \n",
            "NOTE: If two or more means share the same grouping symbol,\n",
            "      then we cannot show them to be different.\n",
            "      But we also did not show them to be the same. \n"
          ]
        }
      ]
    },
    {
      "cell_type": "markdown",
      "source": [
        "# 6) Multiple cultivars with multiple rows"
      ],
      "metadata": {
        "id": "rYHHKMVeiDN9"
      }
    },
    {
      "cell_type": "code",
      "source": [
        "model= agrivoltaics(\n",
        "  output= Yield,\n",
        "  treatment= AV_Site,\n",
        "  genotype= Genotype,\n",
        "  plot= NULL,\n",
        "  block= Block,\n",
        "  row= Row,\n",
        "  season= NULL,\n",
        "  location= NULL,\n",
        "  data= df\n",
        ")"
      ],
      "metadata": {
        "colab": {
          "base_uri": "https://localhost:8080/"
        },
        "id": "38PDIhgCiGrN",
        "outputId": "65bd74dc-c655-4695-941c-0d71d9e94f10"
      },
      "execution_count": 74,
      "outputs": [
        {
          "output_type": "stream",
          "name": "stdout",
          "text": [
            "\n",
            " MODEL FORMULA USED:\n",
            "Yield ~ AV_Site + Genotype + Row + AV_Site:Row + AV_Site:Genotype +      AV_Site:Genotype:Row + (1 | AV_Site:Block) + (1 | Block:Row) \n",
            "\n",
            "\n",
            " VARIANCE COMPONENTS:\n",
            " Groups        Name        Variance\n",
            " Block:Row     (Intercept)  256.53 \n",
            " AV_Site:Block (Intercept)   90.41 \n",
            " Residual                  6106.80 \n",
            "\n",
            " VARIANCE COMPONENT BREAKDOWN (%):\n",
            "Random [Block:Row]: 3.97%\n",
            "Random [AV_Site:Block]: 1.4%\n",
            "Residual: 94.62%\n",
            "\n",
            " TYPE III ANOVA:\n",
            "Type III Analysis of Variance Table with Satterthwaite's method\n",
            "                      Sum Sq Mean Sq NumDF   DenDF  F value    Pr(>F)    \n",
            "AV_Site              3012785 3012785     1   9.456 493.3492 1.766e-09 ***\n",
            "Genotype              136141  136141     1 295.731  22.2933 3.619e-06 ***\n",
            "Row                    78260   39130     2   7.934   6.4076   0.02207 *  \n",
            "AV_Site:Row           231828  115914     2 295.731  18.9811 1.755e-08 ***\n",
            "AV_Site:Genotype        1527    1527     1 295.731   0.2500   0.61742    \n",
            "AV_Site:Genotype:Row   48210   12053     4 295.731   1.9736   0.09851 .  \n",
            "---\n",
            "Signif. codes:  0 ‘***’ 0.001 ‘**’ 0.01 ‘*’ 0.05 ‘.’ 0.1 ‘ ’ 1\n"
          ]
        }
      ]
    },
    {
      "cell_type": "code",
      "source": [
        "post_hoc= cld (emmeans(model, ~ AV_Site:Row), adjust= \"sidak\", Letters=letters, reverse= TRUE)\n",
        "print(post_hoc)"
      ],
      "metadata": {
        "colab": {
          "base_uri": "https://localhost:8080/"
        },
        "id": "ZN4XdgwXiO-d",
        "outputId": "ec180983-0dc7-48f3-98f8-5a53e1907842"
      },
      "execution_count": 75,
      "outputs": [
        {
          "output_type": "stream",
          "name": "stderr",
          "text": [
            "NOTE: Results may be misleading due to involvement in interactions\n",
            "\n"
          ]
        },
        {
          "output_type": "stream",
          "name": "stdout",
          "text": [
            " AV_Site Row    emmean   SE   df lower.CL upper.CL .group\n",
            " Control East      523 13.5 14.2    481.4      564  a    \n",
            " Control West      471 13.5 14.2    429.5      512  a    \n",
            " Control Middle    385 16.7 32.3    338.6      432   b   \n",
            " AV      Middle    184 16.7 32.3    137.0      230    c  \n",
            " AV      East      157 13.5 14.2    116.3      199    c  \n",
            " AV      West      131 13.5 14.2     90.3      173    c  \n",
            "\n",
            "Results are averaged over the levels of: Genotype \n",
            "Degrees-of-freedom method: kenward-roger \n",
            "Confidence level used: 0.95 \n",
            "Conf-level adjustment: sidak method for 6 estimates \n",
            "P value adjustment: sidak method for 15 tests \n",
            "significance level used: alpha = 0.05 \n",
            "NOTE: If two or more means share the same grouping symbol,\n",
            "      then we cannot show them to be different.\n",
            "      But we also did not show them to be the same. \n"
          ]
        }
      ]
    },
    {
      "cell_type": "markdown",
      "source": [
        "# 7) Multiple cultivars with a single row in different seasons"
      ],
      "metadata": {
        "id": "-nD0lXaziZ_q"
      }
    },
    {
      "cell_type": "code",
      "source": [
        "model= agrivoltaics(\n",
        "  output= Yield,\n",
        "  treatment= AV_Site,\n",
        "  genotype= Genotype,\n",
        "  plot= Plot,\n",
        "  block= Block,\n",
        "  row= NULL,\n",
        "  season= Season,\n",
        "  location= NULL,\n",
        "  data= df\n",
        ")"
      ],
      "metadata": {
        "colab": {
          "base_uri": "https://localhost:8080/"
        },
        "id": "DTSY6m8UicbF",
        "outputId": "02110254-7061-4884-fc3e-4e138ce89b89"
      },
      "execution_count": 76,
      "outputs": [
        {
          "output_type": "stream",
          "name": "stdout",
          "text": [
            "\n",
            " MODEL FORMULA USED:\n",
            "Yield ~ AV_Site + Genotype + Season + AV_Site:Genotype + AV_Site:Season +      Genotype:Season + (1 | AV_Site:Block) + (1 | Block:Season) +      (1 | Block:Plot) \n",
            "\n"
          ]
        },
        {
          "output_type": "stream",
          "name": "stderr",
          "text": [
            "boundary (singular) fit: see help('isSingular')\n",
            "\n",
            "Warning message in agrivoltaics(output = Yield, treatment = AV_Site, genotype = Genotype, :\n",
            "“️ Model fit is singular. Some variance components may be near zero or redundant.”\n"
          ]
        },
        {
          "output_type": "stream",
          "name": "stdout",
          "text": [
            "\n",
            " VARIANCE COMPONENTS:\n",
            " Groups        Name        Variance\n",
            " Block:Plot    (Intercept)  535.72 \n",
            " Block:Season  (Intercept)  180.95 \n",
            " AV_Site:Block (Intercept)    0.00 \n",
            " Residual                  5703.96 \n",
            "\n",
            " VARIANCE COMPONENT BREAKDOWN (%):\n",
            "Random [Block:Plot]: 8.34%\n",
            "Random [Block:Season]: 2.82%\n",
            "Random [AV_Site:Block]: 0%\n",
            "Residual: 88.84%\n",
            "\n",
            " TYPE III ANOVA:\n",
            "Type III Analysis of Variance Table with Satterthwaite's method\n",
            "                  Sum Sq Mean Sq NumDF   DenDF  F value    Pr(>F)    \n",
            "AV_Site          2882354 2882354     1  10.967 505.3254 1.597e-10 ***\n",
            "Genotype           40083   40083     1  10.967   7.0273  0.022602 *  \n",
            "Season            172946  172946     1   4.512  30.3204  0.003706 ** \n",
            "AV_Site:Genotype     852     852     1  10.967   0.1493  0.706554    \n",
            "AV_Site:Season    126636  126636     1 297.426  22.2014 3.775e-06 ***\n",
            "Genotype:Season     6155    6155     1 297.426   1.0790  0.299757    \n",
            "---\n",
            "Signif. codes:  0 ‘***’ 0.001 ‘**’ 0.01 ‘*’ 0.05 ‘.’ 0.1 ‘ ’ 1\n"
          ]
        }
      ]
    },
    {
      "cell_type": "code",
      "source": [
        "post_hoc= cld (emmeans(model, ~ AV_Site:Season), adjust= \"sidak\", Letters=letters, reverse= TRUE)\n",
        "print(post_hoc)"
      ],
      "metadata": {
        "colab": {
          "base_uri": "https://localhost:8080/"
        },
        "id": "b3RAaqcQiiys",
        "outputId": "c305b8d7-464a-4725-c2b8-7daffbc9fd11"
      },
      "execution_count": 77,
      "outputs": [
        {
          "output_type": "stream",
          "name": "stdout",
          "text": [
            " AV_Site Season      emmean   SE   df lower.CL upper.CL .group\n",
            " Control 2016 season    529 13.5 10.5    488.7      570  a    \n",
            " Control 2015 season    419 13.5 10.5    378.9      460   b   \n",
            " AV      2016 season    167 13.5 10.5    126.9      208    c  \n",
            " AV      2015 season    137 13.5 10.5     96.6      178    c  \n",
            "\n",
            "Results are averaged over the levels of: Genotype \n",
            "Degrees-of-freedom method: kenward-roger \n",
            "Confidence level used: 0.95 \n",
            "Conf-level adjustment: sidak method for 4 estimates \n",
            "P value adjustment: sidak method for 6 tests \n",
            "significance level used: alpha = 0.05 \n",
            "NOTE: If two or more means share the same grouping symbol,\n",
            "      then we cannot show them to be different.\n",
            "      But we also did not show them to be the same. \n"
          ]
        }
      ]
    },
    {
      "cell_type": "markdown",
      "source": [
        "# 8) Multiple cultivars with multiple rows in different seasons"
      ],
      "metadata": {
        "id": "GHfqzO22jBNi"
      }
    },
    {
      "cell_type": "code",
      "source": [
        "model= agrivoltaics(\n",
        "  output= Yield,\n",
        "  treatment= AV_Site,\n",
        "  genotype= Genotype,\n",
        "  plot= Plot,\n",
        "  block= Block,\n",
        "  row= Row,\n",
        "  season= Season,\n",
        "  location= NULL,\n",
        "  data= df\n",
        ")"
      ],
      "metadata": {
        "colab": {
          "base_uri": "https://localhost:8080/"
        },
        "id": "23JC4SUejDmh",
        "outputId": "16f347fc-1df8-4db5-c233-2ab9183c74a2"
      },
      "execution_count": 78,
      "outputs": [
        {
          "output_type": "stream",
          "name": "stdout",
          "text": [
            "\n",
            " MODEL FORMULA USED:\n",
            "Yield ~ AV_Site + Genotype + Season + Row + AV_Site:Row + AV_Site:Genotype +      AV_Site:Season + Genotype:Season + AV_Site:Genotype:Row +      AV_Site:Season:Row + Genotype:Season:Row + (1 | AV_Site:Block) +      (1 | Block:Season) + (1 | Block:Plot) + (1 | Plot:Row) \n",
            "\n"
          ]
        },
        {
          "output_type": "stream",
          "name": "stderr",
          "text": [
            "boundary (singular) fit: see help('isSingular')\n",
            "\n",
            "Warning message in agrivoltaics(output = Yield, treatment = AV_Site, genotype = Genotype, :\n",
            "“️ Model fit is singular. Some variance components may be near zero or redundant.”\n"
          ]
        },
        {
          "output_type": "stream",
          "name": "stdout",
          "text": [
            "\n",
            " VARIANCE COMPONENTS:\n",
            " Groups        Name        Variance\n",
            " Plot:Row      (Intercept) 2204.252\n",
            " Block:Plot    (Intercept)   22.565\n",
            " Block:Season  (Intercept)  248.407\n",
            " AV_Site:Block (Intercept)    0.000\n",
            " Residual                  3054.075\n",
            "\n",
            " VARIANCE COMPONENT BREAKDOWN (%):\n",
            "Random [Plot:Row]: 39.86%\n",
            "Random [Block:Plot]: 0.41%\n",
            "Random [Block:Season]: 4.49%\n",
            "Random [AV_Site:Block]: 0%\n",
            "Residual: 55.23%\n",
            "\n",
            " TYPE III ANOVA:\n",
            "Type III Analysis of Variance Table with Satterthwaite's method\n",
            "                     Sum Sq Mean Sq NumDF   DenDF  F value    Pr(>F)    \n",
            "AV_Site              680928  680928     1  25.231 222.9570 4.930e-14 ***\n",
            "Genotype              24919   24919     1  11.007   8.1591  0.015607 *  \n",
            "Season                86989   86989     1   4.583  28.4829  0.004012 ** \n",
            "Row                   29242   14621     2  23.020   4.7874  0.018260 *  \n",
            "AV_Site:Row           37494   18747     2  27.435   6.1383  0.006263 ** \n",
            "AV_Site:Genotype        223     223     1  30.014   0.0732  0.788626    \n",
            "AV_Site:Season        62212   62212     1 257.441  20.3701 9.715e-06 ***\n",
            "Genotype:Season        5260    5260     1 257.441   1.7223  0.190560    \n",
            "AV_Site:Genotype:Row  10000    2500     4  23.020   0.8186  0.526517    \n",
            "AV_Site:Season:Row     7094    1774     4 257.441   0.5807  0.676866    \n",
            "Genotype:Season:Row     118      59     2 257.441   0.0193  0.980853    \n",
            "---\n",
            "Signif. codes:  0 ‘***’ 0.001 ‘**’ 0.01 ‘*’ 0.05 ‘.’ 0.1 ‘ ’ 1\n"
          ]
        }
      ]
    },
    {
      "cell_type": "code",
      "source": [
        "post_hoc= cld (emmeans(model, ~ AV_Site:Season), adjust= \"sidak\", Letters=letters, reverse= TRUE)\n",
        "print(post_hoc)"
      ],
      "metadata": {
        "colab": {
          "base_uri": "https://localhost:8080/"
        },
        "id": "UgZDvROVIbJJ",
        "outputId": "4d4329c3-16e1-475a-a11d-c4313a9e7a03"
      },
      "execution_count": 79,
      "outputs": [
        {
          "output_type": "stream",
          "name": "stderr",
          "text": [
            "NOTE: Results may be misleading due to involvement in interactions\n",
            "\n"
          ]
        },
        {
          "output_type": "stream",
          "name": "stdout",
          "text": [
            " AV_Site Season      emmean   SE   df lower.CL upper.CL .group\n",
            " Control 2016 season    513 14.1 9.76    469.7      556  a    \n",
            " Control 2015 season    406 14.1 9.76    363.5      449   b   \n",
            " AV      2016 season    173 14.1 9.76    130.4      216    c  \n",
            " AV      2015 season    142 14.1 9.76     98.8      185    c  \n",
            "\n",
            "Results are averaged over the levels of: Genotype, Row \n",
            "Degrees-of-freedom method: kenward-roger \n",
            "Confidence level used: 0.95 \n",
            "Conf-level adjustment: sidak method for 4 estimates \n",
            "P value adjustment: sidak method for 6 tests \n",
            "significance level used: alpha = 0.05 \n",
            "NOTE: If two or more means share the same grouping symbol,\n",
            "      then we cannot show them to be different.\n",
            "      But we also did not show them to be the same. \n"
          ]
        }
      ]
    }
  ]
}
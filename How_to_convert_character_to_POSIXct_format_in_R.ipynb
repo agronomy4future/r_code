{
  "nbformat": 4,
  "nbformat_minor": 0,
  "metadata": {
    "colab": {
      "provenance": [],
      "authorship_tag": "ABX9TyOmLDfGkEBU/A244/LtAX8b"
    },
    "kernelspec": {
      "name": "ir",
      "display_name": "R"
    },
    "language_info": {
      "name": "R"
    }
  },
  "cells": [
    {
      "cell_type": "code",
      "execution_count": 1,
      "metadata": {
        "colab": {
          "base_uri": "https://localhost:8080/",
          "height": 411
        },
        "id": "uQocaOgU46z-",
        "outputId": "7b14ea20-d7f0-4e57-d8e2-0c389934a3f7"
      },
      "outputs": [
        {
          "output_type": "display_data",
          "data": {
            "text/html": [
              "<table class=\"dataframe\">\n",
              "<caption>A data.frame: 10 × 2</caption>\n",
              "<thead>\n",
              "\t<tr><th></th><th scope=col>time</th><th scope=col>solar_radiation</th></tr>\n",
              "\t<tr><th></th><th scope=col>&lt;chr&gt;</th><th scope=col>&lt;dbl&gt;</th></tr>\n",
              "</thead>\n",
              "<tbody>\n",
              "\t<tr><th scope=row>1</th><td>2022-10-01 00:30:00</td><td>  0.00000</td></tr>\n",
              "\t<tr><th scope=row>2</th><td>2022-10-01 01:30:00</td><td>  0.00000</td></tr>\n",
              "\t<tr><th scope=row>3</th><td>2022-10-01 02:30:00</td><td>  0.00000</td></tr>\n",
              "\t<tr><th scope=row>4</th><td>2022-10-01 03:30:00</td><td>  0.00000</td></tr>\n",
              "\t<tr><th scope=row>5</th><td>2022-10-01 04:30:00</td><td>  0.00000</td></tr>\n",
              "\t<tr><th scope=row>6</th><td>2022-10-01 05:30:00</td><td>  0.00000</td></tr>\n",
              "\t<tr><th scope=row>7</th><td>2022-10-01 06:30:00</td><td>  0.00000</td></tr>\n",
              "\t<tr><th scope=row>8</th><td>2022-10-01 07:30:00</td><td> 94.84647</td></tr>\n",
              "\t<tr><th scope=row>9</th><td>2022-10-01 08:30:00</td><td>292.96020</td></tr>\n",
              "\t<tr><th scope=row>10</th><td>2022-10-01 09:30:00</td><td>483.37388</td></tr>\n",
              "</tbody>\n",
              "</table>\n"
            ],
            "text/markdown": "\nA data.frame: 10 × 2\n\n| <!--/--> | time &lt;chr&gt; | solar_radiation &lt;dbl&gt; |\n|---|---|---|\n| 1 | 2022-10-01 00:30:00 |   0.00000 |\n| 2 | 2022-10-01 01:30:00 |   0.00000 |\n| 3 | 2022-10-01 02:30:00 |   0.00000 |\n| 4 | 2022-10-01 03:30:00 |   0.00000 |\n| 5 | 2022-10-01 04:30:00 |   0.00000 |\n| 6 | 2022-10-01 05:30:00 |   0.00000 |\n| 7 | 2022-10-01 06:30:00 |   0.00000 |\n| 8 | 2022-10-01 07:30:00 |  94.84647 |\n| 9 | 2022-10-01 08:30:00 | 292.96020 |\n| 10 | 2022-10-01 09:30:00 | 483.37388 |\n\n",
            "text/latex": "A data.frame: 10 × 2\n\\begin{tabular}{r|ll}\n  & time & solar\\_radiation\\\\\n  & <chr> & <dbl>\\\\\n\\hline\n\t1 & 2022-10-01 00:30:00 &   0.00000\\\\\n\t2 & 2022-10-01 01:30:00 &   0.00000\\\\\n\t3 & 2022-10-01 02:30:00 &   0.00000\\\\\n\t4 & 2022-10-01 03:30:00 &   0.00000\\\\\n\t5 & 2022-10-01 04:30:00 &   0.00000\\\\\n\t6 & 2022-10-01 05:30:00 &   0.00000\\\\\n\t7 & 2022-10-01 06:30:00 &   0.00000\\\\\n\t8 & 2022-10-01 07:30:00 &  94.84647\\\\\n\t9 & 2022-10-01 08:30:00 & 292.96020\\\\\n\t10 & 2022-10-01 09:30:00 & 483.37388\\\\\n\\end{tabular}\n",
            "text/plain": [
              "   time                solar_radiation\n",
              "1  2022-10-01 00:30:00   0.00000      \n",
              "2  2022-10-01 01:30:00   0.00000      \n",
              "3  2022-10-01 02:30:00   0.00000      \n",
              "4  2022-10-01 03:30:00   0.00000      \n",
              "5  2022-10-01 04:30:00   0.00000      \n",
              "6  2022-10-01 05:30:00   0.00000      \n",
              "7  2022-10-01 06:30:00   0.00000      \n",
              "8  2022-10-01 07:30:00  94.84647      \n",
              "9  2022-10-01 08:30:00 292.96020      \n",
              "10 2022-10-01 09:30:00 483.37388      "
            ]
          },
          "metadata": {}
        }
      ],
      "source": [
        "df= data.frame(structure(list(time = c(\"2022-10-01 00:30:00\", \"2022-10-01 01:30:00\",\n",
        "                        \"2022-10-01 02:30:00\", \"2022-10-01 03:30:00\", \"2022-10-01 04:30:00\",\n",
        "                        \"2022-10-01 05:30:00\", \"2022-10-01 06:30:00\", \"2022-10-01 07:30:00\",\n",
        "                        \"2022-10-01 08:30:00\", \"2022-10-01 09:30:00\", \"2022-10-01 10:30:00\",\n",
        "                        \"2022-10-01 11:30:00\", \"2022-10-01 12:30:00\", \"2022-10-01 13:30:00\",\n",
        "                        \"2022-10-01 14:30:00\", \"2022-10-01 15:30:00\", \"2022-10-01 16:30:00\",\n",
        "                        \"2022-10-01 17:30:00\", \"2022-10-01 18:30:00\", \"2022-10-01 19:30:00\",\n",
        "                        \"2022-10-01 20:30:00\", \"2022-10-01 21:30:00\", \"2022-10-01 22:30:00\",\n",
        "                        \"2022-10-01 23:30:00\"),\n",
        "                        solar_radiation = c(0, 0, 0, 0, 0, 0, 0, 94.8464713165497,\n",
        "                        292.960199004975, 483.373881932022, 636.977557890442,\n",
        "                        739.091692307692, 781.551058146702, 760.003039513678,\n",
        "                        679.285714285714, 542.340616966581, 365.719847651291,\n",
        "                        169.117233294256, 11.3918975358485, 0, 0, 0, 0, 0)),\n",
        "                        class = c(\"tbl_df\", \"tbl\", \"data.frame\"),\n",
        "                        row.names = c(NA, -24L)))\n",
        "\n",
        "head(df,10)"
      ]
    },
    {
      "cell_type": "code",
      "source": [
        "str(df)"
      ],
      "metadata": {
        "colab": {
          "base_uri": "https://localhost:8080/"
        },
        "id": "ry-81VaU5D8e",
        "outputId": "05bd9b22-e5c8-476b-954c-36cf6db04f43"
      },
      "execution_count": 2,
      "outputs": [
        {
          "output_type": "stream",
          "name": "stdout",
          "text": [
            "'data.frame':\t24 obs. of  2 variables:\n",
            " $ time           : chr  \"2022-10-01 00:30:00\" \"2022-10-01 01:30:00\" \"2022-10-01 02:30:00\" \"2022-10-01 03:30:00\" ...\n",
            " $ solar_radiation: num  0 0 0 0 0 ...\n"
          ]
        }
      ]
    },
    {
      "cell_type": "code",
      "source": [
        "df$time=as.POSIXct(df$time)\n",
        "str(df)"
      ],
      "metadata": {
        "colab": {
          "base_uri": "https://localhost:8080/"
        },
        "id": "eNistvFH5GVR",
        "outputId": "fee5be79-b333-4569-9317-b9390d41e272"
      },
      "execution_count": 3,
      "outputs": [
        {
          "output_type": "stream",
          "name": "stdout",
          "text": [
            "'data.frame':\t24 obs. of  2 variables:\n",
            " $ time           : POSIXct, format: \"2022-10-01 00:30:00\" \"2022-10-01 01:30:00\" ...\n",
            " $ solar_radiation: num  0 0 0 0 0 ...\n"
          ]
        }
      ]
    },
    {
      "cell_type": "code",
      "source": [
        "library(ggplot2)\n",
        "ggplot(data=df, aes(x=time, y=solar_radiation)) +\n",
        "  geom_line () +\n",
        "  scale_x_datetime(date_breaks=\"4 hour\", date_labels=\"%H:%M\") +\n",
        "  scale_y_continuous(breaks=seq(0,1500,500), limits = c(0,1500)) +\n",
        "  labs(x=\"Hour\", y=bquote(\"PAR (μ mol \"~m^-2*~s^-1*\")\")) +\n",
        "  theme_classic(base_size=18, base_family=\"serif\")+\n",
        "  theme(axis.line=element_line(linewidth=0.5, colour=\"black\"))"
      ],
      "metadata": {
        "colab": {
          "base_uri": "https://localhost:8080/",
          "height": 437
        },
        "id": "dDVVwOsj5LTq",
        "outputId": "cd052c13-aa80-449f-9bd0-9bd8ac8eb022"
      },
      "execution_count": 4,
      "outputs": [
        {
          "output_type": "display_data",
          "data": {
            "text/plain": [
              "plot without title"
            ],
            "image/png": "[encoded data removed]"
          },
          "metadata": {
            "image/png": {
              "width": 420,
              "height": 420
            }
          }
        }
      ]
    },
    {
      "cell_type": "markdown",
      "source": [
        "# full code"
      ],
      "metadata": {
        "id": "Iu_-xcJB5TnZ"
      }
    },
    {
      "cell_type": "code",
      "source": [
        "library(ggplot2)\n",
        "\n",
        "df= data.frame(structure(list(time = c(\"2022-10-01 00:30:00\", \"2022-10-01 01:30:00\",\n",
        "                        \"2022-10-01 02:30:00\", \"2022-10-01 03:30:00\", \"2022-10-01 04:30:00\",\n",
        "                        \"2022-10-01 05:30:00\", \"2022-10-01 06:30:00\", \"2022-10-01 07:30:00\",\n",
        "                        \"2022-10-01 08:30:00\", \"2022-10-01 09:30:00\", \"2022-10-01 10:30:00\",\n",
        "                        \"2022-10-01 11:30:00\", \"2022-10-01 12:30:00\", \"2022-10-01 13:30:00\",\n",
        "                        \"2022-10-01 14:30:00\", \"2022-10-01 15:30:00\", \"2022-10-01 16:30:00\",\n",
        "                        \"2022-10-01 17:30:00\", \"2022-10-01 18:30:00\", \"2022-10-01 19:30:00\",\n",
        "                        \"2022-10-01 20:30:00\", \"2022-10-01 21:30:00\", \"2022-10-01 22:30:00\",\n",
        "                        \"2022-10-01 23:30:00\"),\n",
        "                        solar_radiation = c(0, 0, 0, 0, 0, 0, 0, 94.8464713165497,\n",
        "                        292.960199004975, 483.373881932022, 636.977557890442,\n",
        "                        739.091692307692, 781.551058146702, 760.003039513678,\n",
        "                        679.285714285714, 542.340616966581, 365.719847651291,\n",
        "                        169.117233294256, 11.3918975358485, 0, 0, 0, 0, 0)),\n",
        "                        class = c(\"tbl_df\", \"tbl\", \"data.frame\"),\n",
        "                        row.names = c(NA, -24L)))\n",
        "\n",
        "df$time=as.POSIXct(df$time)\n",
        "\n",
        "ggplot(data=df, aes(x=time, y=solar_radiation)) +\n",
        "  geom_line () +\n",
        "  scale_x_datetime(date_breaks=\"4 hour\", date_labels=\"%H:%M\") +\n",
        "  scale_y_continuous(breaks=seq(0,1500,500), limits = c(0,1500)) +\n",
        "  labs(x=\"Hour\", y=bquote(\"PAR (μ mol \"~m^-2*~s^-1*\")\")) +\n",
        "  theme_classic(base_size=18, base_family=\"serif\")+\n",
        "  theme(axis.line=element_line(linewidth=0.5, colour=\"black\"))"
      ],
      "metadata": {
        "colab": {
          "base_uri": "https://localhost:8080/",
          "height": 437
        },
        "id": "w8urKe1Q5V0H",
        "outputId": "eae6d5b2-c356-42af-fb80-5df7139d9d5e"
      },
      "execution_count": 5,
      "outputs": [
        {
          "output_type": "display_data",
          "data": {
            "text/plain": [
              "plot without title"
            ],
            "image/png": "[encoded data removed]"
          },
          "metadata": {
            "image/png": {
              "width": 420,
              "height": 420
            }
          }
        }
      ]
    }
  ]
}
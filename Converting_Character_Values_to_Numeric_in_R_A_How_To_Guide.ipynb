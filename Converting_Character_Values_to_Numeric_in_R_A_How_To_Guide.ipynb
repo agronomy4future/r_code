{
  "nbformat": 4,
  "nbformat_minor": 0,
  "metadata": {
    "colab": {
      "provenance": [],
      "authorship_tag": "ABX9TyMQlKXkF/Joj9pxjCeKoGiD",
      "include_colab_link": true
    },
    "kernelspec": {
      "name": "ir",
      "display_name": "R"
    },
    "language_info": {
      "name": "R"
    }
  },
  "cells": [
    {
      "cell_type": "markdown",
      "metadata": {
        "id": "view-in-github",
        "colab_type": "text"
      },
      "source": [
        "<a href=\"https://colab.research.google.com/github/agronomy4future/r_code/blob/main/Converting_Character_Values_to_Numeric_in_R_A_How_To_Guide.ipynb\" target=\"_parent\"><img src=\"https://colab.research.google.com/assets/colab-badge.svg\" alt=\"Open In Colab\"/></a>"
      ]
    },
    {
      "cell_type": "markdown",
      "source": [
        "# required package"
      ],
      "metadata": {
        "id": "WnU4wQLKr3ap"
      }
    },
    {
      "cell_type": "code",
      "source": [
        "library(dplyr)"
      ],
      "metadata": {
        "id": "ZPg6ZCUqVMgl"
      },
      "execution_count": null,
      "outputs": []
    },
    {
      "cell_type": "markdown",
      "source": [
        "# data generated"
      ],
      "metadata": {
        "id": "7W453pSXr6vi"
      }
    },
    {
      "cell_type": "code",
      "execution_count": 56,
      "metadata": {
        "colab": {
          "base_uri": "https://localhost:8080/",
          "height": 850
        },
        "id": "8JYbqCmoUdQ7",
        "outputId": "9c9aff0c-425d-48d6-85de-76caa7ad0869"
      },
      "outputs": [
        {
          "output_type": "display_data",
          "data": {
            "text/html": [
              "<table class=\"dataframe\">\n",
              "<caption>A data.frame: 24 × 5</caption>\n",
              "<thead>\n",
              "\t<tr><th scope=col>location</th><th scope=col>fertilizer</th><th scope=col>block</th><th scope=col>yield</th><th scope=col>yield1</th></tr>\n",
              "\t<tr><th scope=col>&lt;chr&gt;</th><th scope=col>&lt;chr&gt;</th><th scope=col>&lt;chr&gt;</th><th scope=col>&lt;chr&gt;</th><th scope=col>&lt;dbl&gt;</th></tr>\n",
              "</thead>\n",
              "<tbody>\n",
              "\t<tr><td>Illinois</td><td>A</td><td>I </td><td>100    </td><td>100</td></tr>\n",
              "\t<tr><td>Illinois</td><td>A</td><td>II</td><td>99     </td><td> 99</td></tr>\n",
              "\t<tr><td>Illinois</td><td>A</td><td>II</td><td>98     </td><td> 98</td></tr>\n",
              "\t<tr><td>Illinois</td><td>B</td><td>I </td><td>125    </td><td>125</td></tr>\n",
              "\t<tr><td>Illinois</td><td>B</td><td>II</td><td>NA     </td><td> NA</td></tr>\n",
              "\t<tr><td>Illinois</td><td>B</td><td>II</td><td>135    </td><td>135</td></tr>\n",
              "\t<tr><td>Illinois</td><td>C</td><td>I </td><td>140    </td><td>140</td></tr>\n",
              "\t<tr><td>Illinois</td><td>C</td><td>II</td><td>138    </td><td>138</td></tr>\n",
              "\t<tr><td>Illinois</td><td>C</td><td>II</td><td>128    </td><td>128</td></tr>\n",
              "\t<tr><td>Illinois</td><td>D</td><td>I </td><td>80     </td><td> 80</td></tr>\n",
              "\t<tr><td>Illinois</td><td>D</td><td>II</td><td>87     </td><td> 87</td></tr>\n",
              "\t<tr><td>Illinois</td><td>D</td><td>II</td><td>76     </td><td> 76</td></tr>\n",
              "\t<tr><td>Iowa    </td><td>A</td><td>I </td><td>130    </td><td>130</td></tr>\n",
              "\t<tr><td>Iowa    </td><td>A</td><td>II</td><td>NA     </td><td> NA</td></tr>\n",
              "\t<tr><td>Iowa    </td><td>A</td><td>II</td><td>140    </td><td>140</td></tr>\n",
              "\t<tr><td>Iowa    </td><td>B</td><td>I </td><td>145    </td><td>145</td></tr>\n",
              "\t<tr><td>Iowa    </td><td>B</td><td>II</td><td>148    </td><td>148</td></tr>\n",
              "\t<tr><td>Iowa    </td><td>B</td><td>II</td><td>152    </td><td>152</td></tr>\n",
              "\t<tr><td>Iowa    </td><td>C</td><td>I </td><td>#DIV/0!</td><td> NA</td></tr>\n",
              "\t<tr><td>Iowa    </td><td>C</td><td>II</td><td>158    </td><td>158</td></tr>\n",
              "\t<tr><td>Iowa    </td><td>C</td><td>II</td><td>165    </td><td>165</td></tr>\n",
              "\t<tr><td>Iowa    </td><td>D</td><td>I </td><td>80     </td><td> 80</td></tr>\n",
              "\t<tr><td>Iowa    </td><td>D</td><td>II</td><td>78     </td><td> 78</td></tr>\n",
              "\t<tr><td>Iowa    </td><td>D</td><td>II</td><td>NA     </td><td> NA</td></tr>\n",
              "</tbody>\n",
              "</table>\n"
            ],
            "text/markdown": "\nA data.frame: 24 × 5\n\n| location &lt;chr&gt; | fertilizer &lt;chr&gt; | block &lt;chr&gt; | yield &lt;chr&gt; | yield1 &lt;dbl&gt; |\n|---|---|---|---|---|\n| Illinois | A | I  | 100     | 100 |\n| Illinois | A | II | 99      |  99 |\n| Illinois | A | II | 98      |  98 |\n| Illinois | B | I  | 125     | 125 |\n| Illinois | B | II | NA      |  NA |\n| Illinois | B | II | 135     | 135 |\n| Illinois | C | I  | 140     | 140 |\n| Illinois | C | II | 138     | 138 |\n| Illinois | C | II | 128     | 128 |\n| Illinois | D | I  | 80      |  80 |\n| Illinois | D | II | 87      |  87 |\n| Illinois | D | II | 76      |  76 |\n| Iowa     | A | I  | 130     | 130 |\n| Iowa     | A | II | NA      |  NA |\n| Iowa     | A | II | 140     | 140 |\n| Iowa     | B | I  | 145     | 145 |\n| Iowa     | B | II | 148     | 148 |\n| Iowa     | B | II | 152     | 152 |\n| Iowa     | C | I  | #DIV/0! |  NA |\n| Iowa     | C | II | 158     | 158 |\n| Iowa     | C | II | 165     | 165 |\n| Iowa     | D | I  | 80      |  80 |\n| Iowa     | D | II | 78      |  78 |\n| Iowa     | D | II | NA      |  NA |\n\n",
            "text/latex": "A data.frame: 24 × 5\n\\begin{tabular}{lllll}\n location & fertilizer & block & yield & yield1\\\\\n <chr> & <chr> & <chr> & <chr> & <dbl>\\\\\n\\hline\n\t Illinois & A & I  & 100     & 100\\\\\n\t Illinois & A & II & 99      &  99\\\\\n\t Illinois & A & II & 98      &  98\\\\\n\t Illinois & B & I  & 125     & 125\\\\\n\t Illinois & B & II & NA      &  NA\\\\\n\t Illinois & B & II & 135     & 135\\\\\n\t Illinois & C & I  & 140     & 140\\\\\n\t Illinois & C & II & 138     & 138\\\\\n\t Illinois & C & II & 128     & 128\\\\\n\t Illinois & D & I  & 80      &  80\\\\\n\t Illinois & D & II & 87      &  87\\\\\n\t Illinois & D & II & 76      &  76\\\\\n\t Iowa     & A & I  & 130     & 130\\\\\n\t Iowa     & A & II & NA      &  NA\\\\\n\t Iowa     & A & II & 140     & 140\\\\\n\t Iowa     & B & I  & 145     & 145\\\\\n\t Iowa     & B & II & 148     & 148\\\\\n\t Iowa     & B & II & 152     & 152\\\\\n\t Iowa     & C & I  & \\#DIV/0! &  NA\\\\\n\t Iowa     & C & II & 158     & 158\\\\\n\t Iowa     & C & II & 165     & 165\\\\\n\t Iowa     & D & I  & 80      &  80\\\\\n\t Iowa     & D & II & 78      &  78\\\\\n\t Iowa     & D & II & NA      &  NA\\\\\n\\end{tabular}\n",
            "text/plain": [
              "   location fertilizer block yield   yield1\n",
              "1  Illinois A          I     100     100   \n",
              "2  Illinois A          II    99       99   \n",
              "3  Illinois A          II    98       98   \n",
              "4  Illinois B          I     125     125   \n",
              "5  Illinois B          II    NA       NA   \n",
              "6  Illinois B          II    135     135   \n",
              "7  Illinois C          I     140     140   \n",
              "8  Illinois C          II    138     138   \n",
              "9  Illinois C          II    128     128   \n",
              "10 Illinois D          I     80       80   \n",
              "11 Illinois D          II    87       87   \n",
              "12 Illinois D          II    76       76   \n",
              "13 Iowa     A          I     130     130   \n",
              "14 Iowa     A          II    NA       NA   \n",
              "15 Iowa     A          II    140     140   \n",
              "16 Iowa     B          I     145     145   \n",
              "17 Iowa     B          II    148     148   \n",
              "18 Iowa     B          II    152     152   \n",
              "19 Iowa     C          I     #DIV/0!  NA   \n",
              "20 Iowa     C          II    158     158   \n",
              "21 Iowa     C          II    165     165   \n",
              "22 Iowa     D          I     80       80   \n",
              "23 Iowa     D          II    78       78   \n",
              "24 Iowa     D          II    NA       NA   "
            ]
          },
          "metadata": {}
        }
      ],
      "source": [
        "df= data.frame(\n",
        "  location= rep(c(\"Illinois\", \"Iowa\"), each = 12),\n",
        "  fertilizer= rep(c(\"A\", \"A\", \"A\", \"B\", \"B\", \"B\", \"C\", \"C\", \"C\", \"D\", \"D\", \"D\"), times = 2),\n",
        "  block= rep(c(\"I\", \"II\", \"II\"), times = 8),\n",
        "  yield= c('100', '99', '98', '125', \"NA\", '135', '140', '138', '128', '80', '87', '76', '130', \"NA\", '140', '145', '148', '152', \"#DIV/0!\", '158', '165', '80', '78', \"NA\"),\n",
        "  yield1= c(100, 99, 98, 125, NA, 135, 140, 138, 128, 80, 87, 76, 130, NA, 140, 145, 148, 152, NA, 158, 165, 80, 78, NA)\n",
        ")\n",
        "df"
      ]
    },
    {
      "cell_type": "code",
      "source": [
        "str(df)"
      ],
      "metadata": {
        "colab": {
          "base_uri": "https://localhost:8080/"
        },
        "id": "a6zP2uDaObHh",
        "outputId": "4301459a-8c63-4826-d4fc-a006e0aa9833"
      },
      "execution_count": 86,
      "outputs": [
        {
          "output_type": "stream",
          "name": "stdout",
          "text": [
            "'data.frame':\t24 obs. of  5 variables:\n",
            " $ location  : chr  \"Illinois\" \"Illinois\" \"Illinois\" \"Illinois\" ...\n",
            " $ fertilizer: chr  \"A\" \"A\" \"A\" \"B\" ...\n",
            " $ block     : chr  \"I\" \"II\" \"II\" \"I\" ...\n",
            " $ yield     : chr  \"100\" \"99\" \"98\" \"125\" ...\n",
            " $ yield1    : num  100 99 98 125 NA 135 140 138 128 80 ...\n"
          ]
        }
      ]
    },
    {
      "cell_type": "markdown",
      "source": [
        "# convert missing value to 0 when data is numeric (yield1 column)"
      ],
      "metadata": {
        "id": "jH4xL0yXr-B_"
      }
    },
    {
      "cell_type": "code",
      "source": [
        "library(dplyr)\n",
        "\n",
        "dataA= df %>%\n",
        "       dplyr::mutate(yield_corrected= if_else(is.na(yield1), 0, as.numeric(yield1)))\n",
        "dataA"
      ],
      "metadata": {
        "colab": {
          "base_uri": "https://localhost:8080/",
          "height": 850
        },
        "id": "FQAeaxgssEpr",
        "outputId": "6d305a9c-0e30-4082-a2a1-fbdb7da1d2ec"
      },
      "execution_count": 89,
      "outputs": [
        {
          "output_type": "display_data",
          "data": {
            "text/html": [
              "<table class=\"dataframe\">\n",
              "<caption>A data.frame: 24 × 6</caption>\n",
              "<thead>\n",
              "\t<tr><th scope=col>location</th><th scope=col>fertilizer</th><th scope=col>block</th><th scope=col>yield</th><th scope=col>yield1</th><th scope=col>yield_corrected</th></tr>\n",
              "\t<tr><th scope=col>&lt;chr&gt;</th><th scope=col>&lt;chr&gt;</th><th scope=col>&lt;chr&gt;</th><th scope=col>&lt;chr&gt;</th><th scope=col>&lt;dbl&gt;</th><th scope=col>&lt;dbl&gt;</th></tr>\n",
              "</thead>\n",
              "<tbody>\n",
              "\t<tr><td>Illinois</td><td>A</td><td>I </td><td>100    </td><td>100</td><td>100</td></tr>\n",
              "\t<tr><td>Illinois</td><td>A</td><td>II</td><td>99     </td><td> 99</td><td> 99</td></tr>\n",
              "\t<tr><td>Illinois</td><td>A</td><td>II</td><td>98     </td><td> 98</td><td> 98</td></tr>\n",
              "\t<tr><td>Illinois</td><td>B</td><td>I </td><td>125    </td><td>125</td><td>125</td></tr>\n",
              "\t<tr><td>Illinois</td><td>B</td><td>II</td><td>NA     </td><td> NA</td><td>  0</td></tr>\n",
              "\t<tr><td>Illinois</td><td>B</td><td>II</td><td>135    </td><td>135</td><td>135</td></tr>\n",
              "\t<tr><td>Illinois</td><td>C</td><td>I </td><td>140    </td><td>140</td><td>140</td></tr>\n",
              "\t<tr><td>Illinois</td><td>C</td><td>II</td><td>138    </td><td>138</td><td>138</td></tr>\n",
              "\t<tr><td>Illinois</td><td>C</td><td>II</td><td>128    </td><td>128</td><td>128</td></tr>\n",
              "\t<tr><td>Illinois</td><td>D</td><td>I </td><td>80     </td><td> 80</td><td> 80</td></tr>\n",
              "\t<tr><td>Illinois</td><td>D</td><td>II</td><td>87     </td><td> 87</td><td> 87</td></tr>\n",
              "\t<tr><td>Illinois</td><td>D</td><td>II</td><td>76     </td><td> 76</td><td> 76</td></tr>\n",
              "\t<tr><td>Iowa    </td><td>A</td><td>I </td><td>130    </td><td>130</td><td>130</td></tr>\n",
              "\t<tr><td>Iowa    </td><td>A</td><td>II</td><td>NA     </td><td> NA</td><td>  0</td></tr>\n",
              "\t<tr><td>Iowa    </td><td>A</td><td>II</td><td>140    </td><td>140</td><td>140</td></tr>\n",
              "\t<tr><td>Iowa    </td><td>B</td><td>I </td><td>145    </td><td>145</td><td>145</td></tr>\n",
              "\t<tr><td>Iowa    </td><td>B</td><td>II</td><td>148    </td><td>148</td><td>148</td></tr>\n",
              "\t<tr><td>Iowa    </td><td>B</td><td>II</td><td>152    </td><td>152</td><td>152</td></tr>\n",
              "\t<tr><td>Iowa    </td><td>C</td><td>I </td><td>#DIV/0!</td><td> NA</td><td>  0</td></tr>\n",
              "\t<tr><td>Iowa    </td><td>C</td><td>II</td><td>158    </td><td>158</td><td>158</td></tr>\n",
              "\t<tr><td>Iowa    </td><td>C</td><td>II</td><td>165    </td><td>165</td><td>165</td></tr>\n",
              "\t<tr><td>Iowa    </td><td>D</td><td>I </td><td>80     </td><td> 80</td><td> 80</td></tr>\n",
              "\t<tr><td>Iowa    </td><td>D</td><td>II</td><td>78     </td><td> 78</td><td> 78</td></tr>\n",
              "\t<tr><td>Iowa    </td><td>D</td><td>II</td><td>NA     </td><td> NA</td><td>  0</td></tr>\n",
              "</tbody>\n",
              "</table>\n"
            ],
            "text/markdown": "\nA data.frame: 24 × 6\n\n| location &lt;chr&gt; | fertilizer &lt;chr&gt; | block &lt;chr&gt; | yield &lt;chr&gt; | yield1 &lt;dbl&gt; | yield_corrected &lt;dbl&gt; |\n|---|---|---|---|---|---|\n| Illinois | A | I  | 100     | 100 | 100 |\n| Illinois | A | II | 99      |  99 |  99 |\n| Illinois | A | II | 98      |  98 |  98 |\n| Illinois | B | I  | 125     | 125 | 125 |\n| Illinois | B | II | NA      |  NA |   0 |\n| Illinois | B | II | 135     | 135 | 135 |\n| Illinois | C | I  | 140     | 140 | 140 |\n| Illinois | C | II | 138     | 138 | 138 |\n| Illinois | C | II | 128     | 128 | 128 |\n| Illinois | D | I  | 80      |  80 |  80 |\n| Illinois | D | II | 87      |  87 |  87 |\n| Illinois | D | II | 76      |  76 |  76 |\n| Iowa     | A | I  | 130     | 130 | 130 |\n| Iowa     | A | II | NA      |  NA |   0 |\n| Iowa     | A | II | 140     | 140 | 140 |\n| Iowa     | B | I  | 145     | 145 | 145 |\n| Iowa     | B | II | 148     | 148 | 148 |\n| Iowa     | B | II | 152     | 152 | 152 |\n| Iowa     | C | I  | #DIV/0! |  NA |   0 |\n| Iowa     | C | II | 158     | 158 | 158 |\n| Iowa     | C | II | 165     | 165 | 165 |\n| Iowa     | D | I  | 80      |  80 |  80 |\n| Iowa     | D | II | 78      |  78 |  78 |\n| Iowa     | D | II | NA      |  NA |   0 |\n\n",
            "text/latex": "A data.frame: 24 × 6\n\\begin{tabular}{llllll}\n location & fertilizer & block & yield & yield1 & yield\\_corrected\\\\\n <chr> & <chr> & <chr> & <chr> & <dbl> & <dbl>\\\\\n\\hline\n\t Illinois & A & I  & 100     & 100 & 100\\\\\n\t Illinois & A & II & 99      &  99 &  99\\\\\n\t Illinois & A & II & 98      &  98 &  98\\\\\n\t Illinois & B & I  & 125     & 125 & 125\\\\\n\t Illinois & B & II & NA      &  NA &   0\\\\\n\t Illinois & B & II & 135     & 135 & 135\\\\\n\t Illinois & C & I  & 140     & 140 & 140\\\\\n\t Illinois & C & II & 138     & 138 & 138\\\\\n\t Illinois & C & II & 128     & 128 & 128\\\\\n\t Illinois & D & I  & 80      &  80 &  80\\\\\n\t Illinois & D & II & 87      &  87 &  87\\\\\n\t Illinois & D & II & 76      &  76 &  76\\\\\n\t Iowa     & A & I  & 130     & 130 & 130\\\\\n\t Iowa     & A & II & NA      &  NA &   0\\\\\n\t Iowa     & A & II & 140     & 140 & 140\\\\\n\t Iowa     & B & I  & 145     & 145 & 145\\\\\n\t Iowa     & B & II & 148     & 148 & 148\\\\\n\t Iowa     & B & II & 152     & 152 & 152\\\\\n\t Iowa     & C & I  & \\#DIV/0! &  NA &   0\\\\\n\t Iowa     & C & II & 158     & 158 & 158\\\\\n\t Iowa     & C & II & 165     & 165 & 165\\\\\n\t Iowa     & D & I  & 80      &  80 &  80\\\\\n\t Iowa     & D & II & 78      &  78 &  78\\\\\n\t Iowa     & D & II & NA      &  NA &   0\\\\\n\\end{tabular}\n",
            "text/plain": [
              "   location fertilizer block yield   yield1 yield_corrected\n",
              "1  Illinois A          I     100     100    100            \n",
              "2  Illinois A          II    99       99     99            \n",
              "3  Illinois A          II    98       98     98            \n",
              "4  Illinois B          I     125     125    125            \n",
              "5  Illinois B          II    NA       NA      0            \n",
              "6  Illinois B          II    135     135    135            \n",
              "7  Illinois C          I     140     140    140            \n",
              "8  Illinois C          II    138     138    138            \n",
              "9  Illinois C          II    128     128    128            \n",
              "10 Illinois D          I     80       80     80            \n",
              "11 Illinois D          II    87       87     87            \n",
              "12 Illinois D          II    76       76     76            \n",
              "13 Iowa     A          I     130     130    130            \n",
              "14 Iowa     A          II    NA       NA      0            \n",
              "15 Iowa     A          II    140     140    140            \n",
              "16 Iowa     B          I     145     145    145            \n",
              "17 Iowa     B          II    148     148    148            \n",
              "18 Iowa     B          II    152     152    152            \n",
              "19 Iowa     C          I     #DIV/0!  NA      0            \n",
              "20 Iowa     C          II    158     158    158            \n",
              "21 Iowa     C          II    165     165    165            \n",
              "22 Iowa     D          I     80       80     80            \n",
              "23 Iowa     D          II    78       78     78            \n",
              "24 Iowa     D          II    NA       NA      0            "
            ]
          },
          "metadata": {}
        }
      ]
    },
    {
      "cell_type": "code",
      "source": [
        "dataA1 = df %>%\n",
        "         dplyr::mutate(yield1=coalesce(yield1, 0))\n",
        "dataA1"
      ],
      "metadata": {
        "colab": {
          "base_uri": "https://localhost:8080/",
          "height": 850
        },
        "id": "jVlvlT2NQKD8",
        "outputId": "355062fd-2671-4799-ee19-6c56e2fe831e"
      },
      "execution_count": 91,
      "outputs": [
        {
          "output_type": "display_data",
          "data": {
            "text/html": [
              "<table class=\"dataframe\">\n",
              "<caption>A data.frame: 24 × 5</caption>\n",
              "<thead>\n",
              "\t<tr><th scope=col>location</th><th scope=col>fertilizer</th><th scope=col>block</th><th scope=col>yield</th><th scope=col>yield1</th></tr>\n",
              "\t<tr><th scope=col>&lt;chr&gt;</th><th scope=col>&lt;chr&gt;</th><th scope=col>&lt;chr&gt;</th><th scope=col>&lt;chr&gt;</th><th scope=col>&lt;dbl&gt;</th></tr>\n",
              "</thead>\n",
              "<tbody>\n",
              "\t<tr><td>Illinois</td><td>A</td><td>I </td><td>100    </td><td>100</td></tr>\n",
              "\t<tr><td>Illinois</td><td>A</td><td>II</td><td>99     </td><td> 99</td></tr>\n",
              "\t<tr><td>Illinois</td><td>A</td><td>II</td><td>98     </td><td> 98</td></tr>\n",
              "\t<tr><td>Illinois</td><td>B</td><td>I </td><td>125    </td><td>125</td></tr>\n",
              "\t<tr><td>Illinois</td><td>B</td><td>II</td><td>NA     </td><td>  0</td></tr>\n",
              "\t<tr><td>Illinois</td><td>B</td><td>II</td><td>135    </td><td>135</td></tr>\n",
              "\t<tr><td>Illinois</td><td>C</td><td>I </td><td>140    </td><td>140</td></tr>\n",
              "\t<tr><td>Illinois</td><td>C</td><td>II</td><td>138    </td><td>138</td></tr>\n",
              "\t<tr><td>Illinois</td><td>C</td><td>II</td><td>128    </td><td>128</td></tr>\n",
              "\t<tr><td>Illinois</td><td>D</td><td>I </td><td>80     </td><td> 80</td></tr>\n",
              "\t<tr><td>Illinois</td><td>D</td><td>II</td><td>87     </td><td> 87</td></tr>\n",
              "\t<tr><td>Illinois</td><td>D</td><td>II</td><td>76     </td><td> 76</td></tr>\n",
              "\t<tr><td>Iowa    </td><td>A</td><td>I </td><td>130    </td><td>130</td></tr>\n",
              "\t<tr><td>Iowa    </td><td>A</td><td>II</td><td>NA     </td><td>  0</td></tr>\n",
              "\t<tr><td>Iowa    </td><td>A</td><td>II</td><td>140    </td><td>140</td></tr>\n",
              "\t<tr><td>Iowa    </td><td>B</td><td>I </td><td>145    </td><td>145</td></tr>\n",
              "\t<tr><td>Iowa    </td><td>B</td><td>II</td><td>148    </td><td>148</td></tr>\n",
              "\t<tr><td>Iowa    </td><td>B</td><td>II</td><td>152    </td><td>152</td></tr>\n",
              "\t<tr><td>Iowa    </td><td>C</td><td>I </td><td>#DIV/0!</td><td>  0</td></tr>\n",
              "\t<tr><td>Iowa    </td><td>C</td><td>II</td><td>158    </td><td>158</td></tr>\n",
              "\t<tr><td>Iowa    </td><td>C</td><td>II</td><td>165    </td><td>165</td></tr>\n",
              "\t<tr><td>Iowa    </td><td>D</td><td>I </td><td>80     </td><td> 80</td></tr>\n",
              "\t<tr><td>Iowa    </td><td>D</td><td>II</td><td>78     </td><td> 78</td></tr>\n",
              "\t<tr><td>Iowa    </td><td>D</td><td>II</td><td>NA     </td><td>  0</td></tr>\n",
              "</tbody>\n",
              "</table>\n"
            ],
            "text/markdown": "\nA data.frame: 24 × 5\n\n| location &lt;chr&gt; | fertilizer &lt;chr&gt; | block &lt;chr&gt; | yield &lt;chr&gt; | yield1 &lt;dbl&gt; |\n|---|---|---|---|---|\n| Illinois | A | I  | 100     | 100 |\n| Illinois | A | II | 99      |  99 |\n| Illinois | A | II | 98      |  98 |\n| Illinois | B | I  | 125     | 125 |\n| Illinois | B | II | NA      |   0 |\n| Illinois | B | II | 135     | 135 |\n| Illinois | C | I  | 140     | 140 |\n| Illinois | C | II | 138     | 138 |\n| Illinois | C | II | 128     | 128 |\n| Illinois | D | I  | 80      |  80 |\n| Illinois | D | II | 87      |  87 |\n| Illinois | D | II | 76      |  76 |\n| Iowa     | A | I  | 130     | 130 |\n| Iowa     | A | II | NA      |   0 |\n| Iowa     | A | II | 140     | 140 |\n| Iowa     | B | I  | 145     | 145 |\n| Iowa     | B | II | 148     | 148 |\n| Iowa     | B | II | 152     | 152 |\n| Iowa     | C | I  | #DIV/0! |   0 |\n| Iowa     | C | II | 158     | 158 |\n| Iowa     | C | II | 165     | 165 |\n| Iowa     | D | I  | 80      |  80 |\n| Iowa     | D | II | 78      |  78 |\n| Iowa     | D | II | NA      |   0 |\n\n",
            "text/latex": "A data.frame: 24 × 5\n\\begin{tabular}{lllll}\n location & fertilizer & block & yield & yield1\\\\\n <chr> & <chr> & <chr> & <chr> & <dbl>\\\\\n\\hline\n\t Illinois & A & I  & 100     & 100\\\\\n\t Illinois & A & II & 99      &  99\\\\\n\t Illinois & A & II & 98      &  98\\\\\n\t Illinois & B & I  & 125     & 125\\\\\n\t Illinois & B & II & NA      &   0\\\\\n\t Illinois & B & II & 135     & 135\\\\\n\t Illinois & C & I  & 140     & 140\\\\\n\t Illinois & C & II & 138     & 138\\\\\n\t Illinois & C & II & 128     & 128\\\\\n\t Illinois & D & I  & 80      &  80\\\\\n\t Illinois & D & II & 87      &  87\\\\\n\t Illinois & D & II & 76      &  76\\\\\n\t Iowa     & A & I  & 130     & 130\\\\\n\t Iowa     & A & II & NA      &   0\\\\\n\t Iowa     & A & II & 140     & 140\\\\\n\t Iowa     & B & I  & 145     & 145\\\\\n\t Iowa     & B & II & 148     & 148\\\\\n\t Iowa     & B & II & 152     & 152\\\\\n\t Iowa     & C & I  & \\#DIV/0! &   0\\\\\n\t Iowa     & C & II & 158     & 158\\\\\n\t Iowa     & C & II & 165     & 165\\\\\n\t Iowa     & D & I  & 80      &  80\\\\\n\t Iowa     & D & II & 78      &  78\\\\\n\t Iowa     & D & II & NA      &   0\\\\\n\\end{tabular}\n",
            "text/plain": [
              "   location fertilizer block yield   yield1\n",
              "1  Illinois A          I     100     100   \n",
              "2  Illinois A          II    99       99   \n",
              "3  Illinois A          II    98       98   \n",
              "4  Illinois B          I     125     125   \n",
              "5  Illinois B          II    NA        0   \n",
              "6  Illinois B          II    135     135   \n",
              "7  Illinois C          I     140     140   \n",
              "8  Illinois C          II    138     138   \n",
              "9  Illinois C          II    128     128   \n",
              "10 Illinois D          I     80       80   \n",
              "11 Illinois D          II    87       87   \n",
              "12 Illinois D          II    76       76   \n",
              "13 Iowa     A          I     130     130   \n",
              "14 Iowa     A          II    NA        0   \n",
              "15 Iowa     A          II    140     140   \n",
              "16 Iowa     B          I     145     145   \n",
              "17 Iowa     B          II    148     148   \n",
              "18 Iowa     B          II    152     152   \n",
              "19 Iowa     C          I     #DIV/0!   0   \n",
              "20 Iowa     C          II    158     158   \n",
              "21 Iowa     C          II    165     165   \n",
              "22 Iowa     D          I     80       80   \n",
              "23 Iowa     D          II    78       78   \n",
              "24 Iowa     D          II    NA        0   "
            ]
          },
          "metadata": {}
        }
      ]
    },
    {
      "cell_type": "markdown",
      "source": [
        "# convert missing value to 0 when data is categorical (yield column)"
      ],
      "metadata": {
        "id": "sWAHGaaosVVT"
      }
    },
    {
      "cell_type": "code",
      "source": [
        "dataB= df %>%\n",
        "       dplyr::mutate(yield_corrected = if_else(is.na(yield), 0, as.numeric(yield)))\n",
        "dataB"
      ],
      "metadata": {
        "colab": {
          "base_uri": "https://localhost:8080/",
          "height": 937
        },
        "id": "GFJEGK2esgaI",
        "outputId": "7ba2b576-265a-49db-a017-844af7500efa"
      },
      "execution_count": 95,
      "outputs": [
        {
          "output_type": "stream",
          "name": "stderr",
          "text": [
            "Warning message:\n",
            "“\u001b[1m\u001b[22mThere was 1 warning in `dplyr::mutate()`.\n",
            "\u001b[1m\u001b[22m\u001b[36mℹ\u001b[39m In argument: `yield_corrected = if_else(is.na(yield), 0, as.numeric(yield))`.\n",
            "Caused by warning in `if_else()`:\n",
            "\u001b[33m!\u001b[39m NAs introduced by coercion”\n"
          ]
        },
        {
          "output_type": "display_data",
          "data": {
            "text/html": [
              "<table class=\"dataframe\">\n",
              "<caption>A data.frame: 24 × 6</caption>\n",
              "<thead>\n",
              "\t<tr><th scope=col>location</th><th scope=col>fertilizer</th><th scope=col>block</th><th scope=col>yield</th><th scope=col>yield1</th><th scope=col>yield_corrected</th></tr>\n",
              "\t<tr><th scope=col>&lt;chr&gt;</th><th scope=col>&lt;chr&gt;</th><th scope=col>&lt;chr&gt;</th><th scope=col>&lt;chr&gt;</th><th scope=col>&lt;dbl&gt;</th><th scope=col>&lt;dbl&gt;</th></tr>\n",
              "</thead>\n",
              "<tbody>\n",
              "\t<tr><td>Illinois</td><td>A</td><td>I </td><td>100    </td><td>100</td><td>100</td></tr>\n",
              "\t<tr><td>Illinois</td><td>A</td><td>II</td><td>99     </td><td> 99</td><td> 99</td></tr>\n",
              "\t<tr><td>Illinois</td><td>A</td><td>II</td><td>98     </td><td> 98</td><td> 98</td></tr>\n",
              "\t<tr><td>Illinois</td><td>B</td><td>I </td><td>125    </td><td>125</td><td>125</td></tr>\n",
              "\t<tr><td>Illinois</td><td>B</td><td>II</td><td>NA     </td><td> NA</td><td> NA</td></tr>\n",
              "\t<tr><td>Illinois</td><td>B</td><td>II</td><td>135    </td><td>135</td><td>135</td></tr>\n",
              "\t<tr><td>Illinois</td><td>C</td><td>I </td><td>140    </td><td>140</td><td>140</td></tr>\n",
              "\t<tr><td>Illinois</td><td>C</td><td>II</td><td>138    </td><td>138</td><td>138</td></tr>\n",
              "\t<tr><td>Illinois</td><td>C</td><td>II</td><td>128    </td><td>128</td><td>128</td></tr>\n",
              "\t<tr><td>Illinois</td><td>D</td><td>I </td><td>80     </td><td> 80</td><td> 80</td></tr>\n",
              "\t<tr><td>Illinois</td><td>D</td><td>II</td><td>87     </td><td> 87</td><td> 87</td></tr>\n",
              "\t<tr><td>Illinois</td><td>D</td><td>II</td><td>76     </td><td> 76</td><td> 76</td></tr>\n",
              "\t<tr><td>Iowa    </td><td>A</td><td>I </td><td>130    </td><td>130</td><td>130</td></tr>\n",
              "\t<tr><td>Iowa    </td><td>A</td><td>II</td><td>NA     </td><td> NA</td><td> NA</td></tr>\n",
              "\t<tr><td>Iowa    </td><td>A</td><td>II</td><td>140    </td><td>140</td><td>140</td></tr>\n",
              "\t<tr><td>Iowa    </td><td>B</td><td>I </td><td>145    </td><td>145</td><td>145</td></tr>\n",
              "\t<tr><td>Iowa    </td><td>B</td><td>II</td><td>148    </td><td>148</td><td>148</td></tr>\n",
              "\t<tr><td>Iowa    </td><td>B</td><td>II</td><td>152    </td><td>152</td><td>152</td></tr>\n",
              "\t<tr><td>Iowa    </td><td>C</td><td>I </td><td>#DIV/0!</td><td> NA</td><td> NA</td></tr>\n",
              "\t<tr><td>Iowa    </td><td>C</td><td>II</td><td>158    </td><td>158</td><td>158</td></tr>\n",
              "\t<tr><td>Iowa    </td><td>C</td><td>II</td><td>165    </td><td>165</td><td>165</td></tr>\n",
              "\t<tr><td>Iowa    </td><td>D</td><td>I </td><td>80     </td><td> 80</td><td> 80</td></tr>\n",
              "\t<tr><td>Iowa    </td><td>D</td><td>II</td><td>78     </td><td> 78</td><td> 78</td></tr>\n",
              "\t<tr><td>Iowa    </td><td>D</td><td>II</td><td>NA     </td><td> NA</td><td> NA</td></tr>\n",
              "</tbody>\n",
              "</table>\n"
            ],
            "text/markdown": "\nA data.frame: 24 × 6\n\n| location &lt;chr&gt; | fertilizer &lt;chr&gt; | block &lt;chr&gt; | yield &lt;chr&gt; | yield1 &lt;dbl&gt; | yield_corrected &lt;dbl&gt; |\n|---|---|---|---|---|---|\n| Illinois | A | I  | 100     | 100 | 100 |\n| Illinois | A | II | 99      |  99 |  99 |\n| Illinois | A | II | 98      |  98 |  98 |\n| Illinois | B | I  | 125     | 125 | 125 |\n| Illinois | B | II | NA      |  NA |  NA |\n| Illinois | B | II | 135     | 135 | 135 |\n| Illinois | C | I  | 140     | 140 | 140 |\n| Illinois | C | II | 138     | 138 | 138 |\n| Illinois | C | II | 128     | 128 | 128 |\n| Illinois | D | I  | 80      |  80 |  80 |\n| Illinois | D | II | 87      |  87 |  87 |\n| Illinois | D | II | 76      |  76 |  76 |\n| Iowa     | A | I  | 130     | 130 | 130 |\n| Iowa     | A | II | NA      |  NA |  NA |\n| Iowa     | A | II | 140     | 140 | 140 |\n| Iowa     | B | I  | 145     | 145 | 145 |\n| Iowa     | B | II | 148     | 148 | 148 |\n| Iowa     | B | II | 152     | 152 | 152 |\n| Iowa     | C | I  | #DIV/0! |  NA |  NA |\n| Iowa     | C | II | 158     | 158 | 158 |\n| Iowa     | C | II | 165     | 165 | 165 |\n| Iowa     | D | I  | 80      |  80 |  80 |\n| Iowa     | D | II | 78      |  78 |  78 |\n| Iowa     | D | II | NA      |  NA |  NA |\n\n",
            "text/latex": "A data.frame: 24 × 6\n\\begin{tabular}{llllll}\n location & fertilizer & block & yield & yield1 & yield\\_corrected\\\\\n <chr> & <chr> & <chr> & <chr> & <dbl> & <dbl>\\\\\n\\hline\n\t Illinois & A & I  & 100     & 100 & 100\\\\\n\t Illinois & A & II & 99      &  99 &  99\\\\\n\t Illinois & A & II & 98      &  98 &  98\\\\\n\t Illinois & B & I  & 125     & 125 & 125\\\\\n\t Illinois & B & II & NA      &  NA &  NA\\\\\n\t Illinois & B & II & 135     & 135 & 135\\\\\n\t Illinois & C & I  & 140     & 140 & 140\\\\\n\t Illinois & C & II & 138     & 138 & 138\\\\\n\t Illinois & C & II & 128     & 128 & 128\\\\\n\t Illinois & D & I  & 80      &  80 &  80\\\\\n\t Illinois & D & II & 87      &  87 &  87\\\\\n\t Illinois & D & II & 76      &  76 &  76\\\\\n\t Iowa     & A & I  & 130     & 130 & 130\\\\\n\t Iowa     & A & II & NA      &  NA &  NA\\\\\n\t Iowa     & A & II & 140     & 140 & 140\\\\\n\t Iowa     & B & I  & 145     & 145 & 145\\\\\n\t Iowa     & B & II & 148     & 148 & 148\\\\\n\t Iowa     & B & II & 152     & 152 & 152\\\\\n\t Iowa     & C & I  & \\#DIV/0! &  NA &  NA\\\\\n\t Iowa     & C & II & 158     & 158 & 158\\\\\n\t Iowa     & C & II & 165     & 165 & 165\\\\\n\t Iowa     & D & I  & 80      &  80 &  80\\\\\n\t Iowa     & D & II & 78      &  78 &  78\\\\\n\t Iowa     & D & II & NA      &  NA &  NA\\\\\n\\end{tabular}\n",
            "text/plain": [
              "   location fertilizer block yield   yield1 yield_corrected\n",
              "1  Illinois A          I     100     100    100            \n",
              "2  Illinois A          II    99       99     99            \n",
              "3  Illinois A          II    98       98     98            \n",
              "4  Illinois B          I     125     125    125            \n",
              "5  Illinois B          II    NA       NA     NA            \n",
              "6  Illinois B          II    135     135    135            \n",
              "7  Illinois C          I     140     140    140            \n",
              "8  Illinois C          II    138     138    138            \n",
              "9  Illinois C          II    128     128    128            \n",
              "10 Illinois D          I     80       80     80            \n",
              "11 Illinois D          II    87       87     87            \n",
              "12 Illinois D          II    76       76     76            \n",
              "13 Iowa     A          I     130     130    130            \n",
              "14 Iowa     A          II    NA       NA     NA            \n",
              "15 Iowa     A          II    140     140    140            \n",
              "16 Iowa     B          I     145     145    145            \n",
              "17 Iowa     B          II    148     148    148            \n",
              "18 Iowa     B          II    152     152    152            \n",
              "19 Iowa     C          I     #DIV/0!  NA     NA            \n",
              "20 Iowa     C          II    158     158    158            \n",
              "21 Iowa     C          II    165     165    165            \n",
              "22 Iowa     D          I     80       80     80            \n",
              "23 Iowa     D          II    78       78     78            \n",
              "24 Iowa     D          II    NA       NA     NA            "
            ]
          },
          "metadata": {}
        }
      ]
    },
    {
      "cell_type": "code",
      "source": [
        "dataB= df %>%\n",
        "       dplyr::mutate(yield_corrected= suppressWarnings(if_else(yield==\"NA\", 0, as.numeric(yield))))\n",
        "dataB"
      ],
      "metadata": {
        "colab": {
          "base_uri": "https://localhost:8080/",
          "height": 850
        },
        "id": "z0FO5PfUs9vm",
        "outputId": "2768962e-5a69-4c21-d9d2-48cc7d1673e2"
      },
      "execution_count": 105,
      "outputs": [
        {
          "output_type": "display_data",
          "data": {
            "text/html": [
              "<table class=\"dataframe\">\n",
              "<caption>A data.frame: 24 × 6</caption>\n",
              "<thead>\n",
              "\t<tr><th scope=col>location</th><th scope=col>fertilizer</th><th scope=col>block</th><th scope=col>yield</th><th scope=col>yield1</th><th scope=col>yield_corrected</th></tr>\n",
              "\t<tr><th scope=col>&lt;chr&gt;</th><th scope=col>&lt;chr&gt;</th><th scope=col>&lt;chr&gt;</th><th scope=col>&lt;chr&gt;</th><th scope=col>&lt;dbl&gt;</th><th scope=col>&lt;dbl&gt;</th></tr>\n",
              "</thead>\n",
              "<tbody>\n",
              "\t<tr><td>Illinois</td><td>A</td><td>I </td><td>100    </td><td>100</td><td>100</td></tr>\n",
              "\t<tr><td>Illinois</td><td>A</td><td>II</td><td>99     </td><td> 99</td><td> 99</td></tr>\n",
              "\t<tr><td>Illinois</td><td>A</td><td>II</td><td>98     </td><td> 98</td><td> 98</td></tr>\n",
              "\t<tr><td>Illinois</td><td>B</td><td>I </td><td>125    </td><td>125</td><td>125</td></tr>\n",
              "\t<tr><td>Illinois</td><td>B</td><td>II</td><td>NA     </td><td> NA</td><td>  0</td></tr>\n",
              "\t<tr><td>Illinois</td><td>B</td><td>II</td><td>135    </td><td>135</td><td>135</td></tr>\n",
              "\t<tr><td>Illinois</td><td>C</td><td>I </td><td>140    </td><td>140</td><td>140</td></tr>\n",
              "\t<tr><td>Illinois</td><td>C</td><td>II</td><td>138    </td><td>138</td><td>138</td></tr>\n",
              "\t<tr><td>Illinois</td><td>C</td><td>II</td><td>128    </td><td>128</td><td>128</td></tr>\n",
              "\t<tr><td>Illinois</td><td>D</td><td>I </td><td>80     </td><td> 80</td><td> 80</td></tr>\n",
              "\t<tr><td>Illinois</td><td>D</td><td>II</td><td>87     </td><td> 87</td><td> 87</td></tr>\n",
              "\t<tr><td>Illinois</td><td>D</td><td>II</td><td>76     </td><td> 76</td><td> 76</td></tr>\n",
              "\t<tr><td>Iowa    </td><td>A</td><td>I </td><td>130    </td><td>130</td><td>130</td></tr>\n",
              "\t<tr><td>Iowa    </td><td>A</td><td>II</td><td>NA     </td><td> NA</td><td>  0</td></tr>\n",
              "\t<tr><td>Iowa    </td><td>A</td><td>II</td><td>140    </td><td>140</td><td>140</td></tr>\n",
              "\t<tr><td>Iowa    </td><td>B</td><td>I </td><td>145    </td><td>145</td><td>145</td></tr>\n",
              "\t<tr><td>Iowa    </td><td>B</td><td>II</td><td>148    </td><td>148</td><td>148</td></tr>\n",
              "\t<tr><td>Iowa    </td><td>B</td><td>II</td><td>152    </td><td>152</td><td>152</td></tr>\n",
              "\t<tr><td>Iowa    </td><td>C</td><td>I </td><td>#DIV/0!</td><td> NA</td><td> NA</td></tr>\n",
              "\t<tr><td>Iowa    </td><td>C</td><td>II</td><td>158    </td><td>158</td><td>158</td></tr>\n",
              "\t<tr><td>Iowa    </td><td>C</td><td>II</td><td>165    </td><td>165</td><td>165</td></tr>\n",
              "\t<tr><td>Iowa    </td><td>D</td><td>I </td><td>80     </td><td> 80</td><td> 80</td></tr>\n",
              "\t<tr><td>Iowa    </td><td>D</td><td>II</td><td>78     </td><td> 78</td><td> 78</td></tr>\n",
              "\t<tr><td>Iowa    </td><td>D</td><td>II</td><td>NA     </td><td> NA</td><td>  0</td></tr>\n",
              "</tbody>\n",
              "</table>\n"
            ],
            "text/markdown": "\nA data.frame: 24 × 6\n\n| location &lt;chr&gt; | fertilizer &lt;chr&gt; | block &lt;chr&gt; | yield &lt;chr&gt; | yield1 &lt;dbl&gt; | yield_corrected &lt;dbl&gt; |\n|---|---|---|---|---|---|\n| Illinois | A | I  | 100     | 100 | 100 |\n| Illinois | A | II | 99      |  99 |  99 |\n| Illinois | A | II | 98      |  98 |  98 |\n| Illinois | B | I  | 125     | 125 | 125 |\n| Illinois | B | II | NA      |  NA |   0 |\n| Illinois | B | II | 135     | 135 | 135 |\n| Illinois | C | I  | 140     | 140 | 140 |\n| Illinois | C | II | 138     | 138 | 138 |\n| Illinois | C | II | 128     | 128 | 128 |\n| Illinois | D | I  | 80      |  80 |  80 |\n| Illinois | D | II | 87      |  87 |  87 |\n| Illinois | D | II | 76      |  76 |  76 |\n| Iowa     | A | I  | 130     | 130 | 130 |\n| Iowa     | A | II | NA      |  NA |   0 |\n| Iowa     | A | II | 140     | 140 | 140 |\n| Iowa     | B | I  | 145     | 145 | 145 |\n| Iowa     | B | II | 148     | 148 | 148 |\n| Iowa     | B | II | 152     | 152 | 152 |\n| Iowa     | C | I  | #DIV/0! |  NA |  NA |\n| Iowa     | C | II | 158     | 158 | 158 |\n| Iowa     | C | II | 165     | 165 | 165 |\n| Iowa     | D | I  | 80      |  80 |  80 |\n| Iowa     | D | II | 78      |  78 |  78 |\n| Iowa     | D | II | NA      |  NA |   0 |\n\n",
            "text/latex": "A data.frame: 24 × 6\n\\begin{tabular}{llllll}\n location & fertilizer & block & yield & yield1 & yield\\_corrected\\\\\n <chr> & <chr> & <chr> & <chr> & <dbl> & <dbl>\\\\\n\\hline\n\t Illinois & A & I  & 100     & 100 & 100\\\\\n\t Illinois & A & II & 99      &  99 &  99\\\\\n\t Illinois & A & II & 98      &  98 &  98\\\\\n\t Illinois & B & I  & 125     & 125 & 125\\\\\n\t Illinois & B & II & NA      &  NA &   0\\\\\n\t Illinois & B & II & 135     & 135 & 135\\\\\n\t Illinois & C & I  & 140     & 140 & 140\\\\\n\t Illinois & C & II & 138     & 138 & 138\\\\\n\t Illinois & C & II & 128     & 128 & 128\\\\\n\t Illinois & D & I  & 80      &  80 &  80\\\\\n\t Illinois & D & II & 87      &  87 &  87\\\\\n\t Illinois & D & II & 76      &  76 &  76\\\\\n\t Iowa     & A & I  & 130     & 130 & 130\\\\\n\t Iowa     & A & II & NA      &  NA &   0\\\\\n\t Iowa     & A & II & 140     & 140 & 140\\\\\n\t Iowa     & B & I  & 145     & 145 & 145\\\\\n\t Iowa     & B & II & 148     & 148 & 148\\\\\n\t Iowa     & B & II & 152     & 152 & 152\\\\\n\t Iowa     & C & I  & \\#DIV/0! &  NA &  NA\\\\\n\t Iowa     & C & II & 158     & 158 & 158\\\\\n\t Iowa     & C & II & 165     & 165 & 165\\\\\n\t Iowa     & D & I  & 80      &  80 &  80\\\\\n\t Iowa     & D & II & 78      &  78 &  78\\\\\n\t Iowa     & D & II & NA      &  NA &   0\\\\\n\\end{tabular}\n",
            "text/plain": [
              "   location fertilizer block yield   yield1 yield_corrected\n",
              "1  Illinois A          I     100     100    100            \n",
              "2  Illinois A          II    99       99     99            \n",
              "3  Illinois A          II    98       98     98            \n",
              "4  Illinois B          I     125     125    125            \n",
              "5  Illinois B          II    NA       NA      0            \n",
              "6  Illinois B          II    135     135    135            \n",
              "7  Illinois C          I     140     140    140            \n",
              "8  Illinois C          II    138     138    138            \n",
              "9  Illinois C          II    128     128    128            \n",
              "10 Illinois D          I     80       80     80            \n",
              "11 Illinois D          II    87       87     87            \n",
              "12 Illinois D          II    76       76     76            \n",
              "13 Iowa     A          I     130     130    130            \n",
              "14 Iowa     A          II    NA       NA      0            \n",
              "15 Iowa     A          II    140     140    140            \n",
              "16 Iowa     B          I     145     145    145            \n",
              "17 Iowa     B          II    148     148    148            \n",
              "18 Iowa     B          II    152     152    152            \n",
              "19 Iowa     C          I     #DIV/0!  NA     NA            \n",
              "20 Iowa     C          II    158     158    158            \n",
              "21 Iowa     C          II    165     165    165            \n",
              "22 Iowa     D          I     80       80     80            \n",
              "23 Iowa     D          II    78       78     78            \n",
              "24 Iowa     D          II    NA       NA      0            "
            ]
          },
          "metadata": {}
        }
      ]
    },
    {
      "cell_type": "code",
      "source": [
        "dataC= df %>%\n",
        "       mutate(yield_corrected= suppressWarnings(if_else(yield==\"#DIV/0!\" | yield==\"NA\", 0, as.numeric(yield))))\n",
        "dataC"
      ],
      "metadata": {
        "colab": {
          "base_uri": "https://localhost:8080/",
          "height": 850
        },
        "id": "0pHvxOjHndiU",
        "outputId": "48cd132e-42eb-446a-a984-25518895bb31"
      },
      "execution_count": 107,
      "outputs": [
        {
          "output_type": "display_data",
          "data": {
            "text/html": [
              "<table class=\"dataframe\">\n",
              "<caption>A data.frame: 24 × 6</caption>\n",
              "<thead>\n",
              "\t<tr><th scope=col>location</th><th scope=col>fertilizer</th><th scope=col>block</th><th scope=col>yield</th><th scope=col>yield1</th><th scope=col>yield_corrected</th></tr>\n",
              "\t<tr><th scope=col>&lt;chr&gt;</th><th scope=col>&lt;chr&gt;</th><th scope=col>&lt;chr&gt;</th><th scope=col>&lt;chr&gt;</th><th scope=col>&lt;dbl&gt;</th><th scope=col>&lt;dbl&gt;</th></tr>\n",
              "</thead>\n",
              "<tbody>\n",
              "\t<tr><td>Illinois</td><td>A</td><td>I </td><td>100    </td><td>100</td><td>100</td></tr>\n",
              "\t<tr><td>Illinois</td><td>A</td><td>II</td><td>99     </td><td> 99</td><td> 99</td></tr>\n",
              "\t<tr><td>Illinois</td><td>A</td><td>II</td><td>98     </td><td> 98</td><td> 98</td></tr>\n",
              "\t<tr><td>Illinois</td><td>B</td><td>I </td><td>125    </td><td>125</td><td>125</td></tr>\n",
              "\t<tr><td>Illinois</td><td>B</td><td>II</td><td>NA     </td><td> NA</td><td>  0</td></tr>\n",
              "\t<tr><td>Illinois</td><td>B</td><td>II</td><td>135    </td><td>135</td><td>135</td></tr>\n",
              "\t<tr><td>Illinois</td><td>C</td><td>I </td><td>140    </td><td>140</td><td>140</td></tr>\n",
              "\t<tr><td>Illinois</td><td>C</td><td>II</td><td>138    </td><td>138</td><td>138</td></tr>\n",
              "\t<tr><td>Illinois</td><td>C</td><td>II</td><td>128    </td><td>128</td><td>128</td></tr>\n",
              "\t<tr><td>Illinois</td><td>D</td><td>I </td><td>80     </td><td> 80</td><td> 80</td></tr>\n",
              "\t<tr><td>Illinois</td><td>D</td><td>II</td><td>87     </td><td> 87</td><td> 87</td></tr>\n",
              "\t<tr><td>Illinois</td><td>D</td><td>II</td><td>76     </td><td> 76</td><td> 76</td></tr>\n",
              "\t<tr><td>Iowa    </td><td>A</td><td>I </td><td>130    </td><td>130</td><td>130</td></tr>\n",
              "\t<tr><td>Iowa    </td><td>A</td><td>II</td><td>NA     </td><td> NA</td><td>  0</td></tr>\n",
              "\t<tr><td>Iowa    </td><td>A</td><td>II</td><td>140    </td><td>140</td><td>140</td></tr>\n",
              "\t<tr><td>Iowa    </td><td>B</td><td>I </td><td>145    </td><td>145</td><td>145</td></tr>\n",
              "\t<tr><td>Iowa    </td><td>B</td><td>II</td><td>148    </td><td>148</td><td>148</td></tr>\n",
              "\t<tr><td>Iowa    </td><td>B</td><td>II</td><td>152    </td><td>152</td><td>152</td></tr>\n",
              "\t<tr><td>Iowa    </td><td>C</td><td>I </td><td>#DIV/0!</td><td> NA</td><td>  0</td></tr>\n",
              "\t<tr><td>Iowa    </td><td>C</td><td>II</td><td>158    </td><td>158</td><td>158</td></tr>\n",
              "\t<tr><td>Iowa    </td><td>C</td><td>II</td><td>165    </td><td>165</td><td>165</td></tr>\n",
              "\t<tr><td>Iowa    </td><td>D</td><td>I </td><td>80     </td><td> 80</td><td> 80</td></tr>\n",
              "\t<tr><td>Iowa    </td><td>D</td><td>II</td><td>78     </td><td> 78</td><td> 78</td></tr>\n",
              "\t<tr><td>Iowa    </td><td>D</td><td>II</td><td>NA     </td><td> NA</td><td>  0</td></tr>\n",
              "</tbody>\n",
              "</table>\n"
            ],
            "text/markdown": "\nA data.frame: 24 × 6\n\n| location &lt;chr&gt; | fertilizer &lt;chr&gt; | block &lt;chr&gt; | yield &lt;chr&gt; | yield1 &lt;dbl&gt; | yield_corrected &lt;dbl&gt; |\n|---|---|---|---|---|---|\n| Illinois | A | I  | 100     | 100 | 100 |\n| Illinois | A | II | 99      |  99 |  99 |\n| Illinois | A | II | 98      |  98 |  98 |\n| Illinois | B | I  | 125     | 125 | 125 |\n| Illinois | B | II | NA      |  NA |   0 |\n| Illinois | B | II | 135     | 135 | 135 |\n| Illinois | C | I  | 140     | 140 | 140 |\n| Illinois | C | II | 138     | 138 | 138 |\n| Illinois | C | II | 128     | 128 | 128 |\n| Illinois | D | I  | 80      |  80 |  80 |\n| Illinois | D | II | 87      |  87 |  87 |\n| Illinois | D | II | 76      |  76 |  76 |\n| Iowa     | A | I  | 130     | 130 | 130 |\n| Iowa     | A | II | NA      |  NA |   0 |\n| Iowa     | A | II | 140     | 140 | 140 |\n| Iowa     | B | I  | 145     | 145 | 145 |\n| Iowa     | B | II | 148     | 148 | 148 |\n| Iowa     | B | II | 152     | 152 | 152 |\n| Iowa     | C | I  | #DIV/0! |  NA |   0 |\n| Iowa     | C | II | 158     | 158 | 158 |\n| Iowa     | C | II | 165     | 165 | 165 |\n| Iowa     | D | I  | 80      |  80 |  80 |\n| Iowa     | D | II | 78      |  78 |  78 |\n| Iowa     | D | II | NA      |  NA |   0 |\n\n",
            "text/latex": "A data.frame: 24 × 6\n\\begin{tabular}{llllll}\n location & fertilizer & block & yield & yield1 & yield\\_corrected\\\\\n <chr> & <chr> & <chr> & <chr> & <dbl> & <dbl>\\\\\n\\hline\n\t Illinois & A & I  & 100     & 100 & 100\\\\\n\t Illinois & A & II & 99      &  99 &  99\\\\\n\t Illinois & A & II & 98      &  98 &  98\\\\\n\t Illinois & B & I  & 125     & 125 & 125\\\\\n\t Illinois & B & II & NA      &  NA &   0\\\\\n\t Illinois & B & II & 135     & 135 & 135\\\\\n\t Illinois & C & I  & 140     & 140 & 140\\\\\n\t Illinois & C & II & 138     & 138 & 138\\\\\n\t Illinois & C & II & 128     & 128 & 128\\\\\n\t Illinois & D & I  & 80      &  80 &  80\\\\\n\t Illinois & D & II & 87      &  87 &  87\\\\\n\t Illinois & D & II & 76      &  76 &  76\\\\\n\t Iowa     & A & I  & 130     & 130 & 130\\\\\n\t Iowa     & A & II & NA      &  NA &   0\\\\\n\t Iowa     & A & II & 140     & 140 & 140\\\\\n\t Iowa     & B & I  & 145     & 145 & 145\\\\\n\t Iowa     & B & II & 148     & 148 & 148\\\\\n\t Iowa     & B & II & 152     & 152 & 152\\\\\n\t Iowa     & C & I  & \\#DIV/0! &  NA &   0\\\\\n\t Iowa     & C & II & 158     & 158 & 158\\\\\n\t Iowa     & C & II & 165     & 165 & 165\\\\\n\t Iowa     & D & I  & 80      &  80 &  80\\\\\n\t Iowa     & D & II & 78      &  78 &  78\\\\\n\t Iowa     & D & II & NA      &  NA &   0\\\\\n\\end{tabular}\n",
            "text/plain": [
              "   location fertilizer block yield   yield1 yield_corrected\n",
              "1  Illinois A          I     100     100    100            \n",
              "2  Illinois A          II    99       99     99            \n",
              "3  Illinois A          II    98       98     98            \n",
              "4  Illinois B          I     125     125    125            \n",
              "5  Illinois B          II    NA       NA      0            \n",
              "6  Illinois B          II    135     135    135            \n",
              "7  Illinois C          I     140     140    140            \n",
              "8  Illinois C          II    138     138    138            \n",
              "9  Illinois C          II    128     128    128            \n",
              "10 Illinois D          I     80       80     80            \n",
              "11 Illinois D          II    87       87     87            \n",
              "12 Illinois D          II    76       76     76            \n",
              "13 Iowa     A          I     130     130    130            \n",
              "14 Iowa     A          II    NA       NA      0            \n",
              "15 Iowa     A          II    140     140    140            \n",
              "16 Iowa     B          I     145     145    145            \n",
              "17 Iowa     B          II    148     148    148            \n",
              "18 Iowa     B          II    152     152    152            \n",
              "19 Iowa     C          I     #DIV/0!  NA      0            \n",
              "20 Iowa     C          II    158     158    158            \n",
              "21 Iowa     C          II    165     165    165            \n",
              "22 Iowa     D          I     80       80     80            \n",
              "23 Iowa     D          II    78       78     78            \n",
              "24 Iowa     D          II    NA       NA      0            "
            ]
          },
          "metadata": {}
        }
      ]
    },
    {
      "cell_type": "code",
      "source": [
        "str(dataC)"
      ],
      "metadata": {
        "colab": {
          "base_uri": "https://localhost:8080/"
        },
        "id": "GQTY1mcdMhti",
        "outputId": "f64bba01-a71a-439b-b60f-4b09e068e425"
      },
      "execution_count": 108,
      "outputs": [
        {
          "output_type": "stream",
          "name": "stdout",
          "text": [
            "'data.frame':\t24 obs. of  6 variables:\n",
            " $ location       : chr  \"Illinois\" \"Illinois\" \"Illinois\" \"Illinois\" ...\n",
            " $ fertilizer     : chr  \"A\" \"A\" \"A\" \"B\" ...\n",
            " $ block          : chr  \"I\" \"II\" \"II\" \"I\" ...\n",
            " $ yield          : chr  \"100\" \"99\" \"98\" \"125\" ...\n",
            " $ yield1         : num  100 99 98 125 NA 135 140 138 128 80 ...\n",
            " $ yield_corrected: num  100 99 98 125 0 135 140 138 128 80 ...\n"
          ]
        }
      ]
    }
  ]
}
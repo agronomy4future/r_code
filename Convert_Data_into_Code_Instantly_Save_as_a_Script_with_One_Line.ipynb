{
  "nbformat": 4,
  "nbformat_minor": 0,
  "metadata": {
    "colab": {
      "provenance": [],
      "authorship_tag": "ABX9TyOddP91n3ZLrGBi0I9FQ5jn"
    },
    "kernelspec": {
      "name": "ir",
      "display_name": "R"
    },
    "language_info": {
      "name": "R"
    }
  },
  "cells": [
    {
      "cell_type": "markdown",
      "source": [
        "# to upload data for practice"
      ],
      "metadata": {
        "id": "3WSeOgxkdS6b"
      }
    },
    {
      "cell_type": "code",
      "source": [
        "if(!require(readr)) install.packages(\"readr\")\n",
        "library(readr)\n",
        "\n",
        "github= \"https://raw.githubusercontent.com/agronomy4future/raw_data_practice/main/fertilizer_treatment.csv\"\n",
        "dataA= data.frame(read_csv(url(github),show_col_types = FALSE))\n",
        "print(head(dataA,5))"
      ],
      "metadata": {
        "id": "ILt03o5IDDVP",
        "colab": {
          "base_uri": "https://localhost:8080/"
        },
        "outputId": "1d2c0cff-3080-4bb3-99da-a1d8c77aaa11"
      },
      "execution_count": null,
      "outputs": [
        {
          "output_type": "stream",
          "name": "stderr",
          "text": [
            "Loading required package: readr\n",
            "\n"
          ]
        },
        {
          "output_type": "stream",
          "name": "stdout",
          "text": [
            "    Genotype Block variable value\n",
            "1 Genotype_A     I  Control  42.9\n",
            "2 Genotype_A    II  Control  41.6\n",
            "3 Genotype_A   III  Control  28.9\n",
            "4 Genotype_A    IV  Control  30.8\n",
            "5 Genotype_B     I  Control  53.3\n"
          ]
        }
      ]
    },
    {
      "cell_type": "markdown",
      "source": [
        "# to convert data to code (common method)"
      ],
      "metadata": {
        "id": "h64pD-KXdWYw"
      }
    },
    {
      "cell_type": "code",
      "source": [
        "dput(dataA)"
      ],
      "metadata": {
        "colab": {
          "base_uri": "https://localhost:8080/"
        },
        "id": "kowWNZPOJdGZ",
        "outputId": "6da11000-dea0-4a0d-e622-c2e837f47ea6"
      },
      "execution_count": null,
      "outputs": [
        {
          "output_type": "stream",
          "name": "stdout",
          "text": [
            "structure(list(Genotype = c(\"Genotype_A\", \"Genotype_A\", \"Genotype_A\", \n",
            "\"Genotype_A\", \"Genotype_B\", \"Genotype_B\", \"Genotype_B\", \"Genotype_B\", \n",
            "\"Genotype_C\", \"Genotype_C\", \"Genotype_C\", \"Genotype_C\", \"Genotype_D\", \n",
            "\"Genotype_D\", \"Genotype_D\", \"Genotype_D\", \"Genotype_A\", \"Genotype_A\", \n",
            "\"Genotype_A\", \"Genotype_A\", \"Genotype_B\", \"Genotype_B\", \"Genotype_B\", \n",
            "\"Genotype_B\", \"Genotype_C\", \"Genotype_C\", \"Genotype_C\", \"Genotype_C\", \n",
            "\"Genotype_D\", \"Genotype_D\", \"Genotype_D\", \"Genotype_D\", \"Genotype_A\", \n",
            "\"Genotype_A\", \"Genotype_A\", \"Genotype_A\", \"Genotype_B\", \"Genotype_B\", \n",
            "\"Genotype_B\", \"Genotype_B\", \"Genotype_C\", \"Genotype_C\", \"Genotype_C\", \n",
            "\"Genotype_C\", \"Genotype_D\", \"Genotype_D\", \"Genotype_D\", \"Genotype_D\", \n",
            "\"Genotype_A\", \"Genotype_A\", \"Genotype_A\", \"Genotype_A\", \"Genotype_B\", \n",
            "\"Genotype_B\", \"Genotype_B\", \"Genotype_B\", \"Genotype_C\", \"Genotype_C\", \n",
            "\"Genotype_C\", \"Genotype_C\", \"Genotype_D\", \"Genotype_D\", \"Genotype_D\", \n",
            "\"Genotype_D\"), Block = c(\"I\", \"II\", \"III\", \"IV\", \"I\", \"II\", \"III\", \n",
            "\"IV\", \"I\", \"II\", \"III\", \"IV\", \"I\", \"II\", \"III\", \"IV\", \"I\", \"II\", \n",
            "\"III\", \"IV\", \"I\", \"II\", \"III\", \"IV\", \"I\", \"II\", \"III\", \"IV\", \n",
            "\"I\", \"II\", \"III\", \"IV\", \"I\", \"II\", \"III\", \"IV\", \"I\", \"II\", \"III\", \n",
            "\"IV\", \"I\", \"II\", \"III\", \"IV\", \"I\", \"II\", \"III\", \"IV\", \"I\", \"II\", \n",
            "\"III\", \"IV\", \"I\", \"II\", \"III\", \"IV\", \"I\", \"II\", \"III\", \"IV\", \n",
            "\"I\", \"II\", \"III\", \"IV\"), variable = c(\"Control\", \"Control\", \"Control\", \n",
            "\"Control\", \"Control\", \"Control\", \"Control\", \"Control\", \"Control\", \n",
            "\"Control\", \"Control\", \"Control\", \"Control\", \"Control\", \"Control\", \n",
            "\"Control\", \"Fertilizer1\", \"Fertilizer1\", \"Fertilizer1\", \"Fertilizer1\", \n",
            "\"Fertilizer1\", \"Fertilizer1\", \"Fertilizer1\", \"Fertilizer1\", \"Fertilizer1\", \n",
            "\"Fertilizer1\", \"Fertilizer1\", \"Fertilizer1\", \"Fertilizer1\", \"Fertilizer1\", \n",
            "\"Fertilizer1\", \"Fertilizer1\", \"Fertilizer2\", \"Fertilizer2\", \"Fertilizer2\", \n",
            "\"Fertilizer2\", \"Fertilizer2\", \"Fertilizer2\", \"Fertilizer2\", \"Fertilizer2\", \n",
            "\"Fertilizer2\", \"Fertilizer2\", \"Fertilizer2\", \"Fertilizer2\", \"Fertilizer2\", \n",
            "\"Fertilizer2\", \"Fertilizer2\", \"Fertilizer2\", \"Fertilizer3\", \"Fertilizer3\", \n",
            "\"Fertilizer3\", \"Fertilizer3\", \"Fertilizer3\", \"Fertilizer3\", \"Fertilizer3\", \n",
            "\"Fertilizer3\", \"Fertilizer3\", \"Fertilizer3\", \"Fertilizer3\", \"Fertilizer3\", \n",
            "\"Fertilizer3\", \"Fertilizer3\", \"Fertilizer3\", \"Fertilizer3\"), \n",
            "    value = c(42.9, 41.6, 28.9, 30.8, 53.3, 69.6, 45.4, 35.1, \n",
            "    62.3, 58.5, 44.6, 50.3, 75.4, 65.6, 54, 52.7, 53.8, 58.5, \n",
            "    43.9, 46.3, 57.6, 69.6, 42.4, 51.9, 63.4, 50.4, 45, 46.7, \n",
            "    70.3, 67.3, 57.6, 58.5, 49.5, 53.8, 40.7, 39.4, 59.8, 65.8, \n",
            "    41.4, 45.4, 64.5, 46.1, 62.6, 50.3, 68.8, 65.3, 45.6, 51, \n",
            "    44.4, 41.8, 28.3, 34.7, 64.1, 57.4, 44.1, 51.6, 63.6, 56.1, \n",
            "    52.7, 51.8, 71.6, 69.4, 56.6, 47.4)), class = \"data.frame\", row.names = c(NA, \n",
            "-64L))\n"
          ]
        }
      ]
    },
    {
      "cell_type": "markdown",
      "source": [
        "# to import datazip() library"
      ],
      "metadata": {
        "id": "giuHDuEVdIz9"
      }
    },
    {
      "cell_type": "code",
      "source": [
        "if(!require(remotes)) install.packages(\"remotes\")\n",
        "if (!requireNamespace(\"datazip\", quietly = TRUE)) {\n",
        "   remotes::install_github(\"agronomy4future/datazip\", force= TRUE)\n",
        "}\n",
        "library(remotes)\n",
        "library(datazip)"
      ],
      "metadata": {
        "id": "2vtMt800JfzY"
      },
      "execution_count": null,
      "outputs": []
    },
    {
      "cell_type": "markdown",
      "source": [
        "# to run datazip()"
      ],
      "metadata": {
        "id": "gC8lrWjHdLTt"
      }
    },
    {
      "cell_type": "code",
      "source": [
        "datazip(dataA)"
      ],
      "metadata": {
        "colab": {
          "base_uri": "https://localhost:8080/"
        },
        "id": "WMsSNUNBJmXY",
        "outputId": "c4a01ab5-fb9b-4cca-b482-18ecfc9aee78"
      },
      "execution_count": null,
      "outputs": [
        {
          "output_type": "stream",
          "name": "stdout",
          "text": [
            "structure(list(Genotype=c(\"Genotype_A\",\"Genotype_A\",\"Genotype_A\",\"Genotype_A\",\"Genotype_B\",\"Genotype_B\",\"Genotype_B\",\"Genotype_B\",\"Genotype_C\",\"Genotype_C\",\"Genotype_C\",\"Genotype_C\",\"Genotype_D\",\"Genotype_D\",\"Genotype_D\",\"Genotype_D\",\"Genotype_A\",\"Genotype_A\",\"Genotype_A\",\"Genotype_A\",\"Genotype_B\",\"Genotype_B\",\"Genotype_B\",\"Genotype_B\",\"Genotype_C\",\"Genotype_C\",\"Genotype_C\",\"Genotype_C\",\"Genotype_D\",\"Genotype_D\",\"Genotype_D\",\"Genotype_D\",\"Genotype_A\",\"Genotype_A\",\"Genotype_A\",\"Genotype_A\",\"Genotype_B\",\"Genotype_B\",\"Genotype_B\",\"Genotype_B\",\"Genotype_C\",\"Genotype_C\",\"Genotype_C\",\"Genotype_C\",\"Genotype_D\",\"Genotype_D\",\"Genotype_D\",\"Genotype_D\",\"Genotype_A\",\"Genotype_A\",\"Genotype_A\",\"Genotype_A\",\"Genotype_B\",\"Genotype_B\",\"Genotype_B\",\"Genotype_B\",\"Genotype_C\",\"Genotype_C\",\"Genotype_C\",\"Genotype_C\",\"Genotype_D\",\"Genotype_D\",\"Genotype_D\",\"Genotype_D\"),Block=c(\"I\",\"II\",\"III\",\"IV\",\"I\",\"II\",\"III\",\"IV\",\"I\",\"II\",\"III\",\"IV\",\"I\",\"II\",\"III\",\"IV\",\"I\",\"II\",\"III\",\"IV\",\"I\",\"II\",\"III\",\"IV\",\"I\",\"II\",\"III\",\"IV\",\"I\",\"II\",\"III\",\"IV\",\"I\",\"II\",\"III\",\"IV\",\"I\",\"II\",\"III\",\"IV\",\"I\",\"II\",\"III\",\"IV\",\"I\",\"II\",\"III\",\"IV\",\"I\",\"II\",\"III\",\"IV\",\"I\",\"II\",\"III\",\"IV\",\"I\",\"II\",\"III\",\"IV\",\"I\",\"II\",\"III\",\"IV\"),variable=c(\"Control\",\"Control\",\"Control\",\"Control\",\"Control\",\"Control\",\"Control\",\"Control\",\"Control\",\"Control\",\"Control\",\"Control\",\"Control\",\"Control\",\"Control\",\"Control\",\"Fertilizer1\",\"Fertilizer1\",\"Fertilizer1\",\"Fertilizer1\",\"Fertilizer1\",\"Fertilizer1\",\"Fertilizer1\",\"Fertilizer1\",\"Fertilizer1\",\"Fertilizer1\",\"Fertilizer1\",\"Fertilizer1\",\"Fertilizer1\",\"Fertilizer1\",\"Fertilizer1\",\"Fertilizer1\",\"Fertilizer2\",\"Fertilizer2\",\"Fertilizer2\",\"Fertilizer2\",\"Fertilizer2\",\"Fertilizer2\",\"Fertilizer2\",\"Fertilizer2\",\"Fertilizer2\",\"Fertilizer2\",\"Fertilizer2\",\"Fertilizer2\",\"Fertilizer2\",\"Fertilizer2\",\"Fertilizer2\",\"Fertilizer2\",\"Fertilizer3\",\"Fertilizer3\",\"Fertilizer3\",\"Fertilizer3\",\"Fertilizer3\",\"Fertilizer3\",\"Fertilizer3\",\"Fertilizer3\",\"Fertilizer3\",\"Fertilizer3\",\"Fertilizer3\",\"Fertilizer3\",\"Fertilizer3\",\"Fertilizer3\",\"Fertilizer3\",\"Fertilizer3\"),    value=c(42.9,41.6,28.9,30.8,53.3,69.6,45.4,35.1,    62.3,58.5,44.6,50.3,75.4,65.6,54,52.7,53.8,58.5,    43.9,46.3,57.6,69.6,42.4,51.9,63.4,50.4,45,46.7,    70.3,67.3,57.6,58.5,49.5,53.8,40.7,39.4,59.8,65.8,    41.4,45.4,64.5,46.1,62.6,50.3,68.8,65.3,45.6,51,    44.4,41.8,28.3,34.7,64.1,57.4,44.1,51.6,63.6,56.1,    52.7,51.8,71.6,69.4,56.6,47.4)),class=\"data.frame\",row.names=c(NA,-64L)) \n"
          ]
        }
      ]
    },
    {
      "cell_type": "code",
      "source": [
        "dataA=structure(list(Genotype=c(\"Genotype_A\",\"Genotype_A\",\"Genotype_A\",\"Genotype_A\",\"Genotype_B\",\"Genotype_B\",\"Genotype_B\",\"Genotype_B\",\"Genotype_C\",\"Genotype_C\",\"Genotype_C\",\"Genotype_C\",\"Genotype_D\",\"Genotype_D\",\"Genotype_D\",\"Genotype_D\",\"Genotype_A\",\"Genotype_A\",\"Genotype_A\",\"Genotype_A\",\"Genotype_B\",\"Genotype_B\",\"Genotype_B\",\"Genotype_B\",\"Genotype_C\",\"Genotype_C\",\"Genotype_C\",\"Genotype_C\",\"Genotype_D\",\"Genotype_D\",\"Genotype_D\",\"Genotype_D\",\"Genotype_A\",\"Genotype_A\",\"Genotype_A\",\"Genotype_A\",\"Genotype_B\",\"Genotype_B\",\"Genotype_B\",\"Genotype_B\",\"Genotype_C\",\"Genotype_C\",\"Genotype_C\",\"Genotype_C\",\"Genotype_D\",\"Genotype_D\",\"Genotype_D\",\"Genotype_D\",\"Genotype_A\",\"Genotype_A\",\"Genotype_A\",\"Genotype_A\",\"Genotype_B\",\"Genotype_B\",\"Genotype_B\",\"Genotype_B\",\"Genotype_C\",\"Genotype_C\",\"Genotype_C\",\"Genotype_C\",\"Genotype_D\",\"Genotype_D\",\"Genotype_D\",\"Genotype_D\"),Block=c(\"I\",\"II\",\"III\",\"IV\",\"I\",\"II\",\"III\",\"IV\",\"I\",\"II\",\"III\",\"IV\",\"I\",\"II\",\"III\",\"IV\",\"I\",\"II\",\"III\",\"IV\",\"I\",\"II\",\"III\",\"IV\",\"I\",\"II\",\"III\",\"IV\",\"I\",\"II\",\"III\",\"IV\",\"I\",\"II\",\"III\",\"IV\",\"I\",\"II\",\"III\",\"IV\",\"I\",\"II\",\"III\",\"IV\",\"I\",\"II\",\"III\",\"IV\",\"I\",\"II\",\"III\",\"IV\",\"I\",\"II\",\"III\",\"IV\",\"I\",\"II\",\"III\",\"IV\",\"I\",\"II\",\"III\",\"IV\"),variable=c(\"Control\",\"Control\",\"Control\",\"Control\",\"Control\",\"Control\",\"Control\",\"Control\",\"Control\",\"Control\",\"Control\",\"Control\",\"Control\",\"Control\",\"Control\",\"Control\",\"Fertilizer1\",\"Fertilizer1\",\"Fertilizer1\",\"Fertilizer1\",\"Fertilizer1\",\"Fertilizer1\",\"Fertilizer1\",\"Fertilizer1\",\"Fertilizer1\",\"Fertilizer1\",\"Fertilizer1\",\"Fertilizer1\",\"Fertilizer1\",\"Fertilizer1\",\"Fertilizer1\",\"Fertilizer1\",\"Fertilizer2\",\"Fertilizer2\",\"Fertilizer2\",\"Fertilizer2\",\"Fertilizer2\",\"Fertilizer2\",\"Fertilizer2\",\"Fertilizer2\",\"Fertilizer2\",\"Fertilizer2\",\"Fertilizer2\",\"Fertilizer2\",\"Fertilizer2\",\"Fertilizer2\",\"Fertilizer2\",\"Fertilizer2\",\"Fertilizer3\",\"Fertilizer3\",\"Fertilizer3\",\"Fertilizer3\",\"Fertilizer3\",\"Fertilizer3\",\"Fertilizer3\",\"Fertilizer3\",\"Fertilizer3\",\"Fertilizer3\",\"Fertilizer3\",\"Fertilizer3\",\"Fertilizer3\",\"Fertilizer3\",\"Fertilizer3\",\"Fertilizer3\"),value=c(42.9,41.6,28.9,30.8,53.3,69.6,45.4,35.1,62.3,58.5,44.6,50.3,75.4,65.6,54,52.7,53.8,58.5,43.9,46.3,57.6,69.6,42.4,51.9,63.4,50.4,45,46.7,70.3,67.3,57.6,58.5,49.5,53.8,40.7,39.4,59.8,65.8,41.4,45.4,64.5,46.1,62.6,50.3,68.8,65.3,45.6,51,44.4,41.8,28.3,34.7,64.1,57.4,44.1,51.6,63.6,56.1,52.7,51.8,71.6,69.4,56.6,47.4)),class=\"data.frame\",row.names=c(NA,-64L))"
      ],
      "metadata": {
        "id": "1SkzJ4ZMK43u"
      },
      "execution_count": null,
      "outputs": []
    },
    {
      "cell_type": "code",
      "source": [
        "print(head(dataA,5))"
      ],
      "metadata": {
        "colab": {
          "base_uri": "https://localhost:8080/"
        },
        "id": "uh4xcISqK8Rq",
        "outputId": "7bc47507-9e9c-48ce-b6eb-29cc24d8ec83"
      },
      "execution_count": null,
      "outputs": [
        {
          "output_type": "stream",
          "name": "stdout",
          "text": [
            "    Genotype Block variable value\n",
            "1 Genotype_A     I  Control  42.9\n",
            "2 Genotype_A    II  Control  41.6\n",
            "3 Genotype_A   III  Control  28.9\n",
            "4 Genotype_A    IV  Control  30.8\n",
            "5 Genotype_B     I  Control  53.3\n"
          ]
        }
      ]
    },
    {
      "cell_type": "markdown",
      "source": [
        "# to upload BigData"
      ],
      "metadata": {
        "id": "Au8ZFWUjdpFi"
      }
    },
    {
      "cell_type": "code",
      "source": [
        "if(!require(readr)) install.packages(\"readr\")\n",
        "library(readr)\n",
        "\n",
        "github=\"https://raw.githubusercontent.com/agronomy4future/raw_data_practice/main/wheat_grains_data_training.csv\"\n",
        "dataB=data.frame(read_csv(url(github),show_col_types= FALSE))\n",
        "\n",
        "print(tail(dataB,5))"
      ],
      "metadata": {
        "colab": {
          "base_uri": "https://localhost:8080/"
        },
        "id": "z6FV9GFfNRSt",
        "outputId": "8e25f212-3beb-41d3-d960-b1dd16bf9649"
      },
      "execution_count": null,
      "outputs": [
        {
          "output_type": "stream",
          "name": "stdout",
          "text": [
            "      Field Genotype Block fungicide planting_date fertilizer   Shoot\n",
            "96315 South    Peele   III        No         early        N/A Tillers\n",
            "96316 South    Peele   III        No         early        N/A Tillers\n",
            "96317 South    Peele   III        No         early        N/A Tillers\n",
            "96318 South    Peele    II        No          late        N/A Tillers\n",
            "96319 South    Peele    II        No          late        N/A Tillers\n",
            "      Length.mm. Width.mm. Area.mm2.\n",
            "96315      5.951     2.987    13.687\n",
            "96316      5.614     2.687    11.058\n",
            "96317      5.674     2.210     9.154\n",
            "96318      6.041     2.138    18.092\n",
            "96319      6.041     2.138    18.092\n"
          ]
        }
      ]
    },
    {
      "cell_type": "code",
      "source": [
        "datazip(dataB)  # The code is too long"
      ],
      "metadata": {
        "id": "URB5sJSqNULY"
      },
      "execution_count": null,
      "outputs": []
    },
    {
      "cell_type": "markdown",
      "source": [
        "# to save code as .r file"
      ],
      "metadata": {
        "id": "PMw36wS-ef6d"
      }
    },
    {
      "cell_type": "code",
      "source": [
        "setwd(\"C:/Users/Desktop\") # set up the pathway to save the file\n",
        "datazip(dataB, output=\"dataB_output.r\")"
      ],
      "metadata": {
        "id": "dRPlLbDhefGf"
      },
      "execution_count": null,
      "outputs": []
    },
    {
      "cell_type": "markdown",
      "source": [
        "# to import.r file to R"
      ],
      "metadata": {
        "id": "U7LzL-jdeo2K"
      }
    },
    {
      "cell_type": "code",
      "source": [
        "setwd(\"C:/Users/Desktop\") # set up the pathway to import the file\n",
        "\n",
        "dataB_recovered= dataunzip(\"dataB_output.r\")\n",
        "\n",
        "print(tail(dataB_recovered, 5))"
      ],
      "metadata": {
        "id": "6FItWvKCepSU"
      },
      "execution_count": null,
      "outputs": []
    },
    {
      "cell_type": "markdown",
      "source": [
        "# to save and import .rds file"
      ],
      "metadata": {
        "id": "UBpdRCJ-ezIb"
      }
    },
    {
      "cell_type": "code",
      "source": [
        "# to save data as .rds\n",
        "datazip(df, output=\"dataB_output.rds\")\n",
        "\n",
        "# to import it to R as data frame\n",
        "dataB_recovered= dataunzip(\"dataB_output.rds\")\n",
        "\n",
        "print(tail(dataB_recovered, 5))"
      ],
      "metadata": {
        "id": "fEaRWqUKey7V"
      },
      "execution_count": null,
      "outputs": []
    }
  ]
}
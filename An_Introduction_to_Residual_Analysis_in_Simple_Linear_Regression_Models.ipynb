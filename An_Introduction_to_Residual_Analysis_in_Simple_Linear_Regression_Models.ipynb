{
  "nbformat": 4,
  "nbformat_minor": 0,
  "metadata": {
    "colab": {
      "provenance": [],
      "authorship_tag": "ABX9TyMTgEm5mgN9PJpgZaRdriRN"
    },
    "kernelspec": {
      "name": "ir",
      "display_name": "R"
    },
    "language_info": {
      "name": "R"
    }
  },
  "cells": [
    {
      "cell_type": "code",
      "execution_count": 11,
      "metadata": {
        "colab": {
          "base_uri": "https://localhost:8080/",
          "height": 335
        },
        "id": "-AGHv3SjVgoR",
        "outputId": "2cdd47ac-15ae-42ec-aee4-ec39a452d2f0"
      },
      "outputs": [
        {
          "output_type": "display_data",
          "data": {
            "text/html": [
              "<table class=\"dataframe\">\n",
              "<caption>A data.frame: 7 × 2</caption>\n",
              "<thead>\n",
              "\t<tr><th scope=col>x</th><th scope=col>y</th></tr>\n",
              "\t<tr><th scope=col>&lt;dbl&gt;</th><th scope=col>&lt;dbl&gt;</th></tr>\n",
              "</thead>\n",
              "<tbody>\n",
              "\t<tr><td>10</td><td> 30</td></tr>\n",
              "\t<tr><td>20</td><td> 40</td></tr>\n",
              "\t<tr><td>30</td><td> 50</td></tr>\n",
              "\t<tr><td>40</td><td> 80</td></tr>\n",
              "\t<tr><td>50</td><td> 90</td></tr>\n",
              "\t<tr><td>60</td><td>100</td></tr>\n",
              "\t<tr><td>70</td><td>120</td></tr>\n",
              "</tbody>\n",
              "</table>\n"
            ],
            "text/markdown": "\nA data.frame: 7 × 2\n\n| x &lt;dbl&gt; | y &lt;dbl&gt; |\n|---|---|\n| 10 |  30 |\n| 20 |  40 |\n| 30 |  50 |\n| 40 |  80 |\n| 50 |  90 |\n| 60 | 100 |\n| 70 | 120 |\n\n",
            "text/latex": "A data.frame: 7 × 2\n\\begin{tabular}{ll}\n x & y\\\\\n <dbl> & <dbl>\\\\\n\\hline\n\t 10 &  30\\\\\n\t 20 &  40\\\\\n\t 30 &  50\\\\\n\t 40 &  80\\\\\n\t 50 &  90\\\\\n\t 60 & 100\\\\\n\t 70 & 120\\\\\n\\end{tabular}\n",
            "text/plain": [
              "  x  y  \n",
              "1 10  30\n",
              "2 20  40\n",
              "3 30  50\n",
              "4 40  80\n",
              "5 50  90\n",
              "6 60 100\n",
              "7 70 120"
            ]
          },
          "metadata": {}
        }
      ],
      "source": [
        "x=c(10,20,30,40,50,60,70)\n",
        "y=c(30,40,50,80,90,100,120)\n",
        "dataA=data.frame(x,y)\n",
        "dataA"
      ]
    },
    {
      "cell_type": "code",
      "source": [
        "model= lm (y~x, data=dataA)"
      ],
      "metadata": {
        "id": "lPCvGGjWV6Br"
      },
      "execution_count": 12,
      "outputs": []
    },
    {
      "cell_type": "code",
      "source": [
        "model_prediction=predict(model)\n",
        "model_prediction"
      ],
      "metadata": {
        "colab": {
          "base_uri": "https://localhost:8080/",
          "height": 34
        },
        "id": "MOHzJ1bjV4XZ",
        "outputId": "456cf998-edde-47bd-b504-ff3e6cf876e8"
      },
      "execution_count": 13,
      "outputs": [
        {
          "output_type": "display_data",
          "data": {
            "text/html": [
              "<style>\n",
              ".dl-inline {width: auto; margin:0; padding: 0}\n",
              ".dl-inline>dt, .dl-inline>dd {float: none; width: auto; display: inline-block}\n",
              ".dl-inline>dt::after {content: \":\\0020\"; padding-right: .5ex}\n",
              ".dl-inline>dt:not(:first-of-type) {padding-left: .5ex}\n",
              "</style><dl class=dl-inline><dt>1</dt><dd>26.7857142857143</dd><dt>2</dt><dd>42.1428571428571</dd><dt>3</dt><dd>57.5</dd><dt>4</dt><dd>72.8571428571429</dd><dt>5</dt><dd>88.2142857142857</dd><dt>6</dt><dd>103.571428571429</dd><dt>7</dt><dd>118.928571428571</dd></dl>\n"
            ],
            "text/markdown": "1\n:   26.78571428571432\n:   42.14285714285713\n:   57.54\n:   72.85714285714295\n:   88.21428571428576\n:   103.5714285714297\n:   118.928571428571\n\n",
            "text/latex": "\\begin{description*}\n\\item[1] 26.7857142857143\n\\item[2] 42.1428571428571\n\\item[3] 57.5\n\\item[4] 72.8571428571429\n\\item[5] 88.2142857142857\n\\item[6] 103.571428571429\n\\item[7] 118.928571428571\n\\end{description*}\n",
            "text/plain": [
              "        1         2         3         4         5         6         7 \n",
              " 26.78571  42.14286  57.50000  72.85714  88.21429 103.57143 118.92857 "
            ]
          },
          "metadata": {}
        }
      ]
    },
    {
      "cell_type": "code",
      "source": [
        "dataA$prediction=model_prediction\n",
        "dataA"
      ],
      "metadata": {
        "colab": {
          "base_uri": "https://localhost:8080/",
          "height": 317
        },
        "id": "ulxQgAIRWCGa",
        "outputId": "99e7f65d-6166-4944-d2e9-ce3d74752acb"
      },
      "execution_count": 14,
      "outputs": [
        {
          "output_type": "display_data",
          "data": {
            "text/html": [
              "<table class=\"dataframe\">\n",
              "<caption>A data.frame: 7 × 3</caption>\n",
              "<thead>\n",
              "\t<tr><th scope=col>x</th><th scope=col>y</th><th scope=col>prediction</th></tr>\n",
              "\t<tr><th scope=col>&lt;dbl&gt;</th><th scope=col>&lt;dbl&gt;</th><th scope=col>&lt;dbl&gt;</th></tr>\n",
              "</thead>\n",
              "<tbody>\n",
              "\t<tr><td>10</td><td> 30</td><td> 26.78571</td></tr>\n",
              "\t<tr><td>20</td><td> 40</td><td> 42.14286</td></tr>\n",
              "\t<tr><td>30</td><td> 50</td><td> 57.50000</td></tr>\n",
              "\t<tr><td>40</td><td> 80</td><td> 72.85714</td></tr>\n",
              "\t<tr><td>50</td><td> 90</td><td> 88.21429</td></tr>\n",
              "\t<tr><td>60</td><td>100</td><td>103.57143</td></tr>\n",
              "\t<tr><td>70</td><td>120</td><td>118.92857</td></tr>\n",
              "</tbody>\n",
              "</table>\n"
            ],
            "text/markdown": "\nA data.frame: 7 × 3\n\n| x &lt;dbl&gt; | y &lt;dbl&gt; | prediction &lt;dbl&gt; |\n|---|---|---|\n| 10 |  30 |  26.78571 |\n| 20 |  40 |  42.14286 |\n| 30 |  50 |  57.50000 |\n| 40 |  80 |  72.85714 |\n| 50 |  90 |  88.21429 |\n| 60 | 100 | 103.57143 |\n| 70 | 120 | 118.92857 |\n\n",
            "text/latex": "A data.frame: 7 × 3\n\\begin{tabular}{lll}\n x & y & prediction\\\\\n <dbl> & <dbl> & <dbl>\\\\\n\\hline\n\t 10 &  30 &  26.78571\\\\\n\t 20 &  40 &  42.14286\\\\\n\t 30 &  50 &  57.50000\\\\\n\t 40 &  80 &  72.85714\\\\\n\t 50 &  90 &  88.21429\\\\\n\t 60 & 100 & 103.57143\\\\\n\t 70 & 120 & 118.92857\\\\\n\\end{tabular}\n",
            "text/plain": [
              "  x  y   prediction\n",
              "1 10  30  26.78571 \n",
              "2 20  40  42.14286 \n",
              "3 30  50  57.50000 \n",
              "4 40  80  72.85714 \n",
              "5 50  90  88.21429 \n",
              "6 60 100 103.57143 \n",
              "7 70 120 118.92857 "
            ]
          },
          "metadata": {}
        }
      ]
    },
    {
      "cell_type": "code",
      "source": [
        "dataA$residual= dataA$y - dataA$prediction\n",
        "dataA"
      ],
      "metadata": {
        "colab": {
          "base_uri": "https://localhost:8080/",
          "height": 317
        },
        "id": "zM5naH56Wfs5",
        "outputId": "73097540-1eb9-47b4-b39b-a767665f7af6"
      },
      "execution_count": 15,
      "outputs": [
        {
          "output_type": "display_data",
          "data": {
            "text/html": [
              "<table class=\"dataframe\">\n",
              "<caption>A data.frame: 7 × 4</caption>\n",
              "<thead>\n",
              "\t<tr><th scope=col>x</th><th scope=col>y</th><th scope=col>prediction</th><th scope=col>residual</th></tr>\n",
              "\t<tr><th scope=col>&lt;dbl&gt;</th><th scope=col>&lt;dbl&gt;</th><th scope=col>&lt;dbl&gt;</th><th scope=col>&lt;dbl&gt;</th></tr>\n",
              "</thead>\n",
              "<tbody>\n",
              "\t<tr><td>10</td><td> 30</td><td> 26.78571</td><td> 3.214286</td></tr>\n",
              "\t<tr><td>20</td><td> 40</td><td> 42.14286</td><td>-2.142857</td></tr>\n",
              "\t<tr><td>30</td><td> 50</td><td> 57.50000</td><td>-7.500000</td></tr>\n",
              "\t<tr><td>40</td><td> 80</td><td> 72.85714</td><td> 7.142857</td></tr>\n",
              "\t<tr><td>50</td><td> 90</td><td> 88.21429</td><td> 1.785714</td></tr>\n",
              "\t<tr><td>60</td><td>100</td><td>103.57143</td><td>-3.571429</td></tr>\n",
              "\t<tr><td>70</td><td>120</td><td>118.92857</td><td> 1.071429</td></tr>\n",
              "</tbody>\n",
              "</table>\n"
            ],
            "text/markdown": "\nA data.frame: 7 × 4\n\n| x &lt;dbl&gt; | y &lt;dbl&gt; | prediction &lt;dbl&gt; | residual &lt;dbl&gt; |\n|---|---|---|---|\n| 10 |  30 |  26.78571 |  3.214286 |\n| 20 |  40 |  42.14286 | -2.142857 |\n| 30 |  50 |  57.50000 | -7.500000 |\n| 40 |  80 |  72.85714 |  7.142857 |\n| 50 |  90 |  88.21429 |  1.785714 |\n| 60 | 100 | 103.57143 | -3.571429 |\n| 70 | 120 | 118.92857 |  1.071429 |\n\n",
            "text/latex": "A data.frame: 7 × 4\n\\begin{tabular}{llll}\n x & y & prediction & residual\\\\\n <dbl> & <dbl> & <dbl> & <dbl>\\\\\n\\hline\n\t 10 &  30 &  26.78571 &  3.214286\\\\\n\t 20 &  40 &  42.14286 & -2.142857\\\\\n\t 30 &  50 &  57.50000 & -7.500000\\\\\n\t 40 &  80 &  72.85714 &  7.142857\\\\\n\t 50 &  90 &  88.21429 &  1.785714\\\\\n\t 60 & 100 & 103.57143 & -3.571429\\\\\n\t 70 & 120 & 118.92857 &  1.071429\\\\\n\\end{tabular}\n",
            "text/plain": [
              "  x  y   prediction residual \n",
              "1 10  30  26.78571   3.214286\n",
              "2 20  40  42.14286  -2.142857\n",
              "3 30  50  57.50000  -7.500000\n",
              "4 40  80  72.85714   7.142857\n",
              "5 50  90  88.21429   1.785714\n",
              "6 60 100 103.57143  -3.571429\n",
              "7 70 120 118.92857   1.071429"
            ]
          },
          "metadata": {}
        }
      ]
    },
    {
      "cell_type": "code",
      "source": [
        "library(ggplot2)\n",
        "\n",
        "ggplot(data=dataA, aes(x=prediction, y=residual))+\n",
        "  geom_point(alpha=0.5, size=4) +\n",
        "  geom_hline(yintercept=0, linetype=\"solid\", color = \"Blue\") +\n",
        "  labs(y=\"Residuals\", x=\"Predicted value\") +\n",
        "  theme_classic(base_size=18, base_family=\"serif\")+\n",
        "  theme_grey(base_size=18, base_family=\"serif\")+\n",
        "  theme(legend.position=\"bottom\",\n",
        "        legend.title=element_blank(),\n",
        "        legend.key=element_rect(color=alpha(\"grey\",.05), fill=alpha(\"grey\",.05)),\n",
        "        legend.background= element_rect(fill=alpha(\"grey\",.05)),\n",
        "        axis.line=element_line(linewidth=0.5, colour=\"black\"))"
      ],
      "metadata": {
        "colab": {
          "base_uri": "https://localhost:8080/",
          "height": 437
        },
        "id": "AqKZeS2CYMXN",
        "outputId": "5d9535e8-8101-4c37-bfbc-1971e5474188"
      },
      "execution_count": 16,
      "outputs": [
        {
          "output_type": "display_data",
          "data": {
            "text/plain": [
              "plot without title"
            ],
            "image/png": "[encoded data removed]"
          },
          "metadata": {
            "image/png": {
              "width": 420,
              "height": 420
            }
          }
        }
      ]
    },
    {
      "cell_type": "markdown",
      "source": [
        "# Non linear model"
      ],
      "metadata": {
        "id": "WkrNVkeWY2lb"
      }
    },
    {
      "cell_type": "code",
      "source": [
        "x=c(10,20,30,40,50,60,70)\n",
        "y=c(30,40,50,70,60,30,20)\n",
        "dataB=data.frame(x,y)\n",
        "dataB"
      ],
      "metadata": {
        "colab": {
          "base_uri": "https://localhost:8080/",
          "height": 335
        },
        "id": "p6oclWEhYeoD",
        "outputId": "b0bc05da-51bc-4603-f618-472b3c729d56"
      },
      "execution_count": 17,
      "outputs": [
        {
          "output_type": "display_data",
          "data": {
            "text/html": [
              "<table class=\"dataframe\">\n",
              "<caption>A data.frame: 7 × 2</caption>\n",
              "<thead>\n",
              "\t<tr><th scope=col>x</th><th scope=col>y</th></tr>\n",
              "\t<tr><th scope=col>&lt;dbl&gt;</th><th scope=col>&lt;dbl&gt;</th></tr>\n",
              "</thead>\n",
              "<tbody>\n",
              "\t<tr><td>10</td><td>30</td></tr>\n",
              "\t<tr><td>20</td><td>40</td></tr>\n",
              "\t<tr><td>30</td><td>50</td></tr>\n",
              "\t<tr><td>40</td><td>70</td></tr>\n",
              "\t<tr><td>50</td><td>60</td></tr>\n",
              "\t<tr><td>60</td><td>30</td></tr>\n",
              "\t<tr><td>70</td><td>20</td></tr>\n",
              "</tbody>\n",
              "</table>\n"
            ],
            "text/markdown": "\nA data.frame: 7 × 2\n\n| x &lt;dbl&gt; | y &lt;dbl&gt; |\n|---|---|\n| 10 | 30 |\n| 20 | 40 |\n| 30 | 50 |\n| 40 | 70 |\n| 50 | 60 |\n| 60 | 30 |\n| 70 | 20 |\n\n",
            "text/latex": "A data.frame: 7 × 2\n\\begin{tabular}{ll}\n x & y\\\\\n <dbl> & <dbl>\\\\\n\\hline\n\t 10 & 30\\\\\n\t 20 & 40\\\\\n\t 30 & 50\\\\\n\t 40 & 70\\\\\n\t 50 & 60\\\\\n\t 60 & 30\\\\\n\t 70 & 20\\\\\n\\end{tabular}\n",
            "text/plain": [
              "  x  y \n",
              "1 10 30\n",
              "2 20 40\n",
              "3 30 50\n",
              "4 40 70\n",
              "5 50 60\n",
              "6 60 30\n",
              "7 70 20"
            ]
          },
          "metadata": {}
        }
      ]
    },
    {
      "cell_type": "code",
      "source": [
        "# Linear model\n",
        "summary(lm(y~x, data=dataB))"
      ],
      "metadata": {
        "colab": {
          "base_uri": "https://localhost:8080/",
          "height": 329
        },
        "id": "s3FCpCvAYkZB",
        "outputId": "7d3873b6-8044-4e1f-baeb-41448cfd8497"
      },
      "execution_count": 9,
      "outputs": [
        {
          "output_type": "display_data",
          "data": {
            "text/plain": [
              "\n",
              "Call:\n",
              "lm(formula = y ~ x, data = dataB)\n",
              "\n",
              "Residuals:\n",
              "      1       2       3       4       5       6       7 \n",
              "-17.143  -5.714   5.714  27.143  18.571 -10.000 -18.571 \n",
              "\n",
              "Coefficients:\n",
              "            Estimate Std. Error t value Pr(>|t|)  \n",
              "(Intercept)  48.5714    16.4130   2.959   0.0315 *\n",
              "x            -0.1429     0.3670  -0.389   0.7131  \n",
              "---\n",
              "Signif. codes:  0 ‘***’ 0.001 ‘**’ 0.01 ‘*’ 0.05 ‘.’ 0.1 ‘ ’ 1\n",
              "\n",
              "Residual standard error: 19.42 on 5 degrees of freedom\n",
              "Multiple R-squared:  0.02941,\tAdjusted R-squared:  -0.1647 \n",
              "F-statistic: 0.1515 on 1 and 5 DF,  p-value: 0.7131\n"
            ]
          },
          "metadata": {}
        }
      ]
    },
    {
      "cell_type": "code",
      "source": [
        "# Non-linear model (Quadratic model)\n",
        "summary(lm(y~poly(x,2, raw=TRUE), data=dataB))"
      ],
      "metadata": {
        "colab": {
          "base_uri": "https://localhost:8080/",
          "height": 347
        },
        "id": "SCkfpE4sYkMy",
        "outputId": "ea03f975-981b-4005-c0de-f84582fc812c"
      },
      "execution_count": 10,
      "outputs": [
        {
          "output_type": "display_data",
          "data": {
            "text/plain": [
              "\n",
              "Call:\n",
              "lm(formula = y ~ poly(x, 2, raw = TRUE), data = dataB)\n",
              "\n",
              "Residuals:\n",
              "      1       2       3       4       5       6       7 \n",
              "  4.286  -5.714  -7.143  10.000   5.714 -10.000   2.857 \n",
              "\n",
              "Coefficients:\n",
              "                        Estimate Std. Error t value Pr(>|t|)  \n",
              "(Intercept)             -2.85714   14.42786  -0.198   0.8527  \n",
              "poly(x, 2, raw = TRUE)1  3.28571    0.82685   3.974   0.0165 *\n",
              "poly(x, 2, raw = TRUE)2 -0.04286    0.01010  -4.243   0.0132 *\n",
              "---\n",
              "Signif. codes:  0 ‘***’ 0.001 ‘**’ 0.01 ‘*’ 0.05 ‘.’ 0.1 ‘ ’ 1\n",
              "\n",
              "Residual standard error: 9.258 on 4 degrees of freedom\n",
              "Multiple R-squared:  0.8235,\tAdjusted R-squared:  0.7353 \n",
              "F-statistic: 9.333 on 2 and 4 DF,  p-value: 0.03114\n"
            ]
          },
          "metadata": {}
        }
      ]
    },
    {
      "cell_type": "code",
      "source": [
        "model= lm(y ~ x, data=dataB)"
      ],
      "metadata": {
        "id": "ydb1CyMcY_K2"
      },
      "execution_count": 18,
      "outputs": []
    },
    {
      "cell_type": "code",
      "source": [
        "model_prediction=predict(model)\n",
        "model_prediction"
      ],
      "metadata": {
        "colab": {
          "base_uri": "https://localhost:8080/",
          "height": 34
        },
        "id": "ayY_IY_EZPKl",
        "outputId": "7fc2476b-c0e7-49de-c9b0-8c7227c78919"
      },
      "execution_count": 19,
      "outputs": [
        {
          "output_type": "display_data",
          "data": {
            "text/html": [
              "<style>\n",
              ".dl-inline {width: auto; margin:0; padding: 0}\n",
              ".dl-inline>dt, .dl-inline>dd {float: none; width: auto; display: inline-block}\n",
              ".dl-inline>dt::after {content: \":\\0020\"; padding-right: .5ex}\n",
              ".dl-inline>dt:not(:first-of-type) {padding-left: .5ex}\n",
              "</style><dl class=dl-inline><dt>1</dt><dd>47.1428571428571</dd><dt>2</dt><dd>45.7142857142857</dd><dt>3</dt><dd>44.2857142857143</dd><dt>4</dt><dd>42.8571428571429</dd><dt>5</dt><dd>41.4285714285714</dd><dt>6</dt><dd>40</dd><dt>7</dt><dd>38.5714285714286</dd></dl>\n"
            ],
            "text/markdown": "1\n:   47.14285714285712\n:   45.71428571428573\n:   44.28571428571434\n:   42.85714285714295\n:   41.42857142857146\n:   407\n:   38.5714285714286\n\n",
            "text/latex": "\\begin{description*}\n\\item[1] 47.1428571428571\n\\item[2] 45.7142857142857\n\\item[3] 44.2857142857143\n\\item[4] 42.8571428571429\n\\item[5] 41.4285714285714\n\\item[6] 40\n\\item[7] 38.5714285714286\n\\end{description*}\n",
            "text/plain": [
              "       1        2        3        4        5        6        7 \n",
              "47.14286 45.71429 44.28571 42.85714 41.42857 40.00000 38.57143 "
            ]
          },
          "metadata": {}
        }
      ]
    },
    {
      "cell_type": "code",
      "source": [
        "dataB$prediction=model_prediction\n",
        "dataB"
      ],
      "metadata": {
        "colab": {
          "base_uri": "https://localhost:8080/",
          "height": 317
        },
        "id": "_nqhGbLzZUI4",
        "outputId": "62c81430-f779-4731-de94-3e93993030ee"
      },
      "execution_count": 20,
      "outputs": [
        {
          "output_type": "display_data",
          "data": {
            "text/html": [
              "<table class=\"dataframe\">\n",
              "<caption>A data.frame: 7 × 3</caption>\n",
              "<thead>\n",
              "\t<tr><th scope=col>x</th><th scope=col>y</th><th scope=col>prediction</th></tr>\n",
              "\t<tr><th scope=col>&lt;dbl&gt;</th><th scope=col>&lt;dbl&gt;</th><th scope=col>&lt;dbl&gt;</th></tr>\n",
              "</thead>\n",
              "<tbody>\n",
              "\t<tr><td>10</td><td>30</td><td>47.14286</td></tr>\n",
              "\t<tr><td>20</td><td>40</td><td>45.71429</td></tr>\n",
              "\t<tr><td>30</td><td>50</td><td>44.28571</td></tr>\n",
              "\t<tr><td>40</td><td>70</td><td>42.85714</td></tr>\n",
              "\t<tr><td>50</td><td>60</td><td>41.42857</td></tr>\n",
              "\t<tr><td>60</td><td>30</td><td>40.00000</td></tr>\n",
              "\t<tr><td>70</td><td>20</td><td>38.57143</td></tr>\n",
              "</tbody>\n",
              "</table>\n"
            ],
            "text/markdown": "\nA data.frame: 7 × 3\n\n| x &lt;dbl&gt; | y &lt;dbl&gt; | prediction &lt;dbl&gt; |\n|---|---|---|\n| 10 | 30 | 47.14286 |\n| 20 | 40 | 45.71429 |\n| 30 | 50 | 44.28571 |\n| 40 | 70 | 42.85714 |\n| 50 | 60 | 41.42857 |\n| 60 | 30 | 40.00000 |\n| 70 | 20 | 38.57143 |\n\n",
            "text/latex": "A data.frame: 7 × 3\n\\begin{tabular}{lll}\n x & y & prediction\\\\\n <dbl> & <dbl> & <dbl>\\\\\n\\hline\n\t 10 & 30 & 47.14286\\\\\n\t 20 & 40 & 45.71429\\\\\n\t 30 & 50 & 44.28571\\\\\n\t 40 & 70 & 42.85714\\\\\n\t 50 & 60 & 41.42857\\\\\n\t 60 & 30 & 40.00000\\\\\n\t 70 & 20 & 38.57143\\\\\n\\end{tabular}\n",
            "text/plain": [
              "  x  y  prediction\n",
              "1 10 30 47.14286  \n",
              "2 20 40 45.71429  \n",
              "3 30 50 44.28571  \n",
              "4 40 70 42.85714  \n",
              "5 50 60 41.42857  \n",
              "6 60 30 40.00000  \n",
              "7 70 20 38.57143  "
            ]
          },
          "metadata": {}
        }
      ]
    },
    {
      "cell_type": "code",
      "source": [
        "dataB$residual= dataB$y - dataB$prediction\n",
        "dataB"
      ],
      "metadata": {
        "colab": {
          "base_uri": "https://localhost:8080/",
          "height": 317
        },
        "id": "ThfPg-vZZa7d",
        "outputId": "4cfa4bfd-a709-4c7e-f30d-e8771c0a0496"
      },
      "execution_count": 21,
      "outputs": [
        {
          "output_type": "display_data",
          "data": {
            "text/html": [
              "<table class=\"dataframe\">\n",
              "<caption>A data.frame: 7 × 4</caption>\n",
              "<thead>\n",
              "\t<tr><th scope=col>x</th><th scope=col>y</th><th scope=col>prediction</th><th scope=col>residual</th></tr>\n",
              "\t<tr><th scope=col>&lt;dbl&gt;</th><th scope=col>&lt;dbl&gt;</th><th scope=col>&lt;dbl&gt;</th><th scope=col>&lt;dbl&gt;</th></tr>\n",
              "</thead>\n",
              "<tbody>\n",
              "\t<tr><td>10</td><td>30</td><td>47.14286</td><td>-17.142857</td></tr>\n",
              "\t<tr><td>20</td><td>40</td><td>45.71429</td><td> -5.714286</td></tr>\n",
              "\t<tr><td>30</td><td>50</td><td>44.28571</td><td>  5.714286</td></tr>\n",
              "\t<tr><td>40</td><td>70</td><td>42.85714</td><td> 27.142857</td></tr>\n",
              "\t<tr><td>50</td><td>60</td><td>41.42857</td><td> 18.571429</td></tr>\n",
              "\t<tr><td>60</td><td>30</td><td>40.00000</td><td>-10.000000</td></tr>\n",
              "\t<tr><td>70</td><td>20</td><td>38.57143</td><td>-18.571429</td></tr>\n",
              "</tbody>\n",
              "</table>\n"
            ],
            "text/markdown": "\nA data.frame: 7 × 4\n\n| x &lt;dbl&gt; | y &lt;dbl&gt; | prediction &lt;dbl&gt; | residual &lt;dbl&gt; |\n|---|---|---|---|\n| 10 | 30 | 47.14286 | -17.142857 |\n| 20 | 40 | 45.71429 |  -5.714286 |\n| 30 | 50 | 44.28571 |   5.714286 |\n| 40 | 70 | 42.85714 |  27.142857 |\n| 50 | 60 | 41.42857 |  18.571429 |\n| 60 | 30 | 40.00000 | -10.000000 |\n| 70 | 20 | 38.57143 | -18.571429 |\n\n",
            "text/latex": "A data.frame: 7 × 4\n\\begin{tabular}{llll}\n x & y & prediction & residual\\\\\n <dbl> & <dbl> & <dbl> & <dbl>\\\\\n\\hline\n\t 10 & 30 & 47.14286 & -17.142857\\\\\n\t 20 & 40 & 45.71429 &  -5.714286\\\\\n\t 30 & 50 & 44.28571 &   5.714286\\\\\n\t 40 & 70 & 42.85714 &  27.142857\\\\\n\t 50 & 60 & 41.42857 &  18.571429\\\\\n\t 60 & 30 & 40.00000 & -10.000000\\\\\n\t 70 & 20 & 38.57143 & -18.571429\\\\\n\\end{tabular}\n",
            "text/plain": [
              "  x  y  prediction residual  \n",
              "1 10 30 47.14286   -17.142857\n",
              "2 20 40 45.71429    -5.714286\n",
              "3 30 50 44.28571     5.714286\n",
              "4 40 70 42.85714    27.142857\n",
              "5 50 60 41.42857    18.571429\n",
              "6 60 30 40.00000   -10.000000\n",
              "7 70 20 38.57143   -18.571429"
            ]
          },
          "metadata": {}
        }
      ]
    },
    {
      "cell_type": "code",
      "source": [
        "library(ggplot2)\n",
        "\n",
        "ggplot(data=dataB, aes(x=prediction, y=residual))+\n",
        "  geom_point(alpha=0.5, size=4) +\n",
        "  geom_hline(yintercept=0, linetype=\"solid\", color = \"Blue\") +\n",
        "  labs(y=\"Residuals\", x=\"Predicted value\") +\n",
        "  theme_grey(base_size=18, base_family=\"serif\")+\n",
        "  theme(legend.position=\"bottom\",\n",
        "        legend.title=element_blank(),\n",
        "        legend.key=element_rect(color=alpha(\"grey\",.05), fill=alpha(\"grey\",.05)),\n",
        "        legend.background= element_rect(fill=alpha(\"grey\",.05)),\n",
        "        axis.line=element_line(linewidth=0.5, colour=\"black\"))"
      ],
      "metadata": {
        "colab": {
          "base_uri": "https://localhost:8080/",
          "height": 437
        },
        "id": "0fuNf4BZZmJa",
        "outputId": "b9661df2-2291-4ec7-d4eb-a271ac607343"
      },
      "execution_count": 22,
      "outputs": [
        {
          "output_type": "display_data",
          "data": {
            "text/plain": [
              "plot without title"
            ],
            "image/png": "[encoded data removed]"
          },
          "metadata": {
            "image/png": {
              "width": 420,
              "height": 420
            }
          }
        }
      ]
    },
    {
      "cell_type": "markdown",
      "source": [
        "If the residual plot exhibits non-random patterns or lacks random dispersion, it suggests that a linear regression model may not be suitable for the data."
      ],
      "metadata": {
        "id": "eps4wVxmcCMg"
      }
    },
    {
      "cell_type": "markdown",
      "source": [
        "# Non linear model"
      ],
      "metadata": {
        "id": "cH1w1gYac--D"
      }
    },
    {
      "cell_type": "code",
      "source": [
        "model= lm(y ~ poly(x,2, raw=TRUE), data=dataB)"
      ],
      "metadata": {
        "id": "4_15ZWhQb6VG"
      },
      "execution_count": 26,
      "outputs": []
    },
    {
      "cell_type": "code",
      "source": [
        "model_prediction=predict(model)\n",
        "model_prediction"
      ],
      "metadata": {
        "colab": {
          "base_uri": "https://localhost:8080/",
          "height": 34
        },
        "id": "v7UtqquCcBlC",
        "outputId": "26f83e92-f4ca-4f39-fee1-048b21162991"
      },
      "execution_count": 27,
      "outputs": [
        {
          "output_type": "display_data",
          "data": {
            "text/html": [
              "<style>\n",
              ".dl-inline {width: auto; margin:0; padding: 0}\n",
              ".dl-inline>dt, .dl-inline>dd {float: none; width: auto; display: inline-block}\n",
              ".dl-inline>dt::after {content: \":\\0020\"; padding-right: .5ex}\n",
              ".dl-inline>dt:not(:first-of-type) {padding-left: .5ex}\n",
              "</style><dl class=dl-inline><dt>1</dt><dd>25.7142857142857</dd><dt>2</dt><dd>45.7142857142857</dd><dt>3</dt><dd>57.1428571428571</dd><dt>4</dt><dd>60</dd><dt>5</dt><dd>54.2857142857143</dd><dt>6</dt><dd>40</dd><dt>7</dt><dd>17.1428571428572</dd></dl>\n"
            ],
            "text/markdown": "1\n:   25.71428571428572\n:   45.71428571428573\n:   57.14285714285714\n:   605\n:   54.28571428571436\n:   407\n:   17.1428571428572\n\n",
            "text/latex": "\\begin{description*}\n\\item[1] 25.7142857142857\n\\item[2] 45.7142857142857\n\\item[3] 57.1428571428571\n\\item[4] 60\n\\item[5] 54.2857142857143\n\\item[6] 40\n\\item[7] 17.1428571428572\n\\end{description*}\n",
            "text/plain": [
              "       1        2        3        4        5        6        7 \n",
              "25.71429 45.71429 57.14286 60.00000 54.28571 40.00000 17.14286 "
            ]
          },
          "metadata": {}
        }
      ]
    },
    {
      "cell_type": "code",
      "source": [
        "dataB$prediction=model_prediction\n",
        "dataB"
      ],
      "metadata": {
        "colab": {
          "base_uri": "https://localhost:8080/",
          "height": 317
        },
        "id": "mK0u4TXCcFsm",
        "outputId": "69057af0-10d9-4d32-adba-ee5b9fcb2943"
      },
      "execution_count": 28,
      "outputs": [
        {
          "output_type": "display_data",
          "data": {
            "text/html": [
              "<table class=\"dataframe\">\n",
              "<caption>A data.frame: 7 × 4</caption>\n",
              "<thead>\n",
              "\t<tr><th scope=col>x</th><th scope=col>y</th><th scope=col>prediction</th><th scope=col>residual</th></tr>\n",
              "\t<tr><th scope=col>&lt;dbl&gt;</th><th scope=col>&lt;dbl&gt;</th><th scope=col>&lt;dbl&gt;</th><th scope=col>&lt;dbl&gt;</th></tr>\n",
              "</thead>\n",
              "<tbody>\n",
              "\t<tr><td>10</td><td>30</td><td>25.71429</td><td>-17.142857</td></tr>\n",
              "\t<tr><td>20</td><td>40</td><td>45.71429</td><td> -5.714286</td></tr>\n",
              "\t<tr><td>30</td><td>50</td><td>57.14286</td><td>  5.714286</td></tr>\n",
              "\t<tr><td>40</td><td>70</td><td>60.00000</td><td> 27.142857</td></tr>\n",
              "\t<tr><td>50</td><td>60</td><td>54.28571</td><td> 18.571429</td></tr>\n",
              "\t<tr><td>60</td><td>30</td><td>40.00000</td><td>-10.000000</td></tr>\n",
              "\t<tr><td>70</td><td>20</td><td>17.14286</td><td>-18.571429</td></tr>\n",
              "</tbody>\n",
              "</table>\n"
            ],
            "text/markdown": "\nA data.frame: 7 × 4\n\n| x &lt;dbl&gt; | y &lt;dbl&gt; | prediction &lt;dbl&gt; | residual &lt;dbl&gt; |\n|---|---|---|---|\n| 10 | 30 | 25.71429 | -17.142857 |\n| 20 | 40 | 45.71429 |  -5.714286 |\n| 30 | 50 | 57.14286 |   5.714286 |\n| 40 | 70 | 60.00000 |  27.142857 |\n| 50 | 60 | 54.28571 |  18.571429 |\n| 60 | 30 | 40.00000 | -10.000000 |\n| 70 | 20 | 17.14286 | -18.571429 |\n\n",
            "text/latex": "A data.frame: 7 × 4\n\\begin{tabular}{llll}\n x & y & prediction & residual\\\\\n <dbl> & <dbl> & <dbl> & <dbl>\\\\\n\\hline\n\t 10 & 30 & 25.71429 & -17.142857\\\\\n\t 20 & 40 & 45.71429 &  -5.714286\\\\\n\t 30 & 50 & 57.14286 &   5.714286\\\\\n\t 40 & 70 & 60.00000 &  27.142857\\\\\n\t 50 & 60 & 54.28571 &  18.571429\\\\\n\t 60 & 30 & 40.00000 & -10.000000\\\\\n\t 70 & 20 & 17.14286 & -18.571429\\\\\n\\end{tabular}\n",
            "text/plain": [
              "  x  y  prediction residual  \n",
              "1 10 30 25.71429   -17.142857\n",
              "2 20 40 45.71429    -5.714286\n",
              "3 30 50 57.14286     5.714286\n",
              "4 40 70 60.00000    27.142857\n",
              "5 50 60 54.28571    18.571429\n",
              "6 60 30 40.00000   -10.000000\n",
              "7 70 20 17.14286   -18.571429"
            ]
          },
          "metadata": {}
        }
      ]
    },
    {
      "cell_type": "code",
      "source": [
        "dataB$residual= dataB$y - dataB$prediction\n",
        "dataB"
      ],
      "metadata": {
        "colab": {
          "base_uri": "https://localhost:8080/",
          "height": 317
        },
        "id": "xzRW8u03cITX",
        "outputId": "760d6f29-df62-492d-f0ac-54c97305ddba"
      },
      "execution_count": 29,
      "outputs": [
        {
          "output_type": "display_data",
          "data": {
            "text/html": [
              "<table class=\"dataframe\">\n",
              "<caption>A data.frame: 7 × 4</caption>\n",
              "<thead>\n",
              "\t<tr><th scope=col>x</th><th scope=col>y</th><th scope=col>prediction</th><th scope=col>residual</th></tr>\n",
              "\t<tr><th scope=col>&lt;dbl&gt;</th><th scope=col>&lt;dbl&gt;</th><th scope=col>&lt;dbl&gt;</th><th scope=col>&lt;dbl&gt;</th></tr>\n",
              "</thead>\n",
              "<tbody>\n",
              "\t<tr><td>10</td><td>30</td><td>25.71429</td><td>  4.285714</td></tr>\n",
              "\t<tr><td>20</td><td>40</td><td>45.71429</td><td> -5.714286</td></tr>\n",
              "\t<tr><td>30</td><td>50</td><td>57.14286</td><td> -7.142857</td></tr>\n",
              "\t<tr><td>40</td><td>70</td><td>60.00000</td><td> 10.000000</td></tr>\n",
              "\t<tr><td>50</td><td>60</td><td>54.28571</td><td>  5.714286</td></tr>\n",
              "\t<tr><td>60</td><td>30</td><td>40.00000</td><td>-10.000000</td></tr>\n",
              "\t<tr><td>70</td><td>20</td><td>17.14286</td><td>  2.857143</td></tr>\n",
              "</tbody>\n",
              "</table>\n"
            ],
            "text/markdown": "\nA data.frame: 7 × 4\n\n| x &lt;dbl&gt; | y &lt;dbl&gt; | prediction &lt;dbl&gt; | residual &lt;dbl&gt; |\n|---|---|---|---|\n| 10 | 30 | 25.71429 |   4.285714 |\n| 20 | 40 | 45.71429 |  -5.714286 |\n| 30 | 50 | 57.14286 |  -7.142857 |\n| 40 | 70 | 60.00000 |  10.000000 |\n| 50 | 60 | 54.28571 |   5.714286 |\n| 60 | 30 | 40.00000 | -10.000000 |\n| 70 | 20 | 17.14286 |   2.857143 |\n\n",
            "text/latex": "A data.frame: 7 × 4\n\\begin{tabular}{llll}\n x & y & prediction & residual\\\\\n <dbl> & <dbl> & <dbl> & <dbl>\\\\\n\\hline\n\t 10 & 30 & 25.71429 &   4.285714\\\\\n\t 20 & 40 & 45.71429 &  -5.714286\\\\\n\t 30 & 50 & 57.14286 &  -7.142857\\\\\n\t 40 & 70 & 60.00000 &  10.000000\\\\\n\t 50 & 60 & 54.28571 &   5.714286\\\\\n\t 60 & 30 & 40.00000 & -10.000000\\\\\n\t 70 & 20 & 17.14286 &   2.857143\\\\\n\\end{tabular}\n",
            "text/plain": [
              "  x  y  prediction residual  \n",
              "1 10 30 25.71429     4.285714\n",
              "2 20 40 45.71429    -5.714286\n",
              "3 30 50 57.14286    -7.142857\n",
              "4 40 70 60.00000    10.000000\n",
              "5 50 60 54.28571     5.714286\n",
              "6 60 30 40.00000   -10.000000\n",
              "7 70 20 17.14286     2.857143"
            ]
          },
          "metadata": {}
        }
      ]
    },
    {
      "cell_type": "code",
      "source": [
        "library(ggplot2)\n",
        "\n",
        "ggplot(data=dataB, aes(x=prediction, y=residual))+\n",
        "  geom_point(alpha=0.5, size=4) +\n",
        "  geom_hline(yintercept=0, linetype=\"solid\", color = \"Blue\") +\n",
        "  labs(y=\"Residuals\", x=\"Predicted value\") +\n",
        "  theme_grey(base_size=18, base_family=\"serif\")+\n",
        "  theme(legend.position=\"bottom\",\n",
        "        legend.title=element_blank(),\n",
        "        legend.key=element_rect(color=alpha(\"grey\",.05), fill=alpha(\"grey\",.05)),\n",
        "        legend.background= element_rect(fill=alpha(\"grey\",.05)),\n",
        "        axis.line=element_line(linewidth=0.5, colour=\"black\"))"
      ],
      "metadata": {
        "colab": {
          "base_uri": "https://localhost:8080/",
          "height": 437
        },
        "id": "EfH1GVrLcPCJ",
        "outputId": "cda96e10-3732-4af6-b5e6-11d453e0c3ca"
      },
      "execution_count": 30,
      "outputs": [
        {
          "output_type": "display_data",
          "data": {
            "text/plain": [
              "plot without title"
            ],
            "image/png": "[encoded data removed]"
          },
          "metadata": {
            "image/png": {
              "width": 420,
              "height": 420
            }
          }
        }
      ]
    }
  ]
}
{
  "nbformat": 4,
  "nbformat_minor": 0,
  "metadata": {
    "colab": {
      "provenance": [],
      "authorship_tag": "ABX9TyMIDm4bFGxAPuLZrBNi4Mfp"
    },
    "kernelspec": {
      "name": "ir",
      "display_name": "R"
    },
    "language_info": {
      "name": "R"
    }
  },
  "cells": [
    {
      "cell_type": "markdown",
      "source": [
        "# N rate experiment (Grain) randomized"
      ],
      "metadata": {
        "id": "2Nx_-tsjxirn"
      }
    },
    {
      "cell_type": "code",
      "execution_count": 27,
      "metadata": {
        "colab": {
          "base_uri": "https://localhost:8080/",
          "height": 732
        },
        "id": "IVsbVZeLxUCu",
        "outputId": "ea26051e-10a3-4fdf-8479-98e314e7a992"
      },
      "outputs": [
        {
          "output_type": "display_data",
          "data": {
            "text/html": [
              "<table class=\"dataframe\">\n",
              "<caption>A tibble: 8 × 6</caption>\n",
              "<thead>\n",
              "\t<tr><th scope=col>Variety</th><th scope=col>N rate</th><th scope=col>Rep 1</th><th scope=col>Rep 2</th><th scope=col>Rep 3</th><th scope=col>Rep 4</th></tr>\n",
              "\t<tr><th scope=col>&lt;chr&gt;</th><th scope=col>&lt;chr&gt;</th><th scope=col>&lt;dbl&gt;</th><th scope=col>&lt;dbl&gt;</th><th scope=col>&lt;dbl&gt;</th><th scope=col>&lt;dbl&gt;</th></tr>\n",
              "</thead>\n",
              "<tbody>\n",
              "\t<tr><td>22XH0007</td><td>0N  </td><td>101</td><td>201</td><td>301</td><td>401</td></tr>\n",
              "\t<tr><td>22XH0007</td><td>50N </td><td>102</td><td>202</td><td>302</td><td>402</td></tr>\n",
              "\t<tr><td>22XH0007</td><td>100N</td><td>103</td><td>203</td><td>303</td><td>403</td></tr>\n",
              "\t<tr><td>22XH0007</td><td>150N</td><td>104</td><td>204</td><td>304</td><td>404</td></tr>\n",
              "\t<tr><td>22XH0001</td><td>0N  </td><td>105</td><td>205</td><td>305</td><td>405</td></tr>\n",
              "\t<tr><td>22XH0001</td><td>50N </td><td>106</td><td>206</td><td>306</td><td>406</td></tr>\n",
              "\t<tr><td>22XH0001</td><td>100N</td><td>107</td><td>207</td><td>307</td><td>407</td></tr>\n",
              "\t<tr><td>22XH0001</td><td>150N</td><td>108</td><td>208</td><td>308</td><td>408</td></tr>\n",
              "</tbody>\n",
              "</table>\n"
            ],
            "text/markdown": "\nA tibble: 8 × 6\n\n| Variety &lt;chr&gt; | N rate &lt;chr&gt; | Rep 1 &lt;dbl&gt; | Rep 2 &lt;dbl&gt; | Rep 3 &lt;dbl&gt; | Rep 4 &lt;dbl&gt; |\n|---|---|---|---|---|---|\n| 22XH0007 | 0N   | 101 | 201 | 301 | 401 |\n| 22XH0007 | 50N  | 102 | 202 | 302 | 402 |\n| 22XH0007 | 100N | 103 | 203 | 303 | 403 |\n| 22XH0007 | 150N | 104 | 204 | 304 | 404 |\n| 22XH0001 | 0N   | 105 | 205 | 305 | 405 |\n| 22XH0001 | 50N  | 106 | 206 | 306 | 406 |\n| 22XH0001 | 100N | 107 | 207 | 307 | 407 |\n| 22XH0001 | 150N | 108 | 208 | 308 | 408 |\n\n",
            "text/latex": "A tibble: 8 × 6\n\\begin{tabular}{llllll}\n Variety & N rate & Rep 1 & Rep 2 & Rep 3 & Rep 4\\\\\n <chr> & <chr> & <dbl> & <dbl> & <dbl> & <dbl>\\\\\n\\hline\n\t 22XH0007 & 0N   & 101 & 201 & 301 & 401\\\\\n\t 22XH0007 & 50N  & 102 & 202 & 302 & 402\\\\\n\t 22XH0007 & 100N & 103 & 203 & 303 & 403\\\\\n\t 22XH0007 & 150N & 104 & 204 & 304 & 404\\\\\n\t 22XH0001 & 0N   & 105 & 205 & 305 & 405\\\\\n\t 22XH0001 & 50N  & 106 & 206 & 306 & 406\\\\\n\t 22XH0001 & 100N & 107 & 207 & 307 & 407\\\\\n\t 22XH0001 & 150N & 108 & 208 & 308 & 408\\\\\n\\end{tabular}\n",
            "text/plain": [
              "  Variety  N rate Rep 1 Rep 2 Rep 3 Rep 4\n",
              "1 22XH0007 0N     101   201   301   401  \n",
              "2 22XH0007 50N    102   202   302   402  \n",
              "3 22XH0007 100N   103   203   303   403  \n",
              "4 22XH0007 150N   104   204   304   404  \n",
              "5 22XH0001 0N     105   205   305   405  \n",
              "6 22XH0001 50N    106   206   306   406  \n",
              "7 22XH0001 100N   107   207   307   407  \n",
              "8 22XH0001 150N   108   208   308   408  "
            ]
          },
          "metadata": {}
        },
        {
          "output_type": "stream",
          "name": "stdout",
          "text": [
            "[1] \"###\"\n",
            "[1] \"randomized\"\n",
            "[1] \"###\"\n"
          ]
        },
        {
          "output_type": "display_data",
          "data": {
            "text/html": [
              "<table class=\"dataframe\">\n",
              "<caption>A tibble: 8 × 6</caption>\n",
              "<thead>\n",
              "\t<tr><th scope=col>Variety</th><th scope=col>N rate</th><th scope=col>Rep 1</th><th scope=col>Rep 2</th><th scope=col>Rep 3</th><th scope=col>Rep 4</th></tr>\n",
              "\t<tr><th scope=col>&lt;chr&gt;</th><th scope=col>&lt;chr&gt;</th><th scope=col>&lt;dbl&gt;</th><th scope=col>&lt;dbl&gt;</th><th scope=col>&lt;dbl&gt;</th><th scope=col>&lt;dbl&gt;</th></tr>\n",
              "</thead>\n",
              "<tbody>\n",
              "\t<tr><td>22XH0007</td><td>0N  </td><td>105</td><td>205</td><td>302</td><td>408</td></tr>\n",
              "\t<tr><td>22XH0007</td><td>50N </td><td>107</td><td>206</td><td>301</td><td>407</td></tr>\n",
              "\t<tr><td>22XH0007</td><td>100N</td><td>108</td><td>207</td><td>304</td><td>406</td></tr>\n",
              "\t<tr><td>22XH0007</td><td>150N</td><td>106</td><td>208</td><td>303</td><td>405</td></tr>\n",
              "\t<tr><td>22XH0001</td><td>0N  </td><td>103</td><td>201</td><td>305</td><td>404</td></tr>\n",
              "\t<tr><td>22XH0001</td><td>50N </td><td>102</td><td>202</td><td>306</td><td>401</td></tr>\n",
              "\t<tr><td>22XH0001</td><td>100N</td><td>101</td><td>204</td><td>308</td><td>402</td></tr>\n",
              "\t<tr><td>22XH0001</td><td>150N</td><td>104</td><td>203</td><td>307</td><td>403</td></tr>\n",
              "</tbody>\n",
              "</table>\n"
            ],
            "text/markdown": "\nA tibble: 8 × 6\n\n| Variety &lt;chr&gt; | N rate &lt;chr&gt; | Rep 1 &lt;dbl&gt; | Rep 2 &lt;dbl&gt; | Rep 3 &lt;dbl&gt; | Rep 4 &lt;dbl&gt; |\n|---|---|---|---|---|---|\n| 22XH0007 | 0N   | 105 | 205 | 302 | 408 |\n| 22XH0007 | 50N  | 107 | 206 | 301 | 407 |\n| 22XH0007 | 100N | 108 | 207 | 304 | 406 |\n| 22XH0007 | 150N | 106 | 208 | 303 | 405 |\n| 22XH0001 | 0N   | 103 | 201 | 305 | 404 |\n| 22XH0001 | 50N  | 102 | 202 | 306 | 401 |\n| 22XH0001 | 100N | 101 | 204 | 308 | 402 |\n| 22XH0001 | 150N | 104 | 203 | 307 | 403 |\n\n",
            "text/latex": "A tibble: 8 × 6\n\\begin{tabular}{llllll}\n Variety & N rate & Rep 1 & Rep 2 & Rep 3 & Rep 4\\\\\n <chr> & <chr> & <dbl> & <dbl> & <dbl> & <dbl>\\\\\n\\hline\n\t 22XH0007 & 0N   & 105 & 205 & 302 & 408\\\\\n\t 22XH0007 & 50N  & 107 & 206 & 301 & 407\\\\\n\t 22XH0007 & 100N & 108 & 207 & 304 & 406\\\\\n\t 22XH0007 & 150N & 106 & 208 & 303 & 405\\\\\n\t 22XH0001 & 0N   & 103 & 201 & 305 & 404\\\\\n\t 22XH0001 & 50N  & 102 & 202 & 306 & 401\\\\\n\t 22XH0001 & 100N & 101 & 204 & 308 & 402\\\\\n\t 22XH0001 & 150N & 104 & 203 & 307 & 403\\\\\n\\end{tabular}\n",
            "text/plain": [
              "  Variety  N rate Rep 1 Rep 2 Rep 3 Rep 4\n",
              "1 22XH0007 0N     105   205   302   408  \n",
              "2 22XH0007 50N    107   206   301   407  \n",
              "3 22XH0007 100N   108   207   304   406  \n",
              "4 22XH0007 150N   106   208   303   405  \n",
              "5 22XH0001 0N     103   201   305   404  \n",
              "6 22XH0001 50N    102   202   306   401  \n",
              "7 22XH0001 100N   101   204   308   402  \n",
              "8 22XH0001 150N   104   203   307   403  "
            ]
          },
          "metadata": {}
        }
      ],
      "source": [
        "df = tibble::tibble(\n",
        "  Variety = rep(c(\"22XH0007\", \"22XH0001\"), each = 4L),\n",
        "  `N rate` = rep(c(\"0N\", \"50N\", \"100N\", \"150N\"), 2),\n",
        "  `Rep 1` = seq(101, 108, by = 1),\n",
        "  `Rep 2` = seq(201, 208, by = 1),\n",
        "  `Rep 3` = seq(301, 308, by = 1),\n",
        "  `Rep 4` = seq(401, 408, by = 1),\n",
        ")\n",
        "df\n",
        "\n",
        "print(\"###\")\n",
        "print(\"randomized\")\n",
        "print(\"###\")\n",
        "\n",
        "library(dplyr)\n",
        "set.seed(1000)\n",
        "df_randomized= Grain %>%\n",
        "  mutate(across(starts_with(\"Rep\"),\n",
        "        ~ ave(.x[order(match(Variety,sample(unique(Variety))))],\n",
        "              Variety,FUN=sample)))\n",
        "df_randomized"
      ]
    },
    {
      "cell_type": "markdown",
      "source": [
        "# N rate experiment (Fiber) randomized"
      ],
      "metadata": {
        "id": "QwenV_G21ViS"
      }
    },
    {
      "cell_type": "code",
      "source": [
        "df= tibble::tibble(\n",
        "  Variety = rep(c(\"CRS-1\", \"IH-Williams\"), each = 4L),\n",
        "  `N rate` = rep(c(\"0N\", \"50N\", \"100N\", \"150N\"), 2),\n",
        "  `Rep 1` = seq(101, 108, by = 1),\n",
        "  `Rep 2` = seq(201, 208, by = 1),\n",
        "  `Rep 3` = seq(301, 308, by = 1),\n",
        "  `Rep 4` = seq(401, 408, by = 1),\n",
        ")\n",
        "df\n",
        "\n",
        "print(\"###\")\n",
        "print(\"randomized\")\n",
        "print(\"###\")\n",
        "\n",
        "library(dplyr)\n",
        "set.seed(2000)\n",
        "df_randomized= Fiber %>%\n",
        "  mutate(across(starts_with(\"Rep\"),\n",
        "         ~ ave(.x[order(match(Variety,sample(unique(Variety))))],\n",
        "               Variety,FUN=sample)))\n",
        "df_randomized"
      ],
      "metadata": {
        "colab": {
          "base_uri": "https://localhost:8080/",
          "height": 732
        },
        "id": "K-NCoun40M41",
        "outputId": "1c526cde-ed96-4785-f5c2-5e0aa7a4f399"
      },
      "execution_count": 28,
      "outputs": [
        {
          "output_type": "display_data",
          "data": {
            "text/html": [
              "<table class=\"dataframe\">\n",
              "<caption>A tibble: 8 × 6</caption>\n",
              "<thead>\n",
              "\t<tr><th scope=col>Variety</th><th scope=col>N rate</th><th scope=col>Rep 1</th><th scope=col>Rep 2</th><th scope=col>Rep 3</th><th scope=col>Rep 4</th></tr>\n",
              "\t<tr><th scope=col>&lt;chr&gt;</th><th scope=col>&lt;chr&gt;</th><th scope=col>&lt;dbl&gt;</th><th scope=col>&lt;dbl&gt;</th><th scope=col>&lt;dbl&gt;</th><th scope=col>&lt;dbl&gt;</th></tr>\n",
              "</thead>\n",
              "<tbody>\n",
              "\t<tr><td>CRS-1      </td><td>0N  </td><td>101</td><td>201</td><td>301</td><td>401</td></tr>\n",
              "\t<tr><td>CRS-1      </td><td>50N </td><td>102</td><td>202</td><td>302</td><td>402</td></tr>\n",
              "\t<tr><td>CRS-1      </td><td>100N</td><td>103</td><td>203</td><td>303</td><td>403</td></tr>\n",
              "\t<tr><td>CRS-1      </td><td>150N</td><td>104</td><td>204</td><td>304</td><td>404</td></tr>\n",
              "\t<tr><td>IH-Williams</td><td>0N  </td><td>105</td><td>205</td><td>305</td><td>405</td></tr>\n",
              "\t<tr><td>IH-Williams</td><td>50N </td><td>106</td><td>206</td><td>306</td><td>406</td></tr>\n",
              "\t<tr><td>IH-Williams</td><td>100N</td><td>107</td><td>207</td><td>307</td><td>407</td></tr>\n",
              "\t<tr><td>IH-Williams</td><td>150N</td><td>108</td><td>208</td><td>308</td><td>408</td></tr>\n",
              "</tbody>\n",
              "</table>\n"
            ],
            "text/markdown": "\nA tibble: 8 × 6\n\n| Variety &lt;chr&gt; | N rate &lt;chr&gt; | Rep 1 &lt;dbl&gt; | Rep 2 &lt;dbl&gt; | Rep 3 &lt;dbl&gt; | Rep 4 &lt;dbl&gt; |\n|---|---|---|---|---|---|\n| CRS-1       | 0N   | 101 | 201 | 301 | 401 |\n| CRS-1       | 50N  | 102 | 202 | 302 | 402 |\n| CRS-1       | 100N | 103 | 203 | 303 | 403 |\n| CRS-1       | 150N | 104 | 204 | 304 | 404 |\n| IH-Williams | 0N   | 105 | 205 | 305 | 405 |\n| IH-Williams | 50N  | 106 | 206 | 306 | 406 |\n| IH-Williams | 100N | 107 | 207 | 307 | 407 |\n| IH-Williams | 150N | 108 | 208 | 308 | 408 |\n\n",
            "text/latex": "A tibble: 8 × 6\n\\begin{tabular}{llllll}\n Variety & N rate & Rep 1 & Rep 2 & Rep 3 & Rep 4\\\\\n <chr> & <chr> & <dbl> & <dbl> & <dbl> & <dbl>\\\\\n\\hline\n\t CRS-1       & 0N   & 101 & 201 & 301 & 401\\\\\n\t CRS-1       & 50N  & 102 & 202 & 302 & 402\\\\\n\t CRS-1       & 100N & 103 & 203 & 303 & 403\\\\\n\t CRS-1       & 150N & 104 & 204 & 304 & 404\\\\\n\t IH-Williams & 0N   & 105 & 205 & 305 & 405\\\\\n\t IH-Williams & 50N  & 106 & 206 & 306 & 406\\\\\n\t IH-Williams & 100N & 107 & 207 & 307 & 407\\\\\n\t IH-Williams & 150N & 108 & 208 & 308 & 408\\\\\n\\end{tabular}\n",
            "text/plain": [
              "  Variety     N rate Rep 1 Rep 2 Rep 3 Rep 4\n",
              "1 CRS-1       0N     101   201   301   401  \n",
              "2 CRS-1       50N    102   202   302   402  \n",
              "3 CRS-1       100N   103   203   303   403  \n",
              "4 CRS-1       150N   104   204   304   404  \n",
              "5 IH-Williams 0N     105   205   305   405  \n",
              "6 IH-Williams 50N    106   206   306   406  \n",
              "7 IH-Williams 100N   107   207   307   407  \n",
              "8 IH-Williams 150N   108   208   308   408  "
            ]
          },
          "metadata": {}
        },
        {
          "output_type": "stream",
          "name": "stdout",
          "text": [
            "[1] \"###\"\n",
            "[1] \"randomized\"\n",
            "[1] \"###\"\n"
          ]
        },
        {
          "output_type": "display_data",
          "data": {
            "text/html": [
              "<table class=\"dataframe\">\n",
              "<caption>A tibble: 8 × 6</caption>\n",
              "<thead>\n",
              "\t<tr><th scope=col>Variety</th><th scope=col>N rate</th><th scope=col>Rep 1</th><th scope=col>Rep 2</th><th scope=col>Rep 3</th><th scope=col>Rep 4</th></tr>\n",
              "\t<tr><th scope=col>&lt;chr&gt;</th><th scope=col>&lt;chr&gt;</th><th scope=col>&lt;dbl&gt;</th><th scope=col>&lt;dbl&gt;</th><th scope=col>&lt;dbl&gt;</th><th scope=col>&lt;dbl&gt;</th></tr>\n",
              "</thead>\n",
              "<tbody>\n",
              "\t<tr><td>CRS-1      </td><td>0N  </td><td>102</td><td>207</td><td>308</td><td>402</td></tr>\n",
              "\t<tr><td>CRS-1      </td><td>50N </td><td>104</td><td>205</td><td>305</td><td>401</td></tr>\n",
              "\t<tr><td>CRS-1      </td><td>100N</td><td>101</td><td>206</td><td>307</td><td>403</td></tr>\n",
              "\t<tr><td>CRS-1      </td><td>150N</td><td>103</td><td>208</td><td>306</td><td>404</td></tr>\n",
              "\t<tr><td>IH-Williams</td><td>0N  </td><td>106</td><td>201</td><td>301</td><td>405</td></tr>\n",
              "\t<tr><td>IH-Williams</td><td>50N </td><td>107</td><td>204</td><td>302</td><td>407</td></tr>\n",
              "\t<tr><td>IH-Williams</td><td>100N</td><td>108</td><td>203</td><td>304</td><td>406</td></tr>\n",
              "\t<tr><td>IH-Williams</td><td>150N</td><td>105</td><td>202</td><td>303</td><td>408</td></tr>\n",
              "</tbody>\n",
              "</table>\n"
            ],
            "text/markdown": "\nA tibble: 8 × 6\n\n| Variety &lt;chr&gt; | N rate &lt;chr&gt; | Rep 1 &lt;dbl&gt; | Rep 2 &lt;dbl&gt; | Rep 3 &lt;dbl&gt; | Rep 4 &lt;dbl&gt; |\n|---|---|---|---|---|---|\n| CRS-1       | 0N   | 102 | 207 | 308 | 402 |\n| CRS-1       | 50N  | 104 | 205 | 305 | 401 |\n| CRS-1       | 100N | 101 | 206 | 307 | 403 |\n| CRS-1       | 150N | 103 | 208 | 306 | 404 |\n| IH-Williams | 0N   | 106 | 201 | 301 | 405 |\n| IH-Williams | 50N  | 107 | 204 | 302 | 407 |\n| IH-Williams | 100N | 108 | 203 | 304 | 406 |\n| IH-Williams | 150N | 105 | 202 | 303 | 408 |\n\n",
            "text/latex": "A tibble: 8 × 6\n\\begin{tabular}{llllll}\n Variety & N rate & Rep 1 & Rep 2 & Rep 3 & Rep 4\\\\\n <chr> & <chr> & <dbl> & <dbl> & <dbl> & <dbl>\\\\\n\\hline\n\t CRS-1       & 0N   & 102 & 207 & 308 & 402\\\\\n\t CRS-1       & 50N  & 104 & 205 & 305 & 401\\\\\n\t CRS-1       & 100N & 101 & 206 & 307 & 403\\\\\n\t CRS-1       & 150N & 103 & 208 & 306 & 404\\\\\n\t IH-Williams & 0N   & 106 & 201 & 301 & 405\\\\\n\t IH-Williams & 50N  & 107 & 204 & 302 & 407\\\\\n\t IH-Williams & 100N & 108 & 203 & 304 & 406\\\\\n\t IH-Williams & 150N & 105 & 202 & 303 & 408\\\\\n\\end{tabular}\n",
            "text/plain": [
              "  Variety     N rate Rep 1 Rep 2 Rep 3 Rep 4\n",
              "1 CRS-1       0N     102   207   308   402  \n",
              "2 CRS-1       50N    104   205   305   401  \n",
              "3 CRS-1       100N   101   206   307   403  \n",
              "4 CRS-1       150N   103   208   306   404  \n",
              "5 IH-Williams 0N     106   201   301   405  \n",
              "6 IH-Williams 50N    107   204   302   407  \n",
              "7 IH-Williams 100N   108   203   304   406  \n",
              "8 IH-Williams 150N   105   202   303   408  "
            ]
          },
          "metadata": {}
        }
      ]
    },
    {
      "cell_type": "markdown",
      "source": [
        "# Planting date experiment (Grain) randomized"
      ],
      "metadata": {
        "id": "PqRMVLKPqSTq"
      }
    },
    {
      "cell_type": "code",
      "source": [
        "df= tibble::tibble(\n",
        "  `Planting_date` = rep(c(\"May1\", \"May15\", \"Jun1\", \"Jun15\"), each = 2L),\n",
        "  VT = rep(c(\"22XH001\", \"22XH0007\"), 4),\n",
        "  `Rep 1` = seq(101, 108, by = 1),\n",
        "  `Rep 2` = c(202, 201, 208, 207, 203, 204, 206, 205),\n",
        "  `Rep 3` = c(307, 308, 304, 303, 301, 302, 306, 305),\n",
        "  `Rep 4` = c(402, 401, 404, 403, 407, 408, 406, 405),\n",
        ")\n",
        "df\n",
        "\n",
        "print(\"###\")\n",
        "print(\"randomized\")\n",
        "print(\"###\")\n",
        "\n",
        "library(dplyr)\n",
        "set.seed(3000)\n",
        "df_randomized= df %>%\n",
        "  mutate(across(starts_with(\"Rep\"),\n",
        "         ~ ave(.x[order(match(Planting_date,sample(unique(Planting_date))))],\n",
        "              Planting_date,FUN=sample)))\n",
        "df_randomized"
      ],
      "metadata": {
        "colab": {
          "base_uri": "https://localhost:8080/",
          "height": 732
        },
        "id": "qPfDA_PTqUhm",
        "outputId": "70d26c11-d04c-49d0-b949-8e9b4587aad8"
      },
      "execution_count": 29,
      "outputs": [
        {
          "output_type": "display_data",
          "data": {
            "text/html": [
              "<table class=\"dataframe\">\n",
              "<caption>A tibble: 8 × 6</caption>\n",
              "<thead>\n",
              "\t<tr><th scope=col>Planting_date</th><th scope=col>VT</th><th scope=col>Rep 1</th><th scope=col>Rep 2</th><th scope=col>Rep 3</th><th scope=col>Rep 4</th></tr>\n",
              "\t<tr><th scope=col>&lt;chr&gt;</th><th scope=col>&lt;chr&gt;</th><th scope=col>&lt;dbl&gt;</th><th scope=col>&lt;dbl&gt;</th><th scope=col>&lt;dbl&gt;</th><th scope=col>&lt;dbl&gt;</th></tr>\n",
              "</thead>\n",
              "<tbody>\n",
              "\t<tr><td>May1 </td><td>22XH001 </td><td>101</td><td>202</td><td>307</td><td>402</td></tr>\n",
              "\t<tr><td>May1 </td><td>22XH0007</td><td>102</td><td>201</td><td>308</td><td>401</td></tr>\n",
              "\t<tr><td>May15</td><td>22XH001 </td><td>103</td><td>208</td><td>304</td><td>404</td></tr>\n",
              "\t<tr><td>May15</td><td>22XH0007</td><td>104</td><td>207</td><td>303</td><td>403</td></tr>\n",
              "\t<tr><td>Jun1 </td><td>22XH001 </td><td>105</td><td>203</td><td>301</td><td>407</td></tr>\n",
              "\t<tr><td>Jun1 </td><td>22XH0007</td><td>106</td><td>204</td><td>302</td><td>408</td></tr>\n",
              "\t<tr><td>Jun15</td><td>22XH001 </td><td>107</td><td>206</td><td>306</td><td>406</td></tr>\n",
              "\t<tr><td>Jun15</td><td>22XH0007</td><td>108</td><td>205</td><td>305</td><td>405</td></tr>\n",
              "</tbody>\n",
              "</table>\n"
            ],
            "text/markdown": "\nA tibble: 8 × 6\n\n| Planting_date &lt;chr&gt; | VT &lt;chr&gt; | Rep 1 &lt;dbl&gt; | Rep 2 &lt;dbl&gt; | Rep 3 &lt;dbl&gt; | Rep 4 &lt;dbl&gt; |\n|---|---|---|---|---|---|\n| May1  | 22XH001  | 101 | 202 | 307 | 402 |\n| May1  | 22XH0007 | 102 | 201 | 308 | 401 |\n| May15 | 22XH001  | 103 | 208 | 304 | 404 |\n| May15 | 22XH0007 | 104 | 207 | 303 | 403 |\n| Jun1  | 22XH001  | 105 | 203 | 301 | 407 |\n| Jun1  | 22XH0007 | 106 | 204 | 302 | 408 |\n| Jun15 | 22XH001  | 107 | 206 | 306 | 406 |\n| Jun15 | 22XH0007 | 108 | 205 | 305 | 405 |\n\n",
            "text/latex": "A tibble: 8 × 6\n\\begin{tabular}{llllll}\n Planting\\_date & VT & Rep 1 & Rep 2 & Rep 3 & Rep 4\\\\\n <chr> & <chr> & <dbl> & <dbl> & <dbl> & <dbl>\\\\\n\\hline\n\t May1  & 22XH001  & 101 & 202 & 307 & 402\\\\\n\t May1  & 22XH0007 & 102 & 201 & 308 & 401\\\\\n\t May15 & 22XH001  & 103 & 208 & 304 & 404\\\\\n\t May15 & 22XH0007 & 104 & 207 & 303 & 403\\\\\n\t Jun1  & 22XH001  & 105 & 203 & 301 & 407\\\\\n\t Jun1  & 22XH0007 & 106 & 204 & 302 & 408\\\\\n\t Jun15 & 22XH001  & 107 & 206 & 306 & 406\\\\\n\t Jun15 & 22XH0007 & 108 & 205 & 305 & 405\\\\\n\\end{tabular}\n",
            "text/plain": [
              "  Planting_date VT       Rep 1 Rep 2 Rep 3 Rep 4\n",
              "1 May1          22XH001  101   202   307   402  \n",
              "2 May1          22XH0007 102   201   308   401  \n",
              "3 May15         22XH001  103   208   304   404  \n",
              "4 May15         22XH0007 104   207   303   403  \n",
              "5 Jun1          22XH001  105   203   301   407  \n",
              "6 Jun1          22XH0007 106   204   302   408  \n",
              "7 Jun15         22XH001  107   206   306   406  \n",
              "8 Jun15         22XH0007 108   205   305   405  "
            ]
          },
          "metadata": {}
        },
        {
          "output_type": "stream",
          "name": "stdout",
          "text": [
            "[1] \"###\"\n",
            "[1] \"randomized\"\n",
            "[1] \"###\"\n"
          ]
        },
        {
          "output_type": "display_data",
          "data": {
            "text/html": [
              "<table class=\"dataframe\">\n",
              "<caption>A tibble: 8 × 6</caption>\n",
              "<thead>\n",
              "\t<tr><th scope=col>Planting_date</th><th scope=col>VT</th><th scope=col>Rep 1</th><th scope=col>Rep 2</th><th scope=col>Rep 3</th><th scope=col>Rep 4</th></tr>\n",
              "\t<tr><th scope=col>&lt;chr&gt;</th><th scope=col>&lt;chr&gt;</th><th scope=col>&lt;dbl&gt;</th><th scope=col>&lt;dbl&gt;</th><th scope=col>&lt;dbl&gt;</th><th scope=col>&lt;dbl&gt;</th></tr>\n",
              "</thead>\n",
              "<tbody>\n",
              "\t<tr><td>May1 </td><td>22XH001 </td><td>105</td><td>201</td><td>308</td><td>407</td></tr>\n",
              "\t<tr><td>May1 </td><td>22XH0007</td><td>106</td><td>202</td><td>307</td><td>408</td></tr>\n",
              "\t<tr><td>May15</td><td>22XH001 </td><td>103</td><td>203</td><td>306</td><td>401</td></tr>\n",
              "\t<tr><td>May15</td><td>22XH0007</td><td>104</td><td>204</td><td>305</td><td>402</td></tr>\n",
              "\t<tr><td>Jun1 </td><td>22XH001 </td><td>101</td><td>206</td><td>304</td><td>405</td></tr>\n",
              "\t<tr><td>Jun1 </td><td>22XH0007</td><td>102</td><td>205</td><td>303</td><td>406</td></tr>\n",
              "\t<tr><td>Jun15</td><td>22XH001 </td><td>108</td><td>208</td><td>302</td><td>404</td></tr>\n",
              "\t<tr><td>Jun15</td><td>22XH0007</td><td>107</td><td>207</td><td>301</td><td>403</td></tr>\n",
              "</tbody>\n",
              "</table>\n"
            ],
            "text/markdown": "\nA tibble: 8 × 6\n\n| Planting_date &lt;chr&gt; | VT &lt;chr&gt; | Rep 1 &lt;dbl&gt; | Rep 2 &lt;dbl&gt; | Rep 3 &lt;dbl&gt; | Rep 4 &lt;dbl&gt; |\n|---|---|---|---|---|---|\n| May1  | 22XH001  | 105 | 201 | 308 | 407 |\n| May1  | 22XH0007 | 106 | 202 | 307 | 408 |\n| May15 | 22XH001  | 103 | 203 | 306 | 401 |\n| May15 | 22XH0007 | 104 | 204 | 305 | 402 |\n| Jun1  | 22XH001  | 101 | 206 | 304 | 405 |\n| Jun1  | 22XH0007 | 102 | 205 | 303 | 406 |\n| Jun15 | 22XH001  | 108 | 208 | 302 | 404 |\n| Jun15 | 22XH0007 | 107 | 207 | 301 | 403 |\n\n",
            "text/latex": "A tibble: 8 × 6\n\\begin{tabular}{llllll}\n Planting\\_date & VT & Rep 1 & Rep 2 & Rep 3 & Rep 4\\\\\n <chr> & <chr> & <dbl> & <dbl> & <dbl> & <dbl>\\\\\n\\hline\n\t May1  & 22XH001  & 105 & 201 & 308 & 407\\\\\n\t May1  & 22XH0007 & 106 & 202 & 307 & 408\\\\\n\t May15 & 22XH001  & 103 & 203 & 306 & 401\\\\\n\t May15 & 22XH0007 & 104 & 204 & 305 & 402\\\\\n\t Jun1  & 22XH001  & 101 & 206 & 304 & 405\\\\\n\t Jun1  & 22XH0007 & 102 & 205 & 303 & 406\\\\\n\t Jun15 & 22XH001  & 108 & 208 & 302 & 404\\\\\n\t Jun15 & 22XH0007 & 107 & 207 & 301 & 403\\\\\n\\end{tabular}\n",
            "text/plain": [
              "  Planting_date VT       Rep 1 Rep 2 Rep 3 Rep 4\n",
              "1 May1          22XH001  105   201   308   407  \n",
              "2 May1          22XH0007 106   202   307   408  \n",
              "3 May15         22XH001  103   203   306   401  \n",
              "4 May15         22XH0007 104   204   305   402  \n",
              "5 Jun1          22XH001  101   206   304   405  \n",
              "6 Jun1          22XH0007 102   205   303   406  \n",
              "7 Jun15         22XH001  108   208   302   404  \n",
              "8 Jun15         22XH0007 107   207   301   403  "
            ]
          },
          "metadata": {}
        }
      ]
    },
    {
      "cell_type": "markdown",
      "source": [
        "# Planting date experiment (Fiber) randomized"
      ],
      "metadata": {
        "id": "FgGjEU0rQMBU"
      }
    },
    {
      "cell_type": "code",
      "source": [
        "df= tibble::tibble(\n",
        "  `Planting_date` = rep(c(\"May1\", \"May15\", \"Jun1\", \"Jun15\"), each = 2L),\n",
        "  VT = rep(c(\"CRS-1\", \"IH-Williams\"), 4),\n",
        "  `Rep 1` = seq(101, 108, by = 1),\n",
        "  `Rep 2` = c(204, 203, 202, 201, 208, 207, 205, 206),\n",
        "  `Rep 3` = c(304, 303, 302, 301, 306, 305, 307, 308),\n",
        "  `Rep 4` = c(402, 401, 408, 407, 406, 405, 403, 404),\n",
        ")\n",
        "df\n",
        "\n",
        "print(\"###\")\n",
        "print(\"randomized\")\n",
        "print(\"###\")\n",
        "\n",
        "library(dplyr)\n",
        "set.seed(4000)\n",
        "df_randomized= df %>%\n",
        "  mutate(across(starts_with(\"Rep\"),\n",
        "         ~ ave(.x[order(match(Planting_date,sample(unique(Planting_date))))],\n",
        "                Planting_date,FUN=sample)))\n",
        "df_randomized"
      ],
      "metadata": {
        "colab": {
          "base_uri": "https://localhost:8080/",
          "height": 732
        },
        "id": "oM2ct8z7tsBU",
        "outputId": "7be7ebb3-1356-47d5-f8e0-5a06b9784473"
      },
      "execution_count": 30,
      "outputs": [
        {
          "output_type": "display_data",
          "data": {
            "text/html": [
              "<table class=\"dataframe\">\n",
              "<caption>A tibble: 8 × 6</caption>\n",
              "<thead>\n",
              "\t<tr><th scope=col>Planting_date</th><th scope=col>VT</th><th scope=col>Rep 1</th><th scope=col>Rep 2</th><th scope=col>Rep 3</th><th scope=col>Rep 4</th></tr>\n",
              "\t<tr><th scope=col>&lt;chr&gt;</th><th scope=col>&lt;chr&gt;</th><th scope=col>&lt;dbl&gt;</th><th scope=col>&lt;dbl&gt;</th><th scope=col>&lt;dbl&gt;</th><th scope=col>&lt;dbl&gt;</th></tr>\n",
              "</thead>\n",
              "<tbody>\n",
              "\t<tr><td>May1 </td><td>CRS-1      </td><td>101</td><td>204</td><td>304</td><td>402</td></tr>\n",
              "\t<tr><td>May1 </td><td>IH-Williams</td><td>102</td><td>203</td><td>303</td><td>401</td></tr>\n",
              "\t<tr><td>May15</td><td>CRS-1      </td><td>103</td><td>202</td><td>302</td><td>408</td></tr>\n",
              "\t<tr><td>May15</td><td>IH-Williams</td><td>104</td><td>201</td><td>301</td><td>407</td></tr>\n",
              "\t<tr><td>Jun1 </td><td>CRS-1      </td><td>105</td><td>208</td><td>306</td><td>406</td></tr>\n",
              "\t<tr><td>Jun1 </td><td>IH-Williams</td><td>106</td><td>207</td><td>305</td><td>405</td></tr>\n",
              "\t<tr><td>Jun15</td><td>CRS-1      </td><td>107</td><td>205</td><td>307</td><td>403</td></tr>\n",
              "\t<tr><td>Jun15</td><td>IH-Williams</td><td>108</td><td>206</td><td>308</td><td>404</td></tr>\n",
              "</tbody>\n",
              "</table>\n"
            ],
            "text/markdown": "\nA tibble: 8 × 6\n\n| Planting_date &lt;chr&gt; | VT &lt;chr&gt; | Rep 1 &lt;dbl&gt; | Rep 2 &lt;dbl&gt; | Rep 3 &lt;dbl&gt; | Rep 4 &lt;dbl&gt; |\n|---|---|---|---|---|---|\n| May1  | CRS-1       | 101 | 204 | 304 | 402 |\n| May1  | IH-Williams | 102 | 203 | 303 | 401 |\n| May15 | CRS-1       | 103 | 202 | 302 | 408 |\n| May15 | IH-Williams | 104 | 201 | 301 | 407 |\n| Jun1  | CRS-1       | 105 | 208 | 306 | 406 |\n| Jun1  | IH-Williams | 106 | 207 | 305 | 405 |\n| Jun15 | CRS-1       | 107 | 205 | 307 | 403 |\n| Jun15 | IH-Williams | 108 | 206 | 308 | 404 |\n\n",
            "text/latex": "A tibble: 8 × 6\n\\begin{tabular}{llllll}\n Planting\\_date & VT & Rep 1 & Rep 2 & Rep 3 & Rep 4\\\\\n <chr> & <chr> & <dbl> & <dbl> & <dbl> & <dbl>\\\\\n\\hline\n\t May1  & CRS-1       & 101 & 204 & 304 & 402\\\\\n\t May1  & IH-Williams & 102 & 203 & 303 & 401\\\\\n\t May15 & CRS-1       & 103 & 202 & 302 & 408\\\\\n\t May15 & IH-Williams & 104 & 201 & 301 & 407\\\\\n\t Jun1  & CRS-1       & 105 & 208 & 306 & 406\\\\\n\t Jun1  & IH-Williams & 106 & 207 & 305 & 405\\\\\n\t Jun15 & CRS-1       & 107 & 205 & 307 & 403\\\\\n\t Jun15 & IH-Williams & 108 & 206 & 308 & 404\\\\\n\\end{tabular}\n",
            "text/plain": [
              "  Planting_date VT          Rep 1 Rep 2 Rep 3 Rep 4\n",
              "1 May1          CRS-1       101   204   304   402  \n",
              "2 May1          IH-Williams 102   203   303   401  \n",
              "3 May15         CRS-1       103   202   302   408  \n",
              "4 May15         IH-Williams 104   201   301   407  \n",
              "5 Jun1          CRS-1       105   208   306   406  \n",
              "6 Jun1          IH-Williams 106   207   305   405  \n",
              "7 Jun15         CRS-1       107   205   307   403  \n",
              "8 Jun15         IH-Williams 108   206   308   404  "
            ]
          },
          "metadata": {}
        },
        {
          "output_type": "stream",
          "name": "stdout",
          "text": [
            "[1] \"###\"\n",
            "[1] \"randomized\"\n",
            "[1] \"###\"\n"
          ]
        },
        {
          "output_type": "display_data",
          "data": {
            "text/html": [
              "<table class=\"dataframe\">\n",
              "<caption>A tibble: 8 × 6</caption>\n",
              "<thead>\n",
              "\t<tr><th scope=col>Planting_date</th><th scope=col>VT</th><th scope=col>Rep 1</th><th scope=col>Rep 2</th><th scope=col>Rep 3</th><th scope=col>Rep 4</th></tr>\n",
              "\t<tr><th scope=col>&lt;chr&gt;</th><th scope=col>&lt;chr&gt;</th><th scope=col>&lt;dbl&gt;</th><th scope=col>&lt;dbl&gt;</th><th scope=col>&lt;dbl&gt;</th><th scope=col>&lt;dbl&gt;</th></tr>\n",
              "</thead>\n",
              "<tbody>\n",
              "\t<tr><td>May1 </td><td>CRS-1      </td><td>108</td><td>206</td><td>305</td><td>404</td></tr>\n",
              "\t<tr><td>May1 </td><td>IH-Williams</td><td>107</td><td>205</td><td>306</td><td>403</td></tr>\n",
              "\t<tr><td>May15</td><td>CRS-1      </td><td>106</td><td>207</td><td>302</td><td>405</td></tr>\n",
              "\t<tr><td>May15</td><td>IH-Williams</td><td>105</td><td>208</td><td>301</td><td>406</td></tr>\n",
              "\t<tr><td>Jun1 </td><td>CRS-1      </td><td>101</td><td>204</td><td>308</td><td>402</td></tr>\n",
              "\t<tr><td>Jun1 </td><td>IH-Williams</td><td>102</td><td>203</td><td>307</td><td>401</td></tr>\n",
              "\t<tr><td>Jun15</td><td>CRS-1      </td><td>104</td><td>201</td><td>304</td><td>408</td></tr>\n",
              "\t<tr><td>Jun15</td><td>IH-Williams</td><td>103</td><td>202</td><td>303</td><td>407</td></tr>\n",
              "</tbody>\n",
              "</table>\n"
            ],
            "text/markdown": "\nA tibble: 8 × 6\n\n| Planting_date &lt;chr&gt; | VT &lt;chr&gt; | Rep 1 &lt;dbl&gt; | Rep 2 &lt;dbl&gt; | Rep 3 &lt;dbl&gt; | Rep 4 &lt;dbl&gt; |\n|---|---|---|---|---|---|\n| May1  | CRS-1       | 108 | 206 | 305 | 404 |\n| May1  | IH-Williams | 107 | 205 | 306 | 403 |\n| May15 | CRS-1       | 106 | 207 | 302 | 405 |\n| May15 | IH-Williams | 105 | 208 | 301 | 406 |\n| Jun1  | CRS-1       | 101 | 204 | 308 | 402 |\n| Jun1  | IH-Williams | 102 | 203 | 307 | 401 |\n| Jun15 | CRS-1       | 104 | 201 | 304 | 408 |\n| Jun15 | IH-Williams | 103 | 202 | 303 | 407 |\n\n",
            "text/latex": "A tibble: 8 × 6\n\\begin{tabular}{llllll}\n Planting\\_date & VT & Rep 1 & Rep 2 & Rep 3 & Rep 4\\\\\n <chr> & <chr> & <dbl> & <dbl> & <dbl> & <dbl>\\\\\n\\hline\n\t May1  & CRS-1       & 108 & 206 & 305 & 404\\\\\n\t May1  & IH-Williams & 107 & 205 & 306 & 403\\\\\n\t May15 & CRS-1       & 106 & 207 & 302 & 405\\\\\n\t May15 & IH-Williams & 105 & 208 & 301 & 406\\\\\n\t Jun1  & CRS-1       & 101 & 204 & 308 & 402\\\\\n\t Jun1  & IH-Williams & 102 & 203 & 307 & 401\\\\\n\t Jun15 & CRS-1       & 104 & 201 & 304 & 408\\\\\n\t Jun15 & IH-Williams & 103 & 202 & 303 & 407\\\\\n\\end{tabular}\n",
            "text/plain": [
              "  Planting_date VT          Rep 1 Rep 2 Rep 3 Rep 4\n",
              "1 May1          CRS-1       108   206   305   404  \n",
              "2 May1          IH-Williams 107   205   306   403  \n",
              "3 May15         CRS-1       106   207   302   405  \n",
              "4 May15         IH-Williams 105   208   301   406  \n",
              "5 Jun1          CRS-1       101   204   308   402  \n",
              "6 Jun1          IH-Williams 102   203   307   401  \n",
              "7 Jun15         CRS-1       104   201   304   408  \n",
              "8 Jun15         IH-Williams 103   202   303   407  "
            ]
          },
          "metadata": {}
        }
      ]
    },
    {
      "cell_type": "markdown",
      "source": [
        "# Tillage experiment (Grain) randomized"
      ],
      "metadata": {
        "id": "hwXq6KJK05Xu"
      }
    },
    {
      "cell_type": "code",
      "source": [
        "df= tibble::tibble(\n",
        "  Tillage = rep(c(\"Till\", \"No-till\"), each = 6L),\n",
        "  Variety = rep(rep(c(\"22XH0007\", \"22XH0001\"), 2), each = 3L),\n",
        "  `target pop` = rep(c(10, 15, 20), 4),\n",
        "  `Rep 1` = seq(101, 112, by = 1),\n",
        "  `Rep 2` = seq(201, 212, by = 1),\n",
        "  `Rep 3` = seq(301, 312, by = 1),\n",
        "  `Rep 4` = seq(401, 412, by = 1),\n",
        ")\n",
        "df\n",
        "\n",
        "print(\"###\")\n",
        "print(\"randomized\")\n",
        "print(\"###\")\n",
        "\n",
        "library(dplyr)\n",
        "set.seed(5000)\n",
        "df_randomized <- df %>%\n",
        "  mutate(across(starts_with(\"Rep\"),\n",
        "                ~ ave(.x[order(match(paste(Variety, Tillage),\n",
        "                      sample(unique(paste(Variety, Tillage)))))],\n",
        "                      paste(Variety, Tillage), FUN = sample)))\n",
        "df_randomized"
      ],
      "metadata": {
        "colab": {
          "base_uri": "https://localhost:8080/",
          "height": 983
        },
        "id": "5zxItJNY07mE",
        "outputId": "f47d46be-efb6-496f-c065-e8b263bd06b6"
      },
      "execution_count": 31,
      "outputs": [
        {
          "output_type": "display_data",
          "data": {
            "text/html": [
              "<table class=\"dataframe\">\n",
              "<caption>A tibble: 12 × 7</caption>\n",
              "<thead>\n",
              "\t<tr><th scope=col>Tillage</th><th scope=col>Variety</th><th scope=col>target pop</th><th scope=col>Rep 1</th><th scope=col>Rep 2</th><th scope=col>Rep 3</th><th scope=col>Rep 4</th></tr>\n",
              "\t<tr><th scope=col>&lt;chr&gt;</th><th scope=col>&lt;chr&gt;</th><th scope=col>&lt;dbl&gt;</th><th scope=col>&lt;dbl&gt;</th><th scope=col>&lt;dbl&gt;</th><th scope=col>&lt;dbl&gt;</th><th scope=col>&lt;dbl&gt;</th></tr>\n",
              "</thead>\n",
              "<tbody>\n",
              "\t<tr><td>Till   </td><td>22XH0007</td><td>10</td><td>101</td><td>201</td><td>301</td><td>401</td></tr>\n",
              "\t<tr><td>Till   </td><td>22XH0007</td><td>15</td><td>102</td><td>202</td><td>302</td><td>402</td></tr>\n",
              "\t<tr><td>Till   </td><td>22XH0007</td><td>20</td><td>103</td><td>203</td><td>303</td><td>403</td></tr>\n",
              "\t<tr><td>Till   </td><td>22XH0001</td><td>10</td><td>104</td><td>204</td><td>304</td><td>404</td></tr>\n",
              "\t<tr><td>Till   </td><td>22XH0001</td><td>15</td><td>105</td><td>205</td><td>305</td><td>405</td></tr>\n",
              "\t<tr><td>Till   </td><td>22XH0001</td><td>20</td><td>106</td><td>206</td><td>306</td><td>406</td></tr>\n",
              "\t<tr><td>No-till</td><td>22XH0007</td><td>10</td><td>107</td><td>207</td><td>307</td><td>407</td></tr>\n",
              "\t<tr><td>No-till</td><td>22XH0007</td><td>15</td><td>108</td><td>208</td><td>308</td><td>408</td></tr>\n",
              "\t<tr><td>No-till</td><td>22XH0007</td><td>20</td><td>109</td><td>209</td><td>309</td><td>409</td></tr>\n",
              "\t<tr><td>No-till</td><td>22XH0001</td><td>10</td><td>110</td><td>210</td><td>310</td><td>410</td></tr>\n",
              "\t<tr><td>No-till</td><td>22XH0001</td><td>15</td><td>111</td><td>211</td><td>311</td><td>411</td></tr>\n",
              "\t<tr><td>No-till</td><td>22XH0001</td><td>20</td><td>112</td><td>212</td><td>312</td><td>412</td></tr>\n",
              "</tbody>\n",
              "</table>\n"
            ],
            "text/markdown": "\nA tibble: 12 × 7\n\n| Tillage &lt;chr&gt; | Variety &lt;chr&gt; | target pop &lt;dbl&gt; | Rep 1 &lt;dbl&gt; | Rep 2 &lt;dbl&gt; | Rep 3 &lt;dbl&gt; | Rep 4 &lt;dbl&gt; |\n|---|---|---|---|---|---|---|\n| Till    | 22XH0007 | 10 | 101 | 201 | 301 | 401 |\n| Till    | 22XH0007 | 15 | 102 | 202 | 302 | 402 |\n| Till    | 22XH0007 | 20 | 103 | 203 | 303 | 403 |\n| Till    | 22XH0001 | 10 | 104 | 204 | 304 | 404 |\n| Till    | 22XH0001 | 15 | 105 | 205 | 305 | 405 |\n| Till    | 22XH0001 | 20 | 106 | 206 | 306 | 406 |\n| No-till | 22XH0007 | 10 | 107 | 207 | 307 | 407 |\n| No-till | 22XH0007 | 15 | 108 | 208 | 308 | 408 |\n| No-till | 22XH0007 | 20 | 109 | 209 | 309 | 409 |\n| No-till | 22XH0001 | 10 | 110 | 210 | 310 | 410 |\n| No-till | 22XH0001 | 15 | 111 | 211 | 311 | 411 |\n| No-till | 22XH0001 | 20 | 112 | 212 | 312 | 412 |\n\n",
            "text/latex": "A tibble: 12 × 7\n\\begin{tabular}{lllllll}\n Tillage & Variety & target pop & Rep 1 & Rep 2 & Rep 3 & Rep 4\\\\\n <chr> & <chr> & <dbl> & <dbl> & <dbl> & <dbl> & <dbl>\\\\\n\\hline\n\t Till    & 22XH0007 & 10 & 101 & 201 & 301 & 401\\\\\n\t Till    & 22XH0007 & 15 & 102 & 202 & 302 & 402\\\\\n\t Till    & 22XH0007 & 20 & 103 & 203 & 303 & 403\\\\\n\t Till    & 22XH0001 & 10 & 104 & 204 & 304 & 404\\\\\n\t Till    & 22XH0001 & 15 & 105 & 205 & 305 & 405\\\\\n\t Till    & 22XH0001 & 20 & 106 & 206 & 306 & 406\\\\\n\t No-till & 22XH0007 & 10 & 107 & 207 & 307 & 407\\\\\n\t No-till & 22XH0007 & 15 & 108 & 208 & 308 & 408\\\\\n\t No-till & 22XH0007 & 20 & 109 & 209 & 309 & 409\\\\\n\t No-till & 22XH0001 & 10 & 110 & 210 & 310 & 410\\\\\n\t No-till & 22XH0001 & 15 & 111 & 211 & 311 & 411\\\\\n\t No-till & 22XH0001 & 20 & 112 & 212 & 312 & 412\\\\\n\\end{tabular}\n",
            "text/plain": [
              "   Tillage Variety  target pop Rep 1 Rep 2 Rep 3 Rep 4\n",
              "1  Till    22XH0007 10         101   201   301   401  \n",
              "2  Till    22XH0007 15         102   202   302   402  \n",
              "3  Till    22XH0007 20         103   203   303   403  \n",
              "4  Till    22XH0001 10         104   204   304   404  \n",
              "5  Till    22XH0001 15         105   205   305   405  \n",
              "6  Till    22XH0001 20         106   206   306   406  \n",
              "7  No-till 22XH0007 10         107   207   307   407  \n",
              "8  No-till 22XH0007 15         108   208   308   408  \n",
              "9  No-till 22XH0007 20         109   209   309   409  \n",
              "10 No-till 22XH0001 10         110   210   310   410  \n",
              "11 No-till 22XH0001 15         111   211   311   411  \n",
              "12 No-till 22XH0001 20         112   212   312   412  "
            ]
          },
          "metadata": {}
        },
        {
          "output_type": "stream",
          "name": "stdout",
          "text": [
            "[1] \"###\"\n",
            "[1] \"randomized\"\n",
            "[1] \"###\"\n"
          ]
        },
        {
          "output_type": "display_data",
          "data": {
            "text/html": [
              "<table class=\"dataframe\">\n",
              "<caption>A tibble: 12 × 7</caption>\n",
              "<thead>\n",
              "\t<tr><th scope=col>Tillage</th><th scope=col>Variety</th><th scope=col>target pop</th><th scope=col>Rep 1</th><th scope=col>Rep 2</th><th scope=col>Rep 3</th><th scope=col>Rep 4</th></tr>\n",
              "\t<tr><th scope=col>&lt;chr&gt;</th><th scope=col>&lt;chr&gt;</th><th scope=col>&lt;dbl&gt;</th><th scope=col>&lt;dbl&gt;</th><th scope=col>&lt;dbl&gt;</th><th scope=col>&lt;dbl&gt;</th><th scope=col>&lt;dbl&gt;</th></tr>\n",
              "</thead>\n",
              "<tbody>\n",
              "\t<tr><td>Till   </td><td>22XH0007</td><td>10</td><td>108</td><td>204</td><td>307</td><td>407</td></tr>\n",
              "\t<tr><td>Till   </td><td>22XH0007</td><td>15</td><td>109</td><td>206</td><td>309</td><td>409</td></tr>\n",
              "\t<tr><td>Till   </td><td>22XH0007</td><td>20</td><td>107</td><td>205</td><td>308</td><td>408</td></tr>\n",
              "\t<tr><td>Till   </td><td>22XH0001</td><td>10</td><td>101</td><td>208</td><td>303</td><td>406</td></tr>\n",
              "\t<tr><td>Till   </td><td>22XH0001</td><td>15</td><td>102</td><td>209</td><td>301</td><td>404</td></tr>\n",
              "\t<tr><td>Till   </td><td>22XH0001</td><td>20</td><td>103</td><td>207</td><td>302</td><td>405</td></tr>\n",
              "\t<tr><td>No-till</td><td>22XH0007</td><td>10</td><td>110</td><td>211</td><td>312</td><td>410</td></tr>\n",
              "\t<tr><td>No-till</td><td>22XH0007</td><td>15</td><td>112</td><td>210</td><td>310</td><td>412</td></tr>\n",
              "\t<tr><td>No-till</td><td>22XH0007</td><td>20</td><td>111</td><td>212</td><td>311</td><td>411</td></tr>\n",
              "\t<tr><td>No-till</td><td>22XH0001</td><td>10</td><td>105</td><td>201</td><td>306</td><td>403</td></tr>\n",
              "\t<tr><td>No-till</td><td>22XH0001</td><td>15</td><td>104</td><td>203</td><td>305</td><td>402</td></tr>\n",
              "\t<tr><td>No-till</td><td>22XH0001</td><td>20</td><td>106</td><td>202</td><td>304</td><td>401</td></tr>\n",
              "</tbody>\n",
              "</table>\n"
            ],
            "text/markdown": "\nA tibble: 12 × 7\n\n| Tillage &lt;chr&gt; | Variety &lt;chr&gt; | target pop &lt;dbl&gt; | Rep 1 &lt;dbl&gt; | Rep 2 &lt;dbl&gt; | Rep 3 &lt;dbl&gt; | Rep 4 &lt;dbl&gt; |\n|---|---|---|---|---|---|---|\n| Till    | 22XH0007 | 10 | 108 | 204 | 307 | 407 |\n| Till    | 22XH0007 | 15 | 109 | 206 | 309 | 409 |\n| Till    | 22XH0007 | 20 | 107 | 205 | 308 | 408 |\n| Till    | 22XH0001 | 10 | 101 | 208 | 303 | 406 |\n| Till    | 22XH0001 | 15 | 102 | 209 | 301 | 404 |\n| Till    | 22XH0001 | 20 | 103 | 207 | 302 | 405 |\n| No-till | 22XH0007 | 10 | 110 | 211 | 312 | 410 |\n| No-till | 22XH0007 | 15 | 112 | 210 | 310 | 412 |\n| No-till | 22XH0007 | 20 | 111 | 212 | 311 | 411 |\n| No-till | 22XH0001 | 10 | 105 | 201 | 306 | 403 |\n| No-till | 22XH0001 | 15 | 104 | 203 | 305 | 402 |\n| No-till | 22XH0001 | 20 | 106 | 202 | 304 | 401 |\n\n",
            "text/latex": "A tibble: 12 × 7\n\\begin{tabular}{lllllll}\n Tillage & Variety & target pop & Rep 1 & Rep 2 & Rep 3 & Rep 4\\\\\n <chr> & <chr> & <dbl> & <dbl> & <dbl> & <dbl> & <dbl>\\\\\n\\hline\n\t Till    & 22XH0007 & 10 & 108 & 204 & 307 & 407\\\\\n\t Till    & 22XH0007 & 15 & 109 & 206 & 309 & 409\\\\\n\t Till    & 22XH0007 & 20 & 107 & 205 & 308 & 408\\\\\n\t Till    & 22XH0001 & 10 & 101 & 208 & 303 & 406\\\\\n\t Till    & 22XH0001 & 15 & 102 & 209 & 301 & 404\\\\\n\t Till    & 22XH0001 & 20 & 103 & 207 & 302 & 405\\\\\n\t No-till & 22XH0007 & 10 & 110 & 211 & 312 & 410\\\\\n\t No-till & 22XH0007 & 15 & 112 & 210 & 310 & 412\\\\\n\t No-till & 22XH0007 & 20 & 111 & 212 & 311 & 411\\\\\n\t No-till & 22XH0001 & 10 & 105 & 201 & 306 & 403\\\\\n\t No-till & 22XH0001 & 15 & 104 & 203 & 305 & 402\\\\\n\t No-till & 22XH0001 & 20 & 106 & 202 & 304 & 401\\\\\n\\end{tabular}\n",
            "text/plain": [
              "   Tillage Variety  target pop Rep 1 Rep 2 Rep 3 Rep 4\n",
              "1  Till    22XH0007 10         108   204   307   407  \n",
              "2  Till    22XH0007 15         109   206   309   409  \n",
              "3  Till    22XH0007 20         107   205   308   408  \n",
              "4  Till    22XH0001 10         101   208   303   406  \n",
              "5  Till    22XH0001 15         102   209   301   404  \n",
              "6  Till    22XH0001 20         103   207   302   405  \n",
              "7  No-till 22XH0007 10         110   211   312   410  \n",
              "8  No-till 22XH0007 15         112   210   310   412  \n",
              "9  No-till 22XH0007 20         111   212   311   411  \n",
              "10 No-till 22XH0001 10         105   201   306   403  \n",
              "11 No-till 22XH0001 15         104   203   305   402  \n",
              "12 No-till 22XH0001 20         106   202   304   401  "
            ]
          },
          "metadata": {}
        }
      ]
    },
    {
      "cell_type": "markdown",
      "source": [
        "# Tillage experiment (Fiber) randomized"
      ],
      "metadata": {
        "id": "N8t-W80-TsDN"
      }
    },
    {
      "cell_type": "code",
      "source": [
        "df=tibble::tibble(\n",
        "  Tillage = rep(c(\"Till\", \"No-till\"), each = 6L),\n",
        "  Variety = rep(c(\"CRS\", \"CRS\", \"CRS\", \"IH-Williams\", \"IH-Williams\", \"IH-Williams\"), 2),\n",
        "  `target pop` = rep(c(20, 25, 30), 4),\n",
        "  `Rep 1` = seq(101, 112, by = 1),\n",
        "  `Rep 2` = seq(201, 212, by = 1),\n",
        "  `Rep 3` = seq(301, 312, by = 1),\n",
        "  `Rep 4` = seq(401, 412, by = 1),\n",
        ")\n",
        "df\n",
        "\n",
        "print(\"###\")\n",
        "print(\"randomized\")\n",
        "print(\"###\")\n",
        "\n",
        "library(dplyr)\n",
        "set.seed(6000)\n",
        "df_randomized= df %>%\n",
        "                mutate(across(starts_with(\"Rep\"),\n",
        "                ~ ave(.x[order(match(paste(Variety, Tillage),\n",
        "                      sample(unique(paste(Variety, Tillage)))))],\n",
        "                      paste(Variety, Tillage), FUN = sample)))\n",
        "df_randomized"
      ],
      "metadata": {
        "colab": {
          "base_uri": "https://localhost:8080/",
          "height": 983
        },
        "id": "HkoAlEMe5njO",
        "outputId": "8bd81f52-2a2a-4c4e-ab77-9c161f41bd25"
      },
      "execution_count": 32,
      "outputs": [
        {
          "output_type": "display_data",
          "data": {
            "text/html": [
              "<table class=\"dataframe\">\n",
              "<caption>A tibble: 12 × 7</caption>\n",
              "<thead>\n",
              "\t<tr><th scope=col>Tillage</th><th scope=col>Variety</th><th scope=col>target pop</th><th scope=col>Rep 1</th><th scope=col>Rep 2</th><th scope=col>Rep 3</th><th scope=col>Rep 4</th></tr>\n",
              "\t<tr><th scope=col>&lt;chr&gt;</th><th scope=col>&lt;chr&gt;</th><th scope=col>&lt;dbl&gt;</th><th scope=col>&lt;dbl&gt;</th><th scope=col>&lt;dbl&gt;</th><th scope=col>&lt;dbl&gt;</th><th scope=col>&lt;dbl&gt;</th></tr>\n",
              "</thead>\n",
              "<tbody>\n",
              "\t<tr><td>Till   </td><td>CRS        </td><td>20</td><td>101</td><td>201</td><td>301</td><td>401</td></tr>\n",
              "\t<tr><td>Till   </td><td>CRS        </td><td>25</td><td>102</td><td>202</td><td>302</td><td>402</td></tr>\n",
              "\t<tr><td>Till   </td><td>CRS        </td><td>30</td><td>103</td><td>203</td><td>303</td><td>403</td></tr>\n",
              "\t<tr><td>Till   </td><td>IH-Williams</td><td>20</td><td>104</td><td>204</td><td>304</td><td>404</td></tr>\n",
              "\t<tr><td>Till   </td><td>IH-Williams</td><td>25</td><td>105</td><td>205</td><td>305</td><td>405</td></tr>\n",
              "\t<tr><td>Till   </td><td>IH-Williams</td><td>30</td><td>106</td><td>206</td><td>306</td><td>406</td></tr>\n",
              "\t<tr><td>No-till</td><td>CRS        </td><td>20</td><td>107</td><td>207</td><td>307</td><td>407</td></tr>\n",
              "\t<tr><td>No-till</td><td>CRS        </td><td>25</td><td>108</td><td>208</td><td>308</td><td>408</td></tr>\n",
              "\t<tr><td>No-till</td><td>CRS        </td><td>30</td><td>109</td><td>209</td><td>309</td><td>409</td></tr>\n",
              "\t<tr><td>No-till</td><td>IH-Williams</td><td>20</td><td>110</td><td>210</td><td>310</td><td>410</td></tr>\n",
              "\t<tr><td>No-till</td><td>IH-Williams</td><td>25</td><td>111</td><td>211</td><td>311</td><td>411</td></tr>\n",
              "\t<tr><td>No-till</td><td>IH-Williams</td><td>30</td><td>112</td><td>212</td><td>312</td><td>412</td></tr>\n",
              "</tbody>\n",
              "</table>\n"
            ],
            "text/markdown": "\nA tibble: 12 × 7\n\n| Tillage &lt;chr&gt; | Variety &lt;chr&gt; | target pop &lt;dbl&gt; | Rep 1 &lt;dbl&gt; | Rep 2 &lt;dbl&gt; | Rep 3 &lt;dbl&gt; | Rep 4 &lt;dbl&gt; |\n|---|---|---|---|---|---|---|\n| Till    | CRS         | 20 | 101 | 201 | 301 | 401 |\n| Till    | CRS         | 25 | 102 | 202 | 302 | 402 |\n| Till    | CRS         | 30 | 103 | 203 | 303 | 403 |\n| Till    | IH-Williams | 20 | 104 | 204 | 304 | 404 |\n| Till    | IH-Williams | 25 | 105 | 205 | 305 | 405 |\n| Till    | IH-Williams | 30 | 106 | 206 | 306 | 406 |\n| No-till | CRS         | 20 | 107 | 207 | 307 | 407 |\n| No-till | CRS         | 25 | 108 | 208 | 308 | 408 |\n| No-till | CRS         | 30 | 109 | 209 | 309 | 409 |\n| No-till | IH-Williams | 20 | 110 | 210 | 310 | 410 |\n| No-till | IH-Williams | 25 | 111 | 211 | 311 | 411 |\n| No-till | IH-Williams | 30 | 112 | 212 | 312 | 412 |\n\n",
            "text/latex": "A tibble: 12 × 7\n\\begin{tabular}{lllllll}\n Tillage & Variety & target pop & Rep 1 & Rep 2 & Rep 3 & Rep 4\\\\\n <chr> & <chr> & <dbl> & <dbl> & <dbl> & <dbl> & <dbl>\\\\\n\\hline\n\t Till    & CRS         & 20 & 101 & 201 & 301 & 401\\\\\n\t Till    & CRS         & 25 & 102 & 202 & 302 & 402\\\\\n\t Till    & CRS         & 30 & 103 & 203 & 303 & 403\\\\\n\t Till    & IH-Williams & 20 & 104 & 204 & 304 & 404\\\\\n\t Till    & IH-Williams & 25 & 105 & 205 & 305 & 405\\\\\n\t Till    & IH-Williams & 30 & 106 & 206 & 306 & 406\\\\\n\t No-till & CRS         & 20 & 107 & 207 & 307 & 407\\\\\n\t No-till & CRS         & 25 & 108 & 208 & 308 & 408\\\\\n\t No-till & CRS         & 30 & 109 & 209 & 309 & 409\\\\\n\t No-till & IH-Williams & 20 & 110 & 210 & 310 & 410\\\\\n\t No-till & IH-Williams & 25 & 111 & 211 & 311 & 411\\\\\n\t No-till & IH-Williams & 30 & 112 & 212 & 312 & 412\\\\\n\\end{tabular}\n",
            "text/plain": [
              "   Tillage Variety     target pop Rep 1 Rep 2 Rep 3 Rep 4\n",
              "1  Till    CRS         20         101   201   301   401  \n",
              "2  Till    CRS         25         102   202   302   402  \n",
              "3  Till    CRS         30         103   203   303   403  \n",
              "4  Till    IH-Williams 20         104   204   304   404  \n",
              "5  Till    IH-Williams 25         105   205   305   405  \n",
              "6  Till    IH-Williams 30         106   206   306   406  \n",
              "7  No-till CRS         20         107   207   307   407  \n",
              "8  No-till CRS         25         108   208   308   408  \n",
              "9  No-till CRS         30         109   209   309   409  \n",
              "10 No-till IH-Williams 20         110   210   310   410  \n",
              "11 No-till IH-Williams 25         111   211   311   411  \n",
              "12 No-till IH-Williams 30         112   212   312   412  "
            ]
          },
          "metadata": {}
        },
        {
          "output_type": "stream",
          "name": "stdout",
          "text": [
            "[1] \"###\"\n",
            "[1] \"randomized\"\n",
            "[1] \"###\"\n"
          ]
        },
        {
          "output_type": "display_data",
          "data": {
            "text/html": [
              "<table class=\"dataframe\">\n",
              "<caption>A tibble: 12 × 7</caption>\n",
              "<thead>\n",
              "\t<tr><th scope=col>Tillage</th><th scope=col>Variety</th><th scope=col>target pop</th><th scope=col>Rep 1</th><th scope=col>Rep 2</th><th scope=col>Rep 3</th><th scope=col>Rep 4</th></tr>\n",
              "\t<tr><th scope=col>&lt;chr&gt;</th><th scope=col>&lt;chr&gt;</th><th scope=col>&lt;dbl&gt;</th><th scope=col>&lt;dbl&gt;</th><th scope=col>&lt;dbl&gt;</th><th scope=col>&lt;dbl&gt;</th><th scope=col>&lt;dbl&gt;</th></tr>\n",
              "</thead>\n",
              "<tbody>\n",
              "\t<tr><td>Till   </td><td>CRS        </td><td>20</td><td>102</td><td>211</td><td>306</td><td>402</td></tr>\n",
              "\t<tr><td>Till   </td><td>CRS        </td><td>25</td><td>103</td><td>210</td><td>305</td><td>403</td></tr>\n",
              "\t<tr><td>Till   </td><td>CRS        </td><td>30</td><td>101</td><td>212</td><td>304</td><td>401</td></tr>\n",
              "\t<tr><td>Till   </td><td>IH-Williams</td><td>20</td><td>110</td><td>208</td><td>310</td><td>404</td></tr>\n",
              "\t<tr><td>Till   </td><td>IH-Williams</td><td>25</td><td>112</td><td>207</td><td>312</td><td>406</td></tr>\n",
              "\t<tr><td>Till   </td><td>IH-Williams</td><td>30</td><td>111</td><td>209</td><td>311</td><td>405</td></tr>\n",
              "\t<tr><td>No-till</td><td>CRS        </td><td>20</td><td>105</td><td>202</td><td>307</td><td>407</td></tr>\n",
              "\t<tr><td>No-till</td><td>CRS        </td><td>25</td><td>106</td><td>201</td><td>309</td><td>409</td></tr>\n",
              "\t<tr><td>No-till</td><td>CRS        </td><td>30</td><td>104</td><td>203</td><td>308</td><td>408</td></tr>\n",
              "\t<tr><td>No-till</td><td>IH-Williams</td><td>20</td><td>108</td><td>204</td><td>302</td><td>410</td></tr>\n",
              "\t<tr><td>No-till</td><td>IH-Williams</td><td>25</td><td>109</td><td>205</td><td>301</td><td>411</td></tr>\n",
              "\t<tr><td>No-till</td><td>IH-Williams</td><td>30</td><td>107</td><td>206</td><td>303</td><td>412</td></tr>\n",
              "</tbody>\n",
              "</table>\n"
            ],
            "text/markdown": "\nA tibble: 12 × 7\n\n| Tillage &lt;chr&gt; | Variety &lt;chr&gt; | target pop &lt;dbl&gt; | Rep 1 &lt;dbl&gt; | Rep 2 &lt;dbl&gt; | Rep 3 &lt;dbl&gt; | Rep 4 &lt;dbl&gt; |\n|---|---|---|---|---|---|---|\n| Till    | CRS         | 20 | 102 | 211 | 306 | 402 |\n| Till    | CRS         | 25 | 103 | 210 | 305 | 403 |\n| Till    | CRS         | 30 | 101 | 212 | 304 | 401 |\n| Till    | IH-Williams | 20 | 110 | 208 | 310 | 404 |\n| Till    | IH-Williams | 25 | 112 | 207 | 312 | 406 |\n| Till    | IH-Williams | 30 | 111 | 209 | 311 | 405 |\n| No-till | CRS         | 20 | 105 | 202 | 307 | 407 |\n| No-till | CRS         | 25 | 106 | 201 | 309 | 409 |\n| No-till | CRS         | 30 | 104 | 203 | 308 | 408 |\n| No-till | IH-Williams | 20 | 108 | 204 | 302 | 410 |\n| No-till | IH-Williams | 25 | 109 | 205 | 301 | 411 |\n| No-till | IH-Williams | 30 | 107 | 206 | 303 | 412 |\n\n",
            "text/latex": "A tibble: 12 × 7\n\\begin{tabular}{lllllll}\n Tillage & Variety & target pop & Rep 1 & Rep 2 & Rep 3 & Rep 4\\\\\n <chr> & <chr> & <dbl> & <dbl> & <dbl> & <dbl> & <dbl>\\\\\n\\hline\n\t Till    & CRS         & 20 & 102 & 211 & 306 & 402\\\\\n\t Till    & CRS         & 25 & 103 & 210 & 305 & 403\\\\\n\t Till    & CRS         & 30 & 101 & 212 & 304 & 401\\\\\n\t Till    & IH-Williams & 20 & 110 & 208 & 310 & 404\\\\\n\t Till    & IH-Williams & 25 & 112 & 207 & 312 & 406\\\\\n\t Till    & IH-Williams & 30 & 111 & 209 & 311 & 405\\\\\n\t No-till & CRS         & 20 & 105 & 202 & 307 & 407\\\\\n\t No-till & CRS         & 25 & 106 & 201 & 309 & 409\\\\\n\t No-till & CRS         & 30 & 104 & 203 & 308 & 408\\\\\n\t No-till & IH-Williams & 20 & 108 & 204 & 302 & 410\\\\\n\t No-till & IH-Williams & 25 & 109 & 205 & 301 & 411\\\\\n\t No-till & IH-Williams & 30 & 107 & 206 & 303 & 412\\\\\n\\end{tabular}\n",
            "text/plain": [
              "   Tillage Variety     target pop Rep 1 Rep 2 Rep 3 Rep 4\n",
              "1  Till    CRS         20         102   211   306   402  \n",
              "2  Till    CRS         25         103   210   305   403  \n",
              "3  Till    CRS         30         101   212   304   401  \n",
              "4  Till    IH-Williams 20         110   208   310   404  \n",
              "5  Till    IH-Williams 25         112   207   312   406  \n",
              "6  Till    IH-Williams 30         111   209   311   405  \n",
              "7  No-till CRS         20         105   202   307   407  \n",
              "8  No-till CRS         25         106   201   309   409  \n",
              "9  No-till CRS         30         104   203   308   408  \n",
              "10 No-till IH-Williams 20         108   204   302   410  \n",
              "11 No-till IH-Williams 25         109   205   301   411  \n",
              "12 No-till IH-Williams 30         107   206   303   412  "
            ]
          },
          "metadata": {}
        }
      ]
    }
  ]
}
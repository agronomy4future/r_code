{
  "nbformat": 4,
  "nbformat_minor": 0,
  "metadata": {
    "colab": {
      "provenance": [],
      "authorship_tag": "ABX9TyOmfQzmR59DOrlvPLlHmzgL"
    },
    "kernelspec": {
      "name": "ir",
      "display_name": "R"
    },
    "language_info": {
      "name": "R"
    }
  },
  "cells": [
    {
      "cell_type": "markdown",
      "source": [
        "# 1) install the package"
      ],
      "metadata": {
        "id": "UwYF2BgVTtHa"
      }
    },
    {
      "cell_type": "code",
      "execution_count": null,
      "metadata": {
        "id": "F7rGio31TBeL"
      },
      "outputs": [],
      "source": [
        "if(!require(remotes)) install.packages(\"remotes\")\n",
        "if (!requireNamespace(\"intercept0\", quietly = TRUE)) {\n",
        "  remotes::install_github(\"agronomy4future/intercept0\")\n",
        "}\n",
        "library(remotes)\n",
        "library(intercept0)"
      ]
    },
    {
      "cell_type": "markdown",
      "source": [
        "# 2) to upload data"
      ],
      "metadata": {
        "id": "bPL2BWbuTw8n"
      }
    },
    {
      "cell_type": "code",
      "source": [
        "if(!require(readr)) install.packages(\"readr\")\n",
        "library(readr)\n",
        "github=\"https://raw.githubusercontent.com/agronomy4future/raw_data_practice/main/wheat_grain_area_vs_weight.csv\"\n",
        "df=data.frame(read_csv(url(github),show_col_types = FALSE))\n",
        "\n",
        "print(head(df, 5))"
      ],
      "metadata": {
        "colab": {
          "base_uri": "https://localhost:8080/"
        },
        "id": "bBjH7_2UTUoS",
        "outputId": "4d432552-e39a-4d51-c1fe-d6b179e69a11"
      },
      "execution_count": 3,
      "outputs": [
        {
          "output_type": "stream",
          "name": "stdout",
          "text": [
            "  grain_area grain_weight\n",
            "1      15.57         43.4\n",
            "2      17.14         49.7\n",
            "3      16.24         45.2\n",
            "4       7.85         11.0\n",
            "5      14.32         36.4\n"
          ]
        }
      ]
    },
    {
      "cell_type": "markdown",
      "source": [
        "# 3) Linear regression model"
      ],
      "metadata": {
        "id": "ABkpw-6WTyyr"
      }
    },
    {
      "cell_type": "code",
      "source": [
        "model=lm(grain_weight ~ grain_area, data=df)\n",
        "summary(model)"
      ],
      "metadata": {
        "colab": {
          "base_uri": "https://localhost:8080/",
          "height": 329
        },
        "id": "jVhMYCYfTcZ4",
        "outputId": "7bf6e8c7-012a-4d54-9a13-886c537e65e0"
      },
      "execution_count": 4,
      "outputs": [
        {
          "output_type": "display_data",
          "data": {
            "text/plain": [
              "\n",
              "Call:\n",
              "lm(formula = grain_weight ~ grain_area, data = df)\n",
              "\n",
              "Residuals:\n",
              "     Min       1Q   Median       3Q      Max \n",
              "-14.1497  -0.6232  -0.4314   0.8931  10.9166 \n",
              "\n",
              "Coefficients:\n",
              "            Estimate Std. Error t value Pr(>|t|)    \n",
              "(Intercept) -13.7155     0.4866  -28.19   <2e-16 ***\n",
              "grain_area    3.3333     0.0266  125.32   <2e-16 ***\n",
              "---\n",
              "Signif. codes:  0 ‘***’ 0.001 ‘**’ 0.01 ‘*’ 0.05 ‘.’ 0.1 ‘ ’ 1\n",
              "\n",
              "Residual standard error: 2.965 on 1330 degrees of freedom\n",
              "Multiple R-squared:  0.9219,\tAdjusted R-squared:  0.9219 \n",
              "F-statistic: 1.57e+04 on 1 and 1330 DF,  p-value: < 2.2e-16\n"
            ]
          },
          "metadata": {}
        }
      ]
    },
    {
      "cell_type": "markdown",
      "source": [
        "# 4) forcing intercept to 0"
      ],
      "metadata": {
        "id": "5ZRVkjSmT2ei"
      }
    },
    {
      "cell_type": "code",
      "source": [
        "intercept_zero_model=lm (grain_weight ~ 0 + grain_area, data=df)\n",
        "summary (intercept_zero_model)"
      ],
      "metadata": {
        "colab": {
          "base_uri": "https://localhost:8080/",
          "height": 312
        },
        "id": "QKBWaCWUTfxM",
        "outputId": "c48166a4-f27a-40b5-f907-bc2af806f47b"
      },
      "execution_count": 6,
      "outputs": [
        {
          "output_type": "display_data",
          "data": {
            "text/plain": [
              "\n",
              "Call:\n",
              "lm(formula = grain_weight ~ 0 + grain_area, data = df)\n",
              "\n",
              "Residuals:\n",
              "     Min       1Q   Median       3Q      Max \n",
              "-13.1734  -2.5865  -0.3858   1.8437  12.9090 \n",
              "\n",
              "Coefficients:\n",
              "           Estimate Std. Error t value Pr(>|t|)    \n",
              "grain_area 2.594003   0.005611   462.3   <2e-16 ***\n",
              "---\n",
              "Signif. codes:  0 ‘***’ 0.001 ‘**’ 0.01 ‘*’ 0.05 ‘.’ 0.1 ‘ ’ 1\n",
              "\n",
              "Residual standard error: 3.746 on 1331 degrees of freedom\n",
              "Multiple R-squared:  0.9938,\tAdjusted R-squared:  0.9938 \n",
              "F-statistic: 2.137e+05 on 1 and 1331 DF,  p-value: < 2.2e-16\n"
            ]
          },
          "metadata": {}
        }
      ]
    },
    {
      "cell_type": "markdown",
      "source": [
        "# 5) intercept0 package"
      ],
      "metadata": {
        "id": "G-nwssdyT8-_"
      }
    },
    {
      "cell_type": "code",
      "source": [
        "model= intercept0(grain_weight ~ grain_area, data=df)\n",
        "summary(model)"
      ],
      "metadata": {
        "colab": {
          "base_uri": "https://localhost:8080/"
        },
        "id": "_P4s8itgTm7S",
        "outputId": "7e7e7a04-32bf-4c5e-f3c3-7ebdfae487ab"
      },
      "execution_count": 7,
      "outputs": [
        {
          "output_type": "stream",
          "name": "stdout",
          "text": [
            "\n",
            "Call:\n",
            "lm(formula = update(formula, . ~ . - 1), data = data)\n",
            "\n",
            "Residuals:\n",
            "     Min       1Q   Median       3Q      Max \n",
            "-13.1734  -2.5865  -0.3858   1.8437  12.9090 \n",
            "\n",
            "Coefficients:\n",
            "           Estimate Std. Error t value Pr(>|t|)    \n",
            "grain_area 2.594003   0.005611   462.3   <2e-16 ***\n",
            "---\n",
            "Signif. codes:  0 ‘***’ 0.001 ‘**’ 0.01 ‘*’ 0.05 ‘.’ 0.1 ‘ ’ 1\n",
            "\n",
            "Residual standard error: 3.746 on 1331 degrees of freedom\n",
            "Multiple R-squared:  0.9938,\tAdjusted R-squared:  0.9938 \n",
            "F-statistic: 2.137e+05 on 1 and 1331 DF,  p-value: < 2.2e-16\n",
            "\n",
            "[1] Corrected R-squared: 0.8752745 \n"
          ]
        }
      ]
    }
  ]
}
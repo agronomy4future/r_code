{
  "nbformat": 4,
  "nbformat_minor": 0,
  "metadata": {
    "colab": {
      "provenance": [],
      "authorship_tag": "ABX9TyN9CRYRDF81vWQNmCPyWuRt"
    },
    "kernelspec": {
      "name": "ir",
      "display_name": "R"
    },
    "language_info": {
      "name": "R"
    }
  },
  "cells": [
    {
      "cell_type": "code",
      "source": [
        "library(dplyr)\n",
        "library(tidyr)\n",
        "library(broom)\n",
        "library(ggplot2)"
      ],
      "metadata": {
        "id": "o4cokXsZa5Ix"
      },
      "execution_count": 21,
      "outputs": []
    },
    {
      "cell_type": "code",
      "execution_count": 4,
      "metadata": {
        "colab": {
          "base_uri": "https://localhost:8080/",
          "height": 223
        },
        "id": "IpW-d0V-7Hod",
        "outputId": "ab61a89e-feee-4f12-8fc8-5341af937f54"
      },
      "outputs": [
        {
          "output_type": "display_data",
          "data": {
            "text/html": [
              "<table class=\"dataframe\">\n",
              "<caption>A data.frame: 4 × 6</caption>\n",
              "<thead>\n",
              "\t<tr><th scope=col>Env</th><th scope=col>CV1</th><th scope=col>CV2</th><th scope=col>CV3</th><th scope=col>CV4</th><th scope=col>CV5</th></tr>\n",
              "\t<tr><th scope=col>&lt;chr&gt;</th><th scope=col>&lt;dbl&gt;</th><th scope=col>&lt;dbl&gt;</th><th scope=col>&lt;dbl&gt;</th><th scope=col>&lt;dbl&gt;</th><th scope=col>&lt;dbl&gt;</th></tr>\n",
              "</thead>\n",
              "<tbody>\n",
              "\t<tr><td>High_inoc   </td><td> 30</td><td>74</td><td> 78</td><td>86</td><td>74</td></tr>\n",
              "\t<tr><td>High_NO_inoc</td><td>150</td><td>99</td><td>106</td><td>92</td><td>98</td></tr>\n",
              "\t<tr><td>Low_inoc    </td><td> 20</td><td>49</td><td> 56</td><td>66</td><td>57</td></tr>\n",
              "\t<tr><td>Low_NO_inoc </td><td>100</td><td>73</td><td> 69</td><td>70</td><td>79</td></tr>\n",
              "</tbody>\n",
              "</table>\n"
            ],
            "text/markdown": "\nA data.frame: 4 × 6\n\n| Env &lt;chr&gt; | CV1 &lt;dbl&gt; | CV2 &lt;dbl&gt; | CV3 &lt;dbl&gt; | CV4 &lt;dbl&gt; | CV5 &lt;dbl&gt; |\n|---|---|---|---|---|---|\n| High_inoc    |  30 | 74 |  78 | 86 | 74 |\n| High_NO_inoc | 150 | 99 | 106 | 92 | 98 |\n| Low_inoc     |  20 | 49 |  56 | 66 | 57 |\n| Low_NO_inoc  | 100 | 73 |  69 | 70 | 79 |\n\n",
            "text/latex": "A data.frame: 4 × 6\n\\begin{tabular}{llllll}\n Env & CV1 & CV2 & CV3 & CV4 & CV5\\\\\n <chr> & <dbl> & <dbl> & <dbl> & <dbl> & <dbl>\\\\\n\\hline\n\t High\\_inoc    &  30 & 74 &  78 & 86 & 74\\\\\n\t High\\_NO\\_inoc & 150 & 99 & 106 & 92 & 98\\\\\n\t Low\\_inoc     &  20 & 49 &  56 & 66 & 57\\\\\n\t Low\\_NO\\_inoc  & 100 & 73 &  69 & 70 & 79\\\\\n\\end{tabular}\n",
            "text/plain": [
              "  Env          CV1 CV2 CV3 CV4 CV5\n",
              "1 High_inoc     30 74   78 86  74 \n",
              "2 High_NO_inoc 150 99  106 92  98 \n",
              "3 Low_inoc      20 49   56 66  57 \n",
              "4 Low_NO_inoc  100 73   69 70  79 "
            ]
          },
          "metadata": {}
        }
      ],
      "source": [
        "Env= c(\"High_inoc\",\"High_NO_inoc\",\"Low_inoc\", \"Low_NO_inoc\")\n",
        "CV1= c(30,150,20,100)\n",
        "CV2= c(74,99,49,73)\n",
        "CV3= c(78,106,56,69)\n",
        "CV4= c(86,92,66,70)\n",
        "CV5= c(74,98,57,79)\n",
        "Data= data.frame(Env,CV1,CV2,CV3,CV4,CV5)\n",
        "Data"
      ]
    },
    {
      "cell_type": "code",
      "source": [
        "Data$Mean= rowMeans (Data %>% select(-Env))\n",
        "Data= rbind(Data, c(\"Mean\", colMeans(Data %>% select(-Env))))\n",
        "Data"
      ],
      "metadata": {
        "colab": {
          "base_uri": "https://localhost:8080/",
          "height": 255
        },
        "id": "A0H97z9E70uw",
        "outputId": "d41731d7-39b8-4ff1-9940-fbf5ccc9a0f9"
      },
      "execution_count": 5,
      "outputs": [
        {
          "output_type": "display_data",
          "data": {
            "text/html": [
              "<table class=\"dataframe\">\n",
              "<caption>A data.frame: 5 × 7</caption>\n",
              "<thead>\n",
              "\t<tr><th scope=col>Env</th><th scope=col>CV1</th><th scope=col>CV2</th><th scope=col>CV3</th><th scope=col>CV4</th><th scope=col>CV5</th><th scope=col>Mean</th></tr>\n",
              "\t<tr><th scope=col>&lt;chr&gt;</th><th scope=col>&lt;chr&gt;</th><th scope=col>&lt;chr&gt;</th><th scope=col>&lt;chr&gt;</th><th scope=col>&lt;chr&gt;</th><th scope=col>&lt;chr&gt;</th><th scope=col>&lt;chr&gt;</th></tr>\n",
              "</thead>\n",
              "<tbody>\n",
              "\t<tr><td>High_inoc   </td><td>30 </td><td>74   </td><td>78   </td><td>86  </td><td>74</td><td>68.4</td></tr>\n",
              "\t<tr><td>High_NO_inoc</td><td>150</td><td>99   </td><td>106  </td><td>92  </td><td>98</td><td>109 </td></tr>\n",
              "\t<tr><td>Low_inoc    </td><td>20 </td><td>49   </td><td>56   </td><td>66  </td><td>57</td><td>49.6</td></tr>\n",
              "\t<tr><td>Low_NO_inoc </td><td>100</td><td>73   </td><td>69   </td><td>70  </td><td>79</td><td>78.2</td></tr>\n",
              "\t<tr><td>Mean        </td><td>75 </td><td>73.75</td><td>77.25</td><td>78.5</td><td>77</td><td>76.3</td></tr>\n",
              "</tbody>\n",
              "</table>\n"
            ],
            "text/markdown": "\nA data.frame: 5 × 7\n\n| Env &lt;chr&gt; | CV1 &lt;chr&gt; | CV2 &lt;chr&gt; | CV3 &lt;chr&gt; | CV4 &lt;chr&gt; | CV5 &lt;chr&gt; | Mean &lt;chr&gt; |\n|---|---|---|---|---|---|---|\n| High_inoc    | 30  | 74    | 78    | 86   | 74 | 68.4 |\n| High_NO_inoc | 150 | 99    | 106   | 92   | 98 | 109  |\n| Low_inoc     | 20  | 49    | 56    | 66   | 57 | 49.6 |\n| Low_NO_inoc  | 100 | 73    | 69    | 70   | 79 | 78.2 |\n| Mean         | 75  | 73.75 | 77.25 | 78.5 | 77 | 76.3 |\n\n",
            "text/latex": "A data.frame: 5 × 7\n\\begin{tabular}{lllllll}\n Env & CV1 & CV2 & CV3 & CV4 & CV5 & Mean\\\\\n <chr> & <chr> & <chr> & <chr> & <chr> & <chr> & <chr>\\\\\n\\hline\n\t High\\_inoc    & 30  & 74    & 78    & 86   & 74 & 68.4\\\\\n\t High\\_NO\\_inoc & 150 & 99    & 106   & 92   & 98 & 109 \\\\\n\t Low\\_inoc     & 20  & 49    & 56    & 66   & 57 & 49.6\\\\\n\t Low\\_NO\\_inoc  & 100 & 73    & 69    & 70   & 79 & 78.2\\\\\n\t Mean         & 75  & 73.75 & 77.25 & 78.5 & 77 & 76.3\\\\\n\\end{tabular}\n",
            "text/plain": [
              "  Env          CV1 CV2   CV3   CV4  CV5 Mean\n",
              "1 High_inoc    30  74    78    86   74  68.4\n",
              "2 High_NO_inoc 150 99    106   92   98  109 \n",
              "3 Low_inoc     20  49    56    66   57  49.6\n",
              "4 Low_NO_inoc  100 73    69    70   79  78.2\n",
              "5 Mean         75  73.75 77.25 78.5 77  76.3"
            ]
          },
          "metadata": {}
        }
      ]
    },
    {
      "cell_type": "code",
      "source": [
        "Data$Mean= as.numeric(Data$Mean)\n",
        "Data$Env_index= Data$Mean - Data$Mean[nrow(Data)]\n",
        "Data"
      ],
      "metadata": {
        "colab": {
          "base_uri": "https://localhost:8080/",
          "height": 255
        },
        "id": "E3Vmno6o8jcG",
        "outputId": "a7bcf2b9-e364-4ca6-8f56-5570784bfa52"
      },
      "execution_count": 6,
      "outputs": [
        {
          "output_type": "display_data",
          "data": {
            "text/html": [
              "<table class=\"dataframe\">\n",
              "<caption>A data.frame: 5 × 8</caption>\n",
              "<thead>\n",
              "\t<tr><th scope=col>Env</th><th scope=col>CV1</th><th scope=col>CV2</th><th scope=col>CV3</th><th scope=col>CV4</th><th scope=col>CV5</th><th scope=col>Mean</th><th scope=col>Env_index</th></tr>\n",
              "\t<tr><th scope=col>&lt;chr&gt;</th><th scope=col>&lt;chr&gt;</th><th scope=col>&lt;chr&gt;</th><th scope=col>&lt;chr&gt;</th><th scope=col>&lt;chr&gt;</th><th scope=col>&lt;chr&gt;</th><th scope=col>&lt;dbl&gt;</th><th scope=col>&lt;dbl&gt;</th></tr>\n",
              "</thead>\n",
              "<tbody>\n",
              "\t<tr><td>High_inoc   </td><td>30 </td><td>74   </td><td>78   </td><td>86  </td><td>74</td><td> 68.4</td><td> -7.9</td></tr>\n",
              "\t<tr><td>High_NO_inoc</td><td>150</td><td>99   </td><td>106  </td><td>92  </td><td>98</td><td>109.0</td><td> 32.7</td></tr>\n",
              "\t<tr><td>Low_inoc    </td><td>20 </td><td>49   </td><td>56   </td><td>66  </td><td>57</td><td> 49.6</td><td>-26.7</td></tr>\n",
              "\t<tr><td>Low_NO_inoc </td><td>100</td><td>73   </td><td>69   </td><td>70  </td><td>79</td><td> 78.2</td><td>  1.9</td></tr>\n",
              "\t<tr><td>Mean        </td><td>75 </td><td>73.75</td><td>77.25</td><td>78.5</td><td>77</td><td> 76.3</td><td>  0.0</td></tr>\n",
              "</tbody>\n",
              "</table>\n"
            ],
            "text/markdown": "\nA data.frame: 5 × 8\n\n| Env &lt;chr&gt; | CV1 &lt;chr&gt; | CV2 &lt;chr&gt; | CV3 &lt;chr&gt; | CV4 &lt;chr&gt; | CV5 &lt;chr&gt; | Mean &lt;dbl&gt; | Env_index &lt;dbl&gt; |\n|---|---|---|---|---|---|---|---|\n| High_inoc    | 30  | 74    | 78    | 86   | 74 |  68.4 |  -7.9 |\n| High_NO_inoc | 150 | 99    | 106   | 92   | 98 | 109.0 |  32.7 |\n| Low_inoc     | 20  | 49    | 56    | 66   | 57 |  49.6 | -26.7 |\n| Low_NO_inoc  | 100 | 73    | 69    | 70   | 79 |  78.2 |   1.9 |\n| Mean         | 75  | 73.75 | 77.25 | 78.5 | 77 |  76.3 |   0.0 |\n\n",
            "text/latex": "A data.frame: 5 × 8\n\\begin{tabular}{llllllll}\n Env & CV1 & CV2 & CV3 & CV4 & CV5 & Mean & Env\\_index\\\\\n <chr> & <chr> & <chr> & <chr> & <chr> & <chr> & <dbl> & <dbl>\\\\\n\\hline\n\t High\\_inoc    & 30  & 74    & 78    & 86   & 74 &  68.4 &  -7.9\\\\\n\t High\\_NO\\_inoc & 150 & 99    & 106   & 92   & 98 & 109.0 &  32.7\\\\\n\t Low\\_inoc     & 20  & 49    & 56    & 66   & 57 &  49.6 & -26.7\\\\\n\t Low\\_NO\\_inoc  & 100 & 73    & 69    & 70   & 79 &  78.2 &   1.9\\\\\n\t Mean         & 75  & 73.75 & 77.25 & 78.5 & 77 &  76.3 &   0.0\\\\\n\\end{tabular}\n",
            "text/plain": [
              "  Env          CV1 CV2   CV3   CV4  CV5 Mean  Env_index\n",
              "1 High_inoc    30  74    78    86   74   68.4  -7.9    \n",
              "2 High_NO_inoc 150 99    106   92   98  109.0  32.7    \n",
              "3 Low_inoc     20  49    56    66   57   49.6 -26.7    \n",
              "4 Low_NO_inoc  100 73    69    70   79   78.2   1.9    \n",
              "5 Mean         75  73.75 77.25 78.5 77   76.3   0.0    "
            ]
          },
          "metadata": {}
        }
      ]
    },
    {
      "cell_type": "code",
      "source": [
        "Data= Data [-5,-7]  # delete 5th row and 7th column\n",
        "Data"
      ],
      "metadata": {
        "colab": {
          "base_uri": "https://localhost:8080/",
          "height": 223
        },
        "id": "fe9X9ngT9NOM",
        "outputId": "be2e3e8a-8403-4df0-bc48-f6c4b52673be"
      },
      "execution_count": 7,
      "outputs": [
        {
          "output_type": "display_data",
          "data": {
            "text/html": [
              "<table class=\"dataframe\">\n",
              "<caption>A data.frame: 4 × 7</caption>\n",
              "<thead>\n",
              "\t<tr><th></th><th scope=col>Env</th><th scope=col>CV1</th><th scope=col>CV2</th><th scope=col>CV3</th><th scope=col>CV4</th><th scope=col>CV5</th><th scope=col>Env_index</th></tr>\n",
              "\t<tr><th></th><th scope=col>&lt;chr&gt;</th><th scope=col>&lt;chr&gt;</th><th scope=col>&lt;chr&gt;</th><th scope=col>&lt;chr&gt;</th><th scope=col>&lt;chr&gt;</th><th scope=col>&lt;chr&gt;</th><th scope=col>&lt;dbl&gt;</th></tr>\n",
              "</thead>\n",
              "<tbody>\n",
              "\t<tr><th scope=row>1</th><td>High_inoc   </td><td>30 </td><td>74</td><td>78 </td><td>86</td><td>74</td><td> -7.9</td></tr>\n",
              "\t<tr><th scope=row>2</th><td>High_NO_inoc</td><td>150</td><td>99</td><td>106</td><td>92</td><td>98</td><td> 32.7</td></tr>\n",
              "\t<tr><th scope=row>3</th><td>Low_inoc    </td><td>20 </td><td>49</td><td>56 </td><td>66</td><td>57</td><td>-26.7</td></tr>\n",
              "\t<tr><th scope=row>4</th><td>Low_NO_inoc </td><td>100</td><td>73</td><td>69 </td><td>70</td><td>79</td><td>  1.9</td></tr>\n",
              "</tbody>\n",
              "</table>\n"
            ],
            "text/markdown": "\nA data.frame: 4 × 7\n\n| <!--/--> | Env &lt;chr&gt; | CV1 &lt;chr&gt; | CV2 &lt;chr&gt; | CV3 &lt;chr&gt; | CV4 &lt;chr&gt; | CV5 &lt;chr&gt; | Env_index &lt;dbl&gt; |\n|---|---|---|---|---|---|---|---|\n| 1 | High_inoc    | 30  | 74 | 78  | 86 | 74 |  -7.9 |\n| 2 | High_NO_inoc | 150 | 99 | 106 | 92 | 98 |  32.7 |\n| 3 | Low_inoc     | 20  | 49 | 56  | 66 | 57 | -26.7 |\n| 4 | Low_NO_inoc  | 100 | 73 | 69  | 70 | 79 |   1.9 |\n\n",
            "text/latex": "A data.frame: 4 × 7\n\\begin{tabular}{r|lllllll}\n  & Env & CV1 & CV2 & CV3 & CV4 & CV5 & Env\\_index\\\\\n  & <chr> & <chr> & <chr> & <chr> & <chr> & <chr> & <dbl>\\\\\n\\hline\n\t1 & High\\_inoc    & 30  & 74 & 78  & 86 & 74 &  -7.9\\\\\n\t2 & High\\_NO\\_inoc & 150 & 99 & 106 & 92 & 98 &  32.7\\\\\n\t3 & Low\\_inoc     & 20  & 49 & 56  & 66 & 57 & -26.7\\\\\n\t4 & Low\\_NO\\_inoc  & 100 & 73 & 69  & 70 & 79 &   1.9\\\\\n\\end{tabular}\n",
            "text/plain": [
              "  Env          CV1 CV2 CV3 CV4 CV5 Env_index\n",
              "1 High_inoc    30  74  78  86  74   -7.9    \n",
              "2 High_NO_inoc 150 99  106 92  98   32.7    \n",
              "3 Low_inoc     20  49  56  66  57  -26.7    \n",
              "4 Low_NO_inoc  100 73  69  70  79    1.9    "
            ]
          },
          "metadata": {}
        }
      ]
    },
    {
      "cell_type": "code",
      "source": [
        "df= data.frame(\n",
        "               Data %>%\n",
        "               pivot_longer(\n",
        "               cols=c(CV1, CV2, CV3, CV4, CV5),\n",
        "               names_to=\"Genotype\", values_to=\"Yield\")\n",
        "               )\n",
        "df"
      ],
      "metadata": {
        "colab": {
          "base_uri": "https://localhost:8080/",
          "height": 725
        },
        "id": "v3QFz3CTbCmL",
        "outputId": "5503f565-3896-4b6d-b187-3b2fb98b021e"
      },
      "execution_count": 13,
      "outputs": [
        {
          "output_type": "display_data",
          "data": {
            "text/html": [
              "<table class=\"dataframe\">\n",
              "<caption>A data.frame: 20 × 4</caption>\n",
              "<thead>\n",
              "\t<tr><th scope=col>Env</th><th scope=col>Env_index</th><th scope=col>Genotype</th><th scope=col>Yield</th></tr>\n",
              "\t<tr><th scope=col>&lt;chr&gt;</th><th scope=col>&lt;dbl&gt;</th><th scope=col>&lt;chr&gt;</th><th scope=col>&lt;chr&gt;</th></tr>\n",
              "</thead>\n",
              "<tbody>\n",
              "\t<tr><td>High_inoc   </td><td> -7.9</td><td>CV1</td><td>30 </td></tr>\n",
              "\t<tr><td>High_inoc   </td><td> -7.9</td><td>CV2</td><td>74 </td></tr>\n",
              "\t<tr><td>High_inoc   </td><td> -7.9</td><td>CV3</td><td>78 </td></tr>\n",
              "\t<tr><td>High_inoc   </td><td> -7.9</td><td>CV4</td><td>86 </td></tr>\n",
              "\t<tr><td>High_inoc   </td><td> -7.9</td><td>CV5</td><td>74 </td></tr>\n",
              "\t<tr><td>High_NO_inoc</td><td> 32.7</td><td>CV1</td><td>150</td></tr>\n",
              "\t<tr><td>High_NO_inoc</td><td> 32.7</td><td>CV2</td><td>99 </td></tr>\n",
              "\t<tr><td>High_NO_inoc</td><td> 32.7</td><td>CV3</td><td>106</td></tr>\n",
              "\t<tr><td>High_NO_inoc</td><td> 32.7</td><td>CV4</td><td>92 </td></tr>\n",
              "\t<tr><td>High_NO_inoc</td><td> 32.7</td><td>CV5</td><td>98 </td></tr>\n",
              "\t<tr><td>Low_inoc    </td><td>-26.7</td><td>CV1</td><td>20 </td></tr>\n",
              "\t<tr><td>Low_inoc    </td><td>-26.7</td><td>CV2</td><td>49 </td></tr>\n",
              "\t<tr><td>Low_inoc    </td><td>-26.7</td><td>CV3</td><td>56 </td></tr>\n",
              "\t<tr><td>Low_inoc    </td><td>-26.7</td><td>CV4</td><td>66 </td></tr>\n",
              "\t<tr><td>Low_inoc    </td><td>-26.7</td><td>CV5</td><td>57 </td></tr>\n",
              "\t<tr><td>Low_NO_inoc </td><td>  1.9</td><td>CV1</td><td>100</td></tr>\n",
              "\t<tr><td>Low_NO_inoc </td><td>  1.9</td><td>CV2</td><td>73 </td></tr>\n",
              "\t<tr><td>Low_NO_inoc </td><td>  1.9</td><td>CV3</td><td>69 </td></tr>\n",
              "\t<tr><td>Low_NO_inoc </td><td>  1.9</td><td>CV4</td><td>70 </td></tr>\n",
              "\t<tr><td>Low_NO_inoc </td><td>  1.9</td><td>CV5</td><td>79 </td></tr>\n",
              "</tbody>\n",
              "</table>\n"
            ],
            "text/markdown": "\nA data.frame: 20 × 4\n\n| Env &lt;chr&gt; | Env_index &lt;dbl&gt; | Genotype &lt;chr&gt; | Yield &lt;chr&gt; |\n|---|---|---|---|\n| High_inoc    |  -7.9 | CV1 | 30  |\n| High_inoc    |  -7.9 | CV2 | 74  |\n| High_inoc    |  -7.9 | CV3 | 78  |\n| High_inoc    |  -7.9 | CV4 | 86  |\n| High_inoc    |  -7.9 | CV5 | 74  |\n| High_NO_inoc |  32.7 | CV1 | 150 |\n| High_NO_inoc |  32.7 | CV2 | 99  |\n| High_NO_inoc |  32.7 | CV3 | 106 |\n| High_NO_inoc |  32.7 | CV4 | 92  |\n| High_NO_inoc |  32.7 | CV5 | 98  |\n| Low_inoc     | -26.7 | CV1 | 20  |\n| Low_inoc     | -26.7 | CV2 | 49  |\n| Low_inoc     | -26.7 | CV3 | 56  |\n| Low_inoc     | -26.7 | CV4 | 66  |\n| Low_inoc     | -26.7 | CV5 | 57  |\n| Low_NO_inoc  |   1.9 | CV1 | 100 |\n| Low_NO_inoc  |   1.9 | CV2 | 73  |\n| Low_NO_inoc  |   1.9 | CV3 | 69  |\n| Low_NO_inoc  |   1.9 | CV4 | 70  |\n| Low_NO_inoc  |   1.9 | CV5 | 79  |\n\n",
            "text/latex": "A data.frame: 20 × 4\n\\begin{tabular}{llll}\n Env & Env\\_index & Genotype & Yield\\\\\n <chr> & <dbl> & <chr> & <chr>\\\\\n\\hline\n\t High\\_inoc    &  -7.9 & CV1 & 30 \\\\\n\t High\\_inoc    &  -7.9 & CV2 & 74 \\\\\n\t High\\_inoc    &  -7.9 & CV3 & 78 \\\\\n\t High\\_inoc    &  -7.9 & CV4 & 86 \\\\\n\t High\\_inoc    &  -7.9 & CV5 & 74 \\\\\n\t High\\_NO\\_inoc &  32.7 & CV1 & 150\\\\\n\t High\\_NO\\_inoc &  32.7 & CV2 & 99 \\\\\n\t High\\_NO\\_inoc &  32.7 & CV3 & 106\\\\\n\t High\\_NO\\_inoc &  32.7 & CV4 & 92 \\\\\n\t High\\_NO\\_inoc &  32.7 & CV5 & 98 \\\\\n\t Low\\_inoc     & -26.7 & CV1 & 20 \\\\\n\t Low\\_inoc     & -26.7 & CV2 & 49 \\\\\n\t Low\\_inoc     & -26.7 & CV3 & 56 \\\\\n\t Low\\_inoc     & -26.7 & CV4 & 66 \\\\\n\t Low\\_inoc     & -26.7 & CV5 & 57 \\\\\n\t Low\\_NO\\_inoc  &   1.9 & CV1 & 100\\\\\n\t Low\\_NO\\_inoc  &   1.9 & CV2 & 73 \\\\\n\t Low\\_NO\\_inoc  &   1.9 & CV3 & 69 \\\\\n\t Low\\_NO\\_inoc  &   1.9 & CV4 & 70 \\\\\n\t Low\\_NO\\_inoc  &   1.9 & CV5 & 79 \\\\\n\\end{tabular}\n",
            "text/plain": [
              "   Env          Env_index Genotype Yield\n",
              "1  High_inoc     -7.9     CV1      30   \n",
              "2  High_inoc     -7.9     CV2      74   \n",
              "3  High_inoc     -7.9     CV3      78   \n",
              "4  High_inoc     -7.9     CV4      86   \n",
              "5  High_inoc     -7.9     CV5      74   \n",
              "6  High_NO_inoc  32.7     CV1      150  \n",
              "7  High_NO_inoc  32.7     CV2      99   \n",
              "8  High_NO_inoc  32.7     CV3      106  \n",
              "9  High_NO_inoc  32.7     CV4      92   \n",
              "10 High_NO_inoc  32.7     CV5      98   \n",
              "11 Low_inoc     -26.7     CV1      20   \n",
              "12 Low_inoc     -26.7     CV2      49   \n",
              "13 Low_inoc     -26.7     CV3      56   \n",
              "14 Low_inoc     -26.7     CV4      66   \n",
              "15 Low_inoc     -26.7     CV5      57   \n",
              "16 Low_NO_inoc    1.9     CV1      100  \n",
              "17 Low_NO_inoc    1.9     CV2      73   \n",
              "18 Low_NO_inoc    1.9     CV3      69   \n",
              "19 Low_NO_inoc    1.9     CV4      70   \n",
              "20 Low_NO_inoc    1.9     CV5      79   "
            ]
          },
          "metadata": {}
        }
      ]
    },
    {
      "cell_type": "code",
      "source": [
        "summary(lm (Yield ~ Env_index, data=df %>% filter (Genotype==\"CV1\")))\n",
        "summary(lm (Yield ~ Env_index, data=df %>% filter (Genotype==\"CV2\")))\n",
        "summary(lm (Yield ~ Env_index, data=df %>% filter (Genotype==\"CV3\")))\n",
        "summary(lm (Yield ~ Env_index, data=df %>% filter (Genotype==\"CV4\")))\n",
        "summary(lm (Yield ~ Env_index, data=df %>% filter (Genotype==\"CV5\")))"
      ],
      "metadata": {
        "colab": {
          "base_uri": "https://localhost:8080/",
          "height": 1000
        },
        "id": "W_ChJQ2DdqqQ",
        "outputId": "e8ce02f9-5847-4fde-b641-6c80424a423e"
      },
      "execution_count": 15,
      "outputs": [
        {
          "output_type": "display_data",
          "data": {
            "text/plain": [
              "\n",
              "Call:\n",
              "lm(formula = Yield ~ Env_index, data = df %>% filter(Genotype == \n",
              "    \"CV1\"))\n",
              "\n",
              "Residuals:\n",
              "      1       2       3       4 \n",
              "-26.517  -1.504   7.467  20.555 \n",
              "\n",
              "Coefficients:\n",
              "            Estimate Std. Error t value Pr(>|t|)  \n",
              "(Intercept)  75.0000    12.1639   6.166   0.0253 *\n",
              "Env_index     2.3396     0.5659   4.134   0.0538 .\n",
              "---\n",
              "Signif. codes:  0 ‘***’ 0.001 ‘**’ 0.01 ‘*’ 0.05 ‘.’ 0.1 ‘ ’ 1\n",
              "\n",
              "Residual standard error: 24.33 on 2 degrees of freedom\n",
              "Multiple R-squared:  0.8952,\tAdjusted R-squared:  0.8429 \n",
              "F-statistic: 17.09 on 1 and 2 DF,  p-value: 0.05382\n"
            ]
          },
          "metadata": {}
        },
        {
          "output_type": "display_data",
          "data": {
            "text/plain": [
              "\n",
              "Call:\n",
              "lm(formula = Yield ~ Env_index, data = df %>% filter(Genotype == \n",
              "    \"CV2\"))\n",
              "\n",
              "Residuals:\n",
              "      1       2       3       4 \n",
              " 6.5894 -0.9903 -3.3244 -2.2747 \n",
              "\n",
              "Coefficients:\n",
              "            Estimate Std. Error t value Pr(>|t|)   \n",
              "(Intercept)  73.7500     2.7529  26.790  0.00139 **\n",
              "Env_index     0.8025     0.1281   6.266  0.02454 * \n",
              "---\n",
              "Signif. codes:  0 ‘***’ 0.001 ‘**’ 0.01 ‘*’ 0.05 ‘.’ 0.1 ‘ ’ 1\n",
              "\n",
              "Residual standard error: 5.506 on 2 degrees of freedom\n",
              "Multiple R-squared:  0.9515,\tAdjusted R-squared:  0.9273 \n",
              "F-statistic: 39.26 on 1 and 2 DF,  p-value: 0.02454\n"
            ]
          },
          "metadata": {}
        },
        {
          "output_type": "display_data",
          "data": {
            "text/plain": [
              "\n",
              "Call:\n",
              "lm(formula = Yield ~ Env_index, data = df %>% filter(Genotype == \n",
              "    \"CV3\"))\n",
              "\n",
              "Residuals:\n",
              "     1      2      3      4 \n",
              " 7.101  2.460  0.216 -9.778 \n",
              "\n",
              "Coefficients:\n",
              "            Estimate Std. Error t value Pr(>|t|)   \n",
              "(Intercept)  77.2500     4.3607  17.715  0.00317 **\n",
              "Env_index     0.8040     0.2029   3.963  0.05817 . \n",
              "---\n",
              "Signif. codes:  0 ‘***’ 0.001 ‘**’ 0.01 ‘*’ 0.05 ‘.’ 0.1 ‘ ’ 1\n",
              "\n",
              "Residual standard error: 8.721 on 2 degrees of freedom\n",
              "Multiple R-squared:  0.887,\tAdjusted R-squared:  0.8306 \n",
              "F-statistic: 15.71 on 1 and 2 DF,  p-value: 0.05817\n"
            ]
          },
          "metadata": {}
        },
        {
          "output_type": "display_data",
          "data": {
            "text/plain": [
              "\n",
              "Call:\n",
              "lm(formula = Yield ~ Env_index, data = df %>% filter(Genotype == \n",
              "    \"CV4\"))\n",
              "\n",
              "Residuals:\n",
              "     1      2      3      4 \n",
              "10.491  1.119 -2.390 -9.219 \n",
              "\n",
              "Coefficients:\n",
              "            Estimate Std. Error t value Pr(>|t|)   \n",
              "(Intercept)  78.5000     5.0253   15.62  0.00407 **\n",
              "Env_index     0.3786     0.2338    1.62  0.24675   \n",
              "---\n",
              "Signif. codes:  0 ‘***’ 0.001 ‘**’ 0.01 ‘*’ 0.05 ‘.’ 0.1 ‘ ’ 1\n",
              "\n",
              "Residual standard error: 10.05 on 2 degrees of freedom\n",
              "Multiple R-squared:  0.5674,\tAdjusted R-squared:  0.3511 \n",
              "F-statistic: 2.623 on 1 and 2 DF,  p-value: 0.2467\n"
            ]
          },
          "metadata": {}
        },
        {
          "output_type": "display_data",
          "data": {
            "text/plain": [
              "\n",
              "Call:\n",
              "lm(formula = Yield ~ Env_index, data = df %>% filter(Genotype == \n",
              "    \"CV5\"))\n",
              "\n",
              "Residuals:\n",
              "      1       2       3       4 \n",
              " 2.3353 -1.0843 -1.9679  0.7168 \n",
              "\n",
              "Coefficients:\n",
              "            Estimate Std. Error t value Pr(>|t|)    \n",
              "(Intercept) 77.00000    1.17345   65.62 0.000232 ***\n",
              "Env_index    0.67536    0.05459   12.37 0.006471 ** \n",
              "---\n",
              "Signif. codes:  0 ‘***’ 0.001 ‘**’ 0.01 ‘*’ 0.05 ‘.’ 0.1 ‘ ’ 1\n",
              "\n",
              "Residual standard error: 2.347 on 2 degrees of freedom\n",
              "Multiple R-squared:  0.9871,\tAdjusted R-squared:  0.9807 \n",
              "F-statistic:   153 on 1 and 2 DF,  p-value: 0.006471\n"
            ]
          },
          "metadata": {}
        }
      ]
    },
    {
      "cell_type": "code",
      "source": [
        "regression= df%>% group_by(Genotype) %>% do(model= lm(Yield~Env_index, data=.))\n",
        "regression$model"
      ],
      "metadata": {
        "colab": {
          "base_uri": "https://localhost:8080/",
          "height": 867
        },
        "id": "4F9ivr3Fd0Ro",
        "outputId": "8f2e52e7-1535-4f20-e591-dd1ed923e528"
      },
      "execution_count": 17,
      "outputs": [
        {
          "output_type": "display_data",
          "data": {
            "text/plain": [
              "[[1]]\n",
              "\n",
              "Call:\n",
              "lm(formula = Yield ~ Env_index, data = .)\n",
              "\n",
              "Coefficients:\n",
              "(Intercept)    Env_index  \n",
              "      75.00         2.34  \n",
              "\n",
              "\n",
              "[[2]]\n",
              "\n",
              "Call:\n",
              "lm(formula = Yield ~ Env_index, data = .)\n",
              "\n",
              "Coefficients:\n",
              "(Intercept)    Env_index  \n",
              "    73.7500       0.8025  \n",
              "\n",
              "\n",
              "[[3]]\n",
              "\n",
              "Call:\n",
              "lm(formula = Yield ~ Env_index, data = .)\n",
              "\n",
              "Coefficients:\n",
              "(Intercept)    Env_index  \n",
              "     77.250        0.804  \n",
              "\n",
              "\n",
              "[[4]]\n",
              "\n",
              "Call:\n",
              "lm(formula = Yield ~ Env_index, data = .)\n",
              "\n",
              "Coefficients:\n",
              "(Intercept)    Env_index  \n",
              "    78.5000       0.3786  \n",
              "\n",
              "\n",
              "[[5]]\n",
              "\n",
              "Call:\n",
              "lm(formula = Yield ~ Env_index, data = .)\n",
              "\n",
              "Coefficients:\n",
              "(Intercept)    Env_index  \n",
              "    77.0000       0.6754  \n",
              "\n"
            ]
          },
          "metadata": {}
        }
      ]
    },
    {
      "cell_type": "code",
      "source": [
        "library(broom)\n",
        "regression1= df %>% group_by(Genotype) %>% do(tidy(lm(Yield ~ Env_index, data=.)))\n",
        "regression1"
      ],
      "metadata": {
        "colab": {
          "base_uri": "https://localhost:8080/",
          "height": 411
        },
        "id": "0YmyDOOjeGmS",
        "outputId": "23f20fc6-a126-47c5-e58a-65f980641e70"
      },
      "execution_count": 19,
      "outputs": [
        {
          "output_type": "display_data",
          "data": {
            "text/html": [
              "<table class=\"dataframe\">\n",
              "<caption>A grouped_df: 10 × 6</caption>\n",
              "<thead>\n",
              "\t<tr><th scope=col>Genotype</th><th scope=col>term</th><th scope=col>estimate</th><th scope=col>std.error</th><th scope=col>statistic</th><th scope=col>p.value</th></tr>\n",
              "\t<tr><th scope=col>&lt;chr&gt;</th><th scope=col>&lt;chr&gt;</th><th scope=col>&lt;dbl&gt;</th><th scope=col>&lt;dbl&gt;</th><th scope=col>&lt;dbl&gt;</th><th scope=col>&lt;dbl&gt;</th></tr>\n",
              "</thead>\n",
              "<tbody>\n",
              "\t<tr><td>CV1</td><td>(Intercept)</td><td>75.0000000</td><td>12.1638994</td><td> 6.165786</td><td>0.025309723</td></tr>\n",
              "\t<tr><td>CV1</td><td>Env_index  </td><td> 2.3395736</td><td> 0.5658852</td><td> 4.134361</td><td>0.053823885</td></tr>\n",
              "\t<tr><td>CV2</td><td>(Intercept)</td><td>73.7500000</td><td> 2.7528814</td><td>26.790112</td><td>0.001390415</td></tr>\n",
              "\t<tr><td>CV2</td><td>Env_index  </td><td> 0.8024564</td><td> 0.1280687</td><td> 6.265828</td><td>0.024537235</td></tr>\n",
              "\t<tr><td>CV3</td><td>(Intercept)</td><td>77.2500000</td><td> 4.3607461</td><td>17.714859</td><td>0.003171427</td></tr>\n",
              "\t<tr><td>CV3</td><td>Env_index  </td><td> 0.8039714</td><td> 0.2028693</td><td> 3.963002</td><td>0.058171978</td></tr>\n",
              "\t<tr><td>CV4</td><td>(Intercept)</td><td>78.5000000</td><td> 5.0252942</td><td>15.620976</td><td>0.004073090</td></tr>\n",
              "\t<tr><td>CV4</td><td>Env_index  </td><td> 0.3786387</td><td> 0.2337852</td><td> 1.619601</td><td>0.246746749</td></tr>\n",
              "\t<tr><td>CV5</td><td>(Intercept)</td><td>77.0000000</td><td> 1.1734503</td><td>65.618456</td><td>0.000232165</td></tr>\n",
              "\t<tr><td>CV5</td><td>Env_index  </td><td> 0.6753598</td><td> 0.0545909</td><td>12.371290</td><td>0.006470516</td></tr>\n",
              "</tbody>\n",
              "</table>\n"
            ],
            "text/markdown": "\nA grouped_df: 10 × 6\n\n| Genotype &lt;chr&gt; | term &lt;chr&gt; | estimate &lt;dbl&gt; | std.error &lt;dbl&gt; | statistic &lt;dbl&gt; | p.value &lt;dbl&gt; |\n|---|---|---|---|---|---|\n| CV1 | (Intercept) | 75.0000000 | 12.1638994 |  6.165786 | 0.025309723 |\n| CV1 | Env_index   |  2.3395736 |  0.5658852 |  4.134361 | 0.053823885 |\n| CV2 | (Intercept) | 73.7500000 |  2.7528814 | 26.790112 | 0.001390415 |\n| CV2 | Env_index   |  0.8024564 |  0.1280687 |  6.265828 | 0.024537235 |\n| CV3 | (Intercept) | 77.2500000 |  4.3607461 | 17.714859 | 0.003171427 |\n| CV3 | Env_index   |  0.8039714 |  0.2028693 |  3.963002 | 0.058171978 |\n| CV4 | (Intercept) | 78.5000000 |  5.0252942 | 15.620976 | 0.004073090 |\n| CV4 | Env_index   |  0.3786387 |  0.2337852 |  1.619601 | 0.246746749 |\n| CV5 | (Intercept) | 77.0000000 |  1.1734503 | 65.618456 | 0.000232165 |\n| CV5 | Env_index   |  0.6753598 |  0.0545909 | 12.371290 | 0.006470516 |\n\n",
            "text/latex": "A grouped\\_df: 10 × 6\n\\begin{tabular}{llllll}\n Genotype & term & estimate & std.error & statistic & p.value\\\\\n <chr> & <chr> & <dbl> & <dbl> & <dbl> & <dbl>\\\\\n\\hline\n\t CV1 & (Intercept) & 75.0000000 & 12.1638994 &  6.165786 & 0.025309723\\\\\n\t CV1 & Env\\_index   &  2.3395736 &  0.5658852 &  4.134361 & 0.053823885\\\\\n\t CV2 & (Intercept) & 73.7500000 &  2.7528814 & 26.790112 & 0.001390415\\\\\n\t CV2 & Env\\_index   &  0.8024564 &  0.1280687 &  6.265828 & 0.024537235\\\\\n\t CV3 & (Intercept) & 77.2500000 &  4.3607461 & 17.714859 & 0.003171427\\\\\n\t CV3 & Env\\_index   &  0.8039714 &  0.2028693 &  3.963002 & 0.058171978\\\\\n\t CV4 & (Intercept) & 78.5000000 &  5.0252942 & 15.620976 & 0.004073090\\\\\n\t CV4 & Env\\_index   &  0.3786387 &  0.2337852 &  1.619601 & 0.246746749\\\\\n\t CV5 & (Intercept) & 77.0000000 &  1.1734503 & 65.618456 & 0.000232165\\\\\n\t CV5 & Env\\_index   &  0.6753598 &  0.0545909 & 12.371290 & 0.006470516\\\\\n\\end{tabular}\n",
            "text/plain": [
              "   Genotype term        estimate   std.error  statistic p.value    \n",
              "1  CV1      (Intercept) 75.0000000 12.1638994  6.165786 0.025309723\n",
              "2  CV1      Env_index    2.3395736  0.5658852  4.134361 0.053823885\n",
              "3  CV2      (Intercept) 73.7500000  2.7528814 26.790112 0.001390415\n",
              "4  CV2      Env_index    0.8024564  0.1280687  6.265828 0.024537235\n",
              "5  CV3      (Intercept) 77.2500000  4.3607461 17.714859 0.003171427\n",
              "6  CV3      Env_index    0.8039714  0.2028693  3.963002 0.058171978\n",
              "7  CV4      (Intercept) 78.5000000  5.0252942 15.620976 0.004073090\n",
              "8  CV4      Env_index    0.3786387  0.2337852  1.619601 0.246746749\n",
              "9  CV5      (Intercept) 77.0000000  1.1734503 65.618456 0.000232165\n",
              "10 CV5      Env_index    0.6753598  0.0545909 12.371290 0.006470516"
            ]
          },
          "metadata": {}
        }
      ]
    },
    {
      "cell_type": "code",
      "source": [
        "ggplot(data=df, aes(x=as.numeric(Env_index), y=as.numeric(Yield), group=Genotype)) +\n",
        "  geom_smooth(method = lm, level=0.95, se=FALSE, linetype=1, color=\"Dark red\", linewidth=0.5, formula= y ~ x) +\n",
        "  geom_point (aes(shape=Genotype, fill=Genotype), col=\"Black\", size=5, stroke = 0.5) +\n",
        "  scale_shape_manual(values = c(21, 22, 23, 24, 25)) +\n",
        "  scale_fill_manual(values = c(\"Black\",\"Red\",'Blue',\"Orange\",\"Green\")) +\n",
        "  scale_x_continuous(breaks = seq(-40,40,10), limits = c(-40,40)) +\n",
        "  scale_y_continuous(breaks = seq(0,200,20), limits = c(0,200)) +\n",
        "  labs(x=\"Environmental Index\", y=\"Yield\") +\n",
        "  theme_classic(base_size=18, base_family=\"serif\")+\n",
        "  theme(legend.position=c(0.89,0.17),\n",
        "        legend.title=element_blank(),\n",
        "        legend.key=element_rect(color=\"white\", fill=\"white\"),\n",
        "        legend.text=element_text(family=\"serif\", face=\"plain\",\n",
        "                                 size=15, color= \"Black\"),\n",
        "        legend.background=element_rect(fill=\"white\"),\n",
        "        axis.line=element_line(linewidth=0.5, colour=\"black\"))"
      ],
      "metadata": {
        "colab": {
          "base_uri": "https://localhost:8080/",
          "height": 437
        },
        "id": "onqIqnbHeGdE",
        "outputId": "19ec7f44-86c3-4f09-bc2e-46c4753a2989"
      },
      "execution_count": 25,
      "outputs": [
        {
          "output_type": "display_data",
          "data": {
            "text/plain": [
              "plot without title"
            ],
            "image/png": "[encoded data removed]"
          },
          "metadata": {
            "image/png": {
              "width": 420,
              "height": 420
            }
          }
        }
      ]
    }
  ]
}
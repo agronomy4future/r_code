{
  "nbformat": 4,
  "nbformat_minor": 0,
  "metadata": {
    "colab": {
      "provenance": [],
      "authorship_tag": "ABX9TyPpHuPFxMWPkH/LU5eyE4Am"
    },
    "kernelspec": {
      "name": "ir",
      "display_name": "R"
    },
    "language_info": {
      "name": "R"
    }
  },
  "cells": [
    {
      "cell_type": "markdown",
      "source": [
        "# required packages"
      ],
      "metadata": {
        "id": "yoyKfEIIU2Zz"
      }
    },
    {
      "cell_type": "code",
      "execution_count": 2,
      "metadata": {
        "id": "XSMBxtv2Uv-3"
      },
      "outputs": [],
      "source": [
        "library(readr)\n",
        "library(tidyr)\n",
        "library(dplyr)\n",
        "library(tidyverse)\n",
        "library(lubridate)\n",
        "library(ggplot2)"
      ]
    },
    {
      "cell_type": "markdown",
      "source": [
        "# data upload"
      ],
      "metadata": {
        "id": "y5kHcsUOVKWm"
      }
    },
    {
      "cell_type": "code",
      "source": [
        "github=\"https://raw.githubusercontent.com/agronomy4future/raw_data_practice/main/day_length_data.csv\"\n",
        "dataA= data.frame(read_csv(url(github), show_col_types=FALSE))\n",
        "head (dataA, 10)"
      ],
      "metadata": {
        "colab": {
          "base_uri": "https://localhost:8080/",
          "height": 411
        },
        "id": "jE6U7YohVHsQ",
        "outputId": "840d3231-1466-4cb1-e213-03991b595354"
      },
      "execution_count": 3,
      "outputs": [
        {
          "output_type": "display_data",
          "data": {
            "text/html": [
              "<table class=\"dataframe\">\n",
              "<caption>A data.frame: 10 × 13</caption>\n",
              "<thead>\n",
              "\t<tr><th></th><th scope=col>Day</th><th scope=col>Jan</th><th scope=col>Feb</th><th scope=col>Mar</th><th scope=col>Apr</th><th scope=col>May</th><th scope=col>June</th><th scope=col>July</th><th scope=col>Aug</th><th scope=col>Sep</th><th scope=col>Oct</th><th scope=col>Nov</th><th scope=col>Dec</th></tr>\n",
              "\t<tr><th></th><th scope=col>&lt;dbl&gt;</th><th scope=col>&lt;time&gt;</th><th scope=col>&lt;time&gt;</th><th scope=col>&lt;time&gt;</th><th scope=col>&lt;time&gt;</th><th scope=col>&lt;time&gt;</th><th scope=col>&lt;time&gt;</th><th scope=col>&lt;time&gt;</th><th scope=col>&lt;time&gt;</th><th scope=col>&lt;time&gt;</th><th scope=col>&lt;time&gt;</th><th scope=col>&lt;time&gt;</th><th scope=col>&lt;time&gt;</th></tr>\n",
              "</thead>\n",
              "<tbody>\n",
              "\t<tr><th scope=row>1</th><td> 1</td><td>09:23:00</td><td>10:10:00</td><td>11:18:00</td><td>12:40:00</td><td>13:55:00</td><td>14:50:00</td><td>14:59:00</td><td>14:16:00</td><td>13:04:00</td><td>11:46:00</td><td>10:28:00</td><td>09:32:00</td></tr>\n",
              "\t<tr><th scope=row>2</th><td> 2</td><td>09:24:00</td><td>10:12:00</td><td>11:21:00</td><td>12:43:00</td><td>13:57:00</td><td>14:51:00</td><td>14:58:00</td><td>14:14:00</td><td>13:02:00</td><td>11:44:00</td><td>10:26:00</td><td>09:31:00</td></tr>\n",
              "\t<tr><th scope=row>3</th><td> 3</td><td>09:24:00</td><td>10:14:00</td><td>11:23:00</td><td>12:45:00</td><td>13:59:00</td><td>14:52:00</td><td>14:57:00</td><td>14:12:00</td><td>12:59:00</td><td>11:41:00</td><td>10:24:00</td><td>09:30:00</td></tr>\n",
              "\t<tr><th scope=row>4</th><td> 4</td><td>09:25:00</td><td>10:16:00</td><td>11:26:00</td><td>12:48:00</td><td>14:01:00</td><td>14:53:00</td><td>14:57:00</td><td>14:10:00</td><td>12:57:00</td><td>11:39:00</td><td>10:22:00</td><td>09:29:00</td></tr>\n",
              "\t<tr><th scope=row>5</th><td> 5</td><td>09:26:00</td><td>10:19:00</td><td>11:28:00</td><td>12:50:00</td><td>14:04:00</td><td>14:54:00</td><td>14:56:00</td><td>14:08:00</td><td>12:54:00</td><td>11:36:00</td><td>10:19:00</td><td>09:28:00</td></tr>\n",
              "\t<tr><th scope=row>6</th><td> 6</td><td>09:27:00</td><td>10:21:00</td><td>11:31:00</td><td>12:53:00</td><td>14:06:00</td><td>14:55:00</td><td>14:55:00</td><td>14:06:00</td><td>12:52:00</td><td>11:33:00</td><td>10:17:00</td><td>09:27:00</td></tr>\n",
              "\t<tr><th scope=row>7</th><td> 7</td><td>09:28:00</td><td>10:23:00</td><td>11:34:00</td><td>12:56:00</td><td>14:08:00</td><td>14:56:00</td><td>14:54:00</td><td>14:04:00</td><td>12:49:00</td><td>11:31:00</td><td>10:15:00</td><td>09:26:00</td></tr>\n",
              "\t<tr><th scope=row>8</th><td> 8</td><td>09:29:00</td><td>10:26:00</td><td>11:36:00</td><td>12:58:00</td><td>14:10:00</td><td>14:57:00</td><td>14:53:00</td><td>14:02:00</td><td>12:46:00</td><td>11:28:00</td><td>10:13:00</td><td>09:25:00</td></tr>\n",
              "\t<tr><th scope=row>9</th><td> 9</td><td>09:30:00</td><td>10:28:00</td><td>11:39:00</td><td>13:01:00</td><td>14:12:00</td><td>14:57:00</td><td>14:52:00</td><td>13:59:00</td><td>12:44:00</td><td>11:26:00</td><td>10:11:00</td><td>09:24:00</td></tr>\n",
              "\t<tr><th scope=row>10</th><td>10</td><td>09:32:00</td><td>10:30:00</td><td>11:42:00</td><td>13:03:00</td><td>14:14:00</td><td>14:58:00</td><td>14:51:00</td><td>13:57:00</td><td>12:41:00</td><td>11:23:00</td><td>10:08:00</td><td>09:23:00</td></tr>\n",
              "</tbody>\n",
              "</table>\n"
            ],
            "text/markdown": "\nA data.frame: 10 × 13\n\n| <!--/--> | Day &lt;dbl&gt; | Jan &lt;time&gt; | Feb &lt;time&gt; | Mar &lt;time&gt; | Apr &lt;time&gt; | May &lt;time&gt; | June &lt;time&gt; | July &lt;time&gt; | Aug &lt;time&gt; | Sep &lt;time&gt; | Oct &lt;time&gt; | Nov &lt;time&gt; | Dec &lt;time&gt; |\n|---|---|---|---|---|---|---|---|---|---|---|---|---|---|\n| 1 |  1 | 09:23:00 | 10:10:00 | 11:18:00 | 12:40:00 | 13:55:00 | 14:50:00 | 14:59:00 | 14:16:00 | 13:04:00 | 11:46:00 | 10:28:00 | 09:32:00 |\n| 2 |  2 | 09:24:00 | 10:12:00 | 11:21:00 | 12:43:00 | 13:57:00 | 14:51:00 | 14:58:00 | 14:14:00 | 13:02:00 | 11:44:00 | 10:26:00 | 09:31:00 |\n| 3 |  3 | 09:24:00 | 10:14:00 | 11:23:00 | 12:45:00 | 13:59:00 | 14:52:00 | 14:57:00 | 14:12:00 | 12:59:00 | 11:41:00 | 10:24:00 | 09:30:00 |\n| 4 |  4 | 09:25:00 | 10:16:00 | 11:26:00 | 12:48:00 | 14:01:00 | 14:53:00 | 14:57:00 | 14:10:00 | 12:57:00 | 11:39:00 | 10:22:00 | 09:29:00 |\n| 5 |  5 | 09:26:00 | 10:19:00 | 11:28:00 | 12:50:00 | 14:04:00 | 14:54:00 | 14:56:00 | 14:08:00 | 12:54:00 | 11:36:00 | 10:19:00 | 09:28:00 |\n| 6 |  6 | 09:27:00 | 10:21:00 | 11:31:00 | 12:53:00 | 14:06:00 | 14:55:00 | 14:55:00 | 14:06:00 | 12:52:00 | 11:33:00 | 10:17:00 | 09:27:00 |\n| 7 |  7 | 09:28:00 | 10:23:00 | 11:34:00 | 12:56:00 | 14:08:00 | 14:56:00 | 14:54:00 | 14:04:00 | 12:49:00 | 11:31:00 | 10:15:00 | 09:26:00 |\n| 8 |  8 | 09:29:00 | 10:26:00 | 11:36:00 | 12:58:00 | 14:10:00 | 14:57:00 | 14:53:00 | 14:02:00 | 12:46:00 | 11:28:00 | 10:13:00 | 09:25:00 |\n| 9 |  9 | 09:30:00 | 10:28:00 | 11:39:00 | 13:01:00 | 14:12:00 | 14:57:00 | 14:52:00 | 13:59:00 | 12:44:00 | 11:26:00 | 10:11:00 | 09:24:00 |\n| 10 | 10 | 09:32:00 | 10:30:00 | 11:42:00 | 13:03:00 | 14:14:00 | 14:58:00 | 14:51:00 | 13:57:00 | 12:41:00 | 11:23:00 | 10:08:00 | 09:23:00 |\n\n",
            "text/latex": "A data.frame: 10 × 13\n\\begin{tabular}{r|lllllllllllll}\n  & Day & Jan & Feb & Mar & Apr & May & June & July & Aug & Sep & Oct & Nov & Dec\\\\\n  & <dbl> & <time> & <time> & <time> & <time> & <time> & <time> & <time> & <time> & <time> & <time> & <time> & <time>\\\\\n\\hline\n\t1 &  1 & 09:23:00 & 10:10:00 & 11:18:00 & 12:40:00 & 13:55:00 & 14:50:00 & 14:59:00 & 14:16:00 & 13:04:00 & 11:46:00 & 10:28:00 & 09:32:00\\\\\n\t2 &  2 & 09:24:00 & 10:12:00 & 11:21:00 & 12:43:00 & 13:57:00 & 14:51:00 & 14:58:00 & 14:14:00 & 13:02:00 & 11:44:00 & 10:26:00 & 09:31:00\\\\\n\t3 &  3 & 09:24:00 & 10:14:00 & 11:23:00 & 12:45:00 & 13:59:00 & 14:52:00 & 14:57:00 & 14:12:00 & 12:59:00 & 11:41:00 & 10:24:00 & 09:30:00\\\\\n\t4 &  4 & 09:25:00 & 10:16:00 & 11:26:00 & 12:48:00 & 14:01:00 & 14:53:00 & 14:57:00 & 14:10:00 & 12:57:00 & 11:39:00 & 10:22:00 & 09:29:00\\\\\n\t5 &  5 & 09:26:00 & 10:19:00 & 11:28:00 & 12:50:00 & 14:04:00 & 14:54:00 & 14:56:00 & 14:08:00 & 12:54:00 & 11:36:00 & 10:19:00 & 09:28:00\\\\\n\t6 &  6 & 09:27:00 & 10:21:00 & 11:31:00 & 12:53:00 & 14:06:00 & 14:55:00 & 14:55:00 & 14:06:00 & 12:52:00 & 11:33:00 & 10:17:00 & 09:27:00\\\\\n\t7 &  7 & 09:28:00 & 10:23:00 & 11:34:00 & 12:56:00 & 14:08:00 & 14:56:00 & 14:54:00 & 14:04:00 & 12:49:00 & 11:31:00 & 10:15:00 & 09:26:00\\\\\n\t8 &  8 & 09:29:00 & 10:26:00 & 11:36:00 & 12:58:00 & 14:10:00 & 14:57:00 & 14:53:00 & 14:02:00 & 12:46:00 & 11:28:00 & 10:13:00 & 09:25:00\\\\\n\t9 &  9 & 09:30:00 & 10:28:00 & 11:39:00 & 13:01:00 & 14:12:00 & 14:57:00 & 14:52:00 & 13:59:00 & 12:44:00 & 11:26:00 & 10:11:00 & 09:24:00\\\\\n\t10 & 10 & 09:32:00 & 10:30:00 & 11:42:00 & 13:03:00 & 14:14:00 & 14:58:00 & 14:51:00 & 13:57:00 & 12:41:00 & 11:23:00 & 10:08:00 & 09:23:00\\\\\n\\end{tabular}\n",
            "text/plain": [
              "   Day Jan      Feb      Mar      Apr      May      June     July     Aug     \n",
              "1   1  09:23:00 10:10:00 11:18:00 12:40:00 13:55:00 14:50:00 14:59:00 14:16:00\n",
              "2   2  09:24:00 10:12:00 11:21:00 12:43:00 13:57:00 14:51:00 14:58:00 14:14:00\n",
              "3   3  09:24:00 10:14:00 11:23:00 12:45:00 13:59:00 14:52:00 14:57:00 14:12:00\n",
              "4   4  09:25:00 10:16:00 11:26:00 12:48:00 14:01:00 14:53:00 14:57:00 14:10:00\n",
              "5   5  09:26:00 10:19:00 11:28:00 12:50:00 14:04:00 14:54:00 14:56:00 14:08:00\n",
              "6   6  09:27:00 10:21:00 11:31:00 12:53:00 14:06:00 14:55:00 14:55:00 14:06:00\n",
              "7   7  09:28:00 10:23:00 11:34:00 12:56:00 14:08:00 14:56:00 14:54:00 14:04:00\n",
              "8   8  09:29:00 10:26:00 11:36:00 12:58:00 14:10:00 14:57:00 14:53:00 14:02:00\n",
              "9   9  09:30:00 10:28:00 11:39:00 13:01:00 14:12:00 14:57:00 14:52:00 13:59:00\n",
              "10 10  09:32:00 10:30:00 11:42:00 13:03:00 14:14:00 14:58:00 14:51:00 13:57:00\n",
              "   Sep      Oct      Nov      Dec     \n",
              "1  13:04:00 11:46:00 10:28:00 09:32:00\n",
              "2  13:02:00 11:44:00 10:26:00 09:31:00\n",
              "3  12:59:00 11:41:00 10:24:00 09:30:00\n",
              "4  12:57:00 11:39:00 10:22:00 09:29:00\n",
              "5  12:54:00 11:36:00 10:19:00 09:28:00\n",
              "6  12:52:00 11:33:00 10:17:00 09:27:00\n",
              "7  12:49:00 11:31:00 10:15:00 09:26:00\n",
              "8  12:46:00 11:28:00 10:13:00 09:25:00\n",
              "9  12:44:00 11:26:00 10:11:00 09:24:00\n",
              "10 12:41:00 11:23:00 10:08:00 09:23:00"
            ]
          },
          "metadata": {}
        }
      ]
    },
    {
      "cell_type": "markdown",
      "source": [
        "# transpose column to row"
      ],
      "metadata": {
        "id": "vCEPbJJEVOWq"
      }
    },
    {
      "cell_type": "code",
      "source": [
        "dataB= data.frame(dataA %>%\n",
        "                  pivot_longer(\n",
        "                  cols= c(Jan,Feb,Mar,Apr,May,June,July,Aug,Sep,Oct,Nov,Dec),\n",
        "                  names_to=\"month\",\n",
        "                  values_to=\"day_length\"))\n",
        "\n",
        "head (dataB, 10)"
      ],
      "metadata": {
        "colab": {
          "base_uri": "https://localhost:8080/",
          "height": 411
        },
        "id": "X301t_A4VSeW",
        "outputId": "03fcbf0a-6f91-4516-f6f3-9845d9a8aa97"
      },
      "execution_count": 4,
      "outputs": [
        {
          "output_type": "display_data",
          "data": {
            "text/html": [
              "<table class=\"dataframe\">\n",
              "<caption>A data.frame: 10 × 3</caption>\n",
              "<thead>\n",
              "\t<tr><th></th><th scope=col>Day</th><th scope=col>month</th><th scope=col>day_length</th></tr>\n",
              "\t<tr><th></th><th scope=col>&lt;dbl&gt;</th><th scope=col>&lt;chr&gt;</th><th scope=col>&lt;time&gt;</th></tr>\n",
              "</thead>\n",
              "<tbody>\n",
              "\t<tr><th scope=row>1</th><td>1</td><td>Jan </td><td>09:23:00</td></tr>\n",
              "\t<tr><th scope=row>2</th><td>1</td><td>Feb </td><td>10:10:00</td></tr>\n",
              "\t<tr><th scope=row>3</th><td>1</td><td>Mar </td><td>11:18:00</td></tr>\n",
              "\t<tr><th scope=row>4</th><td>1</td><td>Apr </td><td>12:40:00</td></tr>\n",
              "\t<tr><th scope=row>5</th><td>1</td><td>May </td><td>13:55:00</td></tr>\n",
              "\t<tr><th scope=row>6</th><td>1</td><td>June</td><td>14:50:00</td></tr>\n",
              "\t<tr><th scope=row>7</th><td>1</td><td>July</td><td>14:59:00</td></tr>\n",
              "\t<tr><th scope=row>8</th><td>1</td><td>Aug </td><td>14:16:00</td></tr>\n",
              "\t<tr><th scope=row>9</th><td>1</td><td>Sep </td><td>13:04:00</td></tr>\n",
              "\t<tr><th scope=row>10</th><td>1</td><td>Oct </td><td>11:46:00</td></tr>\n",
              "</tbody>\n",
              "</table>\n"
            ],
            "text/markdown": "\nA data.frame: 10 × 3\n\n| <!--/--> | Day &lt;dbl&gt; | month &lt;chr&gt; | day_length &lt;time&gt; |\n|---|---|---|---|\n| 1 | 1 | Jan  | 09:23:00 |\n| 2 | 1 | Feb  | 10:10:00 |\n| 3 | 1 | Mar  | 11:18:00 |\n| 4 | 1 | Apr  | 12:40:00 |\n| 5 | 1 | May  | 13:55:00 |\n| 6 | 1 | June | 14:50:00 |\n| 7 | 1 | July | 14:59:00 |\n| 8 | 1 | Aug  | 14:16:00 |\n| 9 | 1 | Sep  | 13:04:00 |\n| 10 | 1 | Oct  | 11:46:00 |\n\n",
            "text/latex": "A data.frame: 10 × 3\n\\begin{tabular}{r|lll}\n  & Day & month & day\\_length\\\\\n  & <dbl> & <chr> & <time>\\\\\n\\hline\n\t1 & 1 & Jan  & 09:23:00\\\\\n\t2 & 1 & Feb  & 10:10:00\\\\\n\t3 & 1 & Mar  & 11:18:00\\\\\n\t4 & 1 & Apr  & 12:40:00\\\\\n\t5 & 1 & May  & 13:55:00\\\\\n\t6 & 1 & June & 14:50:00\\\\\n\t7 & 1 & July & 14:59:00\\\\\n\t8 & 1 & Aug  & 14:16:00\\\\\n\t9 & 1 & Sep  & 13:04:00\\\\\n\t10 & 1 & Oct  & 11:46:00\\\\\n\\end{tabular}\n",
            "text/plain": [
              "   Day month day_length\n",
              "1  1   Jan   09:23:00  \n",
              "2  1   Feb   10:10:00  \n",
              "3  1   Mar   11:18:00  \n",
              "4  1   Apr   12:40:00  \n",
              "5  1   May   13:55:00  \n",
              "6  1   June  14:50:00  \n",
              "7  1   July  14:59:00  \n",
              "8  1   Aug   14:16:00  \n",
              "9  1   Sep   13:04:00  \n",
              "10 1   Oct   11:46:00  "
            ]
          },
          "metadata": {}
        }
      ]
    },
    {
      "cell_type": "markdown",
      "source": [
        "# add numbers corresponding to each month"
      ],
      "metadata": {
        "id": "TpmnbNJSViAi"
      }
    },
    {
      "cell_type": "code",
      "source": [
        "dataB$month1= ifelse(dataB$month==\"Jan\", 1,\n",
        "               ifelse(dataB$month==\"Feb\", 2,\n",
        "                ifelse(dataB$month==\"Mar\", 3,\n",
        "                 ifelse(dataB$month==\"Apr\", 4,\n",
        "                  ifelse(dataB$month==\"May\", 5,\n",
        "                   ifelse(dataB$month==\"June\", 6,\n",
        "                    ifelse(dataB$month==\"July\", 7,\n",
        "                     ifelse(dataB$month==\"Aug\", 8,\n",
        "                      ifelse(dataB$month==\"Sep\", 9,\n",
        "                       ifelse(dataB$month==\"Oct\", 10,\n",
        "                        ifelse(dataB$month==\"Nov\", 11,\n",
        "                          ifelse(dataB$month==\"Dec\", 12, NA))))))))))))\n",
        "\n",
        "head (dataB, 10)"
      ],
      "metadata": {
        "colab": {
          "base_uri": "https://localhost:8080/",
          "height": 411
        },
        "id": "lOabMN8pVno3",
        "outputId": "559bf2ac-5a85-49f5-a58a-80d03c20b987"
      },
      "execution_count": 5,
      "outputs": [
        {
          "output_type": "display_data",
          "data": {
            "text/html": [
              "<table class=\"dataframe\">\n",
              "<caption>A data.frame: 10 × 4</caption>\n",
              "<thead>\n",
              "\t<tr><th></th><th scope=col>Day</th><th scope=col>month</th><th scope=col>day_length</th><th scope=col>month1</th></tr>\n",
              "\t<tr><th></th><th scope=col>&lt;dbl&gt;</th><th scope=col>&lt;chr&gt;</th><th scope=col>&lt;time&gt;</th><th scope=col>&lt;dbl&gt;</th></tr>\n",
              "</thead>\n",
              "<tbody>\n",
              "\t<tr><th scope=row>1</th><td>1</td><td>Jan </td><td>09:23:00</td><td> 1</td></tr>\n",
              "\t<tr><th scope=row>2</th><td>1</td><td>Feb </td><td>10:10:00</td><td> 2</td></tr>\n",
              "\t<tr><th scope=row>3</th><td>1</td><td>Mar </td><td>11:18:00</td><td> 3</td></tr>\n",
              "\t<tr><th scope=row>4</th><td>1</td><td>Apr </td><td>12:40:00</td><td> 4</td></tr>\n",
              "\t<tr><th scope=row>5</th><td>1</td><td>May </td><td>13:55:00</td><td> 5</td></tr>\n",
              "\t<tr><th scope=row>6</th><td>1</td><td>June</td><td>14:50:00</td><td> 6</td></tr>\n",
              "\t<tr><th scope=row>7</th><td>1</td><td>July</td><td>14:59:00</td><td> 7</td></tr>\n",
              "\t<tr><th scope=row>8</th><td>1</td><td>Aug </td><td>14:16:00</td><td> 8</td></tr>\n",
              "\t<tr><th scope=row>9</th><td>1</td><td>Sep </td><td>13:04:00</td><td> 9</td></tr>\n",
              "\t<tr><th scope=row>10</th><td>1</td><td>Oct </td><td>11:46:00</td><td>10</td></tr>\n",
              "</tbody>\n",
              "</table>\n"
            ],
            "text/markdown": "\nA data.frame: 10 × 4\n\n| <!--/--> | Day &lt;dbl&gt; | month &lt;chr&gt; | day_length &lt;time&gt; | month1 &lt;dbl&gt; |\n|---|---|---|---|---|\n| 1 | 1 | Jan  | 09:23:00 |  1 |\n| 2 | 1 | Feb  | 10:10:00 |  2 |\n| 3 | 1 | Mar  | 11:18:00 |  3 |\n| 4 | 1 | Apr  | 12:40:00 |  4 |\n| 5 | 1 | May  | 13:55:00 |  5 |\n| 6 | 1 | June | 14:50:00 |  6 |\n| 7 | 1 | July | 14:59:00 |  7 |\n| 8 | 1 | Aug  | 14:16:00 |  8 |\n| 9 | 1 | Sep  | 13:04:00 |  9 |\n| 10 | 1 | Oct  | 11:46:00 | 10 |\n\n",
            "text/latex": "A data.frame: 10 × 4\n\\begin{tabular}{r|llll}\n  & Day & month & day\\_length & month1\\\\\n  & <dbl> & <chr> & <time> & <dbl>\\\\\n\\hline\n\t1 & 1 & Jan  & 09:23:00 &  1\\\\\n\t2 & 1 & Feb  & 10:10:00 &  2\\\\\n\t3 & 1 & Mar  & 11:18:00 &  3\\\\\n\t4 & 1 & Apr  & 12:40:00 &  4\\\\\n\t5 & 1 & May  & 13:55:00 &  5\\\\\n\t6 & 1 & June & 14:50:00 &  6\\\\\n\t7 & 1 & July & 14:59:00 &  7\\\\\n\t8 & 1 & Aug  & 14:16:00 &  8\\\\\n\t9 & 1 & Sep  & 13:04:00 &  9\\\\\n\t10 & 1 & Oct  & 11:46:00 & 10\\\\\n\\end{tabular}\n",
            "text/plain": [
              "   Day month day_length month1\n",
              "1  1   Jan   09:23:00    1    \n",
              "2  1   Feb   10:10:00    2    \n",
              "3  1   Mar   11:18:00    3    \n",
              "4  1   Apr   12:40:00    4    \n",
              "5  1   May   13:55:00    5    \n",
              "6  1   June  14:50:00    6    \n",
              "7  1   July  14:59:00    7    \n",
              "8  1   Aug   14:16:00    8    \n",
              "9  1   Sep   13:04:00    9    \n",
              "10 1   Oct   11:46:00   10    "
            ]
          },
          "metadata": {}
        }
      ]
    },
    {
      "cell_type": "markdown",
      "source": [
        "# delete missing values"
      ],
      "metadata": {
        "id": "GzNIJeEGVqm0"
      }
    },
    {
      "cell_type": "code",
      "source": [
        "dataB= dataB[complete.cases(dataB$day_length),]"
      ],
      "metadata": {
        "id": "s-2AO7GQVs1T"
      },
      "execution_count": 6,
      "outputs": []
    },
    {
      "cell_type": "markdown",
      "source": [
        "# sort data by month and day"
      ],
      "metadata": {
        "id": "9an661RtVxLs"
      }
    },
    {
      "cell_type": "code",
      "source": [
        "dataB_sorted= dataB %>%\n",
        "              arrange(month1, Day)\n",
        "head (dataB_sorted, 10)"
      ],
      "metadata": {
        "colab": {
          "base_uri": "https://localhost:8080/",
          "height": 411
        },
        "id": "cHQnkmmZVuuX",
        "outputId": "00480bd3-ac07-4da2-9704-c47251253d00"
      },
      "execution_count": 7,
      "outputs": [
        {
          "output_type": "display_data",
          "data": {
            "text/html": [
              "<table class=\"dataframe\">\n",
              "<caption>A data.frame: 10 × 4</caption>\n",
              "<thead>\n",
              "\t<tr><th></th><th scope=col>Day</th><th scope=col>month</th><th scope=col>day_length</th><th scope=col>month1</th></tr>\n",
              "\t<tr><th></th><th scope=col>&lt;dbl&gt;</th><th scope=col>&lt;chr&gt;</th><th scope=col>&lt;time&gt;</th><th scope=col>&lt;dbl&gt;</th></tr>\n",
              "</thead>\n",
              "<tbody>\n",
              "\t<tr><th scope=row>1</th><td> 1</td><td>Jan</td><td>09:23:00</td><td>1</td></tr>\n",
              "\t<tr><th scope=row>2</th><td> 2</td><td>Jan</td><td>09:24:00</td><td>1</td></tr>\n",
              "\t<tr><th scope=row>3</th><td> 3</td><td>Jan</td><td>09:24:00</td><td>1</td></tr>\n",
              "\t<tr><th scope=row>4</th><td> 4</td><td>Jan</td><td>09:25:00</td><td>1</td></tr>\n",
              "\t<tr><th scope=row>5</th><td> 5</td><td>Jan</td><td>09:26:00</td><td>1</td></tr>\n",
              "\t<tr><th scope=row>6</th><td> 6</td><td>Jan</td><td>09:27:00</td><td>1</td></tr>\n",
              "\t<tr><th scope=row>7</th><td> 7</td><td>Jan</td><td>09:28:00</td><td>1</td></tr>\n",
              "\t<tr><th scope=row>8</th><td> 8</td><td>Jan</td><td>09:29:00</td><td>1</td></tr>\n",
              "\t<tr><th scope=row>9</th><td> 9</td><td>Jan</td><td>09:30:00</td><td>1</td></tr>\n",
              "\t<tr><th scope=row>10</th><td>10</td><td>Jan</td><td>09:32:00</td><td>1</td></tr>\n",
              "</tbody>\n",
              "</table>\n"
            ],
            "text/markdown": "\nA data.frame: 10 × 4\n\n| <!--/--> | Day &lt;dbl&gt; | month &lt;chr&gt; | day_length &lt;time&gt; | month1 &lt;dbl&gt; |\n|---|---|---|---|---|\n| 1 |  1 | Jan | 09:23:00 | 1 |\n| 2 |  2 | Jan | 09:24:00 | 1 |\n| 3 |  3 | Jan | 09:24:00 | 1 |\n| 4 |  4 | Jan | 09:25:00 | 1 |\n| 5 |  5 | Jan | 09:26:00 | 1 |\n| 6 |  6 | Jan | 09:27:00 | 1 |\n| 7 |  7 | Jan | 09:28:00 | 1 |\n| 8 |  8 | Jan | 09:29:00 | 1 |\n| 9 |  9 | Jan | 09:30:00 | 1 |\n| 10 | 10 | Jan | 09:32:00 | 1 |\n\n",
            "text/latex": "A data.frame: 10 × 4\n\\begin{tabular}{r|llll}\n  & Day & month & day\\_length & month1\\\\\n  & <dbl> & <chr> & <time> & <dbl>\\\\\n\\hline\n\t1 &  1 & Jan & 09:23:00 & 1\\\\\n\t2 &  2 & Jan & 09:24:00 & 1\\\\\n\t3 &  3 & Jan & 09:24:00 & 1\\\\\n\t4 &  4 & Jan & 09:25:00 & 1\\\\\n\t5 &  5 & Jan & 09:26:00 & 1\\\\\n\t6 &  6 & Jan & 09:27:00 & 1\\\\\n\t7 &  7 & Jan & 09:28:00 & 1\\\\\n\t8 &  8 & Jan & 09:29:00 & 1\\\\\n\t9 &  9 & Jan & 09:30:00 & 1\\\\\n\t10 & 10 & Jan & 09:32:00 & 1\\\\\n\\end{tabular}\n",
            "text/plain": [
              "   Day month day_length month1\n",
              "1   1  Jan   09:23:00   1     \n",
              "2   2  Jan   09:24:00   1     \n",
              "3   3  Jan   09:24:00   1     \n",
              "4   4  Jan   09:25:00   1     \n",
              "5   5  Jan   09:26:00   1     \n",
              "6   6  Jan   09:27:00   1     \n",
              "7   7  Jan   09:28:00   1     \n",
              "8   8  Jan   09:29:00   1     \n",
              "9   9  Jan   09:30:00   1     \n",
              "10 10  Jan   09:32:00   1     "
            ]
          },
          "metadata": {}
        }
      ]
    },
    {
      "cell_type": "markdown",
      "source": [
        "# add numbers"
      ],
      "metadata": {
        "id": "5GxJbC_rV2dv"
      }
    },
    {
      "cell_type": "code",
      "source": [
        "dataB_sorted= dataB_sorted %>%\n",
        "              mutate(Sequence= 1:n())\n",
        "head(dataB_sorted, 10)"
      ],
      "metadata": {
        "colab": {
          "base_uri": "https://localhost:8080/",
          "height": 411
        },
        "id": "52xJ2VDPV4ZR",
        "outputId": "054ed605-972a-458a-a7a4-837922a601ee"
      },
      "execution_count": 8,
      "outputs": [
        {
          "output_type": "display_data",
          "data": {
            "text/html": [
              "<table class=\"dataframe\">\n",
              "<caption>A data.frame: 10 × 5</caption>\n",
              "<thead>\n",
              "\t<tr><th></th><th scope=col>Day</th><th scope=col>month</th><th scope=col>day_length</th><th scope=col>month1</th><th scope=col>Sequence</th></tr>\n",
              "\t<tr><th></th><th scope=col>&lt;dbl&gt;</th><th scope=col>&lt;chr&gt;</th><th scope=col>&lt;time&gt;</th><th scope=col>&lt;dbl&gt;</th><th scope=col>&lt;int&gt;</th></tr>\n",
              "</thead>\n",
              "<tbody>\n",
              "\t<tr><th scope=row>1</th><td> 1</td><td>Jan</td><td>09:23:00</td><td>1</td><td> 1</td></tr>\n",
              "\t<tr><th scope=row>2</th><td> 2</td><td>Jan</td><td>09:24:00</td><td>1</td><td> 2</td></tr>\n",
              "\t<tr><th scope=row>3</th><td> 3</td><td>Jan</td><td>09:24:00</td><td>1</td><td> 3</td></tr>\n",
              "\t<tr><th scope=row>4</th><td> 4</td><td>Jan</td><td>09:25:00</td><td>1</td><td> 4</td></tr>\n",
              "\t<tr><th scope=row>5</th><td> 5</td><td>Jan</td><td>09:26:00</td><td>1</td><td> 5</td></tr>\n",
              "\t<tr><th scope=row>6</th><td> 6</td><td>Jan</td><td>09:27:00</td><td>1</td><td> 6</td></tr>\n",
              "\t<tr><th scope=row>7</th><td> 7</td><td>Jan</td><td>09:28:00</td><td>1</td><td> 7</td></tr>\n",
              "\t<tr><th scope=row>8</th><td> 8</td><td>Jan</td><td>09:29:00</td><td>1</td><td> 8</td></tr>\n",
              "\t<tr><th scope=row>9</th><td> 9</td><td>Jan</td><td>09:30:00</td><td>1</td><td> 9</td></tr>\n",
              "\t<tr><th scope=row>10</th><td>10</td><td>Jan</td><td>09:32:00</td><td>1</td><td>10</td></tr>\n",
              "</tbody>\n",
              "</table>\n"
            ],
            "text/markdown": "\nA data.frame: 10 × 5\n\n| <!--/--> | Day &lt;dbl&gt; | month &lt;chr&gt; | day_length &lt;time&gt; | month1 &lt;dbl&gt; | Sequence &lt;int&gt; |\n|---|---|---|---|---|---|\n| 1 |  1 | Jan | 09:23:00 | 1 |  1 |\n| 2 |  2 | Jan | 09:24:00 | 1 |  2 |\n| 3 |  3 | Jan | 09:24:00 | 1 |  3 |\n| 4 |  4 | Jan | 09:25:00 | 1 |  4 |\n| 5 |  5 | Jan | 09:26:00 | 1 |  5 |\n| 6 |  6 | Jan | 09:27:00 | 1 |  6 |\n| 7 |  7 | Jan | 09:28:00 | 1 |  7 |\n| 8 |  8 | Jan | 09:29:00 | 1 |  8 |\n| 9 |  9 | Jan | 09:30:00 | 1 |  9 |\n| 10 | 10 | Jan | 09:32:00 | 1 | 10 |\n\n",
            "text/latex": "A data.frame: 10 × 5\n\\begin{tabular}{r|lllll}\n  & Day & month & day\\_length & month1 & Sequence\\\\\n  & <dbl> & <chr> & <time> & <dbl> & <int>\\\\\n\\hline\n\t1 &  1 & Jan & 09:23:00 & 1 &  1\\\\\n\t2 &  2 & Jan & 09:24:00 & 1 &  2\\\\\n\t3 &  3 & Jan & 09:24:00 & 1 &  3\\\\\n\t4 &  4 & Jan & 09:25:00 & 1 &  4\\\\\n\t5 &  5 & Jan & 09:26:00 & 1 &  5\\\\\n\t6 &  6 & Jan & 09:27:00 & 1 &  6\\\\\n\t7 &  7 & Jan & 09:28:00 & 1 &  7\\\\\n\t8 &  8 & Jan & 09:29:00 & 1 &  8\\\\\n\t9 &  9 & Jan & 09:30:00 & 1 &  9\\\\\n\t10 & 10 & Jan & 09:32:00 & 1 & 10\\\\\n\\end{tabular}\n",
            "text/plain": [
              "   Day month day_length month1 Sequence\n",
              "1   1  Jan   09:23:00   1       1      \n",
              "2   2  Jan   09:24:00   1       2      \n",
              "3   3  Jan   09:24:00   1       3      \n",
              "4   4  Jan   09:25:00   1       4      \n",
              "5   5  Jan   09:26:00   1       5      \n",
              "6   6  Jan   09:27:00   1       6      \n",
              "7   7  Jan   09:28:00   1       7      \n",
              "8   8  Jan   09:29:00   1       8      \n",
              "9   9  Jan   09:30:00   1       9      \n",
              "10 10  Jan   09:32:00   1      10      "
            ]
          },
          "metadata": {}
        }
      ]
    },
    {
      "cell_type": "markdown",
      "source": [
        "# create a line graph"
      ],
      "metadata": {
        "id": "MoC-eBENV8bS"
      }
    },
    {
      "cell_type": "code",
      "source": [
        "dataB_sorted |>\n",
        "  dplyr::mutate(light=hour(day_length)+minute(day_length)/60) |>\n",
        "  ggplot(aes(x=Sequence, y=light)) +\n",
        "  geom_line () +\n",
        "  scale_y_continuous(breaks=seq(8,18,2), limits= c(8,18)) +\n",
        "  scale_x_continuous(breaks=seq(0,365,73), limits= c(0,365)) +\n",
        "\n",
        "  geom_vline(xintercept=91, linetype=\"dashed\", color=\"black\") +\n",
        "  annotate(\"text\", label=paste(\"April\"),\n",
        "           x=91, y=17, angle=90, hjust=0, vjust=1.5)+\n",
        "\n",
        "  geom_vline(xintercept=121, linetype=\"dashed\", color=\"black\") +\n",
        "  annotate(\"text\", label=paste(\"May\"),\n",
        "           x=121, y=17, angle=90, hjust=0, vjust=1.5)+\n",
        "\n",
        "  geom_vline(xintercept=152, linetype=\"dashed\", color=\"black\") +\n",
        "  annotate(\"text\", label=paste(\"June\"),\n",
        "           x=152, y=17, angle=90, hjust=0, vjust=1.5)+\n",
        "\n",
        "  geom_vline(xintercept=182, linetype=\"dashed\", color=\"black\") +\n",
        "  annotate(\"text\", label=paste(\"July\"),\n",
        "           x=182, y=17, angle=90, hjust=0, vjust=1.5)+\n",
        "\n",
        "  labs(x=\"Julian day\", y=\"Day length (hours)\") +\n",
        "  theme_classic(base_size=18, base_family=\"serif\")+\n",
        "  theme(axis.line=element_line(linewidth=0.5, colour=\"black\"))"
      ],
      "metadata": {
        "colab": {
          "base_uri": "https://localhost:8080/",
          "height": 437
        },
        "id": "-UhfuYOnV_dy",
        "outputId": "0adea060-f060-4b75-f4e4-f048f6397fec"
      },
      "execution_count": 9,
      "outputs": [
        {
          "output_type": "display_data",
          "data": {
            "text/plain": [
              "plot without title"
            ],
            "image/png": "[encoded data removed]"
          },
          "metadata": {
            "image/png": {
              "width": 420,
              "height": 420
            }
          }
        }
      ]
    },
    {
      "cell_type": "code",
      "source": [
        "dataB_sorted |>\n",
        "  dplyr::mutate(light=hour(day_length)+minute(day_length)/60) |>\n",
        "  dplyr::mutate(night=24-light) |>\n",
        "  ggplot(aes(x=Sequence, y=night)) +\n",
        "  geom_line () +\n",
        "  scale_y_continuous(breaks=seq(8,18,2), limits = c(8,18)) +\n",
        "  scale_x_continuous(breaks=seq(0,365,73), limits = c(0,365)) +\n",
        "\n",
        "  geom_vline(xintercept=91, linetype=\"dashed\", color=\"black\") +\n",
        "  annotate(\"text\", label=paste(\"April\"),\n",
        "           x=91, y=17, angle=90, hjust=0, vjust=1.5)+\n",
        "\n",
        "  geom_vline(xintercept=121, linetype=\"dashed\", color=\"black\") +\n",
        "  annotate(\"text\", label=paste(\"May\"),\n",
        "           x=121, y=17, angle=90, hjust=0, vjust=1.5)+\n",
        "\n",
        "  geom_vline(xintercept=152, linetype=\"dashed\", color=\"black\") +\n",
        "  annotate(\"text\", label=paste(\"June\"),\n",
        "           x=152, y=17, angle=90, hjust=0, vjust=1.5)+\n",
        "\n",
        "  geom_vline(xintercept=182, linetype=\"dashed\", color=\"black\") +\n",
        "  annotate(\"text\", label=paste(\"July\"),\n",
        "           x=182, y=17, angle=90, hjust=0, vjust=1.5)+\n",
        "\n",
        "  labs(x=\"Julian day\", y=\"Day length (hours)\") +\n",
        "  theme_classic(base_size=18, base_family=\"serif\")+\n",
        "  theme(axis.line=element_line(linewidth=0.5, colour=\"black\"))\n"
      ],
      "metadata": {
        "colab": {
          "base_uri": "https://localhost:8080/",
          "height": 437
        },
        "id": "zKq85JU1WDV6",
        "outputId": "e12daca8-6395-4c10-aced-0bcc3a5d00d2"
      },
      "execution_count": 10,
      "outputs": [
        {
          "output_type": "display_data",
          "data": {
            "text/plain": [
              "plot without title"
            ],
            "image/png": "[encoded data removed]"
          },
          "metadata": {
            "image/png": {
              "width": 420,
              "height": 420
            }
          }
        }
      ]
    },
    {
      "cell_type": "markdown",
      "source": [
        "# full code"
      ],
      "metadata": {
        "id": "M1beX8gMWG_E"
      }
    },
    {
      "cell_type": "code",
      "source": [
        "library(readr)\n",
        "library(tidyr)\n",
        "library(dplyr)\n",
        "library(tidyverse)\n",
        "library(lubridate)\n",
        "library(ggplot2)\n",
        "\n",
        "github=\"https://raw.githubusercontent.com/agronomy4future/raw_data_practice/main/day_length_data.csv\"\n",
        "dataA= data.frame(read_csv(url(github), show_col_types=FALSE))\n",
        "\n",
        "dataB= data.frame(dataA %>%\n",
        "                  pivot_longer(\n",
        "                  cols= c(Jan,Feb,Mar,Apr,May,June,July,Aug,Sep,Oct,Nov,Dec),\n",
        "                  names_to=\"month\",\n",
        "                  values_to=\"day_length\"))\n",
        "\n",
        "dataB$month1= ifelse(dataB$month==\"Jan\", 1,\n",
        "               ifelse(dataB$month==\"Feb\", 2,\n",
        "                ifelse(dataB$month==\"Mar\", 3,\n",
        "                 ifelse(dataB$month==\"Apr\", 4,\n",
        "                  ifelse(dataB$month==\"May\", 5,\n",
        "                   ifelse(dataB$month==\"June\", 6,\n",
        "                    ifelse(dataB$month==\"July\", 7,\n",
        "                     ifelse(dataB$month==\"Aug\", 8,\n",
        "                      ifelse(dataB$month==\"Sep\", 9,\n",
        "                       ifelse(dataB$month==\"Oct\", 10,\n",
        "                        ifelse(dataB$month==\"Nov\", 11,\n",
        "                          ifelse(dataB$month==\"Dec\", 12, NA))))))))))))\n",
        "\n",
        "dataB= dataB[complete.cases(dataB$day_length),]\n",
        "\n",
        "dataB_sorted= dataB %>%\n",
        "              arrange(month1, Day)\n",
        "\n",
        "dataB_sorted= dataB_sorted %>%\n",
        "              mutate(Sequence= 1:n())\n",
        "\n",
        "dataB_sorted |>\n",
        "  dplyr::mutate(light=hour(day_length)+minute(day_length)/60) |>\n",
        "  ggplot(aes(x=Sequence, y=light)) +\n",
        "  geom_line () +\n",
        "  scale_y_continuous(breaks=seq(8,18,2), limits= c(8,18)) +\n",
        "  scale_x_continuous(breaks=seq(0,365,73), limits= c(0,365)) +\n",
        "\n",
        "  geom_vline(xintercept=91, linetype=\"dashed\", color=\"black\") +\n",
        "  annotate(\"text\", label=paste(\"April\"),\n",
        "           x=91, y=17, angle=90, hjust=0, vjust=1.5)+\n",
        "\n",
        "  geom_vline(xintercept=121, linetype=\"dashed\", color=\"black\") +\n",
        "  annotate(\"text\", label=paste(\"May\"),\n",
        "           x=121, y=17, angle=90, hjust=0, vjust=1.5)+\n",
        "\n",
        "  geom_vline(xintercept=152, linetype=\"dashed\", color=\"black\") +\n",
        "  annotate(\"text\", label=paste(\"June\"),\n",
        "           x=152, y=17, angle=90, hjust=0, vjust=1.5)+\n",
        "\n",
        "  geom_vline(xintercept=182, linetype=\"dashed\", color=\"black\") +\n",
        "  annotate(\"text\", label=paste(\"July\"),\n",
        "           x=182, y=17, angle=90, hjust=0, vjust=1.5)+\n",
        "\n",
        "  labs(x=\"Julian day\", y=\"Day length (hours)\") +\n",
        "  theme_classic(base_size=18, base_family=\"serif\")+\n",
        "  theme(axis.line=element_line(linewidth=0.5, colour=\"black\"))"
      ],
      "metadata": {
        "colab": {
          "base_uri": "https://localhost:8080/",
          "height": 437
        },
        "id": "9OPoVevtWJBu",
        "outputId": "692eebc1-b554-443c-d28f-d6796683ddfa"
      },
      "execution_count": 12,
      "outputs": [
        {
          "output_type": "display_data",
          "data": {
            "text/plain": [
              "plot without title"
            ],
            "image/png": "[encoded data removed]"
          },
          "metadata": {
            "image/png": {
              "width": 420,
              "height": 420
            }
          }
        }
      ]
    }
  ]
}
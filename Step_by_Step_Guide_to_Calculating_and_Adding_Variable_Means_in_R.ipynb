{
  "nbformat": 4,
  "nbformat_minor": 0,
  "metadata": {
    "colab": {
      "provenance": [],
      "authorship_tag": "ABX9TyP3cGwSdaYld6jngjaXhYhh"
    },
    "kernelspec": {
      "name": "ir",
      "display_name": "R"
    },
    "language_info": {
      "name": "R"
    }
  },
  "cells": [
    {
      "cell_type": "code",
      "execution_count": 7,
      "metadata": {
        "colab": {
          "base_uri": "https://localhost:8080/"
        },
        "id": "TzoEiUtkaqXI",
        "outputId": "9e2afbf5-725d-4983-ef8e-9fb92a3853d4"
      },
      "outputs": [
        {
          "output_type": "stream",
          "name": "stdout",
          "text": [
            "  treatment rep yield\n",
            "1         A   I    10\n",
            "2         A  II    11\n",
            "3         A III    21\n",
            "4         B   I    13\n",
            "5         B  II    23\n"
          ]
        }
      ],
      "source": [
        "treatment=rep(c(\"A\",\"B\",\"C\",\"D\",\"E\"), each=3)\n",
        "rep=rep(c(\"I\",\"II\",\"III\"), time=5)\n",
        "yield= c(10,11,21,13,23,23,13,13,5,33,21,13,42,12,13)\n",
        "dataA=data.frame(treatment,rep, yield)\n",
        "print(head(dataA, 5))"
      ]
    },
    {
      "cell_type": "code",
      "source": [
        "#to create an empty column\n",
        "dataA$mean= NA"
      ],
      "metadata": {
        "id": "bn2LDwsHbTB3"
      },
      "execution_count": 6,
      "outputs": []
    },
    {
      "cell_type": "code",
      "source": [
        "dataA$mean[dataA$treatment==\"A\"]=mean(dataA$yield[dataA$treatment==\"A\"], na.rm=TRUE)\n",
        "dataA$mean[dataA$treatment==\"B\"]=mean(dataA$yield[dataA$treatment==\"B\"], na.rm=TRUE)\n",
        "dataA$mean[dataA$treatment==\"C\"]=mean(dataA$yield[dataA$treatment==\"C\"], na.rm=TRUE)\n",
        "dataA$mean[dataA$treatment==\"D\"]=mean(dataA$yield[dataA$treatment==\"D\"], na.rm=TRUE)\n",
        "dataA$mean[dataA$treatment==\"E\"]=mean(dataA$yield[dataA$treatment==\"E\"], na.rm=TRUE)\n",
        "print(head(dataA, 5))"
      ],
      "metadata": {
        "colab": {
          "base_uri": "https://localhost:8080/"
        },
        "id": "kIPv6wCXbZku",
        "outputId": "b5afceab-109d-4b79-b3c4-6e9c3c9fa260"
      },
      "execution_count": 8,
      "outputs": [
        {
          "output_type": "stream",
          "name": "stdout",
          "text": [
            "  treatment rep yield     mean\n",
            "1         A   I    10 14.00000\n",
            "2         A  II    11 14.00000\n",
            "3         A III    21 14.00000\n",
            "4         B   I    13 19.66667\n",
            "5         B  II    23 19.66667\n"
          ]
        }
      ]
    },
    {
      "cell_type": "code",
      "source": [
        "if(!require(base)) install.packages(\"base\")\n",
        "library(base)\n",
        "\n",
        "dataA$mean2=tapply(dataA$yield, dataA$treatment, mean, na.rm=TRUE)[dataA$treatment]\n",
        "print(head(dataA, 5))"
      ],
      "metadata": {
        "colab": {
          "base_uri": "https://localhost:8080/"
        },
        "id": "JwqNQoz2bsp0",
        "outputId": "1262f786-2531-417d-8b2c-852f014f9b36"
      },
      "execution_count": 10,
      "outputs": [
        {
          "output_type": "stream",
          "name": "stdout",
          "text": [
            "  treatment rep yield     mean    mean2\n",
            "1         A   I    10 14.00000 14.00000\n",
            "2         A  II    11 14.00000 14.00000\n",
            "3         A III    21 14.00000 14.00000\n",
            "4         B   I    13 19.66667 19.66667\n",
            "5         B  II    23 19.66667 19.66667\n"
          ]
        }
      ]
    },
    {
      "cell_type": "code",
      "source": [
        "treatment=rep(rep(c(\"A\",\"B\",\"C\",\"D\",\"E\"), each=3),2)\n",
        "rep=rep(rep(c(\"I\",\"II\",\"III\"), time=5),2)\n",
        "environment=rep(c(\"East\",\"West\",\"North\"), each=10)\n",
        "yield=c(10,11,21,13,23,23,13,13,5,33,21,13,42,12,13,10,11,54,45,39,33,29,43,55,33,24,32,42,28,43)\n",
        "dataA=data.frame(treatment,rep, environment, yield)\n",
        "print(head(dataA, 5))"
      ],
      "metadata": {
        "colab": {
          "base_uri": "https://localhost:8080/"
        },
        "id": "GzVXub9OcOee",
        "outputId": "5adbe24e-a49c-4ea9-82d8-933922cf7a9b"
      },
      "execution_count": 11,
      "outputs": [
        {
          "output_type": "stream",
          "name": "stdout",
          "text": [
            "  treatment rep environment yield\n",
            "1         A   I        East    10\n",
            "2         A  II        East    11\n",
            "3         A III        East    21\n",
            "4         B   I        East    13\n",
            "5         B  II        East    23\n"
          ]
        }
      ]
    },
    {
      "cell_type": "code",
      "source": [
        "if(!require(base)) install.packages(\"base\")\n",
        "library(base)\n",
        "\n",
        "dataA$mean=tapply(dataA$yield, list(dataA$treatment, dataA$environment), mean, na.rm=TRUE)[cbind(dataA$treatment, dataA$environment)]\n",
        "\n",
        "print(head(dataA, 5))"
      ],
      "metadata": {
        "colab": {
          "base_uri": "https://localhost:8080/"
        },
        "id": "9wmiq1gucaZP",
        "outputId": "d8607f95-53fc-43cb-baf0-1f4df10531f9"
      },
      "execution_count": 14,
      "outputs": [
        {
          "output_type": "stream",
          "name": "stdout",
          "text": [
            "   treatment rep environment yield     mean\n",
            "1          A   I        East    10 14.00000\n",
            "2          A  II        East    11 14.00000\n",
            "3          A III        East    21 14.00000\n",
            "4          B   I        East    13 19.66667\n",
            "5          B  II        East    23 19.66667\n",
            "6          B III        East    23 19.66667\n",
            "7          C   I        East    13 10.33333\n",
            "8          C  II        East    13 10.33333\n",
            "9          C III        East     5 10.33333\n",
            "10         D   I        East    33 33.00000\n",
            "11         D  II        West    21 17.00000\n",
            "12         D III        West    13 17.00000\n",
            "13         E   I        West    42 22.33333\n",
            "14         E  II        West    12 22.33333\n",
            "15         E III        West    13 22.33333\n",
            "16         A   I        West    10 25.00000\n",
            "17         A  II        West    11 25.00000\n",
            "18         A III        West    54 25.00000\n",
            "19         B   I        West    45 42.00000\n",
            "20         B  II        West    39 42.00000\n",
            "21         B III       North    33 33.00000\n",
            "22         C   I       North    29 42.33333\n",
            "23         C  II       North    43 42.33333\n",
            "24         C III       North    55 42.33333\n",
            "25         D   I       North    33 29.66667\n",
            "26         D  II       North    24 29.66667\n",
            "27         D III       North    32 29.66667\n",
            "28         E   I       North    42 37.66667\n",
            "29         E  II       North    28 37.66667\n",
            "30         E III       North    43 37.66667\n"
          ]
        }
      ]
    },
    {
      "cell_type": "code",
      "source": [
        "mean(dataA$yield[dataA$treatment==\"A\" & dataA$environment==\"West\"], na.rm=TRUE)"
      ],
      "metadata": {
        "colab": {
          "base_uri": "https://localhost:8080/",
          "height": 34
        },
        "id": "s_BtYmXuctn_",
        "outputId": "e6f444d7-9c2e-47fd-c4f2-91746cb57957"
      },
      "execution_count": 13,
      "outputs": [
        {
          "output_type": "display_data",
          "data": {
            "text/html": [
              "25"
            ],
            "text/markdown": "25",
            "text/latex": "25",
            "text/plain": [
              "[1] 25"
            ]
          },
          "metadata": {}
        }
      ]
    }
  ]
}